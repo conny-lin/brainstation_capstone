{
 "cells": [
  {
   "cell_type": "code",
   "execution_count": null,
   "metadata": {},
   "outputs": [],
   "source": [
    "# ML exploration nutcracker\n",
    "# Conny Lin | June 6, 2020"
   ]
  },
  {
   "cell_type": "code",
   "execution_count": 68,
   "metadata": {},
   "outputs": [],
   "source": [
    "pCapstone = '/Users/connylin/Dropbox/CA/ED _20200119 Brain Station Data Science Diploma/Capstone/data'\n",
    "pylibrary = '/Users/connylin/Dropbox/CA/ED _20200119 Brain Station Data Science Diploma/Capstone/brainstation_capstone/0_lib'"
   ]
  },
  {
   "cell_type": "code",
   "execution_count": 69,
   "metadata": {},
   "outputs": [],
   "source": [
    "# import libraries\n",
    "import os, sys, glob\n",
    "import pandas as pd\n",
    "import numpy as np\n",
    "import seaborn as sns\n",
    "import matplotlib.pyplot as plt\n",
    "import pickle\n",
    "# import local functions\n",
    "sys.path.insert(1, pylibrary)\n",
    "import BrainStationLib as bs"
   ]
  },
  {
   "cell_type": "code",
   "execution_count": 70,
   "metadata": {},
   "outputs": [],
   "source": [
    "# load data\n",
    "y = pd.read_csv(os.path.join(pCapstone, 'nutcracker_y.csv'))\n",
    "X = pd.read_csv(os.path.join(pCapstone, 'nutcracker_X.csv'))"
   ]
  },
  {
   "cell_type": "code",
   "execution_count": 71,
   "metadata": {},
   "outputs": [],
   "source": [
    "y_columns = y.columns.values\n",
    "X_columns = X.columns.values"
   ]
  },
  {
   "cell_type": "code",
   "execution_count": 72,
   "metadata": {},
   "outputs": [],
   "source": [
    "# make data frame to ML format\n",
    "y = y.values.astype(int).transpose()\n",
    "y = y[0]\n",
    "X = X.values"
   ]
  },
  {
   "cell_type": "code",
   "execution_count": 73,
   "metadata": {},
   "outputs": [
    {
     "data": {
      "text/plain": [
       "(27813246,)"
      ]
     },
     "execution_count": 73,
     "metadata": {},
     "output_type": "execute_result"
    }
   ],
   "source": [
    "y.shape"
   ]
  },
  {
   "cell_type": "code",
   "execution_count": 74,
   "metadata": {},
   "outputs": [
    {
     "data": {
      "text/plain": [
       "(27813246, 22)"
      ]
     },
     "execution_count": 74,
     "metadata": {},
     "output_type": "execute_result"
    }
   ],
   "source": [
    "X.shape"
   ]
  },
  {
   "cell_type": "code",
   "execution_count": 75,
   "metadata": {},
   "outputs": [],
   "source": [
    "from sklearn.model_selection import train_test_split\n",
    "X_train, X_test, y_train, y_test = train_test_split(X,y, test_size=0.3, random_state=1)"
   ]
  },
  {
   "cell_type": "code",
   "execution_count": 76,
   "metadata": {},
   "outputs": [],
   "source": [
    "from sklearn.preprocessing import StandardScaler\n",
    "\n",
    "scaler = StandardScaler()\n",
    "scaler.fit(X_train)\n",
    "X_train_scaled = scaler.transform(X_train)\n",
    "X_test_scaled = scaler.transform(X_test)"
   ]
  },
  {
   "cell_type": "markdown",
   "metadata": {},
   "source": [
    "# LogisticRegression"
   ]
  },
  {
   "cell_type": "code",
   "execution_count": 77,
   "metadata": {},
   "outputs": [
    {
     "name": "stdout",
     "output_type": "stream",
     "text": [
      "0.8652681563964605\n",
      "0.8653987165005451\n"
     ]
    }
   ],
   "source": [
    "from sklearn.linear_model import LogisticRegression\n",
    "\n",
    "my_logreg_model = LogisticRegression(C=0.01, random_state=318).fit(X_train_scaled, y_train)\n",
    "y_predicted = my_logreg_model.predict(X_test_scaled)\n",
    "\n",
    "print(my_logreg_model.score(X_test_scaled,y_test))\n",
    "print(my_logreg_model.score(X_train_scaled,y_train))"
   ]
  },
  {
   "cell_type": "markdown",
   "metadata": {},
   "source": [
    "# Decision Tree"
   ]
  },
  {
   "cell_type": "code",
   "execution_count": null,
   "metadata": {},
   "outputs": [],
   "source": [
    "from sklearn.tree import DecisionTreeClassifier\n",
    "from sklearn.model_selection import cross_val_score\n",
    "\n",
    "# Decision Tree -  data\n",
    "\n",
    "train_accs = []\n",
    "test_accs = []\n",
    "depth_values = list(range(1,15))\n",
    "\n",
    "# Loop over different max_depths\n",
    "for d in depth_values:\n",
    "    \n",
    "    # Instantiate & fit\n",
    "    my_dt = DecisionTreeClassifier(max_depth = d, random_state=1)\n",
    "    my_dt.fit(X_train_scaled, y_train)\n",
    "    \n",
    "    # Evaluate on train & test data\n",
    "    train_accs.append( my_dt.score(X_train, y_train) )\n",
    "    test_accs.append( my_dt.score(X_test, y_test) )\n",
    "\n",
    "    \n",
    "    \n",
    "# Decision Tree - scaled data\n",
    "\n",
    "train_accs_s = []\n",
    "test_accs_s = []\n",
    "depth_values = list(range(1,15))\n",
    "\n",
    "# Loop over different max_depths\n",
    "for d in depth_values:\n",
    "    \n",
    "    # Instantiate & fit\n",
    "    my_dt = DecisionTreeClassifier(max_depth = d, random_state=1)\n",
    "    my_dt.fit(X_train_scaled, y_train)\n",
    "    \n",
    "    # Evaluate on train & test data\n",
    "    train_accs_s.append( my_dt.score(X_train_scaled, y_train) )\n",
    "    test_accs_s.append( my_dt.score(X_test_scaled, y_test) )\n",
    "\n",
    "    \n",
    "    \n",
    "# Plot the results\n",
    "plt.subplot(211) # plot unscaled classifier results\n",
    "plt.plot(depth_values, train_accs, label='train')\n",
    "plt.plot(depth_values, test_accs, label='test')\n",
    "plt.legend()\n",
    "plt.xlabel('max depth')\n",
    "plt.ylabel('accuracy')\n",
    "plt.title('DecisionTree Accuracy (UNscaled data)')\n",
    "\n",
    "plt.subplot(212) # plot scaled classifier results\n",
    "plt.plot(depth_values, train_accs_s, label='train')\n",
    "plt.plot(depth_values, test_accs_s, label='test')\n",
    "plt.legend()\n",
    "plt.xlabel('max depth')\n",
    "plt.ylabel('accuracy')\n",
    "plt.title('DecisionTree Accuracy (SCALED data)')\n",
    "\n",
    "plt.tight_layout()\n",
    "plt.show()"
   ]
  },
  {
   "cell_type": "code",
   "execution_count": 65,
   "metadata": {},
   "outputs": [
    {
     "data": {
      "image/png": "[encoded data removed]",
      "text/plain": [
       "<Figure size 432x288 with 1 Axes>"
      ]
     },
     "metadata": {
      "needs_background": "light"
     },
     "output_type": "display_data"
    }
   ],
   "source": [
    "plt.figure()\n",
    "plt.plot(depth_values, train_accs_s, label='train')\n",
    "plt.plot(depth_values, test_accs_s, label='test')\n",
    "plt.legend()\n",
    "plt.xlabel('max depth')\n",
    "plt.ylabel('accuracy')\n",
    "plt.title('DecisionTree Accuracy')\n",
    "plt.show()"
   ]
  },
  {
   "cell_type": "code",
   "execution_count": 64,
   "metadata": {},
   "outputs": [
    {
     "data": {
      "text/plain": [
       "[0.824233836236837,\n",
       " 0.8284015448306521,\n",
       " 0.8746353254980411,\n",
       " 0.8888472118029508,\n",
       " 0.9036842543969326,\n",
       " 0.9232585924258843,\n",
       " 0.938998638548526,\n",
       " 0.9498346808924454,\n",
       " 0.9604484454446945,\n",
       " 0.9698257897807785,\n",
       " 0.9756189047261815,\n",
       " 0.9788280403434192,\n",
       " 0.9806062626767803,\n",
       " 0.9818287905309661]"
      ]
     },
     "execution_count": 64,
     "metadata": {},
     "output_type": "execute_result"
    }
   ],
   "source": [
    "test_accs_s"
   ]
  },
  {
   "cell_type": "markdown",
   "metadata": {},
   "source": [
    "# KNN"
   ]
  },
  {
   "cell_type": "markdown",
   "metadata": {},
   "source": [
    "# SVM"
   ]
  },
  {
   "cell_type": "markdown",
   "metadata": {},
   "source": [
    "# Feature eng\n",
    "# PCA"
   ]
  },
  {
   "cell_type": "markdown",
   "metadata": {},
   "source": [
    "# Bagging/random forest\n",
    "# K means\n",
    "# clustering\n",
    "# NN"
   ]
  },
  {
   "cell_type": "markdown",
   "metadata": {},
   "source": [
    "# Model eval"
   ]
  },
  {
   "cell_type": "markdown",
   "metadata": {},
   "source": [
    "# hyper parameter tuning\n",
    "# ML pipeline\n",
    "# boosting"
   ]
  },
  {
   "cell_type": "markdown",
   "metadata": {},
   "source": [
    "# time series\n"
   ]
  },
  {
   "cell_type": "code",
   "execution_count": null,
   "metadata": {},
   "outputs": [],
   "source": []
  },
  {
   "cell_type": "code",
   "execution_count": null,
   "metadata": {},
   "outputs": [],
   "source": []
  }
 ],
 "metadata": {
  "kernelspec": {
   "display_name": "Python 3",
   "language": "python",
   "name": "python3"
  },
  "language_info": {
   "codemirror_mode": {
    "name": "ipython",
    "version": 3
   },
   "file_extension": ".py",
   "mimetype": "text/x-python",
   "name": "python",
   "nbconvert_exporter": "python",
   "pygments_lexer": "ipython3",
   "version": "3.7.7"
  }
 },
 "nbformat": 4,
 "nbformat_minor": 4
}
