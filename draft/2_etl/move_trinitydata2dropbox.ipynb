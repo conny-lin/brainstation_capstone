{
 "cells": [
  {
   "cell_type": "code",
   "execution_count": null,
   "metadata": {},
   "outputs": [],
   "source": [
    "# move data to dropbox\n",
    "# Conny Lin \\ June 4, 2020\n",
    "# having data on external hard drive slows down speed and only enable one computer to access the data\n",
    "# copy the rawdata to dropbox and syn between computers"
   ]
  },
  {
   "cell_type": "code",
   "execution_count": 2,
   "metadata": {},
   "outputs": [],
   "source": [
    "# load library\n",
    "import os\n",
    "import pickle\n",
    "import numpy as np\n",
    "import pandas as pd\n",
    "import subprocess\n",
    "import glob\n",
    "import shutil\n"
   ]
  },
  {
   "cell_type": "code",
   "execution_count": 3,
   "metadata": {},
   "outputs": [],
   "source": [
    "dir_save = '/Users/connylin/Dropbox/CA/ED _20200119 Brain Station Data Science Diploma/Capstone/data'"
   ]
  },
  {
   "cell_type": "code",
   "execution_count": 4,
   "metadata": {},
   "outputs": [],
   "source": [
    "# load MWTDB\n",
    "MWTDB = pd.read_pickle(os.path.join(dir_save, 'file_summary_mwt.pickle'))"
   ]
  },
  {
   "cell_type": "code",
   "execution_count": 8,
   "metadata": {},
   "outputs": [
    {
     "data": {
      "text/plain": [
       "array(['/Volumes/COBOLT/MWT DISCARD/20100216X_JC_0s0x0s0s_test/N2_Test/20100216_123248',\n",
       "       '/Volumes/COBOLT/MWT DISCARD/20100226X_JC_0s0x0s0s_Practice_TapTest2/N2_Test/20100226_081443',\n",
       "       '/Volumes/COBOLT/MWT DISCARD/20100309X_JC_0s0x0s0s_nogroupcode/N2_Test/20100309_165942',\n",
       "       ...,\n",
       "       '/Volumes/COBOLT/MWT/20190418X_XX_100s30x10s10s_slo1/VG903_400mM/20190418_134430',\n",
       "       '/Volumes/COBOLT/MWT/20190418X_XX_100s30x10s10s_slo1/VG903_400mM/20190418_140628',\n",
       "       '/Volumes/COBOLT/MWT/20190418X_XX_100s30x10s10s_slo1/VG903_400mM/20190418_141335'],\n",
       "      dtype=object)"
      ]
     },
     "execution_count": 8,
     "metadata": {},
     "output_type": "execute_result"
    }
   ],
   "source": [
    "# make folder structure simulating COLBOLT\n",
    "MWTDB.index.values"
   ]
  },
  {
   "cell_type": "code",
   "execution_count": 16,
   "metadata": {},
   "outputs": [
    {
     "data": {
      "text/plain": [
       "array(['/Volumes/COBOLT/MWT DISCARD/20100216X_JC_0s0x0s0s_test/N2_Test/20100216_123248',\n",
       "       '/Volumes/COBOLT/MWT DISCARD/20100226X_JC_0s0x0s0s_Practice_TapTest2/N2_Test/20100226_081443',\n",
       "       '/Volumes/COBOLT/MWT DISCARD/20100309X_JC_0s0x0s0s_nogroupcode/N2_Test/20100309_165942',\n",
       "       ...,\n",
       "       '/Volumes/COBOLT/MWT/20190418X_XX_100s30x10s10s_slo1/VG903_400mM/20190418_134430',\n",
       "       '/Volumes/COBOLT/MWT/20190418X_XX_100s30x10s10s_slo1/VG903_400mM/20190418_140628',\n",
       "       '/Volumes/COBOLT/MWT/20190418X_XX_100s30x10s10s_slo1/VG903_400mM/20190418_141335'],\n",
       "      dtype=object)"
      ]
     },
     "execution_count": 16,
     "metadata": {},
     "output_type": "execute_result"
    }
   ],
   "source": [
    "# make folders simulating COLBOLT --\n",
    "# define dropbox save folder, mkdir if not exist\n",
    "pDropbox_home = '/Users/connylin/Dropbox/MWT/db'\n",
    "# replace path \n",
    "pReplace = '/Volumes/COBOLT'\n",
    "MWTDB.index.values"
   ]
  },
  {
   "cell_type": "code",
   "execution_count": 31,
   "metadata": {},
   "outputs": [],
   "source": [
    "# get new paths\n",
    "new_paths = list(map(lambda p: p.replace(pReplace, pDropbox_home), MWTDB.index.values))"
   ]
  },
  {
   "cell_type": "code",
   "execution_count": 39,
   "metadata": {},
   "outputs": [],
   "source": [
    "# make the paths\n",
    "for p in new_paths:\n",
    "    os.makedirs(p, exist_ok=True)"
   ]
  },
  {
   "cell_type": "code",
   "execution_count": 42,
   "metadata": {},
   "outputs": [],
   "source": [
    "MWTDB = pd.read_pickle(os.path.join(dir_save, 'MWTDB_trinity_N2400mM.pickle'))"
   ]
  },
  {
   "cell_type": "code",
   "execution_count": 47,
   "metadata": {},
   "outputs": [],
   "source": [
    "MWTDB['mwtpath_dropbox'] = list(map(lambda p: p.replace(pReplace, pDropbox_home), MWTDB['mwtpath']))\n",
    "MWTDB['trinity_path_dropbox'] = list(map(lambda p: p.replace(pReplace, pDropbox_home), MWTDB['trinity_path']))"
   ]
  },
  {
   "cell_type": "code",
   "execution_count": 52,
   "metadata": {},
   "outputs": [],
   "source": [
    "# update MWTDB\n",
    "pickle.dump(MWTDB, open(os.path.join(dir_save, 'MWTDB_trinity_N2400mM.pickle'),'wb'))"
   ]
  },
  {
   "cell_type": "code",
   "execution_count": 53,
   "metadata": {},
   "outputs": [
    {
     "data": {
      "text/html": [
       "<div>\n",
       "<style scoped>\n",
       "    .dataframe tbody tr th:only-of-type {\n",
       "        vertical-align: middle;\n",
       "    }\n",
       "\n",
       "    .dataframe tbody tr th {\n",
       "        vertical-align: top;\n",
       "    }\n",
       "\n",
       "    .dataframe thead th {\n",
       "        text-align: right;\n",
       "    }\n",
       "</style>\n",
       "<table border=\"1\" class=\"dataframe\">\n",
       "  <thead>\n",
       "    <tr style=\"text-align: right;\">\n",
       "      <th></th>\n",
       "      <th>mwtpath</th>\n",
       "      <th>trinity_path</th>\n",
       "      <th>expname</th>\n",
       "      <th>groupname</th>\n",
       "      <th>platename</th>\n",
       "      <th>rows</th>\n",
       "      <th>mwtpath_dropbox</th>\n",
       "      <th>trinity_path_dropbox</th>\n",
       "    </tr>\n",
       "  </thead>\n",
       "  <tbody>\n",
       "    <tr>\n",
       "      <th>0</th>\n",
       "      <td>/Volumes/COBOLT/MWT/20110906B_CL_100s30x60s10s...</td>\n",
       "      <td>/Volumes/COBOLT/MWT/20110906B_CL_100s30x60s10s...</td>\n",
       "      <td>20110906B_CL_100s30x60s10s_pilot</td>\n",
       "      <td>N2</td>\n",
       "      <td>20110906_113945</td>\n",
       "      <td>815076</td>\n",
       "      <td>/Users/connylin/Dropbox/MWT/db/MWT/20110906B_C...</td>\n",
       "      <td>/Users/connylin/Dropbox/MWT/db/MWT/20110906B_C...</td>\n",
       "    </tr>\n",
       "    <tr>\n",
       "      <th>1</th>\n",
       "      <td>/Volumes/COBOLT/MWT/20110906B_CL_100s30x60s10s...</td>\n",
       "      <td>/Volumes/COBOLT/MWT/20110906B_CL_100s30x60s10s...</td>\n",
       "      <td>20110906B_CL_100s30x60s10s_pilot</td>\n",
       "      <td>N2</td>\n",
       "      <td>20110906_121214</td>\n",
       "      <td>739138</td>\n",
       "      <td>/Users/connylin/Dropbox/MWT/db/MWT/20110906B_C...</td>\n",
       "      <td>/Users/connylin/Dropbox/MWT/db/MWT/20110906B_C...</td>\n",
       "    </tr>\n",
       "    <tr>\n",
       "      <th>2</th>\n",
       "      <td>/Volumes/COBOLT/MWT/20110906B_CL_100s30x60s10s...</td>\n",
       "      <td>/Volumes/COBOLT/MWT/20110906B_CL_100s30x60s10s...</td>\n",
       "      <td>20110906B_CL_100s30x60s10s_pilot</td>\n",
       "      <td>N2</td>\n",
       "      <td>20110906_124444</td>\n",
       "      <td>841174</td>\n",
       "      <td>/Users/connylin/Dropbox/MWT/db/MWT/20110906B_C...</td>\n",
       "      <td>/Users/connylin/Dropbox/MWT/db/MWT/20110906B_C...</td>\n",
       "    </tr>\n",
       "    <tr>\n",
       "      <th>3</th>\n",
       "      <td>/Volumes/COBOLT/MWT/20110907B_SS_100s30x10s10s...</td>\n",
       "      <td>/Volumes/COBOLT/MWT/20110907B_SS_100s30x10s10s...</td>\n",
       "      <td>20110907B_SS_100s30x10s10s</td>\n",
       "      <td>NM1630</td>\n",
       "      <td>20110907_102613</td>\n",
       "      <td>328879</td>\n",
       "      <td>/Users/connylin/Dropbox/MWT/db/MWT/20110907B_S...</td>\n",
       "      <td>/Users/connylin/Dropbox/MWT/db/MWT/20110907B_S...</td>\n",
       "    </tr>\n",
       "    <tr>\n",
       "      <th>4</th>\n",
       "      <td>/Volumes/COBOLT/MWT/20110907B_SS_100s30x10s10s...</td>\n",
       "      <td>/Volumes/COBOLT/MWT/20110907B_SS_100s30x10s10s...</td>\n",
       "      <td>20110907B_SS_100s30x10s10s</td>\n",
       "      <td>NM1630</td>\n",
       "      <td>20110907_103523</td>\n",
       "      <td>350063</td>\n",
       "      <td>/Users/connylin/Dropbox/MWT/db/MWT/20110907B_S...</td>\n",
       "      <td>/Users/connylin/Dropbox/MWT/db/MWT/20110907B_S...</td>\n",
       "    </tr>\n",
       "    <tr>\n",
       "      <th>...</th>\n",
       "      <td>...</td>\n",
       "      <td>...</td>\n",
       "      <td>...</td>\n",
       "      <td>...</td>\n",
       "      <td>...</td>\n",
       "      <td>...</td>\n",
       "      <td>...</td>\n",
       "      <td>...</td>\n",
       "    </tr>\n",
       "    <tr>\n",
       "      <th>865</th>\n",
       "      <td>/Volumes/COBOLT/MWT/20170605X_CR_100s30x10s10s...</td>\n",
       "      <td>/Volumes/COBOLT/MWT/20170605X_CR_100s30x10s10s...</td>\n",
       "      <td>20170605X_CR_100s30x10s10s_TM1630</td>\n",
       "      <td>TM1630_400mM</td>\n",
       "      <td>20170605_134308</td>\n",
       "      <td>36828</td>\n",
       "      <td>/Users/connylin/Dropbox/MWT/db/MWT/20170605X_C...</td>\n",
       "      <td>/Users/connylin/Dropbox/MWT/db/MWT/20170605X_C...</td>\n",
       "    </tr>\n",
       "    <tr>\n",
       "      <th>866</th>\n",
       "      <td>/Volumes/COBOLT/MWT/20170605X_CR_100s30x10s10s...</td>\n",
       "      <td>/Volumes/COBOLT/MWT/20170605X_CR_100s30x10s10s...</td>\n",
       "      <td>20170605X_CR_100s30x10s10s_TM1630</td>\n",
       "      <td>TM1630_400mM</td>\n",
       "      <td>20170605_141815</td>\n",
       "      <td>191566</td>\n",
       "      <td>/Users/connylin/Dropbox/MWT/db/MWT/20170605X_C...</td>\n",
       "      <td>/Users/connylin/Dropbox/MWT/db/MWT/20170605X_C...</td>\n",
       "    </tr>\n",
       "    <tr>\n",
       "      <th>867</th>\n",
       "      <td>/Volumes/COBOLT/MWT/20170605X_CR_100s30x10s10s...</td>\n",
       "      <td>/Volumes/COBOLT/MWT/20170605X_CR_100s30x10s10s...</td>\n",
       "      <td>20170605X_CR_100s30x10s10s_TM1630</td>\n",
       "      <td>TM1630_400mM</td>\n",
       "      <td>20170605_144356</td>\n",
       "      <td>111638</td>\n",
       "      <td>/Users/connylin/Dropbox/MWT/db/MWT/20170605X_C...</td>\n",
       "      <td>/Users/connylin/Dropbox/MWT/db/MWT/20170605X_C...</td>\n",
       "    </tr>\n",
       "    <tr>\n",
       "      <th>868</th>\n",
       "      <td>/Volumes/COBOLT/MWT/20170605X_CR_100s30x10s10s...</td>\n",
       "      <td>/Volumes/COBOLT/MWT/20170605X_CR_100s30x10s10s...</td>\n",
       "      <td>20170605X_CR_100s30x10s10s_TM1630</td>\n",
       "      <td>TM1630_400mM</td>\n",
       "      <td>20170605_152520</td>\n",
       "      <td>219015</td>\n",
       "      <td>/Users/connylin/Dropbox/MWT/db/MWT/20170605X_C...</td>\n",
       "      <td>/Users/connylin/Dropbox/MWT/db/MWT/20170605X_C...</td>\n",
       "    </tr>\n",
       "    <tr>\n",
       "      <th>869</th>\n",
       "      <td>/Volumes/COBOLT/MWT/20170605X_CR_100s30x10s10s...</td>\n",
       "      <td>/Volumes/COBOLT/MWT/20170605X_CR_100s30x10s10s...</td>\n",
       "      <td>20170605X_CR_100s30x10s10s_TM1630</td>\n",
       "      <td>TM1630_400mM</td>\n",
       "      <td>20170605_154338</td>\n",
       "      <td>162496</td>\n",
       "      <td>/Users/connylin/Dropbox/MWT/db/MWT/20170605X_C...</td>\n",
       "      <td>/Users/connylin/Dropbox/MWT/db/MWT/20170605X_C...</td>\n",
       "    </tr>\n",
       "  </tbody>\n",
       "</table>\n",
       "<p>870 rows × 8 columns</p>\n",
       "</div>"
      ],
      "text/plain": [
       "                                               mwtpath  \\\n",
       "0    /Volumes/COBOLT/MWT/20110906B_CL_100s30x60s10s...   \n",
       "1    /Volumes/COBOLT/MWT/20110906B_CL_100s30x60s10s...   \n",
       "2    /Volumes/COBOLT/MWT/20110906B_CL_100s30x60s10s...   \n",
       "3    /Volumes/COBOLT/MWT/20110907B_SS_100s30x10s10s...   \n",
       "4    /Volumes/COBOLT/MWT/20110907B_SS_100s30x10s10s...   \n",
       "..                                                 ...   \n",
       "865  /Volumes/COBOLT/MWT/20170605X_CR_100s30x10s10s...   \n",
       "866  /Volumes/COBOLT/MWT/20170605X_CR_100s30x10s10s...   \n",
       "867  /Volumes/COBOLT/MWT/20170605X_CR_100s30x10s10s...   \n",
       "868  /Volumes/COBOLT/MWT/20170605X_CR_100s30x10s10s...   \n",
       "869  /Volumes/COBOLT/MWT/20170605X_CR_100s30x10s10s...   \n",
       "\n",
       "                                          trinity_path  \\\n",
       "0    /Volumes/COBOLT/MWT/20110906B_CL_100s30x60s10s...   \n",
       "1    /Volumes/COBOLT/MWT/20110906B_CL_100s30x60s10s...   \n",
       "2    /Volumes/COBOLT/MWT/20110906B_CL_100s30x60s10s...   \n",
       "3    /Volumes/COBOLT/MWT/20110907B_SS_100s30x10s10s...   \n",
       "4    /Volumes/COBOLT/MWT/20110907B_SS_100s30x10s10s...   \n",
       "..                                                 ...   \n",
       "865  /Volumes/COBOLT/MWT/20170605X_CR_100s30x10s10s...   \n",
       "866  /Volumes/COBOLT/MWT/20170605X_CR_100s30x10s10s...   \n",
       "867  /Volumes/COBOLT/MWT/20170605X_CR_100s30x10s10s...   \n",
       "868  /Volumes/COBOLT/MWT/20170605X_CR_100s30x10s10s...   \n",
       "869  /Volumes/COBOLT/MWT/20170605X_CR_100s30x10s10s...   \n",
       "\n",
       "                               expname     groupname        platename    rows  \\\n",
       "0     20110906B_CL_100s30x60s10s_pilot            N2  20110906_113945  815076   \n",
       "1     20110906B_CL_100s30x60s10s_pilot            N2  20110906_121214  739138   \n",
       "2     20110906B_CL_100s30x60s10s_pilot            N2  20110906_124444  841174   \n",
       "3           20110907B_SS_100s30x10s10s        NM1630  20110907_102613  328879   \n",
       "4           20110907B_SS_100s30x10s10s        NM1630  20110907_103523  350063   \n",
       "..                                 ...           ...              ...     ...   \n",
       "865  20170605X_CR_100s30x10s10s_TM1630  TM1630_400mM  20170605_134308   36828   \n",
       "866  20170605X_CR_100s30x10s10s_TM1630  TM1630_400mM  20170605_141815  191566   \n",
       "867  20170605X_CR_100s30x10s10s_TM1630  TM1630_400mM  20170605_144356  111638   \n",
       "868  20170605X_CR_100s30x10s10s_TM1630  TM1630_400mM  20170605_152520  219015   \n",
       "869  20170605X_CR_100s30x10s10s_TM1630  TM1630_400mM  20170605_154338  162496   \n",
       "\n",
       "                                       mwtpath_dropbox  \\\n",
       "0    /Users/connylin/Dropbox/MWT/db/MWT/20110906B_C...   \n",
       "1    /Users/connylin/Dropbox/MWT/db/MWT/20110906B_C...   \n",
       "2    /Users/connylin/Dropbox/MWT/db/MWT/20110906B_C...   \n",
       "3    /Users/connylin/Dropbox/MWT/db/MWT/20110907B_S...   \n",
       "4    /Users/connylin/Dropbox/MWT/db/MWT/20110907B_S...   \n",
       "..                                                 ...   \n",
       "865  /Users/connylin/Dropbox/MWT/db/MWT/20170605X_C...   \n",
       "866  /Users/connylin/Dropbox/MWT/db/MWT/20170605X_C...   \n",
       "867  /Users/connylin/Dropbox/MWT/db/MWT/20170605X_C...   \n",
       "868  /Users/connylin/Dropbox/MWT/db/MWT/20170605X_C...   \n",
       "869  /Users/connylin/Dropbox/MWT/db/MWT/20170605X_C...   \n",
       "\n",
       "                                  trinity_path_dropbox  \n",
       "0    /Users/connylin/Dropbox/MWT/db/MWT/20110906B_C...  \n",
       "1    /Users/connylin/Dropbox/MWT/db/MWT/20110906B_C...  \n",
       "2    /Users/connylin/Dropbox/MWT/db/MWT/20110906B_C...  \n",
       "3    /Users/connylin/Dropbox/MWT/db/MWT/20110907B_S...  \n",
       "4    /Users/connylin/Dropbox/MWT/db/MWT/20110907B_S...  \n",
       "..                                                 ...  \n",
       "865  /Users/connylin/Dropbox/MWT/db/MWT/20170605X_C...  \n",
       "866  /Users/connylin/Dropbox/MWT/db/MWT/20170605X_C...  \n",
       "867  /Users/connylin/Dropbox/MWT/db/MWT/20170605X_C...  \n",
       "868  /Users/connylin/Dropbox/MWT/db/MWT/20170605X_C...  \n",
       "869  /Users/connylin/Dropbox/MWT/db/MWT/20170605X_C...  \n",
       "\n",
       "[870 rows x 8 columns]"
      ]
     },
     "execution_count": 53,
     "metadata": {},
     "output_type": "execute_result"
    }
   ],
   "source": [
    "MWTDB = pd.read_pickle(os.path.join(dir_save, 'MWTDB_trinity_N2400mM.pickle'))\n",
    "MWTDB"
   ]
  },
  {
   "cell_type": "code",
   "execution_count": null,
   "metadata": {},
   "outputs": [
    {
     "name": "stdout",
     "output_type": "stream",
     "text": [
      "copying 130th file\r"
     ]
    }
   ],
   "source": [
    "# for each of the trinity files\n",
    "for i, original, target in zip(range(MWTDB.shape[0]), MWTDB['trinity_path'], MWTDB['trinity_path_dropbox']):\n",
    "    if i%10==0:\n",
    "        print(f'copying {i}th file', end='\\r')\n",
    "    shutil.copyfile(original, target)    "
   ]
  },
  {
   "cell_type": "code",
   "execution_count": null,
   "metadata": {},
   "outputs": [],
   "source": []
  }
 ],
 "metadata": {
  "kernelspec": {
   "display_name": "Python 3",
   "language": "python",
   "name": "python3"
  },
  "language_info": {
   "codemirror_mode": {
    "name": "ipython",
    "version": 3
   },
   "file_extension": ".py",
   "mimetype": "text/x-python",
   "name": "python",
   "nbconvert_exporter": "python",
   "pygments_lexer": "ipython3",
   "version": "3.7.7"
  }
 },
 "nbformat": 4,
 "nbformat_minor": 4
}
