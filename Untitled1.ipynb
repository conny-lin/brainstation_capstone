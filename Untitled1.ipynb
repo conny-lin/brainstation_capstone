{
 "cells": [
  {
   "cell_type": "code",
   "execution_count": null,
   "metadata": {},
   "outputs": [],
   "source": []
  },
  {
   "cell_type": "code",
   "execution_count": 1,
   "metadata": {},
   "outputs": [],
   "source": [
    "import os, sys"
   ]
  },
  {
   "cell_type": "code",
   "execution_count": 2,
   "metadata": {},
   "outputs": [],
   "source": [
    "# define paths to packges\n",
    "pylibrary = [\n",
    "'/Users/connylin/Dropbox/Code/proj/brainstation_capstone/BrainStationLib',\n",
    "# '/Users/connylin/Dropbox/Code/proj/brainstation_capstone/BrainStationLib/ETL',\n",
    "            ]\n",
    "# add package paths to system search paths\n",
    "for path in pylibrary:\n",
    "    # import local functions\n",
    "    if path not in sys.path:\n",
    "        sys.path.insert(1, path)"
   ]
  },
  {
   "cell_type": "code",
   "execution_count": 3,
   "metadata": {},
   "outputs": [
    {
     "name": "stdout",
     "output_type": "stream",
     "text": [
      "hello! import of BrainStationLib successful\n"
     ]
    }
   ],
   "source": [
    "import BrainStationLib.ETL.test"
   ]
  },
  {
   "cell_type": "code",
   "execution_count": 4,
   "metadata": {},
   "outputs": [
    {
     "data": {
      "text/plain": [
       "['/Users/connylin/Dropbox/Code/proj/brainstation_capstone',\n",
       " '/Users/connylin/Dropbox/Code/proj/brainstation_capstone/BrainStationLib',\n",
       " '/Users/connylin/opt/anaconda3/lib/python37.zip',\n",
       " '/Users/connylin/opt/anaconda3/lib/python3.7',\n",
       " '/Users/connylin/opt/anaconda3/lib/python3.7/lib-dynload',\n",
       " '',\n",
       " '/Users/connylin/opt/anaconda3/lib/python3.7/site-packages',\n",
       " '/Users/connylin/opt/anaconda3/lib/python3.7/site-packages/IPython/extensions',\n",
       " '/Users/connylin/.ipython']"
      ]
     },
     "execution_count": 4,
     "metadata": {},
     "output_type": "execute_result"
    }
   ],
   "source": [
    "sys.path"
   ]
  },
  {
   "cell_type": "code",
   "execution_count": 4,
   "metadata": {},
   "outputs": [
    {
     "name": "stdin",
     "output_type": "stream",
     "text": [
      "Once deleted, variables cannot be recovered. Proceed (y/[n])?  y\n"
     ]
    }
   ],
   "source": [
    "%reset"
   ]
  },
  {
   "cell_type": "code",
   "execution_count": 5,
   "metadata": {},
   "outputs": [
    {
     "ename": "NameError",
     "evalue": "name 'pylibrary' is not defined",
     "output_type": "error",
     "traceback": [
      "\u001b[0;31m---------------------------------------------------------------------------\u001b[0m",
      "\u001b[0;31mNameError\u001b[0m                                 Traceback (most recent call last)",
      "\u001b[0;32m<ipython-input-5-5abc6f4b3470>\u001b[0m in \u001b[0;36m<module>\u001b[0;34m\u001b[0m\n\u001b[0;32m----> 1\u001b[0;31m \u001b[0mpylibrary\u001b[0m\u001b[0;34m\u001b[0m\u001b[0;34m\u001b[0m\u001b[0m\n\u001b[0m",
      "\u001b[0;31mNameError\u001b[0m: name 'pylibrary' is not defined"
     ]
    }
   ],
   "source": [
    "pylibrary"
   ]
  },
  {
   "cell_type": "code",
   "execution_count": null,
   "metadata": {},
   "outputs": [],
   "source": []
  }
 ],
 "metadata": {
  "kernelspec": {
   "display_name": "Python 3",
   "language": "python",
   "name": "python3"
  },
  "language_info": {
   "codemirror_mode": {
    "name": "ipython",
    "version": 3
   },
   "file_extension": ".py",
   "mimetype": "text/x-python",
   "name": "python",
   "nbconvert_exporter": "python",
   "pygments_lexer": "ipython3",
   "version": "3.7.7"
  }
 },
 "nbformat": 4,
 "nbformat_minor": 4
}
