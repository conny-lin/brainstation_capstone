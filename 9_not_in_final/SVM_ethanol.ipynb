{
 "cells": [
  {
   "cell_type": "code",
   "execution_count": 1,
   "metadata": {},
   "outputs": [],
   "source": [
    "# Decision Tree for 400mM ethanol\n",
    "# Conny Lin | May 19, 2020\n",
    "# ------------------------------------\n",
    "# Try KNN:\n",
    "#     X = curve and another measure from drunkposture2.dat\n",
    "#     y = 0mM(0) or 400mM(1) \n",
    "# ------------------------------------\n",
    "# - load drunkposture2.csv\n",
    "# - use curve and speed data\n",
    "# - run through class' exercise KNN"
   ]
  },
  {
   "cell_type": "code",
   "execution_count": 2,
   "metadata": {},
   "outputs": [],
   "source": [
    "# define local variables\n",
    "dir_save = '/Users/connylin/Dropbox/CA/ED _20200119 Brain Station Data Science Diploma/Capstone/data'\n",
    "path_MWTDBcsv = '/Volumes/COBOLT/MWT/MWTDB.csv'\n",
    "fname_data = 'drunkposture2_90s_95s_mean_KNN.csv'\n",
    "output_csv_name = 'SVM_ethanol.csv'\n",
    "output_pickle_name = 'SVM_ethanol.pickle'"
   ]
  },
  {
   "cell_type": "code",
   "execution_count": 3,
   "metadata": {},
   "outputs": [],
   "source": [
    "import os\n",
    "import glob\n",
    "import pickle\n",
    "from pathlib import PurePath\n",
    "import numpy as np\n",
    "import pandas as pd\n",
    "import itertools\n",
    "\n",
    "import matplotlib.pyplot as plt\n",
    "%matplotlib inline\n",
    "\n",
    "from sklearn.model_selection import train_test_split\n",
    "from sklearn.tree import DecisionTreeClassifier\n",
    "from sklearn.metrics import accuracy_score\n",
    "from sklearn.tree import plot_tree"
   ]
  },
  {
   "cell_type": "code",
   "execution_count": 4,
   "metadata": {},
   "outputs": [],
   "source": [
    "def PlotBoundaries(model, X, Y, plotsize=(6,4)) :\n",
    "    '''\n",
    "    Helper function that plots the decision boundaries of a model and data (X,Y)\n",
    "    code modified from: https://scikit-learn.org/stable/auto_examples/neighbors/plot_classification.html\n",
    "    '''\n",
    "    \n",
    "    x_min, x_max = X[:, 0].min() - 1, X[:, 0].max() + 1\n",
    "    y_min, y_max = X[:, 1].min() - 1,X[:, 1].max() + 1\n",
    "    xx, yy = np.meshgrid(np.arange(x_min, x_max, 0.01), np.arange(y_min, y_max, 0.01))\n",
    "\n",
    "    Z = model.predict(np.c_[xx.ravel(), yy.ravel()])\n",
    "    Z = Z.reshape(xx.shape)\n",
    "\n",
    "    plt.figure(figsize=plotsize)\n",
    "    plt.contourf(xx, yy, Z, alpha=0.4)\n",
    "\n",
    "    #Plot\n",
    "    plt.scatter(X[:, 0], X[:, 1], c=Y,s=20, edgecolor='k')\n",
    "    plt.show()"
   ]
  },
  {
   "cell_type": "code",
   "execution_count": 5,
   "metadata": {},
   "outputs": [],
   "source": [
    "# load csv\n",
    "df = pd.read_csv(os.path.join(dir_save, fname_data))\n",
    "# take out nan values\n",
    "df_clean = df.dropna(axis=0)"
   ]
  },
  {
   "cell_type": "code",
   "execution_count": 6,
   "metadata": {},
   "outputs": [],
   "source": [
    "# get y (ethanol or not)\n",
    "df_y = pd.DataFrame(list(map(lambda x: list(x.parts), \n",
    "                           list(map(PurePath, df_clean['mwtpath'])))), \n",
    "                  columns=['remove','volume','drivename','dbname','expname','groupname','mwtname'])\n",
    "# set y for ML\n",
    "y = df_y['groupname'].values\n",
    "y[y == 'N2']=0\n",
    "y[y == 'N2_400mM']=1\n",
    "y = y.astype(int)"
   ]
  },
  {
   "cell_type": "code",
   "execution_count": 7,
   "metadata": {},
   "outputs": [
    {
     "data": {
      "text/html": [
       "<div>\n",
       "<style scoped>\n",
       "    .dataframe tbody tr th:only-of-type {\n",
       "        vertical-align: middle;\n",
       "    }\n",
       "\n",
       "    .dataframe tbody tr th {\n",
       "        vertical-align: top;\n",
       "    }\n",
       "\n",
       "    .dataframe thead th {\n",
       "        text-align: right;\n",
       "    }\n",
       "</style>\n",
       "<table border=\"1\" class=\"dataframe\">\n",
       "  <thead>\n",
       "    <tr style=\"text-align: right;\">\n",
       "      <th></th>\n",
       "      <th>curve</th>\n",
       "      <th>speed</th>\n",
       "    </tr>\n",
       "  </thead>\n",
       "  <tbody>\n",
       "    <tr>\n",
       "      <th>0</th>\n",
       "      <td>28.449153</td>\n",
       "      <td>0.113420</td>\n",
       "    </tr>\n",
       "    <tr>\n",
       "      <th>1</th>\n",
       "      <td>29.313821</td>\n",
       "      <td>0.172995</td>\n",
       "    </tr>\n",
       "    <tr>\n",
       "      <th>2</th>\n",
       "      <td>29.772973</td>\n",
       "      <td>0.249895</td>\n",
       "    </tr>\n",
       "    <tr>\n",
       "      <th>3</th>\n",
       "      <td>28.430702</td>\n",
       "      <td>0.213376</td>\n",
       "    </tr>\n",
       "    <tr>\n",
       "      <th>4</th>\n",
       "      <td>29.189655</td>\n",
       "      <td>0.281259</td>\n",
       "    </tr>\n",
       "    <tr>\n",
       "      <th>...</th>\n",
       "      <td>...</td>\n",
       "      <td>...</td>\n",
       "    </tr>\n",
       "    <tr>\n",
       "      <th>1652</th>\n",
       "      <td>35.568293</td>\n",
       "      <td>0.103487</td>\n",
       "    </tr>\n",
       "    <tr>\n",
       "      <th>1653</th>\n",
       "      <td>34.120000</td>\n",
       "      <td>0.072112</td>\n",
       "    </tr>\n",
       "    <tr>\n",
       "      <th>1654</th>\n",
       "      <td>28.308065</td>\n",
       "      <td>0.226469</td>\n",
       "    </tr>\n",
       "    <tr>\n",
       "      <th>1655</th>\n",
       "      <td>18.783065</td>\n",
       "      <td>0.124908</td>\n",
       "    </tr>\n",
       "    <tr>\n",
       "      <th>1656</th>\n",
       "      <td>13.914634</td>\n",
       "      <td>0.147107</td>\n",
       "    </tr>\n",
       "  </tbody>\n",
       "</table>\n",
       "<p>1624 rows × 2 columns</p>\n",
       "</div>"
      ],
      "text/plain": [
       "          curve     speed\n",
       "0     28.449153  0.113420\n",
       "1     29.313821  0.172995\n",
       "2     29.772973  0.249895\n",
       "3     28.430702  0.213376\n",
       "4     29.189655  0.281259\n",
       "...         ...       ...\n",
       "1652  35.568293  0.103487\n",
       "1653  34.120000  0.072112\n",
       "1654  28.308065  0.226469\n",
       "1655  18.783065  0.124908\n",
       "1656  13.914634  0.147107\n",
       "\n",
       "[1624 rows x 2 columns]"
      ]
     },
     "execution_count": 7,
     "metadata": {},
     "output_type": "execute_result"
    }
   ],
   "source": [
    "# get X df\n",
    "df_X = df_clean[['curve','speed']]\n",
    "df_X"
   ]
  },
  {
   "cell_type": "code",
   "execution_count": 8,
   "metadata": {},
   "outputs": [
    {
     "data": {
      "text/plain": [
       "array([[ 0.35658477, -0.84877466],\n",
       "       [ 0.47722555,  0.19435336],\n",
       "       [ 0.54128758,  1.54082901],\n",
       "       ...,\n",
       "       [ 0.33689981,  1.13066345],\n",
       "       [-0.99205255, -0.64762968],\n",
       "       [-1.67130841, -0.25894486]])"
      ]
     },
     "execution_count": 8,
     "metadata": {},
     "output_type": "execute_result"
    }
   ],
   "source": [
    "# scaling - use standard scaler\n",
    "from sklearn.preprocessing import StandardScaler # 1. Import the scaler\n",
    "# 2. make a scaler\n",
    "my_standard_scaler = StandardScaler()\n",
    "# 3. fit the scaler\n",
    "my_standard_scaler.fit(df_X)\n",
    "# 4. transform the data. Notice we get back a numpy array even if we put in a dataframe\n",
    "scaled_loans_data = my_standard_scaler.transform(df_X)\n",
    "\n",
    "scaled_df_X = pd.DataFrame(data=scaled_loans_data, columns=df_X.columns)\n",
    "scaled_df_X.head()\n",
    "\n",
    "# transform to array for ML\n",
    "X = np.array(scaled_df_X)\n",
    "X"
   ]
  },
  {
   "cell_type": "code",
   "execution_count": 9,
   "metadata": {},
   "outputs": [
    {
     "data": {
      "image/png": "[encoded data removed]",
      "text/plain": [
       "<Figure size 504x504 with 1 Axes>"
      ]
     },
     "metadata": {
      "needs_background": "light"
     },
     "output_type": "display_data"
    }
   ],
   "source": [
    "# plot data\n",
    "group_mask = y == 0\n",
    "plt.figure(figsize=(7,7))\n",
    "plt.scatter(scaled_df_X[\"curve\"][group_mask], \n",
    "            scaled_df_X[\"speed\"][group_mask], \n",
    "            c = \"blue\",\n",
    "            s=10,\n",
    "            label=\"No ethanol\")\n",
    "plt.scatter(scaled_df_X[\"curve\"][~group_mask], \n",
    "            scaled_df_X[\"speed\"][~group_mask], \n",
    "            c = \"red\",\n",
    "            s=10,\n",
    "            label=\"Ethanol\")\n",
    "# plt.xlim(-2.0, 2.0)\n",
    "# plt.ylim(-2.0, 2.0)\n",
    "plt.legend(loc=\"upper right\")\n",
    "plt.xlabel(\"x1 - Scaled curve\", fontsize=\"20\")\n",
    "plt.ylabel(\"x2 - Scaled speed\", fontsize=\"20\")\n",
    "plt.show();"
   ]
  },
  {
   "cell_type": "code",
   "execution_count": 10,
   "metadata": {},
   "outputs": [],
   "source": [
    "def SVM_test_parameters(X,y,testdatasplit=.8,n_random_state=1,cvalue=1,n_max_iter=100000,printopt=1):\n",
    "    from sklearn.svm import LinearSVC\n",
    "    # Split our data into train & test sets\n",
    "    X_train, X_test, y_train, y_test = train_test_split(X, y, \n",
    "                                                        test_size=testdatasplit, \n",
    "                                                        random_state=n_random_state)\n",
    "    # Instantiate the model & fit it to our data\n",
    "    MLmodel = LinearSVC(C=cvalue, max_iter=n_max_iter)\n",
    "    MLmodel.fit(X_train, y_train)\n",
    "    # Score the model on the test set\n",
    "    train_score = MLmodel.score(X_train,y_train)\n",
    "    test_score = MLmodel.score(X_test,y_test)\n",
    "    # print\n",
    "    if printopt==1:\n",
    "        print(f\"The TRAIN accuracy is:  {train_score:.5f}\")\n",
    "        print(f\"The TEST accuracy is:  {test_score:.5f}\")\n",
    "    return MLmodel, test_score, train_score"
   ]
  },
  {
   "cell_type": "code",
   "execution_count": 16,
   "metadata": {},
   "outputs": [
    {
     "name": "stdout",
     "output_type": "stream",
     "text": [
      "test data: 50% \tmax split: -5\n",
      "The TRAIN accuracy is:  0.92857\n",
      "The TEST accuracy is:  0.92980\n",
      "The TRAIN accuracy is:  0.92857\n",
      "The TEST accuracy is:  0.92980\n",
      "test data: 50% \tmax split: -4\n",
      "The TRAIN accuracy is:  0.92857\n",
      "The TEST accuracy is:  0.92611\n",
      "The TRAIN accuracy is:  0.92857\n",
      "The TEST accuracy is:  0.92611\n",
      "test data: 50% \tmax split: -3\n",
      "The TRAIN accuracy is:  0.93103\n",
      "The TEST accuracy is:  0.92488\n",
      "The TRAIN accuracy is:  0.93103\n",
      "The TEST accuracy is:  0.92488\n",
      "test data: 50% \tmax split: -2\n",
      "The TRAIN accuracy is:  0.92488\n",
      "The TEST accuracy is:  0.91872\n",
      "The TRAIN accuracy is:  0.92488\n",
      "The TEST accuracy is:  0.91872\n",
      "test data: 50% \tmax split: -1\n",
      "The TRAIN accuracy is:  0.91872\n",
      "The TEST accuracy is:  0.91995\n",
      "The TRAIN accuracy is:  0.91872\n",
      "The TEST accuracy is:  0.91995\n",
      "test data: 50% \tmax split: 1\n",
      "The TRAIN accuracy is:  0.91995\n",
      "The TEST accuracy is:  0.91749\n",
      "The TRAIN accuracy is:  0.91995\n",
      "The TEST accuracy is:  0.91749\n",
      "test data: 50% \tmax split: 2\n",
      "The TRAIN accuracy is:  0.91995\n",
      "The TEST accuracy is:  0.91749\n",
      "The TRAIN accuracy is:  0.91995\n",
      "The TEST accuracy is:  0.91749\n",
      "test data: 50% \tmax split: 3\n"
     ]
    },
    {
     "name": "stderr",
     "output_type": "stream",
     "text": [
      "/Users/connylin/opt/anaconda3/lib/python3.7/site-packages/sklearn/svm/_base.py:947: ConvergenceWarning: Liblinear failed to converge, increase the number of iterations.\n",
      "  \"the number of iterations.\", ConvergenceWarning)\n"
     ]
    },
    {
     "name": "stdout",
     "output_type": "stream",
     "text": [
      "The TRAIN accuracy is:  0.91872\n",
      "The TEST accuracy is:  0.91749\n",
      "The TRAIN accuracy is:  0.91872\n",
      "The TEST accuracy is:  0.91749\n",
      "test data: 50% \tmax split: 4\n",
      "The TRAIN accuracy is:  0.91872\n",
      "The TEST accuracy is:  0.91995\n",
      "The TRAIN accuracy is:  0.91872\n",
      "The TEST accuracy is:  0.91995\n"
     ]
    },
    {
     "name": "stderr",
     "output_type": "stream",
     "text": [
      "/Users/connylin/opt/anaconda3/lib/python3.7/site-packages/sklearn/svm/_base.py:947: ConvergenceWarning: Liblinear failed to converge, increase the number of iterations.\n",
      "  \"the number of iterations.\", ConvergenceWarning)\n"
     ]
    }
   ],
   "source": [
    "# generate c value\n",
    "cvalue_exp_list = range(-5,5)\n",
    "cvalue_list = []\n",
    "for c in cvalue_exp_list:\n",
    "    if c!=0:\n",
    "        cvalue_list.append(c)\n",
    "\n",
    "# set variables\n",
    "testsize_list =[0.5]\n",
    "n_random_state = 1\n",
    "printopt = 1\n",
    "class_names_set = ['No ethanol','ethanol']\n",
    "n_max_iter = 100000\n",
    "\n",
    "# run\n",
    "from sklearn.svm import LinearSVC\n",
    "ML_capture = []\n",
    "ML_performance = []\n",
    "for testdatasplit, cvalue in itertools.product(testsize_list,cvalue_list):\n",
    "    # print status\n",
    "    print(f'test data: {testdatasplit*100:.0f}% \\tmax split: {cvalue}')\n",
    "    MLmodel, test_score, train_score = SVM_test_parameters(X,y,\n",
    "                                                           testdatasplit,\n",
    "                                                           n_random_state,\n",
    "                                                           10**cvalue,\n",
    "                                                           n_max_iter,\n",
    "                                                           printopt)\n",
    "    # print\n",
    "    if printopt==1:\n",
    "        print(f\"The TRAIN accuracy is:  {train_score:.5f}\")\n",
    "        print(f\"The TEST accuracy is:  {test_score:.5f}\")\n",
    "    # put in memory\n",
    "    ML_capture.append(MLmodel)\n",
    "    ML_performance.append([testdatasplit, cvalue, train_score, test_score]) "
   ]
  },
  {
   "cell_type": "code",
   "execution_count": 18,
   "metadata": {},
   "outputs": [
    {
     "data": {
      "text/html": [
       "<div>\n",
       "<style scoped>\n",
       "    .dataframe tbody tr th:only-of-type {\n",
       "        vertical-align: middle;\n",
       "    }\n",
       "\n",
       "    .dataframe tbody tr th {\n",
       "        vertical-align: top;\n",
       "    }\n",
       "\n",
       "    .dataframe thead th {\n",
       "        text-align: right;\n",
       "    }\n",
       "</style>\n",
       "<table border=\"1\" class=\"dataframe\">\n",
       "  <thead>\n",
       "    <tr style=\"text-align: right;\">\n",
       "      <th></th>\n",
       "      <th>test_size</th>\n",
       "      <th>c_value exp</th>\n",
       "      <th>train_score</th>\n",
       "      <th>test_score</th>\n",
       "    </tr>\n",
       "  </thead>\n",
       "  <tbody>\n",
       "    <tr>\n",
       "      <th>0</th>\n",
       "      <td>0.5</td>\n",
       "      <td>-5</td>\n",
       "      <td>0.928571</td>\n",
       "      <td>0.929803</td>\n",
       "    </tr>\n",
       "    <tr>\n",
       "      <th>1</th>\n",
       "      <td>0.5</td>\n",
       "      <td>-4</td>\n",
       "      <td>0.928571</td>\n",
       "      <td>0.926108</td>\n",
       "    </tr>\n",
       "    <tr>\n",
       "      <th>2</th>\n",
       "      <td>0.5</td>\n",
       "      <td>-3</td>\n",
       "      <td>0.931034</td>\n",
       "      <td>0.924877</td>\n",
       "    </tr>\n",
       "    <tr>\n",
       "      <th>3</th>\n",
       "      <td>0.5</td>\n",
       "      <td>-2</td>\n",
       "      <td>0.924877</td>\n",
       "      <td>0.918719</td>\n",
       "    </tr>\n",
       "    <tr>\n",
       "      <th>4</th>\n",
       "      <td>0.5</td>\n",
       "      <td>-1</td>\n",
       "      <td>0.918719</td>\n",
       "      <td>0.919951</td>\n",
       "    </tr>\n",
       "    <tr>\n",
       "      <th>5</th>\n",
       "      <td>0.5</td>\n",
       "      <td>1</td>\n",
       "      <td>0.919951</td>\n",
       "      <td>0.917488</td>\n",
       "    </tr>\n",
       "    <tr>\n",
       "      <th>6</th>\n",
       "      <td>0.5</td>\n",
       "      <td>2</td>\n",
       "      <td>0.919951</td>\n",
       "      <td>0.917488</td>\n",
       "    </tr>\n",
       "    <tr>\n",
       "      <th>7</th>\n",
       "      <td>0.5</td>\n",
       "      <td>3</td>\n",
       "      <td>0.918719</td>\n",
       "      <td>0.917488</td>\n",
       "    </tr>\n",
       "    <tr>\n",
       "      <th>8</th>\n",
       "      <td>0.5</td>\n",
       "      <td>4</td>\n",
       "      <td>0.918719</td>\n",
       "      <td>0.919951</td>\n",
       "    </tr>\n",
       "  </tbody>\n",
       "</table>\n",
       "</div>"
      ],
      "text/plain": [
       "   test_size  c_value exp  train_score  test_score\n",
       "0        0.5           -5     0.928571    0.929803\n",
       "1        0.5           -4     0.928571    0.926108\n",
       "2        0.5           -3     0.931034    0.924877\n",
       "3        0.5           -2     0.924877    0.918719\n",
       "4        0.5           -1     0.918719    0.919951\n",
       "5        0.5            1     0.919951    0.917488\n",
       "6        0.5            2     0.919951    0.917488\n",
       "7        0.5            3     0.918719    0.917488\n",
       "8        0.5            4     0.918719    0.919951"
      ]
     },
     "metadata": {},
     "output_type": "display_data"
    }
   ],
   "source": [
    "# put in table\n",
    "ML_accuracy_results=pd.DataFrame(ML_performance, columns=['test_size','c_value exp','train_score', 'test_score'])\n",
    "display(ML_accuracy_results)"
   ]
  },
  {
   "cell_type": "code",
   "execution_count": 17,
   "metadata": {},
   "outputs": [
    {
     "data": {
      "image/png": "[encoded data removed]",
      "text/plain": [
       "<Figure size 432x288 with 1 Axes>"
      ]
     },
     "metadata": {
      "needs_background": "light"
     },
     "output_type": "display_data"
    }
   ],
   "source": [
    "# display\n",
    "plt.figure()\n",
    "plt.plot(cvalue_list,ML_accuracy_results['train_score']*100,label='train scores')\n",
    "plt.plot(cvalue_list,ML_accuracy_results['test_score']*100,label='test scores')\n",
    "plt.xlabel('c value exp')\n",
    "plt.ylabel('score')\n",
    "# plt.xlim(90,100)\n",
    "# plt.ylim(90,100)\n",
    "# plt.scatter(ML_accuracy_results['c_value'],ML_accuracy_results['test_score'],label='test scores')\n",
    "plt.legend()\n",
    "plt.show()"
   ]
  },
  {
   "cell_type": "code",
   "execution_count": 19,
   "metadata": {},
   "outputs": [
    {
     "name": "stdout",
     "output_type": "stream",
     "text": [
      "complete\n"
     ]
    }
   ],
   "source": [
    "# store data\n",
    "with open(os.path.join(dir_save,output_pickle_name),'wb') as f:\n",
    "    pickle.dump(ML_accuracy_results, f)\n",
    "    pickle.dump(ML_capture, f)\n",
    "# print complete\n",
    "print('complete')"
   ]
  },
  {
   "cell_type": "code",
   "execution_count": 15,
   "metadata": {},
   "outputs": [
    {
     "ename": "AssertionError",
     "evalue": "break",
     "output_type": "error",
     "traceback": [
      "\u001b[0;31m---------------------------------------------------------------------------\u001b[0m",
      "\u001b[0;31mAssertionError\u001b[0m                            Traceback (most recent call last)",
      "\u001b[0;32m<ipython-input-15-f4641669aa3a>\u001b[0m in \u001b[0;36m<module>\u001b[0;34m\u001b[0m\n\u001b[0;32m----> 1\u001b[0;31m \u001b[0;32massert\u001b[0m \u001b[0;32mFalse\u001b[0m\u001b[0;34m,\u001b[0m \u001b[0;34m'break'\u001b[0m\u001b[0;34m\u001b[0m\u001b[0;34m\u001b[0m\u001b[0m\n\u001b[0m",
      "\u001b[0;31mAssertionError\u001b[0m: break"
     ]
    }
   ],
   "source": []
  },
  {
   "cell_type": "code",
   "execution_count": null,
   "metadata": {},
   "outputs": [],
   "source": []
  },
  {
   "cell_type": "code",
   "execution_count": null,
   "metadata": {},
   "outputs": [],
   "source": []
  }
 ],
 "metadata": {
  "kernelspec": {
   "display_name": "Python 3",
   "language": "python",
   "name": "python3"
  },
  "language_info": {
   "codemirror_mode": {
    "name": "ipython",
    "version": 3
   },
   "file_extension": ".py",
   "mimetype": "text/x-python",
   "name": "python",
   "nbconvert_exporter": "python",
   "pygments_lexer": "ipython3",
   "version": "3.7.7"
  }
 },
 "nbformat": 4,
 "nbformat_minor": 4
}
