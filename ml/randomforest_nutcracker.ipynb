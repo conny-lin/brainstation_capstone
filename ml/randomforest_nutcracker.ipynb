{
  "nbformat": 4,
  "nbformat_minor": 0,
  "metadata": {
    "kernelspec": {
      "display_name": "Python 3",
      "language": "python",
      "name": "python3"
    },
    "language_info": {
      "codemirror_mode": {
        "name": "ipython",
        "version": 3
      },
      "file_extension": ".py",
      "mimetype": "text/x-python",
      "name": "python",
      "nbconvert_exporter": "python",
      "pygments_lexer": "ipython3",
      "version": "3.6.10"
    },
    "colab": {
      "name": "randomforest_nutcracker.ipynb",
      "provenance": []
    }
  },
  "cells": [
    {
      "cell_type": "markdown",
      "metadata": {
        "id": "rR9VL-wSgiIy",
        "colab_type": "text"
      },
      "source": [
        "# Random Forest\n",
        "Conny Lin | June 2020"
      ]
    },
    {
      "cell_type": "markdown",
      "metadata": {
        "id": "mE5ciuncgmwS",
        "colab_type": "text"
      },
      "source": [
        "## Set up"
      ]
    },
    {
      "cell_type": "markdown",
      "metadata": {
        "id": "WsnDTCLJgoCi",
        "colab_type": "text"
      },
      "source": [
        "### local computer"
      ]
    },
    {
      "cell_type": "code",
      "metadata": {
        "id": "HmIYQOPQfrtb",
        "colab_type": "code",
        "colab": {},
        "outputId": "9489f17a-2936-4b0a-ff1f-5a5764da95c1"
      },
      "source": [
        "# import local libraries using host specific paths\n",
        "import socket, sys\n",
        "hostname = socket.gethostname().split('.')[0]\n",
        "# set local path settings based on computer host\n",
        "if hostname == 'PFC':\n",
        "    pylibrary = '/Users/connylin/Dropbox/Code/proj'\n",
        "elif hostname == 'Angular-Gyrus':\n",
        "    pylibrary = '/Users/connylin/Code/proj'\n",
        "else:\n",
        "    assert False, 'host computer not regonized'\n",
        "# load local libraries\n",
        "if pylibrary not in sys.path:\n",
        "    sys.path.insert(1, pylibrary)\n",
        "# import other standard paths and local variables\n",
        "from brainstation_capstone.system import host_paths\n",
        "localpaths = host_paths.get(hostname)\n",
        "from brainstation_capstone.ml.toolbox import mlSOP\n",
        "from brainstation_capstone.ml.toolbox.mlSOP import test_model\n",
        "from brainstation_capstone.ml.toolbox.mlSOP import ml_timer\n",
        "from brainstation_capstone.vs.plots import hyperparameterplot\n",
        "# import standard libraries\n",
        "import time, datetime\n",
        "import numpy as np\n",
        "import pandas as pd\n",
        "import matplotlib.pyplot as plt# import local libraries using host specific paths\n",
        "# report latest run\n",
        "print(f'last ran on: {datetime.datetime.now()} PT')\n"
      ],
      "execution_count": null,
      "outputs": [
        {
          "output_type": "stream",
          "text": [
            "getting host computer specific paths\n"
          ],
          "name": "stdout"
        }
      ]
    },
    {
      "cell_type": "code",
      "metadata": {
        "id": "KZVkkIvdgrPZ",
        "colab_type": "code",
        "colab": {}
      },
      "source": [
        "# import data\n",
        "from brainstation_capstone.etl.loaddata import nutcracker\n",
        "data = nutcracker(localpaths, 'nutcracker', ['X_train','X_test','y_train','y_test'])"
      ],
      "execution_count": null,
      "outputs": []
    },
    {
      "cell_type": "markdown",
      "metadata": {
        "id": "G7cIc5NmgtlK",
        "colab_type": "text"
      },
      "source": [
        "### google colab"
      ]
    },
    {
      "cell_type": "code",
      "metadata": {
        "id": "L3G-gPf7gvH-",
        "colab_type": "code",
        "colab": {
          "base_uri": "https://localhost:8080/",
          "height": 122
        },
        "outputId": "1171fbc7-041f-46c9-908d-0fce22c1c929"
      },
      "source": [
        "# connect to google drive\n",
        "from google.colab import drive\n",
        "drive.mount('/content/gdrive')"
      ],
      "execution_count": 1,
      "outputs": [
        {
          "output_type": "stream",
          "text": [
            "Go to this URL in a browser: https://accounts.google.com/o/oauth2/auth?client_id=947318989803-6bn6qk8qdgf4n4g3pfee6491hc0brc4i.apps.googleusercontent.com&redirect_uri=urn%3aietf%3awg%3aoauth%3a2.0%3aoob&response_type=code&scope=email%20https%3a%2f%2fwww.googleapis.com%2fauth%2fdocs.test%20https%3a%2f%2fwww.googleapis.com%2fauth%2fdrive%20https%3a%2f%2fwww.googleapis.com%2fauth%2fdrive.photos.readonly%20https%3a%2f%2fwww.googleapis.com%2fauth%2fpeopleapi.readonly\n",
            "\n",
            "Enter your authorization code:\n",
            "··········\n",
            "Mounted at /content/gdrive\n"
          ],
          "name": "stdout"
        }
      ]
    },
    {
      "cell_type": "code",
      "metadata": {
        "id": "IKOHYILLgzKX",
        "colab_type": "code",
        "colab": {
          "base_uri": "https://localhost:8080/",
          "height": 34
        },
        "outputId": "80cb3a4f-84dc-4cf3-eea0-13d18f4ebf1e"
      },
      "source": [
        "# import functions and data\n",
        "print('import functions')\n",
        "import pandas as pd\n",
        "import numpy as np\n",
        "import os, time, datetime\n",
        "import matplotlib.pyplot as plt\n",
        "\n",
        "# define file directory\n",
        "file_dir = '/content/gdrive/My Drive/ED Brain Station/data'\n",
        "\n",
        "class test_model:\n",
        "    def __init__(self):\n",
        "        # set test and train score\n",
        "        self.test_acc = []\n",
        "        self.train_acc = []\n",
        "    def score_data(self, model, datadict):\n",
        "        self.model = model\n",
        "        self.data = datadict\n",
        "        # fit model\n",
        "        self.model.fit(self.data['X_train'], self.data['y_train'])\n",
        "        # train score\n",
        "        train_score = self.model.score(self.data['X_train'], self.data['y_train'])\n",
        "        print(f\"\\tTrain Score: {train_score}\")\n",
        "        self.train_acc.append(train_score)\n",
        "        # test score\n",
        "        test_score = self.model.score(self.data['X_test'], self.data['y_test'])\n",
        "        print(f\"\\tTest Score: {test_score}\")\n",
        "        self.test_acc.append(test_score)\n",
        "\n",
        "class ml_timer:\n",
        "    def __init__(self):\n",
        "        # initate session start time\n",
        "        self.start = time.time()\n",
        "        # initiate holder for times\n",
        "        self.session_times = []\n",
        "        print('timer starts')\n",
        "\n",
        "    def param_start(self):\n",
        "        # update current session start time\n",
        "        self.current_session_start = time.time()\n",
        "\n",
        "    def param_end(self):\n",
        "        end_time = time.time()\n",
        "        elapsed_time = end_time - self.current_session_start\n",
        "        print(f'\\telapsed time {elapsed_time/60:.3f} min')\n",
        "        self.session_times.append(elapsed_time)\n",
        "    \n",
        "    def session_end(self):\n",
        "        self.end = time.time()\n",
        "    \n",
        "    def get_time(self):\n",
        "        print(f'total time: {(self.end - self.start)/60:.3f} min')\n",
        "        return self.session_times\n",
        "\n",
        "def hyperparameterplot(hyperparameter_list, train_score_list, test_score_list, \\\n",
        "                        hyperparameter_name='', xscale='linear', titlename=''):\n",
        "    # check if hyperparameter list is string or number\n",
        "    if isinstance(hyperparameter_list[0], str):\n",
        "        hyperparameter_label = hyperparameter_list.copy()\n",
        "        hyperparameter_list = range(len(hyperparameter_list))\n",
        "    # graph\n",
        "    plt.figure()\n",
        "    plt.plot(hyperparameter_list, train_score_list, color='blue', label='train')\n",
        "    plt.plot(hyperparameter_list, test_score_list, color='red', label='test')\n",
        "    plt.title(titlename)\n",
        "    plt.xlabel(hyperparameter_name)\n",
        "    if isinstance(hyperparameter_list[0], str):\n",
        "        plt.xticks(labels=hyperparameter_label)\n",
        "    plt.ylabel('accuracy score')\n",
        "    plt.xscale(xscale)\n",
        "    plt.legend()\n",
        "    plt.show()\n",
        "\n",
        "def load_nutcracker_csv(dir_datafolder):\n",
        "    datatype = ['X_train','X_test','y_train','y_test']\n",
        "    print(f'loading {len(datatype)} files')\n",
        "    datadict = dict()\n",
        "    for i, dname in enumerate(datatype):\n",
        "        print(f'loading file: {i}', end='\\r')\n",
        "        filename = 'nutcracker' + '_' + dname + '.csv'\n",
        "        filepath = os.path.join(dir_datafolder, filename)\n",
        "        data = pd.read_csv(filepath, header=None, index_col=False)\n",
        "        datadict[dname] = data.to_numpy()\n",
        "    print('\\nloading completed')\n",
        "    return datadict\n",
        "\n",
        "\n",
        "\n",
        "class ModelEvaluation:\n",
        "    def __init__(self, model, data_dir):\n",
        "        self.model = model\n",
        "        self.data_dir = data_dir\n",
        "    \n",
        "    def load_data(self):\n",
        "        if not hasattr(self, 'data'):\n",
        "            self.data = load_nutcracker_csv(self.data_dir)\n",
        "\n",
        "    def cross_val_score(self, cv=5):\n",
        "        timer = ml_timer()\n",
        "        if not hasattr(self, 'data'):\n",
        "            self.load_data()\n",
        "        from sklearn.model_selection import cross_val_score\n",
        "        scores = cross_val_score(self.model, \n",
        "                    self.data['X_train'], \n",
        "                    self.data['y_train'], \n",
        "                    cv=cv)\n",
        "        timer.session_end()\n",
        "        self.runtime_crossval = timer.get_time()\n",
        "        print(f'cross validation scores: {scores}')\n",
        "        print(f'validation score (mean):{np.mean(scores)}')\n",
        "        print(f'validation score (std):{np.std(scores)}')\n",
        "        self.cross_val_score_ = scores\n",
        "        return self.cross_val_score_\n",
        "    \n",
        "    def fitmodel(self):\n",
        "        if not hasattr(self, 'data'):\n",
        "            self.load_data()\n",
        "        self.model.fit(self.data['X_train'], self.data['y_train'])\n",
        "        return self.model\n",
        "    \n",
        "    def predict(self):\n",
        "        if not hasattr(self, 'data'):\n",
        "            self.load_data()\n",
        "        timer = ml_timer()\n",
        "        self.y_pred_test = self.model.predict(self.data['X_test'])\n",
        "        timer.session_end()\n",
        "        self.runtime_predict = timer.get_time()\n",
        "        self.y_pred_train = self.model.predict(self.data['X_train'])\n",
        "\n",
        "    def accuracy_score(self):\n",
        "        if not hasattr(self, 'data'):\n",
        "            self.load_data()\n",
        "        self.score_train = self.model.score(self.data[\"X_train\"], self.data['y_train'])\n",
        "        print(f'accuracy score on train: {self.score_train}')\n",
        "        self.score_test = self.model.score(self.data['X_test'], self.data['y_test'])\n",
        "        print(f'accuracy score on test: {self.score_test}')\n",
        "        return self.score_train, self.score_test\n",
        "\n",
        "    def confusion_matrix(self):\n",
        "        if not hasattr(self, 'y_pred_test'):\n",
        "            self.predict()\n",
        "        # fitmodel and predict must proceed this.\n",
        "        # define dataframe labels\n",
        "        columns = ['Predicted normal', 'Predicted alcohol']\n",
        "        indexname = ['True normal', 'True alcohol']\n",
        "        from sklearn.metrics import confusion_matrix\n",
        "        # run confusion matrix - test\n",
        "        self.conf_matrix_test = confusion_matrix(self.data['y_test'], self.y_pred_test, \n",
        "                                            normalize='true')\n",
        "        conf_matrix_test_df = pd.DataFrame(self.conf_matrix_test, columns=columns)\n",
        "        conf_matrix_test_df.index = indexname\n",
        "        print('\\nconfusion matrix: test data')\n",
        "        print(conf_matrix_test_df)\n",
        "        # run confusion matrix - train\n",
        "        self.conf_matrix_train = confusion_matrix(self.data['y_train'], \n",
        "                                            self.y_pred_train, \n",
        "                                            normalize='true')\n",
        "        conf_matrix_train_df = pd.DataFrame(self.conf_matrix_train, columns=columns)\n",
        "        conf_matrix_train_df.index = indexname\n",
        "        print('\\nconfusion matrix: train data')\n",
        "        print(conf_matrix_train_df)\n",
        "        return self.conf_matrix_test, self.conf_matrix_train\n",
        "    \n",
        "    def display_confusion_matrix(self):\n",
        "        if not hasattr(self, 'conf_matrix_test'):\n",
        "            self.confusion_matrix()\n",
        "        # confusion_matrix must proceed this\n",
        "        display_labels = ['normal', 'alcohol']\n",
        "        from sklearn.metrics import ConfusionMatrixDisplay\n",
        "        print('\\nconfusion matrix for test')\n",
        "        plt.figure()\n",
        "        ConfusionMatrixDisplay(self.conf_matrix_test, display_labels=display_labels).plot()\n",
        "        plt.show()\n",
        "        print('\\nconfusion matrix for train')\n",
        "        plt.figure()\n",
        "        ConfusionMatrixDisplay(self.conf_matrix_train, display_labels=display_labels).plot()\n",
        "        plt.show()\n",
        "\n",
        "    def classification_report(self):\n",
        "        if not hasattr(self, 'y_pred_test'):\n",
        "            self.predict()\n",
        "        from sklearn.metrics import classification_report\n",
        "        self.eval_score_report = classification_report(self.data['y_test'], \n",
        "                                                        self.y_pred_test)\n",
        "        print(self.eval_score_report)\n",
        "    \n",
        "    def print_evaluation_scores(self):\n",
        "        if not hasattr(self, 'y_pred_test'):\n",
        "            self.predict()        \n",
        "        from sklearn.metrics import precision_score\n",
        "        from sklearn.metrics import recall_score\n",
        "        from sklearn.metrics import f1_score\n",
        "        self.precision_score = precision_score(self.data[\"y_test\"], self.y_pred_test)\n",
        "        self.recall_score = recall_score(self.data[\"y_test\"], self.y_pred_test)\n",
        "        self.f1_score = f1_score(self.data[\"y_test\"], self.y_pred_test)\n",
        "        print(f'precision_score = {self.precision_score}')\n",
        "        print(f'recall_score = {self.recall_score}')\n",
        "        print(f'f1_score = {self.f1_score}')\n",
        "    \n",
        "    def test_data_class_proba(self):\n",
        "        if not hasattr(self, 'data'):\n",
        "            self.load_data()        \n",
        "        false_proba = np.count_nonzero(self.data['y_test']) / self.data['y_test'].shape[0]\n",
        "        true_proba = 1.0 - false_proba\n",
        "        print(f'test set normal case probability: {false_proba}')\n",
        "        print(f'test set alcohol case probability: {true_proba}')\n",
        "        self.real_proba = dict()\n",
        "        self.real_proba['false_proba'] = false_proba\n",
        "        self.real_proba['true_proba'] = true_proba\n",
        "    \n",
        "    def predict_proba(self):\n",
        "        if not hasattr(self, 'data'):\n",
        "            self.load_data()\n",
        "        self.y_proba_test = self.model.predict_proba(self.data['X_test'])[:,1]\n",
        "        self.y_proba_train = self.model.predict_proba(self.data['X_train'])[:,1]\n",
        "        return self.y_proba_test, self.y_proba_train\n",
        "\n",
        "    def proba_thresholds(self):\n",
        "        if not hasattr(self, 'data'):\n",
        "            self.load_data()\n",
        "        from sklearn.metrics import accuracy_score\n",
        "        from sklearn.metrics import precision_score\n",
        "        from sklearn.metrics import recall_score\n",
        "        # Vary thresholds by 0.05 from 0.05 to 0.95\n",
        "        thresholds = np.arange(0.05, 1, 0.05)\n",
        "        precisions = list()\n",
        "        recalls = list()\n",
        "        neg_recalls = list()\n",
        "        for threshold in thresholds:\n",
        "            # Apply threshold\n",
        "            y_threshold = np.where(self.y_proba_test > threshold, 1, 0)\n",
        "            # Calculate precision and recall\n",
        "            precision = precision_score(self.data['y_test'], y_threshold)\n",
        "            recall = recall_score(self.data['y_test'], y_threshold)\n",
        "            neg_recall = recall_score(1-self.data['y_test'], 1-y_threshold)\n",
        "            # Append to list\n",
        "            precisions.append(precision)\n",
        "            recalls.append(recall)\n",
        "            neg_recalls.append(neg_recall)\n",
        "        # Visualize the result\n",
        "        plt.figure()\n",
        "        plt.plot(thresholds, precisions, label='precision', marker='o')\n",
        "        plt.plot(thresholds, recalls, label='recall', marker='o')\n",
        "        plt.xlim(0, 1)\n",
        "        plt.xlabel('threshold')\n",
        "        plt.ylabel('score')\n",
        "        plt.legend()\n",
        "        plt.show()\n",
        "        return precisions, recalls, neg_recalls\n",
        "        \n",
        "    def roc_auc(self):\n",
        "        if hasattr(self, 'y_proba_train'):\n",
        "            self.predict_proba()\n",
        "        from sklearn.metrics import roc_curve, roc_auc_score\n",
        "        # get roc auc train\n",
        "        fprs_train, tprs_train, thresholds_train = roc_curve(self.data['y_train'], self.y_proba_train)\n",
        "        roc_auc_train = roc_auc_score(self.data['y_train'], self.y_proba_train)\n",
        "        # get roc auc test\n",
        "        fprs_test, tprs_test, thresholds_test = roc_curve(self.data['y_test'], self.y_proba_test)\n",
        "        roc_auc_test = roc_auc_score(self.data['y_test'], self.y_proba_test)\n",
        "        # Plot the ROC curve.\n",
        "        plt.figure()\n",
        "        plt.plot(fprs_train, tprs_train, color='gray', lw=5, label='train', linestyle=' ', marker='.')\n",
        "        plt.plot(fprs_test, tprs_test, lw=1, color='red', label='test')\n",
        "        plt.plot([0, 1], [0, 1], color='navy', lw=2, linestyle='--', label='expected')\n",
        "        plt.xlabel('False Positive Rate')\n",
        "        plt.ylabel('True Positive Rate')\n",
        "        plt.title('ROC and AUC')\n",
        "        plt.legend(loc=\"best\")\n",
        "        plt.show()\n",
        "        print(f\"Test AUC score: {roc_auc_test}\")\n",
        "        print(f\"Train AUC score: {roc_auc_train}\")\n",
        "        self.roc_auc_test = roc_auc_test\n",
        "        self.roc_auc_train = roc_auc_train\n",
        "    \n",
        "    def save(self, savedir):\n",
        "        # remove data from object to save space\n",
        "        if hasattr(self, 'data'):\n",
        "            delattr(self, 'data')\n",
        "        if hasattr(self, 'y_pred_test'):\n",
        "            delattr(self, 'y_pred_test')\n",
        "        if hasattr(self, 'y_pred_train'):\n",
        "            delattr(self, 'y_pred_train')\n",
        "        if hasattr(self, 'y_proba_test'):\n",
        "            delattr(self, 'y_proba_test') \n",
        "        if hasattr(self, 'y_proba_train'):\n",
        "            delattr(self, 'y_proba_train') \n",
        "        # get model name\n",
        "        model_type = type(self.model)\n",
        "        model_type_str  = str(model_type)\n",
        "        model_name_components = model_type_str.split('.')\n",
        "        model_name = model_name_components[-1].replace(\"'>\",\"\")\n",
        "        # save\n",
        "        import pickle, os\n",
        "        savepath = os.path.join(savedir, model_name+'_eval.pickle')\n",
        "        pickle.dump(self, open(savepath, 'wb'))\n",
        "\n",
        "    def excel_input_array(self):\n",
        "        # TODO: write input validation code\n",
        "        report = [np.mean(self.cross_val_score_),\n",
        "                    np.std(self.cross_val_score_),\n",
        "                    self.score_train,\n",
        "                    self.score_test,\n",
        "                    self.precision_score,\n",
        "                    self.recall_score,\n",
        "                    self.f1_score,\n",
        "                    self.roc_auc_train,\n",
        "                    self.roc_auc_test,\n",
        "                    self.runtime_crossval,\n",
        "                    self.runtime_predict]\n",
        "        print(report)\n",
        "        print(self.model)\n",
        "    \n",
        "    def standard(self, save_dir):\n",
        "        print('\\nloading data from directory')\n",
        "        self.load_data()\n",
        "        print('\\nruning cross validation scores (this takes a while):')\n",
        "        self.cross_val_score(5)\n",
        "        print('\\nfit model...')\n",
        "        self.fitmodel()\n",
        "        print('predict model...')\n",
        "        self.predict()\n",
        "        print('\\naccuracy scores:')\n",
        "        self.accuracy_score()\n",
        "        print('\\nconfusion matrix:')\n",
        "        self.confusion_matrix()\n",
        "        self.display_confusion_matrix()\n",
        "        print('\\nclassification report:')\n",
        "        self.classification_report()\n",
        "        self.print_evaluation_scores()\n",
        "        print('\\nreal data class proba:')\n",
        "        self.test_data_class_proba()\n",
        "        print('\\n prediction proba:')\n",
        "        self.predict_proba()\n",
        "        print('\\nproba threshold analysis:')\n",
        "        self.proba_thresholds()\n",
        "        print('\\nROC AUC analysis:')\n",
        "        self.roc_auc()\n",
        "        print('\\nSaving model...')\n",
        "        self.save(save_dir)\n",
        "        print('\\nexcel record:')\n",
        "        self.excel_input_array()\n",
        "\n",
        "\n"
      ],
      "execution_count": 2,
      "outputs": [
        {
          "output_type": "stream",
          "text": [
            "import functions\n"
          ],
          "name": "stdout"
        }
      ]
    },
    {
      "cell_type": "code",
      "metadata": {
        "id": "9dePKc40gzc7",
        "colab_type": "code",
        "colab": {}
      },
      "source": [
        "# get files from google drive\n",
        "print('loading data to data dictionary')\n",
        "datatype = ['X_train','X_test','y_train','y_test']\n",
        "dataname = 'nutcracker'\n",
        "data = dict()\n",
        "for i, dname in enumerate(datatype):\n",
        "    print(f'loading file: {i}', end='\\r')\n",
        "    filename = dataname + '_' + dname + '.csv'\n",
        "    filepath = os.path.join(file_dir, filename)\n",
        "    data[dname] = np.loadtxt(filepath, delimiter=',')\n",
        "print('loading completed')\n",
        "# print the array shape to confirm successful loading\n",
        "print(data['X_train'].shape)\n",
        "# report time run\n",
        "print(f'last ran on: {datetime.datetime.now()} PT')"
      ],
      "execution_count": null,
      "outputs": []
    },
    {
      "cell_type": "markdown",
      "metadata": {
        "id": "pvTffNT5g9n4",
        "colab_type": "text"
      },
      "source": [
        "## untuned model"
      ]
    },
    {
      "cell_type": "code",
      "metadata": {
        "id": "uXFC-YBEfrtg",
        "colab_type": "code",
        "colab": {}
      },
      "source": [
        "from sklearn.ensemble import RandomForestClassifier"
      ],
      "execution_count": null,
      "outputs": []
    },
    {
      "cell_type": "code",
      "metadata": {
        "id": "bK9Y5VWpfrtj",
        "colab_type": "code",
        "colab": {},
        "outputId": "27dae582-3519-4b7f-dd45-36d2806e993e"
      },
      "source": [
        "# run a simple one\n",
        "my_model = RandomForestClassifier(n_estimators=10, random_state=318)\n",
        "my_model.fit(X_train, y_train)\n",
        "\n",
        "print(f'train score: {my_model.score(X_train, y_train)}')\n",
        "print(f'test score: {my_model.score(X_test, y_test)}')"
      ],
      "execution_count": null,
      "outputs": [
        {
          "output_type": "stream",
          "text": [
            "train score: 0.9918475\n",
            "test score: 0.881155\n"
          ],
          "name": "stdout"
        }
      ]
    },
    {
      "cell_type": "markdown",
      "metadata": {
        "id": "XVbSDjypfrtm",
        "colab_type": "text"
      },
      "source": [
        "Random forest is a lot better! Just a bit over fitting with 10 estimators."
      ]
    },
    {
      "cell_type": "markdown",
      "metadata": {
        "id": "uHC0nZQVfrtm",
        "colab_type": "text"
      },
      "source": [
        "Run a range of it"
      ]
    },
    {
      "cell_type": "markdown",
      "metadata": {
        "id": "Va7Qhq3UhQez",
        "colab_type": "text"
      },
      "source": [
        "## estimators 1-52\n",
        "over 10-20 seems to be reaching plataeu"
      ]
    },
    {
      "cell_type": "code",
      "metadata": {
        "id": "w2-U_ZE_frtn",
        "colab_type": "code",
        "colab": {}
      },
      "source": [
        "# run 52 estimators\n",
        "estimator_number = list(range(1, 52))\n",
        "train_scores = []\n",
        "test_scores = []\n",
        "\n",
        "\n",
        "for number in estimator_number:\n",
        "    my_model = RandomForestClassifier(n_estimators=number, random_state=318)\n",
        "    my_model.fit(X_train, y_train)\n",
        "\n",
        "    train_scores.append(my_model.score(X_train, y_train))\n",
        "    test_scores.append(my_model.score(X_test, y_test))\n",
        "    \n",
        "    print(f'finished {number} estimators', end='\\r')"
      ],
      "execution_count": null,
      "outputs": []
    },
    {
      "cell_type": "markdown",
      "metadata": {
        "id": "hRMgJUsrfrtq",
        "colab_type": "text"
      },
      "source": [
        "Ran 52 estimators and then stuck for a day without any movemnent."
      ]
    },
    {
      "cell_type": "code",
      "metadata": {
        "id": "92Bbpis-frtr",
        "colab_type": "code",
        "colab": {},
        "outputId": "7ab0cacc-8be4-41eb-a48f-06ecd33c5806"
      },
      "source": [
        "len(test_scores)"
      ],
      "execution_count": null,
      "outputs": [
        {
          "output_type": "execute_result",
          "data": {
            "text/plain": [
              "52"
            ]
          },
          "metadata": {
            "tags": []
          },
          "execution_count": 10
        }
      ]
    },
    {
      "cell_type": "code",
      "metadata": {
        "id": "bMDBW0MQfrtu",
        "colab_type": "code",
        "colab": {},
        "outputId": "7e14f20b-b936-4d34-babd-c3f8b42b8b68"
      },
      "source": [
        "estimator_number = np.arange(52)\n",
        "len(estimator_number)"
      ],
      "execution_count": null,
      "outputs": [
        {
          "output_type": "execute_result",
          "data": {
            "text/plain": [
              "52"
            ]
          },
          "metadata": {
            "tags": []
          },
          "execution_count": 16
        }
      ]
    },
    {
      "cell_type": "code",
      "metadata": {
        "id": "L0kXd0qQfrtx",
        "colab_type": "code",
        "colab": {},
        "outputId": "aac2aedf-2ce7-423b-ba3b-c3274fab4f6f"
      },
      "source": [
        "plt.figure()\n",
        "plt.plot(estimator_number, train_scores, label=\"Train\")\n",
        "plt.plot(estimator_number, test_scores, label=\"Test\")\n",
        "plt.xlabel(\"Estimator number\")\n",
        "plt.ylabel(\"Accuracy\")\n",
        "plt.legend()\n",
        "plt.show()"
      ],
      "execution_count": null,
      "outputs": [
        {
          "output_type": "display_data",
          "data": {
            "image/png": "[encoded data removed]",
            "text/plain": [
              "<Figure size 432x288 with 1 Axes>"
            ]
          },
          "metadata": {
            "tags": [],
            "needs_background": "light"
          }
        }
      ]
    },
    {
      "cell_type": "markdown",
      "metadata": {
        "id": "jBDMe6v6frt1",
        "colab_type": "text"
      },
      "source": [
        "A lot of overfitting and maxed out at around 10 estimators. Need to be tuned."
      ]
    },
    {
      "cell_type": "markdown",
      "metadata": {
        "id": "uhds1z1wiUpE",
        "colab_type": "text"
      },
      "source": [
        "## n_estimators 3 - 100, max_features"
      ]
    },
    {
      "cell_type": "markdown",
      "metadata": {
        "id": "pQ3ZBR_Pfrt1",
        "colab_type": "text"
      },
      "source": [
        "Run rough tuning: "
      ]
    },
    {
      "cell_type": "code",
      "metadata": {
        "id": "Kq9vYjbFfrt2",
        "colab_type": "code",
        "colab": {},
        "outputId": "940636f9-1476-4973-ceca-6849851bc04b"
      },
      "source": [
        "# example of grid searching key hyperparameters for RandomForestClassifier\n",
        "from sklearn.model_selection import RepeatedStratifiedKFold\n",
        "from sklearn.model_selection import GridSearchCV\n",
        "from sklearn.ensemble import RandomForestClassifier\n",
        "\n",
        "\n",
        "# get standard machine learning input data\n",
        "from brainstation_capstone.etl.datatransform import Nutcracker\n",
        "X_train, X_test, y_train, y_test = Nutcracker(localpaths['datapath']).mldata(feature_reduction='None')\n",
        "\n",
        "# define models and parameters\n",
        "model = RandomForestClassifier()\n",
        "n_estimators = [3, 5, 10, 50, 100]\n",
        "max_features = ['sqrt', 'log2']\n",
        "n_splits = 5\n",
        "cv = 5 # cv = RepeatedStratifiedKFold(n_splits=5, n_repeats=3, random_state=318)\n",
        "\n",
        "# define grid search\n",
        "grid = dict(n_estimators=n_estimators, max_features=max_features)\n",
        "grid_search = GridSearchCV(estimator=model, param_grid=grid, n_jobs=-1, \n",
        "                           cv=cv, scoring='accuracy', error_score=0)\n",
        "grid_result = grid_search.fit(X_train, y_train)\n",
        "\n",
        "# summarize results\n",
        "print(\"Best: %f using %s\" % (grid_result.best_score_, grid_result.best_params_))\n",
        "means = grid_result.cv_results_['mean_test_score']\n",
        "stds = grid_result.cv_results_['std_test_score']\n",
        "params = grid_result.cv_results_['params']\n",
        "for mean, stdev, param in zip(means, stds, params):\n",
        "    print(\"%f (%f) with: %r\" % (mean, stdev, param))"
      ],
      "execution_count": null,
      "outputs": [
        {
          "output_type": "stream",
          "text": [
            "Best: 0.892502 using {'max_features': 'sqrt', 'n_estimators': 100}\n",
            "0.858902 (0.001519) with: {'max_features': 'sqrt', 'n_estimators': 3}\n",
            "0.871069 (0.000546) with: {'max_features': 'sqrt', 'n_estimators': 5}\n",
            "0.881167 (0.000331) with: {'max_features': 'sqrt', 'n_estimators': 10}\n",
            "0.891103 (0.000267) with: {'max_features': 'sqrt', 'n_estimators': 50}\n",
            "0.892502 (0.000318) with: {'max_features': 'sqrt', 'n_estimators': 100}\n",
            "0.858861 (0.000718) with: {'max_features': 'log2', 'n_estimators': 3}\n",
            "0.871131 (0.000436) with: {'max_features': 'log2', 'n_estimators': 5}\n",
            "0.880914 (0.000214) with: {'max_features': 'log2', 'n_estimators': 10}\n",
            "0.891031 (0.000340) with: {'max_features': 'log2', 'n_estimators': 50}\n",
            "0.892395 (0.000311) with: {'max_features': 'log2', 'n_estimators': 100}\n"
          ],
          "name": "stdout"
        }
      ]
    },
    {
      "cell_type": "markdown",
      "metadata": {
        "id": "Pp29TB3Wibhl",
        "colab_type": "text"
      },
      "source": [
        "May consider changing ccp_alpha to avoid over fitting. for now stick with n_estimator=100, max_features=sqrt"
      ]
    },
    {
      "cell_type": "markdown",
      "metadata": {
        "id": "-5pYiqJ0h5Nh",
        "colab_type": "text"
      },
      "source": [
        "## final eval"
      ]
    },
    {
      "cell_type": "code",
      "metadata": {
        "id": "VXP32PFfiaTL",
        "colab_type": "code",
        "colab": {
          "base_uri": "https://localhost:8080/",
          "height": 207
        },
        "outputId": "10df813c-3cf4-4cb2-a697-270215f33b80"
      },
      "source": [
        "data_dir = file_dir\n",
        "from sklearn.ensemble import RandomForestClassifier\n",
        "model = RandomForestClassifier(random_state=318, max_features='sqrt', n_estimators=100)\n",
        "model_eval = ModelEvaluation(model, data_dir)\n",
        "model_eval.standard(data_dir)"
      ],
      "execution_count": null,
      "outputs": [
        {
          "output_type": "stream",
          "text": [
            "\n",
            "loading data from directory\n",
            "loading 4 files\n",
            "\n",
            "loading completed\n",
            "\n",
            "runing cross validation scores (this takes a while):\n",
            "timer starts\n"
          ],
          "name": "stdout"
        },
        {
          "output_type": "stream",
          "text": [
            "/usr/local/lib/python3.6/dist-packages/sklearn/model_selection/_validation.py:515: DataConversionWarning: A column-vector y was passed when a 1d array was expected. Please change the shape of y to (n_samples,), for example using ravel().\n",
            "  estimator.fit(X_train, y_train, **fit_params)\n"
          ],
          "name": "stderr"
        }
      ]
    },
    {
      "cell_type": "code",
      "metadata": {
        "id": "Mv6abDDaiuHq",
        "colab_type": "code",
        "colab": {}
      },
      "source": [
        ""
      ],
      "execution_count": null,
      "outputs": []
    }
  ]
}