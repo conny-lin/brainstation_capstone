{
  "nbformat": 4,
  "nbformat_minor": 0,
  "metadata": {
    "colab": {
      "name": "BaggingClassifier_nutcracker_colab.ipynb",
      "provenance": [],
      "collapsed_sections": []
    },
    "kernelspec": {
      "name": "python3",
      "display_name": "Python 3"
    }
  },
  "cells": [
    {
      "cell_type": "markdown",
      "metadata": {
        "id": "d1mtUNSLTKkw",
        "colab_type": "text"
      },
      "source": [
        "BaggingClassifier\n",
        "https://scikit-learn.org/stable/modules/generated/sklearn.ensemble.BaggingClassifier.html"
      ]
    },
    {
      "cell_type": "code",
      "metadata": {
        "id": "BgaxAZtQ1bCe",
        "colab_type": "code",
        "colab": {
          "base_uri": "https://localhost:8080/",
          "height": 54
        },
        "outputId": "a5bfd4bc-ab29-46f1-fcb5-0efe0dfb6f30"
      },
      "source": [
        "# connect to google drive\n",
        "from google.colab import drive\n",
        "drive.mount('/content/gdrive')"
      ],
      "execution_count": 7,
      "outputs": [
        {
          "output_type": "stream",
          "text": [
            "Drive already mounted at /content/gdrive; to attempt to forcibly remount, call drive.mount(\"/content/gdrive\", force_remount=True).\n"
          ],
          "name": "stdout"
        }
      ]
    },
    {
      "cell_type": "code",
      "metadata": {
        "id": "1KhdXyHk1h1I",
        "colab_type": "code",
        "colab": {}
      },
      "source": [
        "file_dir = '/content/gdrive/My Drive/ED Brain Station/data'\n",
        "import pandas as pd\n",
        "import numpy as np\n",
        "import os"
      ],
      "execution_count": 1,
      "outputs": []
    },
    {
      "cell_type": "code",
      "metadata": {
        "id": "eyYjJ8fb1lF9",
        "colab_type": "code",
        "colab": {
          "base_uri": "https://localhost:8080/",
          "height": 34
        },
        "outputId": "381eaa20-8edf-4ccd-8560-c1e42b5b532f"
      },
      "source": [
        "# get files from google drive\n",
        "# load array\n",
        "X = np.loadtxt(os.path.join(file_dir, 'nutcracker_X_train.csv'), delimiter=',')\n",
        "y = np.loadtxt(os.path.join(file_dir, 'nutcracker_y_train.csv'), delimiter=',')\n",
        "\n",
        "X_test = np.loadtxt(os.path.join(file_dir, 'nutcracker_X_test.csv'), delimiter=',')\n",
        "y_test = np.loadtxt(os.path.join(file_dir, 'nutcracker_y_test.csv'), delimiter=',')\n",
        "\n",
        "# print the array\n",
        "print(X.shape)"
      ],
      "execution_count": 2,
      "outputs": [
        {
          "output_type": "stream",
          "text": [
            "(1600000, 21)\n"
          ],
          "name": "stdout"
        }
      ]
    },
    {
      "cell_type": "code",
      "metadata": {
        "id": "Dq65T9ZPJ2Gl",
        "colab_type": "code",
        "colab": {
          "base_uri": "https://localhost:8080/",
          "height": 51
        },
        "outputId": "7459ff98-355f-473e-bba0-a9931a3bff68"
      },
      "source": [
        "# untuned\n",
        "from sklearn.model_selection import GridSearchCV\n",
        "from sklearn.ensemble import BaggingClassifier\n",
        "\n",
        "model = BaggingClassifier(random_state=318)\n",
        "model.fit(X,y)\n",
        "print(f'train score: {model.score(X, y)}')\n",
        "print(f'test score: {model.score(X_test, y_test)}')"
      ],
      "execution_count": 3,
      "outputs": [
        {
          "output_type": "stream",
          "text": [
            "train score: 0.991789375\n",
            "test score: 0.8857725\n"
          ],
          "name": "stdout"
        }
      ]
    },
    {
      "cell_type": "markdown",
      "metadata": {
        "id": "vw7Kj40iRaTG",
        "colab_type": "text"
      },
      "source": [
        "train score: 0.991789375\n",
        "test score: 0.8857725\n",
        "from untuned model.\n",
        "\n",
        "Try 3 n_estimators and time how long it would take."
      ]
    },
    {
      "cell_type": "code",
      "metadata": {
        "id": "HcTkEeaARVTO",
        "colab_type": "code",
        "colab": {
          "base_uri": "https://localhost:8080/",
          "height": 387
        },
        "outputId": "2e12ec5d-ee94-440e-895d-1a6eae9b61ad"
      },
      "source": [
        "from sklearn.model_selection import GridSearchCV\n",
        "from sklearn.ensemble import BaggingClassifier\n",
        "import time\n",
        "import matplotlib.pyplot as plt\n",
        "\n",
        "n_estimators = [2,3]\n",
        "train_score_list = []\n",
        "test_score_list = []\n",
        "for n in n_estimators:\n",
        "  start_time = time.time()\n",
        "  model = BaggingClassifier(random_state=318, n_estimators=n)\n",
        "  print(f'fitting {n} estimators')\n",
        "  model.fit(X,y)\n",
        "  train_score = model.score(X, y)\n",
        "  train_score_list.append(train_score)\n",
        "  print(f'train score: {train_score}')\n",
        "  test_score = model.score(X_test, y_test)\n",
        "  test_score_list.append(test_score)\n",
        "  print(f'test score: {test_score}')\n",
        "  print(f'took {time.time()-start_time)/60:.2f}min')\n",
        "\n",
        "plt.figure()\n",
        "plt.plot(n_estimators, train_score_list, color='blue', label='train')\n",
        "plt.plot(n_estimators, test_score_list, color='red', label='test')\n",
        "plt.legend()\n",
        "plt.show()"
      ],
      "execution_count": 4,
      "outputs": [
        {
          "output_type": "stream",
          "text": [
            "fitting 2 estimators\n",
            "train score: 0.93954125\n",
            "test score: 0.840905\n",
            "fitting 3 estimators\n",
            "train score: 0.973973125\n"
          ],
          "name": "stdout"
        },
        {
          "output_type": "stream",
          "text": [
            "No handles with labels found to put in legend.\n"
          ],
          "name": "stderr"
        },
        {
          "output_type": "stream",
          "text": [
            "test score: 0.8663525\n"
          ],
          "name": "stdout"
        },
        {
          "output_type": "display_data",
          "data": {
            "image/png": "[encoded data removed]",
            "text/plain": [
              "<Figure size 432x288 with 1 Axes>"
            ]
          },
          "metadata": {
            "tags": [],
            "needs_background": "light"
          }
        }
      ]
    },
    {
      "cell_type": "markdown",
      "metadata": {
        "id": "2B7p_7VcT9Uf",
        "colab_type": "text"
      },
      "source": [
        "seems like n_estimator 3 is better than 2. Takes a while to run though."
      ]
    },
    {
      "cell_type": "code",
      "metadata": {
        "id": "iGriPnmjUEfI",
        "colab_type": "code",
        "colab": {
          "base_uri": "https://localhost:8080/",
          "height": 1000
        },
        "outputId": "c9402473-c250-4600-f6bc-9c357fb2bc8f"
      },
      "source": [
        "from sklearn.model_selection import GridSearchCV\n",
        "from sklearn.ensemble import BaggingClassifier\n",
        "import time\n",
        "import matplotlib.pyplot as plt\n",
        "\n",
        "n_estimators = [4,5,6]\n",
        "train_score_list = []\n",
        "test_score_list = []\n",
        "for n in n_estimators:\n",
        "  start_time = time.time()\n",
        "  model = BaggingClassifier(random_state=318, n_estimators=n, verbose=3)\n",
        "  print(f'fitting {n} estimators')\n",
        "  model.fit(X,y)\n",
        "  train_score = model.score(X, y)\n",
        "  train_score_list.append(train_score)\n",
        "  print(f'train score: {train_score}')\n",
        "  test_score = model.score(X_test, y_test)\n",
        "  test_score_list.append(test_score)\n",
        "  print(f'test score: {test_score}')\n",
        "  print(f'took {(time.time()-start_time)/60:.2f}min')\n",
        "\n",
        "plt.figure()\n",
        "plt.plot(n_estimators, train_score_list, color='blue', label='train')\n",
        "plt.plot(n_estimators, test_score_list, color='red', label='test')\n",
        "plt.legend()\n",
        "plt.show()"
      ],
      "execution_count": 6,
      "outputs": [
        {
          "output_type": "stream",
          "text": [
            "fitting 4 estimators\n",
            "Building estimator 1 of 4 for this parallel run (total 4)...\n"
          ],
          "name": "stdout"
        },
        {
          "output_type": "stream",
          "text": [
            "[Parallel(n_jobs=1)]: Using backend SequentialBackend with 1 concurrent workers.\n"
          ],
          "name": "stderr"
        },
        {
          "output_type": "stream",
          "text": [
            "Building estimator 2 of 4 for this parallel run (total 4)...\n",
            "Building estimator 3 of 4 for this parallel run (total 4)...\n",
            "Building estimator 4 of 4 for this parallel run (total 4)...\n"
          ],
          "name": "stdout"
        },
        {
          "output_type": "stream",
          "text": [
            "[Parallel(n_jobs=1)]: Done   1 out of   1 | elapsed:  3.5min remaining:    0.0s\n",
            "[Parallel(n_jobs=1)]: Done   1 out of   1 | elapsed:  3.5min finished\n",
            "[Parallel(n_jobs=1)]: Using backend SequentialBackend with 1 concurrent workers.\n",
            "[Parallel(n_jobs=1)]: Done   1 out of   1 | elapsed:    5.4s remaining:    0.0s\n",
            "[Parallel(n_jobs=1)]: Done   1 out of   1 | elapsed:    5.4s finished\n"
          ],
          "name": "stderr"
        },
        {
          "output_type": "stream",
          "text": [
            "train score: 0.972693125\n"
          ],
          "name": "stdout"
        },
        {
          "output_type": "stream",
          "text": [
            "[Parallel(n_jobs=1)]: Using backend SequentialBackend with 1 concurrent workers.\n",
            "[Parallel(n_jobs=1)]: Done   1 out of   1 | elapsed:    1.4s remaining:    0.0s\n",
            "[Parallel(n_jobs=1)]: Done   1 out of   1 | elapsed:    1.4s finished\n"
          ],
          "name": "stderr"
        },
        {
          "output_type": "stream",
          "text": [
            "test score: 0.8693125\n",
            "took 3.61min\n",
            "fitting 5 estimators\n",
            "Building estimator 1 of 5 for this parallel run (total 5)...\n"
          ],
          "name": "stdout"
        },
        {
          "output_type": "stream",
          "text": [
            "[Parallel(n_jobs=1)]: Using backend SequentialBackend with 1 concurrent workers.\n"
          ],
          "name": "stderr"
        },
        {
          "output_type": "stream",
          "text": [
            "Building estimator 2 of 5 for this parallel run (total 5)...\n",
            "Building estimator 3 of 5 for this parallel run (total 5)...\n",
            "Building estimator 4 of 5 for this parallel run (total 5)...\n",
            "Building estimator 5 of 5 for this parallel run (total 5)...\n"
          ],
          "name": "stdout"
        },
        {
          "output_type": "stream",
          "text": [
            "[Parallel(n_jobs=1)]: Done   1 out of   1 | elapsed:  4.3min remaining:    0.0s\n",
            "[Parallel(n_jobs=1)]: Done   1 out of   1 | elapsed:  4.3min finished\n",
            "[Parallel(n_jobs=1)]: Using backend SequentialBackend with 1 concurrent workers.\n",
            "[Parallel(n_jobs=1)]: Done   1 out of   1 | elapsed:    6.6s remaining:    0.0s\n",
            "[Parallel(n_jobs=1)]: Done   1 out of   1 | elapsed:    6.6s finished\n"
          ],
          "name": "stderr"
        },
        {
          "output_type": "stream",
          "text": [
            "train score: 0.98474625\n"
          ],
          "name": "stdout"
        },
        {
          "output_type": "stream",
          "text": [
            "[Parallel(n_jobs=1)]: Using backend SequentialBackend with 1 concurrent workers.\n",
            "[Parallel(n_jobs=1)]: Done   1 out of   1 | elapsed:    1.6s remaining:    0.0s\n",
            "[Parallel(n_jobs=1)]: Done   1 out of   1 | elapsed:    1.6s finished\n",
            "[Parallel(n_jobs=1)]: Using backend SequentialBackend with 1 concurrent workers.\n"
          ],
          "name": "stderr"
        },
        {
          "output_type": "stream",
          "text": [
            "test score: 0.8773475\n",
            "took 4.48min\n",
            "fitting 6 estimators\n",
            "Building estimator 1 of 6 for this parallel run (total 6)...\n",
            "Building estimator 2 of 6 for this parallel run (total 6)...\n",
            "Building estimator 3 of 6 for this parallel run (total 6)...\n",
            "Building estimator 4 of 6 for this parallel run (total 6)...\n",
            "Building estimator 5 of 6 for this parallel run (total 6)...\n",
            "Building estimator 6 of 6 for this parallel run (total 6)...\n"
          ],
          "name": "stdout"
        },
        {
          "output_type": "stream",
          "text": [
            "[Parallel(n_jobs=1)]: Done   1 out of   1 | elapsed:  5.3min remaining:    0.0s\n",
            "[Parallel(n_jobs=1)]: Done   1 out of   1 | elapsed:  5.3min finished\n",
            "[Parallel(n_jobs=1)]: Using backend SequentialBackend with 1 concurrent workers.\n",
            "[Parallel(n_jobs=1)]: Done   1 out of   1 | elapsed:    8.0s remaining:    0.0s\n",
            "[Parallel(n_jobs=1)]: Done   1 out of   1 | elapsed:    8.0s finished\n"
          ],
          "name": "stderr"
        },
        {
          "output_type": "stream",
          "text": [
            "train score: 0.98349125\n"
          ],
          "name": "stdout"
        },
        {
          "output_type": "stream",
          "text": [
            "[Parallel(n_jobs=1)]: Using backend SequentialBackend with 1 concurrent workers.\n",
            "[Parallel(n_jobs=1)]: Done   1 out of   1 | elapsed:    2.0s remaining:    0.0s\n",
            "[Parallel(n_jobs=1)]: Done   1 out of   1 | elapsed:    2.0s finished\n"
          ],
          "name": "stderr"
        },
        {
          "output_type": "stream",
          "text": [
            "test score: 0.87857\n",
            "took 5.48min\n"
          ],
          "name": "stdout"
        },
        {
          "output_type": "display_data",
          "data": {
            "image/png": "[encoded data removed]",
            "text/plain": [
              "<Figure size 432x288 with 1 Axes>"
            ]
          },
          "metadata": {
            "tags": [],
            "needs_background": "light"
          }
        }
      ]
    },
    {
      "cell_type": "markdown",
      "metadata": {
        "id": "Ytl8Fbcq3nUN",
        "colab_type": "text"
      },
      "source": [
        "running starts 2020 June 17, 22:20"
      ]
    },
    {
      "cell_type": "code",
      "metadata": {
        "id": "ZVFJzEcb1lKy",
        "colab_type": "code",
        "colab": {
          "base_uri": "https://localhost:8080/",
          "height": 122
        },
        "outputId": "95e7881d-252b-4681-fee7-cfe48d2a4f2e"
      },
      "source": [
        "# example of grid searching key hyperparameters for BaggingClassifier\n",
        "from sklearn.model_selection import GridSearchCV\n",
        "from sklearn.ensemble import BaggingClassifier\n",
        "\n",
        "# define models and parameters\n",
        "# define models and parameters\n",
        "model = BaggingClassifier()\n",
        "n_estimators = [5, 10, 20, 50, 100, 200]\n",
        "random_state = [318]\n",
        "grid = dict(n_estimators=n_estimators, random_state=random_state)\n",
        "\n",
        "# define grid search\n",
        "cv = 5 # cv = RepeatedStratifiedKFold(n_splits=10, n_repeats=3, random_state=1)\n",
        "grid_search = GridSearchCV(estimator=model, param_grid=grid, n_jobs=-1, \n",
        "                           cv=cv, scoring='accuracy',error_score=0, verbose=5)\n",
        "\n",
        "# define grid search\n",
        "cv=5 #cv = RepeatedStratifiedKFold(n_splits=10, n_repeats=3, random_state=1)\n",
        "grid_search = GridSearchCV(estimator=model, param_grid=grid, n_jobs=-1, cv=cv, \n",
        "                           scoring='accuracy',error_score=0, verbose=5)\n",
        "grid_result = grid_search.fit(X, y)\n",
        "# summarize results\n",
        "means = grid_result.cv_results_['mean_test_score']\n",
        "stds = grid_result.cv_results_['std_test_score']\n",
        "params = grid_result.cv_results_['params']\n",
        "for mean, stdev, param in zip(means, stds, params):\n",
        "    print(\"%f (%f) with: %r\" % (mean, stdev, param))\n",
        "print(\"Best: %f using %s\" % (grid_result.best_score_, grid_result.best_params_))\n"
      ],
      "execution_count": null,
      "outputs": [
        {
          "output_type": "stream",
          "text": [
            "Fitting 5 folds for each of 6 candidates, totalling 30 fits\n"
          ],
          "name": "stdout"
        },
        {
          "output_type": "stream",
          "text": [
            "[Parallel(n_jobs=-1)]: Using backend LokyBackend with 2 concurrent workers.\n",
            "/usr/local/lib/python3.6/dist-packages/joblib/externals/loky/process_executor.py:691: UserWarning: A worker stopped while some jobs were given to the executor. This can be caused by a too short worker timeout or by a memory leak.\n",
            "  \"timeout or by a memory leak.\", UserWarning\n",
            "[Parallel(n_jobs=-1)]: Done  14 tasks      | elapsed: 83.5min\n"
          ],
          "name": "stderr"
        }
      ]
    },
    {
      "cell_type": "code",
      "metadata": {
        "id": "reRo3_Me1lWc",
        "colab_type": "code",
        "colab": {}
      },
      "source": [
        ""
      ],
      "execution_count": null,
      "outputs": []
    },
    {
      "cell_type": "code",
      "metadata": {
        "id": "w8H-I--c1lTl",
        "colab_type": "code",
        "colab": {}
      },
      "source": [
        ""
      ],
      "execution_count": null,
      "outputs": []
    },
    {
      "cell_type": "code",
      "metadata": {
        "id": "o-KXJHDk1lQl",
        "colab_type": "code",
        "colab": {}
      },
      "source": [
        ""
      ],
      "execution_count": null,
      "outputs": []
    }
  ]
}