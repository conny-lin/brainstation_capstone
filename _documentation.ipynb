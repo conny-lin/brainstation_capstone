{
 "cells": [
  {
   "cell_type": "markdown",
   "metadata": {},
   "source": [
    "# Documentation on sequences of events\n",
    "Conny Lin | June 4, 2020\n"
   ]
  },
  {
   "cell_type": "markdown",
   "metadata": {},
   "source": [
    "# Questions\n",
    "* Can I predict which worm is on ethanol plate by it's behavior before the first tap?\n",
    "* Can I predict which worm is on ethanol plate by it's behavior?\n",
    "* Can I predict which worm is on ethanol plate by it's image and behavior?\n",
    "* Can I predict which tap number the worm is reacting to by it's behavior before and after the tap? \n",
    "    * for wildtype\n",
    "    * for ethanol vs non ethanol\n",
    "    * for mutants?"
   ]
  },
  {
   "cell_type": "code",
   "execution_count": null,
   "metadata": {},
   "outputs": [],
   "source": [
    "pMWTDB = '/Users/connylin/Dropbox/MWT/db/MWTDB.csv'\n",
    "pCapstone = '/Users/connylin/Dropbox/CA/ED _20200119 Brain Station Data Science Diploma/Capstone/data'"
   ]
  },
  {
   "cell_type": "markdown",
   "metadata": {},
   "source": [
    "# 1. MWTDB"
   ]
  },
  {
   "cell_type": "code",
   "execution_count": null,
   "metadata": {},
   "outputs": [],
   "source": []
  },
  {
   "cell_type": "markdown",
   "metadata": {},
   "source": [
    "### DONE\n",
    "* make_MWTDB : make MWTDB from paths in hard drive - a suite of MWTDB functions are now located in BrainStationCapstone.py"
   ]
  },
  {
   "cell_type": "markdown",
   "metadata": {},
   "source": [
    "# 2. prepare data\n",
    "\n",
    "**Issues**\n",
    "* worm plates that have trinity raw data still (not converted to .mat) tend to be the experiments that are not being analyzed in my PhD. The data of good plates are actually in the good data.\n",
    "\n",
    "**Done**\n",
    "* \"get_individual_worm_data_exploratory.ipynb\": explore ways to collect data, also created db for target data.\n",
    "* \"concat_trinity_per_plate.ipynb\": concatenate individual worm trinity.id.dat files and save it to pickle file: . Worm number is extracted worm numbers from file name and attach it to the end of the file.\n",
    "* move_trinitydata2dropbox.ipynb: copy trinity summary files to dropbox for faster and mult-computer access.\n",
    "* convert_trinitymat2csv.m: extract trinitySummary.mat to two files:\n",
    "    * 1 - trinity.csv concated all individual worm files, \n",
    "    * 2 - trinitymeta.csv with wormid and row number of each worm files"
   ]
  },
  {
   "cell_type": "markdown",
   "metadata": {},
   "source": [
    "### In progress\n",
    "\n",
    "**Running**\n",
    "\n",
    "* convert_trinitymatcsv.ipynb : make sure all data in dropbox are now trinity_cleaned.csv\n",
    "\n",
    "**Coding**\n",
    "* ETL_trinity_predictetoh_before_tap : get worm behavior data from trinity_clean.csv\n",
    "    * only from wildtype\n",
    "    * only from before first tap\n",
    "    * only from 400mM and 0mM groups\n",
    "    * only before first tap\n",
    "* \"ETL_trinity.ipynb\": prepare the data into machine learning ready format. \n",
    "    * Extract data from individual plates, label with plate index in the plate db, and group name. - done with each individual files, but each file is 100MB * 800 = 80GB. Won't be able to use them all"
   ]
  },
  {
   "cell_type": "code",
   "execution_count": null,
   "metadata": {},
   "outputs": [],
   "source": [
    "# Can I predict which worm is on ethanol plate by it's behavior before the first tap?\n",
    "# take worm behavior only before the first tap"
   ]
  },
  {
   "cell_type": "markdown",
   "metadata": {},
   "source": [
    "### Parked\n",
    "* ETL_worm_image.ipynb: get individual worm image from a plate and the x, y axis of the worm. Find plate images and see if can match it using x y axis of a worm."
   ]
  },
  {
   "cell_type": "markdown",
   "metadata": {},
   "source": [
    "### Discarded:\n",
    "* convert_trinitymat2csv2pickle.ipynb: combine trinity.csv and trinitymeta.csv into one pickle file and store in dropbox db\n"
   ]
  },
  {
   "cell_type": "markdown",
   "metadata": {},
   "source": [
    "# 3. Machine Learning"
   ]
  },
  {
   "cell_type": "code",
   "execution_count": null,
   "metadata": {},
   "outputs": [],
   "source": []
  },
  {
   "cell_type": "code",
   "execution_count": null,
   "metadata": {},
   "outputs": [],
   "source": []
  },
  {
   "cell_type": "markdown",
   "metadata": {},
   "source": [
    "## Test"
   ]
  },
  {
   "cell_type": "markdown",
   "metadata": {},
   "source": []
  },
  {
   "cell_type": "code",
   "execution_count": null,
   "metadata": {},
   "outputs": [],
   "source": []
  },
  {
   "cell_type": "code",
   "execution_count": null,
   "metadata": {},
   "outputs": [],
   "source": []
  }
 ],
 "metadata": {
  "kernelspec": {
   "display_name": "Python 3",
   "language": "python",
   "name": "python3"
  },
  "language_info": {
   "codemirror_mode": {
    "name": "ipython",
    "version": 3
   },
   "file_extension": ".py",
   "mimetype": "text/x-python",
   "name": "python",
   "nbconvert_exporter": "python",
   "pygments_lexer": "ipython3",
   "version": "3.7.7"
  }
 },
 "nbformat": 4,
 "nbformat_minor": 4
}
