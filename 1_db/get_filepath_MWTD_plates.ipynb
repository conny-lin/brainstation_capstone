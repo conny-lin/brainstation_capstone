{
 "cells": [
  {
   "cell_type": "code",
   "execution_count": 13,
   "metadata": {},
   "outputs": [],
   "source": [
    "# get all MWT plate paths\n",
    "# Conny Lin | May 27, 2020\n",
    "# obtain paths of all mwt files in the drive (nested in the proper way)"
   ]
  },
  {
   "cell_type": "code",
   "execution_count": 14,
   "metadata": {},
   "outputs": [],
   "source": [
    "import numpy as np\n",
    "import pandas as pd\n",
    "import os\n",
    "from pathlib import Path\n",
    "from pathlib import PurePath\n",
    "import pathlib\n",
    "import glob\n",
    "import pickle"
   ]
  },
  {
   "cell_type": "code",
   "execution_count": 15,
   "metadata": {},
   "outputs": [],
   "source": [
    "dir_drive = '/Volumes/COBOLT'\n",
    "dir_save = '/Users/connylin/Dropbox/CA/ED _20200119 Brain Station Data Science Diploma/Capstone/data'"
   ]
  },
  {
   "cell_type": "markdown",
   "metadata": {},
   "source": [
    "get files under all MWT folders in dir_drive\n",
    "\n",
    "example path: /Volumes/COBOLT/MWT/20190418X_XX_100s30x10s10s_slo1/VG903_400mM/20190418_141335/VG903_OH_15x3_t96h20C_100s30x10s10s_A_0418_jv410014.png\n",
    "\n",
    "parse the file names into:\n",
    "* extension\n",
    "* filename prefix\n",
    "* filename suffix (e.g. shanespark)\n",
    "* mwt name\n",
    "* group name\n",
    "* expname\n",
    "    * exp date\n",
    "    * tracker\n",
    "    * experimenter\n",
    "    * exp condition\n",
    "        * pre-plate\n",
    "        * taps\n",
    "        * ISI\n",
    "        * post-tap\n",
    "    * exp name tag\n",
    "* MWT DB source (e.g. MWT, MWT bad)"
   ]
  },
  {
   "cell_type": "code",
   "execution_count": 16,
   "metadata": {},
   "outputs": [],
   "source": [
    "# get files under all MWT folders in dir_drive\n",
    "p = Path(dir_drive)"
   ]
  },
  {
   "cell_type": "code",
   "execution_count": 17,
   "metadata": {},
   "outputs": [],
   "source": [
    "# get all MWT folders\n",
    "mwt_folders = glob.glob('/Volumes/COBOLT/MWT*')"
   ]
  },
  {
   "cell_type": "markdown",
   "metadata": {},
   "source": [
    "**Note**: glob [documentation](https://docs.python.org/3/library/glob.html)"
   ]
  },
  {
   "cell_type": "code",
   "execution_count": 18,
   "metadata": {},
   "outputs": [],
   "source": [
    "allfiles = glob.glob('/Volumes/COBOLT/MWT*/*/*/*')"
   ]
  },
  {
   "cell_type": "markdown",
   "metadata": {},
   "source": [
    "save this in pickle file: https://www.jessicayung.com/how-to-use-pickle-to-save-and-load-variables-in-python/\n",
    "\n",
    "to load:\n",
    "\n",
    "`with open(filename, ‘rb’) as f:`\n",
    "\n",
    "`var_you_want_to_load_into = pickle.load(f)`"
   ]
  },
  {
   "cell_type": "code",
   "execution_count": 19,
   "metadata": {},
   "outputs": [
    {
     "data": {
      "text/plain": [
       "['/Volumes/COBOLT/MWT/20100201X_JC_0s0x0s0s_EE01013/N2_EE0/20100201_131356',\n",
       " '/Volumes/COBOLT/MWT/20100201X_JC_0s0x0s0s_EE01013/N2_EE10/20100201_132626',\n",
       " '/Volumes/COBOLT/MWT/20100201X_JC_0s0x0s0s_EE01013/N2_EE13/20100201_133819',\n",
       " '/Volumes/COBOLT/MWT/20110906C_SS_10s30x10s10s_incorrectTap/N2/20110906_103005',\n",
       " '/Volumes/COBOLT/MWT/20110906C_SS_10s30x10s10s_incorrectTap/N2/20110906_103622',\n",
       " '/Volumes/COBOLT/MWT/20110906C_SS_10s30x10s10s_incorrectTap/N2/20110906_104314',\n",
       " '/Volumes/COBOLT/MWT/20110906C_SS_10s30x10s10s_incorrectTap/N2/20110906_104922',\n",
       " '/Volumes/COBOLT/MWT/20110906C_SS_10s30x10s10s_incorrectTap/N2_ER3d/20110906_095853',\n",
       " '/Volumes/COBOLT/MWT/20110906C_SS_10s30x10s10s_incorrectTap/N2_ER3d/20110906_100822',\n",
       " '/Volumes/COBOLT/MWT/20110906C_SS_10s30x10s10s_incorrectTap/N2_ER3d/20110906_101440']"
      ]
     },
     "execution_count": 19,
     "metadata": {},
     "output_type": "execute_result"
    }
   ],
   "source": [
    "# check if results are correct\n",
    "allfiles[:10]"
   ]
  },
  {
   "cell_type": "code",
   "execution_count": 20,
   "metadata": {},
   "outputs": [
    {
     "data": {
      "text/plain": [
       "7786"
      ]
     },
     "execution_count": 20,
     "metadata": {},
     "output_type": "execute_result"
    }
   ],
   "source": [
    "# check how many results\n",
    "len(allfiles)"
   ]
  },
  {
   "cell_type": "code",
   "execution_count": 21,
   "metadata": {},
   "outputs": [],
   "source": [
    "path_save = os.path.join(dir_save, 'path_MWT_plates.pickle')\n",
    "with open(path_save,'wb') as f:\n",
    "    pickle.dump(allfiles,f)"
   ]
  },
  {
   "cell_type": "code",
   "execution_count": 22,
   "metadata": {},
   "outputs": [
    {
     "name": "stdout",
     "output_type": "stream",
     "text": [
      "complete\n"
     ]
    }
   ],
   "source": [
    "# save csv\n",
    "print('complete')"
   ]
  },
  {
   "cell_type": "code",
   "execution_count": 23,
   "metadata": {},
   "outputs": [],
   "source": [
    "df = pd.DataFrame(allfiles, columns=['mwtpath'])\n",
    "df.to_csv(os.path.join(dir_save,'path_MWT_plates.csv'))"
   ]
  },
  {
   "cell_type": "code",
   "execution_count": null,
   "metadata": {},
   "outputs": [],
   "source": []
  }
 ],
 "metadata": {
  "kernelspec": {
   "display_name": "Python 3",
   "language": "python",
   "name": "python3"
  },
  "language_info": {
   "codemirror_mode": {
    "name": "ipython",
    "version": 3
   },
   "file_extension": ".py",
   "mimetype": "text/x-python",
   "name": "python",
   "nbconvert_exporter": "python",
   "pygments_lexer": "ipython3",
   "version": "3.7.7"
  }
 },
 "nbformat": 4,
 "nbformat_minor": 4
}
