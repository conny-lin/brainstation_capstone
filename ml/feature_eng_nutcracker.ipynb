{
 "cells": [
  {
   "cell_type": "code",
   "execution_count": null,
   "metadata": {},
   "outputs": [],
   "source": [
    "# feature engineering\n",
    "# Conny Lin | June 14, 2020"
   ]
  },
  {
   "cell_type": "code",
   "execution_count": 2,
   "metadata": {},
   "outputs": [],
   "source": [
    "# computer dependent local variable settings \n",
    "import socket, os\n",
    "# check which computer this code is running on\n",
    "hostname = socket.gethostname().split('.')[0]\n",
    "# set local path settings based on computer host\n",
    "if hostname == 'PFC':\n",
    "    pylibrary = ['/Users/connylin/Dropbox/Code/proj/brainstation_capstone/']\n",
    "    pCapstone = '/Users/connylin/Dropbox/CA/ED _20200119 Brain Station Data Science Diploma/Capstone'\n",
    "    datapath = os.path.join(pCapstone,'data','nutcracker_sample_1Meach.csv')\n",
    "elif hostname == 'Angular Gyrus':\n",
    "    pylibrary = ['/Users/connylin/Code/proj/brainstation_capstone/']\n",
    "    pCapstone = '/Users/connylin/Dropbox/CA/ED _20200119 Brain Station Data Science Diploma/Capstone'\n",
    "    datapath = os.path.join(pCapstone,'data','nutcracker_sample_1Meach.csv')\n",
    "else:\n",
    "    assert False, 'host computer not regonized'\n",
    "    \n",
    "# import standard libraries\n",
    "import sys, pickle, socket\n",
    "import numpy as np\n",
    "import pandas as pd\n",
    "import matplotlib.pyplot as plt\n",
    "# load local libraries\n",
    "for path in pylibrary:\n",
    "    if path not in sys.path:\n",
    "        sys.path.insert(1, path)\n",
    "import BrainStationLib\n",
    "from BrainStationLib.ETL.datatransform import Nutcracker\n",
    "\n",
    "# get machine learning input data\n",
    "NC = Nutcracker(datapath)\n",
    "X_train, X_test, y_train, y_test = NC.mldata()"
   ]
  },
  {
   "cell_type": "code",
   "execution_count": 8,
   "metadata": {},
   "outputs": [],
   "source": [
    "# ML specific \n",
    "outputfolder = os.path.join(pCapstone,'ml_feature_eng')\n",
    "from sklearn.feature_selection import VarianceThreshold\n",
    "from sklearn.linear_model import LogisticRegression"
   ]
  },
  {
   "cell_type": "markdown",
   "metadata": {},
   "source": [
    "Many of the features in nutcracker are calculated to represent similar things"
   ]
  },
  {
   "cell_type": "code",
   "execution_count": 24,
   "metadata": {},
   "outputs": [
    {
     "data": {
      "text/plain": [
       "array(['time', 'persistence', 'area', 'midline', 'morphwidth', 'width',\n",
       "       'relwidth', 'length', 'rellength', 'aspect', 'relaspect', 'kink',\n",
       "       'curve', 'speed', 'angular', 'bias', 'dir', 'vel_x', 'vel_y',\n",
       "       'orient', 'crab'], dtype='<U11')"
      ]
     },
     "execution_count": 24,
     "metadata": {},
     "output_type": "execute_result"
    }
   ],
   "source": [
    "# list features\n",
    "np.array(NC.names['X']).transpose()"
   ]
  },
  {
   "cell_type": "code",
   "execution_count": 25,
   "metadata": {},
   "outputs": [
    {
     "name": "stdout",
     "output_type": "stream",
     "text": [
      "time\n",
      "persistence\n",
      "area\n",
      "midline\n",
      "morphwidth\n",
      "width\n",
      "relwidth\n",
      "length\n",
      "rellength\n",
      "aspect\n",
      "relaspect\n",
      "kink\n",
      "curve\n",
      "speed\n",
      "angular\n",
      "bias\n",
      "dir\n",
      "vel_x\n",
      "vel_y\n",
      "orient\n",
      "crab\n"
     ]
    }
   ],
   "source": [
    "for c in np.array(NC.names['X']).transpose():\n",
    "    print(c)"
   ]
  },
  {
   "cell_type": "markdown",
   "metadata": {},
   "source": [
    "time measures:\n",
    "* time\n",
    "* persistence\n",
    "\n",
    "size measures:\n",
    "area\n",
    "\n",
    "width measures:\n",
    "* midline\n",
    "* morphwidth\n",
    "* width\n",
    "* relwidth\n",
    "\n",
    "length measures:\n",
    "* length\n",
    "* rellength\n",
    "\n",
    "angle measures:\n",
    "* aspect\n",
    "* relaspect\n",
    "* kink\n",
    "* curve\n",
    "\n",
    "movement measures:\n",
    "* speed\n",
    "angular\n",
    "bias\n",
    "dir\n",
    "vel_x\n",
    "vel_y\n",
    "orient\n",
    "crab"
   ]
  },
  {
   "cell_type": "code",
   "execution_count": null,
   "metadata": {},
   "outputs": [],
   "source": []
  },
  {
   "cell_type": "code",
   "execution_count": null,
   "metadata": {},
   "outputs": [],
   "source": [
    "# machine learning - rough try\n",
    "C=0.01\n",
    "random_state = 318\n",
    "max_iter=1000\n",
    "OLS = LogisticRegression(C=C, random_state=random_state, max_iter=max_iter)\n",
    "OLS.fit(X_train, y_train)\n",
    "y_predicted = OLS.predict(X_test)\n",
    "\n",
    "print(f'train score: {OLS.score(X_train,y_train)}')\n",
    "print(f'test score: {OLS.score(X_test,y_test)}')"
   ]
  },
  {
   "cell_type": "code",
   "execution_count": 14,
   "metadata": {},
   "outputs": [],
   "source": [
    "# get dataframe\n",
    "df = pd.DataFrame(X_train, columns=NC.names['X'])"
   ]
  },
  {
   "cell_type": "code",
   "execution_count": 16,
   "metadata": {},
   "outputs": [
    {
     "data": {
      "text/plain": [
       "time            683.353613\n",
       "persistence    7873.363444\n",
       "area              0.001777\n",
       "midline           0.037433\n",
       "morphwidth        0.000944\n",
       "width             0.008478\n",
       "relwidth          0.097917\n",
       "length            0.041411\n",
       "rellength         0.013175\n",
       "aspect            0.015791\n",
       "relaspect         0.160896\n",
       "kink            595.379829\n",
       "curve           100.540799\n",
       "speed             0.013098\n",
       "angular         194.503831\n",
       "bias              0.295370\n",
       "dir               0.003717\n",
       "vel_x             0.022247\n",
       "vel_y             0.022225\n",
       "orient         9826.781548\n",
       "crab              0.000356\n",
       "dtype: float64"
      ]
     },
     "execution_count": 16,
     "metadata": {},
     "output_type": "execute_result"
    }
   ],
   "source": [
    "# get some idea about variance\n",
    "df.var()"
   ]
  },
  {
   "cell_type": "code",
   "execution_count": 14,
   "metadata": {},
   "outputs": [
    {
     "ename": "ValueError",
     "evalue": "No feature in X meets the variance threshold 10000.00000",
     "output_type": "error",
     "traceback": [
      "\u001b[0;31m---------------------------------------------------------------------------\u001b[0m",
      "\u001b[0;31mValueError\u001b[0m                                Traceback (most recent call last)",
      "\u001b[0;32m<ipython-input-14-bc2e96d65e81>\u001b[0m in \u001b[0;36m<module>\u001b[0;34m\u001b[0m\n\u001b[1;32m      6\u001b[0m \u001b[0;34m\u001b[0m\u001b[0m\n\u001b[1;32m      7\u001b[0m \u001b[0;31m# Fit to the data and calculate the variances per column\u001b[0m\u001b[0;34m\u001b[0m\u001b[0;34m\u001b[0m\u001b[0;34m\u001b[0m\u001b[0m\n\u001b[0;32m----> 8\u001b[0;31m \u001b[0mmy_vt\u001b[0m\u001b[0;34m.\u001b[0m\u001b[0mfit\u001b[0m\u001b[0;34m(\u001b[0m\u001b[0mdf\u001b[0m\u001b[0;34m)\u001b[0m\u001b[0;34m\u001b[0m\u001b[0;34m\u001b[0m\u001b[0m\n\u001b[0m\u001b[1;32m      9\u001b[0m \u001b[0;34m\u001b[0m\u001b[0m\n\u001b[1;32m     10\u001b[0m \u001b[0;31m# Extract the variances per column\u001b[0m\u001b[0;34m\u001b[0m\u001b[0;34m\u001b[0m\u001b[0;34m\u001b[0m\u001b[0m\n",
      "\u001b[0;32m~/opt/anaconda3/lib/python3.7/site-packages/sklearn/feature_selection/_variance_threshold.py\u001b[0m in \u001b[0;36mfit\u001b[0;34m(self, X, y)\u001b[0m\n\u001b[1;32m     90\u001b[0m             \u001b[0;32mif\u001b[0m \u001b[0mX\u001b[0m\u001b[0;34m.\u001b[0m\u001b[0mshape\u001b[0m\u001b[0;34m[\u001b[0m\u001b[0;36m0\u001b[0m\u001b[0;34m]\u001b[0m \u001b[0;34m==\u001b[0m \u001b[0;36m1\u001b[0m\u001b[0;34m:\u001b[0m\u001b[0;34m\u001b[0m\u001b[0;34m\u001b[0m\u001b[0m\n\u001b[1;32m     91\u001b[0m                 \u001b[0mmsg\u001b[0m \u001b[0;34m+=\u001b[0m \u001b[0;34m\" (X contains only one sample)\"\u001b[0m\u001b[0;34m\u001b[0m\u001b[0;34m\u001b[0m\u001b[0m\n\u001b[0;32m---> 92\u001b[0;31m             \u001b[0;32mraise\u001b[0m \u001b[0mValueError\u001b[0m\u001b[0;34m(\u001b[0m\u001b[0mmsg\u001b[0m\u001b[0;34m.\u001b[0m\u001b[0mformat\u001b[0m\u001b[0;34m(\u001b[0m\u001b[0mself\u001b[0m\u001b[0;34m.\u001b[0m\u001b[0mthreshold\u001b[0m\u001b[0;34m)\u001b[0m\u001b[0;34m)\u001b[0m\u001b[0;34m\u001b[0m\u001b[0;34m\u001b[0m\u001b[0m\n\u001b[0m\u001b[1;32m     93\u001b[0m \u001b[0;34m\u001b[0m\u001b[0m\n\u001b[1;32m     94\u001b[0m         \u001b[0;32mreturn\u001b[0m \u001b[0mself\u001b[0m\u001b[0;34m\u001b[0m\u001b[0;34m\u001b[0m\u001b[0m\n",
      "\u001b[0;31mValueError\u001b[0m: No feature in X meets the variance threshold 10000.00000"
     ]
    }
   ],
   "source": [
    "# Instantiate the VarianceThresholder \n",
    "my_vt = VarianceThreshold(threshold=var_threshold)\n",
    "\n",
    "# Fit to the data and calculate the variances per column\n",
    "my_vt.fit(df)\n",
    "\n",
    "# Extract the variances per column\n",
    "column_variances = my_vt.variances_.round(2)\n",
    "\n",
    "# Plot with the threshold\n",
    "plt.figure()\n",
    "plt.barh(np.flip(df.columns), np.flip(column_variances))\n",
    "plt.xlabel('Variance ($)')\n",
    "plt.ylabel('Feature')\n",
    "plt.axvline(10000, color='black', linestyle='--')\n",
    "plt.show()"
   ]
  },
  {
   "cell_type": "code",
   "execution_count": null,
   "metadata": {},
   "outputs": [],
   "source": []
  }
 ],
 "metadata": {
  "kernelspec": {
   "display_name": "Python 3",
   "language": "python",
   "name": "python3"
  },
  "language_info": {
   "codemirror_mode": {
    "name": "ipython",
    "version": 3
   },
   "file_extension": ".py",
   "mimetype": "text/x-python",
   "name": "python",
   "nbconvert_exporter": "python",
   "pygments_lexer": "ipython3",
   "version": "3.7.7"
  }
 },
 "nbformat": 4,
 "nbformat_minor": 4
}
