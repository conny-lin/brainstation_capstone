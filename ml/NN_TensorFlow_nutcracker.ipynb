{
 "cells": [
  {
   "cell_type": "markdown",
   "metadata": {},
   "source": [
    "# NN for TensorFlow\n"
   ]
  },
  {
   "cell_type": "markdown",
   "metadata": {},
   "source": [
    "## Set up\n",
    "### Local"
   ]
  },
  {
   "cell_type": "code",
   "execution_count": 1,
   "metadata": {
    "tags": []
   },
   "outputs": [
    {
     "output_type": "stream",
     "name": "stdout",
     "text": "getting host computer specific paths\n"
    }
   ],
   "source": [
    "# import local libraries using host specific paths\n",
    "import socket, sys\n",
    "hostname = socket.gethostname().split('.')[0]\n",
    "# set local path settings based on computer host\n",
    "if hostname == 'PFC':\n",
    "    pylibrary = '/Users/connylin/Dropbox/Code/proj'\n",
    "elif hostname == 'Angular-Gyrus':\n",
    "    pylibrary = '/Users/connylin/Code/proj'\n",
    "else:\n",
    "    assert False, 'host computer not regonized'\n",
    "# load local libraries\n",
    "if pylibrary not in sys.path:\n",
    "    sys.path.insert(1, pylibrary)\n",
    "# import other standard paths and local variables\n",
    "from brainstation_capstone.system import host_paths\n",
    "localpaths = host_paths.get(hostname)\n",
    "from brainstation_capstone.ml.toolbox.mlSOP import test_model\n",
    "from brainstation_capstone.ml.toolbox.mlSOP import ml_timer\n",
    "# import standard libraries\n",
    "import time, datetime\n",
    "import numpy as np\n",
    "import pandas as pd\n",
    "import matplotlib.pyplot as plt\n",
    "# report latest run\n",
    "print(f'last ran on: {datetime.datetime.now()} PT')\n",
    "# import data\n",
    "from brainstation_capstone.etl.loaddata import nutcracker\n",
    "data = nutcracker(localpaths, 'nutcracker', ['X_train','X_test','y_train','y_test'])"
   ]
  },
  {
   "cell_type": "markdown",
   "metadata": {},
   "source": [
    "### Google Colab\n"
   ]
  },
  {
   "cell_type": "code",
   "execution_count": null,
   "metadata": {},
   "outputs": [],
   "source": [
    "# connect to google drive\n",
    "from google.colab import drive\n",
    "drive.mount('/content/gdrive')"
   ]
  },
  {
   "cell_type": "code",
   "execution_count": null,
   "metadata": {},
   "outputs": [],
   "source": [
    "# import functions\n",
    "import pandas as pd\n",
    "import numpy as np\n",
    "import os, time, datetime\n",
    "import matplotlib.pyplot as plt\n",
    "\n",
    "class test_model:\n",
    "    def __init__(self):\n",
    "        # set test and train score\n",
    "        self.test_acc = []\n",
    "        self.train_acc = []\n",
    "    def score_data(self, model, datadict):\n",
    "        self.model = model\n",
    "        self.data = datadict\n",
    "        # fit model\n",
    "        self.model.fit(self.data['X_train'], self.data['y_train'])\n",
    "        # train score\n",
    "        train_score = self.model.score(self.data['X_train'], self.data['y_train'])\n",
    "        print(f\"\\tTrain Score: {train_score}\")\n",
    "        self.train_acc.append(train_score)\n",
    "        # test score\n",
    "        test_score = self.model.score(self.data['X_test'], self.data['y_test'])\n",
    "        print(f\"\\tTest Score: {test_score}\")\n",
    "        self.test_acc.append(test_score)\n",
    "\n",
    "class ml_timer:\n",
    "    def __init__(self):\n",
    "        # initate session start time\n",
    "        self.start = time.time()\n",
    "        # initiate holder for times\n",
    "        self.session_times = []\n",
    "        print('timer starts')\n",
    "\n",
    "    def param_start(self):\n",
    "        # update current session start time\n",
    "        self.current_session_start = time.time()\n",
    "\n",
    "    def param_end(self):\n",
    "        end_time = time.time()\n",
    "        elapsed_time = end_time - self.current_session_start\n",
    "        print(f'\\telapsed time {elapsed_time/60:.3f} min')\n",
    "        self.session_times.append(elapsed_time)\n",
    "    \n",
    "    def session_end(self):\n",
    "        self.end = time.time()\n",
    "    \n",
    "    def get_time(self):\n",
    "        print(f'total time: {(self.end - self.start)/60:.3f} min')\n",
    "        return self.session_times\n",
    "\n",
    "def hyperparameterplot(hyperparameter_list, train_score_list, test_score_list, \\\n",
    "                        hyperparameter_name='', titlename=''):\n",
    "    \n",
    "    # check if hyperparameter list is string or number\n",
    "    if isinstance(hyperparameter_list[0], str):\n",
    "        hyperparameter_label = hyperparameter_list.copy()\n",
    "        hyperparameter_list = range(len(hyperparameter_list))\n",
    "    # graph\n",
    "    plt.figure()\n",
    "    plt.plot(hyperparameter_list, train_score_list, color='blue', label='train')\n",
    "    plt.plot(hyperparameter_list, test_score_list, color='red', label='test')\n",
    "    plt.title(titlename)\n",
    "    plt.xlabel(hyperparameter_name)\n",
    "    if isinstance(hyperparameter_list[0], str):\n",
    "        plt.xticks(labels=hyperparameter_label)\n",
    "    plt.ylabel('accuracy score')\n",
    "    plt.legend()\n",
    "    plt.show()"
   ]
  },
  {
   "cell_type": "code",
   "execution_count": null,
   "metadata": {},
   "outputs": [],
   "source": [
    "# define file directory\n",
    "file_dir = '/content/gdrive/My Drive/ED Brain Station/data'\n",
    "# get files from google drive\n",
    "print('loading data to data dictionary')\n",
    "datatype = ['X_train','X_test','y_train','y_test']\n",
    "dataname = 'nutcracker'\n",
    "data = dict()\n",
    "for i, dname in enumerate(datatype):\n",
    "    print(f'loading file: {i}', end='\\r')\n",
    "    filename = dataname + '_' + dname + '.csv'\n",
    "    filepath = os.path.join(file_dir, filename)\n",
    "    data[dname] = np.loadtxt(filepath, delimiter=',')\n",
    "print('loading completed')\n",
    "# print the array shape to confirm successful loading\n",
    "print(data['X_train'].shape)\n",
    "# report time run\n",
    "print(f'last ran on: {datetime.datetime.now()} PT')"
   ]
  },
  {
   "cell_type": "code",
   "execution_count": null,
   "metadata": {},
   "outputs": [],
   "source": []
  },
  {
   "cell_type": "markdown",
   "metadata": {},
   "source": [
    "# Build simple tensor flow "
   ]
  },
  {
   "cell_type": "code",
   "execution_count": 2,
   "metadata": {},
   "outputs": [],
   "source": [
    "import tensorflow as tf"
   ]
  },
  {
   "cell_type": "code",
   "execution_count": null,
   "metadata": {},
   "outputs": [],
   "source": []
  }
 ],
 "metadata": {
  "language_info": {
   "codemirror_mode": {
    "name": "ipython",
    "version": 3
   },
   "file_extension": ".py",
   "mimetype": "text/x-python",
   "name": "python",
   "nbconvert_exporter": "python",
   "pygments_lexer": "ipython3",
   "version": "3.6.10-final"
  },
  "orig_nbformat": 2,
  "kernelspec": {
   "name": "python361064bitdeeplearningconda6cab650cb5d443788736ce54d9cbc0f1",
   "display_name": "Python 3.6.10 64-bit ('deeplearning': conda)"
  }
 },
 "nbformat": 4,
 "nbformat_minor": 2
}