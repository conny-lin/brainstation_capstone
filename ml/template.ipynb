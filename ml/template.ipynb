{
 "cells": [
  {
   "cell_type": "code",
   "execution_count": 1,
   "metadata": {},
   "outputs": [
    {
     "name": "stdout",
     "output_type": "stream",
     "text": [
      "getting host computer specific paths\n",
      "None\n",
      "None\n"
     ]
    }
   ],
   "source": [
    "# import local libraries using host specific paths\n",
    "import socket, sys\n",
    "hostname = socket.gethostname().split('.')[0]\n",
    "# set local path settings based on computer host\n",
    "if hostname == 'PFC':\n",
    "    pylibrary = '/Users/connylin/Dropbox/Code/proj'\n",
    "elif hostname == 'Angular-Gyrus':\n",
    "    pylibrary = '/Users/connylin/Code/proj'\n",
    "else:\n",
    "    assert False, 'host computer not regonized'\n",
    "# load local libraries\n",
    "if pylibrary not in sys.path:\n",
    "    sys.path.insert(1, pylibrary)\n",
    "# import brainstation_capstone\n",
    "# import other standard paths and local variables\n",
    "from brainstation_capstone.system import host_paths\n",
    "localpaths = host_paths.get(hostname)\n",
    "datapath = localpaths['datapath']\n",
    "\n",
    "# import standard libraries\n",
    "import time\n",
    "import numpy as np\n",
    "import pandas as pd\n",
    "import matplotlib.pyplot as plt\n",
    "\n",
    "# get standard machine learning input data\n",
    "from brainstation_capstone.etl.datatransform import Nutcracker\n",
    "X_train, X_test, y_train, y_test = Nutcracker(datapath).mldata(feature_reduction='None')"
   ]
  },
  {
   "cell_type": "code",
   "execution_count": null,
   "metadata": {},
   "outputs": [],
   "source": []
  }
 ],
 "metadata": {
  "kernelspec": {
   "display_name": "Python 3",
   "language": "python",
   "name": "python3"
  },
  "language_info": {
   "codemirror_mode": {
    "name": "ipython",
    "version": 3
   },
   "file_extension": ".py",
   "mimetype": "text/x-python",
   "name": "python",
   "nbconvert_exporter": "python",
   "pygments_lexer": "ipython3",
   "version": "3.7.7"
  }
 },
 "nbformat": 4,
 "nbformat_minor": 4
}
