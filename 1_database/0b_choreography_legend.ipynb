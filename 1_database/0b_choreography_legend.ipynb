{
 "cells": [
  {
   "cell_type": "code",
   "execution_count": null,
   "metadata": {},
   "outputs": [],
   "source": [
    "# choreography legend\n",
    "# Conny Lin | 2020 May"
   ]
  },
  {
   "cell_type": "code",
   "execution_count": 26,
   "metadata": {},
   "outputs": [],
   "source": [
    "import numpy as np\n",
    "import pandas as pd\n",
    "import os\n",
    "import pickle"
   ]
  },
  {
   "cell_type": "code",
   "execution_count": 27,
   "metadata": {},
   "outputs": [],
   "source": [
    "dir_save = '/Users/connylin/Dropbox/CA/ED _20200119 Brain Station Data Science Diploma/Capstone/data'\n"
   ]
  },
  {
   "cell_type": "code",
   "execution_count": 28,
   "metadata": {},
   "outputs": [],
   "source": [
    "a = ['f frame -- the frame number ',\n",
    "'p persistence -- length of time object is tracked ',\n",
    "'D id -- the object ID ',\n",
    "'n number -- the number of objects tracked ',\n",
    "'N goodnumber -- the number of objects passing the criteria given ',\n",
    "'e area -- body area',\n",
    "'m midline -- length measured along the curve of object ',\n",
    "'M morphwidth -- mean width of body about midline ',\n",
    "'w width -- width of the rectangle framing the body',\n",
    "'W relwidth -- instantaneous width/average width ',\n",
    "'l length -- measured along major axis, not curve of object ',\n",
    "'L rellength -- instantaneous length/average length',\n",
    "'a aspect -- length/width ',\n",
    "'A relaspect -- instantaneous aspect/average aspect',\n",
    "'k kink -- head/tail angle difference from body (in degrees) ',\n",
    "'c curve -- average angle (in degrees) between body split into 5 segments ',\n",
    "'s speed -- speed of movement',\n",
    "'S angular -- angular speed',\n",
    "'b bias -- fractional excess of time spent moving one way',\n",
    "'P pathlen -- distance traveled forwards (backwards=negative) ',\n",
    "'d dir -- consistency of direction of motion ',\n",
    "'x loc_x -- x coordinate of object (mm) ',\n",
    "'y loc_y -- y coordinate of object (mm) ',\n",
    "'u vel_x -- x velocity (mm/sec) ',\n",
    "'v vel_y -- y velocity (mm/sec) ',\n",
    "'o orient -- orientation of body (degrees, only guaranteed modulo pi) ',\n",
    "'r crab -- speed perpendicular to body orientation ',\n",
    "'1 tap -- whether a tap (stimulus 1) has occurred ',\n",
    "'2 puff -- whether a puff (stimulus 2) has occurred',\n",
    "'3 stim3 -- whether the first custom stimulus has occurred ',\n",
    "'4 stim4 -- whether the second custom stimulus has occurred. ',\n",
    "'^ :max -- maximum value ',\n",
    "'_ :min -- minimum value ',\n",
    "'# :number -- number of items considered in this statistic ',\n",
    "'- :median -- median value ',\n",
    "'* :std -- standard deviation ',\n",
    "':sem :sem -- standard error ',\n",
    "':var :var -- variance ',\n",
    "':? :exists -- 1 if the value exists, 0 otherwise ',\n",
    "':p25 :p25 -- 25th percentile ',\n",
    "':p75 :p75 -- 75th percentile ',\n",
    "':jitter :jitter -- estimate of measurement precision ']"
   ]
  },
  {
   "cell_type": "code",
   "execution_count": 29,
   "metadata": {},
   "outputs": [],
   "source": [
    "df = pd.DataFrame(a, columns=['ref'])\n",
    "df = df['ref'].str.split(r'\\s',expand=True)\n",
    "df = df.iloc[:,:2]\n",
    "df.columns=['call','name']"
   ]
  },
  {
   "cell_type": "code",
   "execution_count": 30,
   "metadata": {},
   "outputs": [],
   "source": [
    "# save\n",
    "path_save = os.path.join(dir_save, 'legend_choreography.pickle')\n",
    "with open(path_save,'wb') as f:\n",
    "    pickle.dump(df,f)"
   ]
  },
  {
   "cell_type": "code",
   "execution_count": null,
   "metadata": {},
   "outputs": [],
   "source": []
  },
  {
   "cell_type": "code",
   "execution_count": null,
   "metadata": {},
   "outputs": [],
   "source": []
  }
 ],
 "metadata": {
  "kernelspec": {
   "display_name": "Python 3",
   "language": "python",
   "name": "python3"
  },
  "language_info": {
   "codemirror_mode": {
    "name": "ipython",
    "version": 3
   },
   "file_extension": ".py",
   "mimetype": "text/x-python",
   "name": "python",
   "nbconvert_exporter": "python",
   "pygments_lexer": "ipython3",
   "version": "3.7.7"
  }
 },
 "nbformat": 4,
 "nbformat_minor": 4
}
