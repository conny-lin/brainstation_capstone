{
 "cells": [
  {
   "cell_type": "markdown",
   "metadata": {},
   "source": [
    "# Neural Network from sklearn\n",
    "Conny Lin | June 15, 2020 | updated June 18, 2020\n",
    "\n",
    "[sklearn.neural_network.MLPClassifier](https://scikit-learn.org/stable/modules/generated/sklearn.neural_network.MLPClassifier.html)\n"
   ]
  },
  {
   "cell_type": "code",
   "execution_count": 6,
   "metadata": {
    "tags": []
   },
   "outputs": [
    {
     "output_type": "stream",
     "name": "stdout",
     "text": "getting host computer specific paths\n"
    }
   ],
   "source": [
    "# import local libraries using host specific paths\n",
    "import socket, sys\n",
    "hostname = socket.gethostname().split('.')[0]\n",
    "# set local path settings based on computer host\n",
    "if hostname == 'PFC':\n",
    "    pylibrary = '/Users/connylin/Dropbox/Code/proj'\n",
    "elif hostname == 'Angular-Gyrus':\n",
    "    pylibrary = '/Users/connylin/Code/proj'\n",
    "else:\n",
    "    assert False, 'host computer not regonized'\n",
    "# load local libraries\n",
    "if pylibrary not in sys.path:\n",
    "    sys.path.insert(1, pylibrary)\n",
    "# import brainstation_capstone\n",
    "# import other standard paths and local variables\n",
    "from brainstation_capstone.system import host_paths\n",
    "localpaths = host_paths.get(hostname)\n",
    "datapath = localpaths['datapath']\n",
    "\n",
    "# import standard libraries\n",
    "import time\n",
    "import numpy as np\n",
    "import pandas as pd\n",
    "import matplotlib.pyplot as plt# import local libraries using host specific paths"
   ]
  },
  {
   "cell_type": "markdown",
   "metadata": {},
   "source": [
    "Try a simple NN from sklearn. But usually won't use this package. Normally use packages like *Keras*, *TensorFlow*, *PyTorch*, etc., which are all specifically designed for neural networks."
   ]
  },
  {
   "cell_type": "code",
   "execution_count": 8,
   "metadata": {},
   "outputs": [],
   "source": [
    "def PlotBoundaries(model, X, Y) :\n",
    "    '''\n",
    "    Helper function that plots the decision boundaries of a model and data (X,Y)\n",
    "    code modified from: https://scikit-learn.org/stable/auto_examples/neighbors/plot_classification.html\n",
    "    '''\n",
    "    \n",
    "    x_min, x_max = X[:, 0].min() - 1, X[:, 0].max() + 1\n",
    "    y_min, y_max = X[:, 1].min() - 1,X[:, 1].max() + 1\n",
    "    xx, yy = np.meshgrid(np.arange(x_min, x_max, 0.01), np.arange(y_min, y_max, 0.01))\n",
    "\n",
    "    Z = model.predict(np.c_[xx.ravel(), yy.ravel()])\n",
    "    Z = Z.reshape(xx.shape)\n",
    "\n",
    "    plt.contourf(xx, yy, Z, alpha=0.4)\n",
    "\n",
    "    #Plot\n",
    "    plt.scatter(X[:, 0], X[:, 1], c=Y,s=20, edgecolor='k')\n",
    "    plt.show()"
   ]
  },
  {
   "cell_type": "markdown",
   "metadata": {},
   "source": [
    "## Try simple NN from sklearn"
   ]
  },
  {
   "cell_type": "code",
   "execution_count": 7,
   "metadata": {
    "tags": []
   },
   "outputs": [
    {
     "output_type": "stream",
     "name": "stdout",
     "text": "None\nNone\n"
    }
   ],
   "source": [
    "# try simple NN\n",
    "from sklearn.neural_network import MLPClassifier\n",
    "# import data\n",
    "from brainstation_capstone.etl.datatransform import Nutcracker\n",
    "X, X_test, y, y_test = Nutcracker(datapath).mldata(feature_reduction='None')"
   ]
  },
  {
   "cell_type": "code",
   "execution_count": 13,
   "metadata": {},
   "outputs": [],
   "source": [
    "NN_model = MLPClassifier(hidden_layer_sizes=(1),solver='lbfgs')\n",
    "NN_model.fit(X_train, y_train);"
   ]
  },
  {
   "cell_type": "code",
   "execution_count": 15,
   "metadata": {},
   "outputs": [
    {
     "name": "stdout",
     "output_type": "stream",
     "text": [
      "Train Score:  0.869\n",
      "Test Score:  0.869\n"
     ]
    }
   ],
   "source": [
    "print(f\"Train Score: {NN_model.score(X_train,y_train): 0.3f}\")\n",
    "print(f\"Test Score: {NN_model.score(X_test,y_test): 0.3f}\")"
   ]
  },
  {
   "cell_type": "markdown",
   "metadata": {},
   "source": [
    "solver lbfgs and layer size =1 gives similar results as other ML models."
   ]
  },
  {
   "cell_type": "code",
   "execution_count": 12,
   "metadata": {
    "tags": []
   },
   "outputs": [
    {
     "output_type": "stream",
     "name": "stdout",
     "text": "counter start\ntest timer -0.00 min\nTrain Score:  0.429\nTest Score:  0.429\n"
    },
    {
     "output_type": "error",
     "ename": "TypeError",
     "evalue": "unsupported operand type(s) for -: 'function' and 'float'",
     "traceback": [
      "\u001b[0;31m---------------------------------------------------------------------------\u001b[0m",
      "\u001b[0;31mTypeError\u001b[0m                                 Traceback (most recent call last)",
      "\u001b[0;32m<ipython-input-12-9fd4026d34c7>\u001b[0m in \u001b[0;36m<module>\u001b[0;34m\u001b[0m\n\u001b[1;32m      7\u001b[0m \u001b[0mprint\u001b[0m\u001b[0;34m(\u001b[0m\u001b[0;34mf\"Train Score: {NN_model.score(X, y): 0.3f}\"\u001b[0m\u001b[0;34m)\u001b[0m\u001b[0;34m\u001b[0m\u001b[0;34m\u001b[0m\u001b[0m\n\u001b[1;32m      8\u001b[0m \u001b[0mprint\u001b[0m\u001b[0;34m(\u001b[0m\u001b[0;34mf\"Test Score: {NN_model.score(X_test, y_test): 0.3f}\"\u001b[0m\u001b[0;34m)\u001b[0m\u001b[0;34m\u001b[0m\u001b[0;34m\u001b[0m\u001b[0m\n\u001b[0;32m----> 9\u001b[0;31m \u001b[0mprint\u001b[0m\u001b[0;34m(\u001b[0m\u001b[0;34mf'took {(timeit.timeit - start_time)/60:.2f} min'\u001b[0m\u001b[0;34m)\u001b[0m\u001b[0;34m\u001b[0m\u001b[0;34m\u001b[0m\u001b[0m\n\u001b[0m",
      "\u001b[0;31mTypeError\u001b[0m: unsupported operand type(s) for -: 'function' and 'float'"
     ]
    }
   ],
   "source": [
    "import timeit\n",
    "from sklearn.neural_network import MLPClassifier\n",
    "# import data\n",
    "from brainstation_capstone.etl.datatransform import Nutcracker\n",
    "X, X_test, y, y_test = Nutcracker(datapath).mldata(feature_reduction='None')\n",
    "# set up time\n",
    "start_time = timeit.timeit()\n",
    "print('timer start')\n",
    "print(f'test timer {(timeit.timeit() - start_time)/60:.2f} min')\n",
    "# start model\n",
    "NN_model = MLPClassifier()\n",
    "NN_model.fit(X, y)\n",
    "# print results\n",
    "print(f\"Train Score: {NN_model.score(X, y): 0.3f}\")\n",
    "print(f\"Test Score: {NN_model.score(X_test, y_test): 0.3f}\")\n",
    "# print time elapsed\n",
    "print(f'took {(timeit.timeit() - start_time)/60:.2f} min')"
   ]
  },
  {
   "cell_type": "markdown",
   "metadata": {},
   "source": [
    "untuned model gives 91% results. highest of all ML models"
   ]
  },
  {
   "cell_type": "markdown",
   "metadata": {},
   "source": [
    "find out what hyperparamters the untuned model used.\n",
    "\n",
    "https://scikit-learn.org/stable/modules/generated/sklearn.neural_network.MLPClassifier.html\n",
    "\n",
    "* hidden_layer_sizes: 100\n",
    "* activation: ’relu\n",
    "* solver: ’adam’\n",
    "* alpha: 0.0001\n",
    "* batch_size: ’auto’\n",
    "* learning_rate: constant\n",
    "* learning_rate_init: 0.001\n",
    "* power_t: 0.5\n",
    "* max_iter: 200\n",
    "* shuffle: True\n",
    "* random_state: None\n",
    "* tol: 1e-4\n",
    "* verbose: False\n",
    "* warm_start: False\n",
    "* momentum: 0.9\n",
    "* nesterov_momentum: True\n",
    "* early_stopping: False\n",
    "* validation_fraction: 0.1\n",
    "* beta_1: 0.9\n",
    "* beta_2: 0.999\n",
    "* epsilon: 1e-8\n",
    "* n_iter_no_change: 10\n",
    "* max_fun: 15000"
   ]
  },
  {
   "cell_type": "markdown",
   "metadata": {},
   "source": [
    "Try TensorFlow. This must be run in the deeplearning env."
   ]
  },
  {
   "cell_type": "code",
   "execution_count": 3,
   "metadata": {},
   "outputs": [],
   "source": [
    "import tensorflow as tf\n",
    "import numpy as np\n",
    "import pandas as pd"
   ]
  },
  {
   "cell_type": "code",
   "execution_count": 14,
   "metadata": {},
   "outputs": [
    {
     "data": {
      "text/plain": [
       "(1600000,)"
      ]
     },
     "execution_count": 14,
     "metadata": {},
     "output_type": "execute_result"
    }
   ],
   "source": [
    "y_train.shape"
   ]
  },
  {
   "cell_type": "code",
   "execution_count": 15,
   "metadata": {},
   "outputs": [],
   "source": [
    "input_size = X_train.shape[1]\n",
    "output_size = 0\n",
    "# Size of the hidden dimension\n",
    "num_hidden = 10\n",
    "\n",
    "# Make the placeholder variables:\n",
    "input_X = tf.placeholder(tf.float32, shape=(None, input_size))\n",
    "input_y = tf.placeholder(tf.float32, shape=(None, output_size))\n",
    "\n",
    "# Hidden Unit activations\n",
    "W1 = tf.Variable(tf.random_normal([input_size, num_hidden]))\n",
    "b1 = tf.Variable(tf.random_normal([num_hidden])) #bias\n",
    "hidden_output = tf.nn.relu(tf.add(tf.matmul(input_X,W1), b1))\n",
    "\n",
    "# Output Unit activations (softmax for multi-class)\n",
    "W2 = tf.Variable(tf.random_normal([num_hidden, output_size]))\n",
    "b2 = tf.Variable(tf.random_normal([output_size]))\n",
    "net_output = tf.nn.softmax(tf.add(tf.matmul(hidden_output, W2), b2))\n",
    "\n",
    "# Use cross entropy loss (we're doing classification)\n",
    "# This is where we link our network to the objective function.\n",
    "loss = tf.losses.softmax_cross_entropy(input_y, net_output)\n",
    "\n",
    "# Get accuracy measure\n",
    "# acc will store the accuracy score of the true labels and our net output\n",
    "acc, acc_op = tf.metrics.accuracy(labels=tf.argmax(input_y, 1), \n",
    "                                  predictions=tf.argmax(net_output, 1))\n",
    "\n",
    "# Use gradient descent with a learning rate of 0.1\n",
    "optimizer = tf.train.GradientDescentOptimizer(0.1)\n",
    "\n",
    "# Objective is minimize the loss\n",
    "train = optimizer.minimize(loss)\n",
    "\n",
    "# Create a session for our netowrk:\n",
    "sess = tf.Session()\n",
    "init = tf.group(tf.global_variables_initializer(), \n",
    "                tf.local_variables_initializer())\n",
    "sess.run(init)"
   ]
  },
  {
   "cell_type": "code",
   "execution_count": 16,
   "metadata": {},
   "outputs": [
    {
     "data": {
      "text/plain": [
       "<tf.Tensor 'Placeholder_7:0' shape=(?, 0) dtype=float32>"
      ]
     },
     "execution_count": 16,
     "metadata": {},
     "output_type": "execute_result"
    }
   ],
   "source": [
    "input_y"
   ]
  },
  {
   "cell_type": "code",
   "execution_count": 17,
   "metadata": {},
   "outputs": [
    {
     "ename": "ValueError",
     "evalue": "Cannot feed value of shape (1600000,) for Tensor 'Placeholder_7:0', which has shape '(?, 0)'",
     "output_type": "error",
     "traceback": [
      "\u001b[0;31m---------------------------------------------------------------------------\u001b[0m",
      "\u001b[0;31mValueError\u001b[0m                                Traceback (most recent call last)",
      "\u001b[0;32m<ipython-input-17-3676135aad29>\u001b[0m in \u001b[0;36m<module>\u001b[0;34m\u001b[0m\n\u001b[1;32m      7\u001b[0m     \u001b[0;31m# train linkes the session to the network\u001b[0m\u001b[0;34m\u001b[0m\u001b[0;34m\u001b[0m\u001b[0;34m\u001b[0m\u001b[0m\n\u001b[1;32m      8\u001b[0m     sess.run(train, feed_dict={input_X: X_train, \n\u001b[0;32m----> 9\u001b[0;31m                                input_y: y_train})\n\u001b[0m\u001b[1;32m     10\u001b[0m \u001b[0;34m\u001b[0m\u001b[0m\n\u001b[1;32m     11\u001b[0m     \u001b[0;32mif\u001b[0m \u001b[0mepoch\u001b[0m \u001b[0;34m%\u001b[0m \u001b[0;36m500\u001b[0m \u001b[0;34m==\u001b[0m \u001b[0;36m0\u001b[0m \u001b[0;34m:\u001b[0m\u001b[0;34m\u001b[0m\u001b[0;34m\u001b[0m\u001b[0m\n",
      "\u001b[0;32m~/opt/anaconda3/envs/deeplearning/lib/python3.6/site-packages/tensorflow/python/client/session.py\u001b[0m in \u001b[0;36mrun\u001b[0;34m(self, fetches, feed_dict, options, run_metadata)\u001b[0m\n\u001b[1;32m    898\u001b[0m     \u001b[0;32mtry\u001b[0m\u001b[0;34m:\u001b[0m\u001b[0;34m\u001b[0m\u001b[0;34m\u001b[0m\u001b[0m\n\u001b[1;32m    899\u001b[0m       result = self._run(None, fetches, feed_dict, options_ptr,\n\u001b[0;32m--> 900\u001b[0;31m                          run_metadata_ptr)\n\u001b[0m\u001b[1;32m    901\u001b[0m       \u001b[0;32mif\u001b[0m \u001b[0mrun_metadata\u001b[0m\u001b[0;34m:\u001b[0m\u001b[0;34m\u001b[0m\u001b[0;34m\u001b[0m\u001b[0m\n\u001b[1;32m    902\u001b[0m         \u001b[0mproto_data\u001b[0m \u001b[0;34m=\u001b[0m \u001b[0mtf_session\u001b[0m\u001b[0;34m.\u001b[0m\u001b[0mTF_GetBuffer\u001b[0m\u001b[0;34m(\u001b[0m\u001b[0mrun_metadata_ptr\u001b[0m\u001b[0;34m)\u001b[0m\u001b[0;34m\u001b[0m\u001b[0;34m\u001b[0m\u001b[0m\n",
      "\u001b[0;32m~/opt/anaconda3/envs/deeplearning/lib/python3.6/site-packages/tensorflow/python/client/session.py\u001b[0m in \u001b[0;36m_run\u001b[0;34m(self, handle, fetches, feed_dict, options, run_metadata)\u001b[0m\n\u001b[1;32m   1109\u001b[0m                              \u001b[0;34m'which has shape %r'\u001b[0m \u001b[0;34m%\u001b[0m\u001b[0;34m\u001b[0m\u001b[0;34m\u001b[0m\u001b[0m\n\u001b[1;32m   1110\u001b[0m                              (np_val.shape, subfeed_t.name,\n\u001b[0;32m-> 1111\u001b[0;31m                               str(subfeed_t.get_shape())))\n\u001b[0m\u001b[1;32m   1112\u001b[0m           \u001b[0;32mif\u001b[0m \u001b[0;32mnot\u001b[0m \u001b[0mself\u001b[0m\u001b[0;34m.\u001b[0m\u001b[0mgraph\u001b[0m\u001b[0;34m.\u001b[0m\u001b[0mis_feedable\u001b[0m\u001b[0;34m(\u001b[0m\u001b[0msubfeed_t\u001b[0m\u001b[0;34m)\u001b[0m\u001b[0;34m:\u001b[0m\u001b[0;34m\u001b[0m\u001b[0;34m\u001b[0m\u001b[0m\n\u001b[1;32m   1113\u001b[0m             \u001b[0;32mraise\u001b[0m \u001b[0mValueError\u001b[0m\u001b[0;34m(\u001b[0m\u001b[0;34m'Tensor %s may not be fed.'\u001b[0m \u001b[0;34m%\u001b[0m \u001b[0msubfeed_t\u001b[0m\u001b[0;34m)\u001b[0m\u001b[0;34m\u001b[0m\u001b[0;34m\u001b[0m\u001b[0m\n",
      "\u001b[0;31mValueError\u001b[0m: Cannot feed value of shape (1600000,) for Tensor 'Placeholder_7:0', which has shape '(?, 0)'"
     ]
    }
   ],
   "source": [
    "epochs = 10\n",
    "\n",
    "# Each epoch is one pass through the data\n",
    "for epoch in range(epochs):\n",
    "    # Update the network.\n",
    "    # feed_dict passes in the input for training\n",
    "    # train linkes the session to the network\n",
    "    sess.run(train, feed_dict={input_X: X_train, \n",
    "                               input_y: y_train})\n",
    "    \n",
    "    if epoch % 500 == 0 :\n",
    "        # Get the training loss\n",
    "        training_loss = sess.run(loss, \n",
    "                                 feed_dict={input_X: X_train, \n",
    "                                            input_y: y_train})\n",
    "\n",
    "        score = sess.run([acc, acc_op], \n",
    "                         feed_dict={input_X: X_train, \n",
    "                                    input_y: y_train})\n",
    "        print(f'Epoch: {epoch}, Loss: {training_loss:.3f}, Accuracy: {score[1]:.3f}')"
   ]
  },
  {
   "cell_type": "code",
   "execution_count": null,
   "metadata": {},
   "outputs": [],
   "source": []
  }
 ],
 "metadata": {
  "kernelspec": {
   "display_name": "Python 3",
   "language": "python",
   "name": "python3"
  },
  "language_info": {
   "codemirror_mode": {
    "name": "ipython",
    "version": 3
   },
   "file_extension": ".py",
   "mimetype": "text/x-python",
   "name": "python",
   "nbconvert_exporter": "python",
   "pygments_lexer": "ipython3",
   "version": "3.7.7-final"
  }
 },
 "nbformat": 4,
 "nbformat_minor": 4
}