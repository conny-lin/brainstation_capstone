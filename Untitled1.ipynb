{
 "cells": [
  {
   "cell_type": "code",
   "execution_count": 1,
   "metadata": {},
   "outputs": [
    {
     "output_type": "execute_result",
     "data": {
      "text/plain": "SVC(C=1.0, break_ties=False, cache_size=200, class_weight=None, coef0=0.0,\n    decision_function_shape='ovr', degree=3, gamma='scale', kernel='rbf',\n    max_iter=-1, probability=False, random_state=None, shrinking=True,\n    tol=0.001, verbose=False)"
     },
     "metadata": {},
     "execution_count": 1
    }
   ],
   "source": [
    "from sklearn.svm import SVC\n",
    "SVC()"
   ]
  },
  {
   "cell_type": "code",
   "execution_count": 10,
   "metadata": {},
   "outputs": [],
   "source": [
    "model_str = str(SVC())\n",
    "model_str = model_str.replace('\\n','')\n",
    "model_str = model_str.replace(\" \", \"\")\n",
    "model_setting = model_str.split('(',1)\n",
    "model_setting = model_setting[1]\n",
    "model_setting = model_setting.replace(')','')\n",
    "t = model_setting"
   ]
  },
  {
   "cell_type": "code",
   "execution_count": 11,
   "metadata": {
    "tags": []
   },
   "outputs": [
    {
     "output_type": "stream",
     "name": "stdout",
     "text": "C,break_ties,cache_size,class_weight,coef0,decision_function_shape,degree,gamma,kernel,max_iter,probability,random_state,shrinking,tol,verbose,\n\n1.0,False,200,None,0.0,ovr,3,scale,rbf,-1,False,None,True,0.001,False,"
    }
   ],
   "source": [
    "t2 = t.split(',')\n",
    "param = []\n",
    "for ti in t2:\n",
    "    t3 = ti.split('=')\n",
    "    print(f'{t3[0]}', end=',')\n",
    "print('\\n')\n",
    "for ti in t2:\n",
    "    t3 = ti.split('=')\n",
    "    t3 = t3[1].replace(\"'\",\"\")\n",
    "    print(f'{t3}', end=',')"
   ]
  },
  {
   "cell_type": "code",
   "execution_count": null,
   "metadata": {},
   "outputs": [],
   "source": []
  }
 ],
 "metadata": {
  "kernelspec": {
   "display_name": "Python 3",
   "language": "python",
   "name": "python3"
  },
  "language_info": {
   "codemirror_mode": {
    "name": "ipython",
    "version": 3
   },
   "file_extension": ".py",
   "mimetype": "text/x-python",
   "name": "python",
   "nbconvert_exporter": "python",
   "pygments_lexer": "ipython3",
   "version": "3.7.7-final"
  }
 },
 "nbformat": 4,
 "nbformat_minor": 4
}