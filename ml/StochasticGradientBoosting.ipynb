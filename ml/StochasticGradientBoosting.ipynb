{
  "cells": [
    {
      "cell_type": "markdown",
      "metadata": {
        "id": "P4U5o4AEtpra",
        "colab_type": "text"
      },
      "source": [
        "# Stochastic Gradient Boosting - nutcracker\n",
        "Conny Lin | June 17, 2020"
      ]
    },
    {
      "cell_type": "markdown",
      "metadata": {},
      "source": [
        "## Standard set up scripts\n",
        "### local computers\n"
      ]
    },
    {
      "cell_type": "code",
      "execution_count": 4,
      "metadata": {
        "tags": []
      },
      "outputs": [
        {
          "output_type": "stream",
          "name": "stdout",
          "text": "getting host computer specific paths\nlast ran on: 2020-06-20 10:45:40.530367 PT\nloading 4 files\nloading completed\n"
        }
      ],
      "source": [
        "# import local libraries using host specific paths\n",
        "import socket, sys\n",
        "hostname = socket.gethostname().split('.')[0]\n",
        "# set local path settings based on computer host\n",
        "if hostname == 'PFC':\n",
        "    pylibrary = '/Users/connylin/Dropbox/Code/proj'\n",
        "elif hostname == 'Angular-Gyrus':\n",
        "    pylibrary = '/Users/connylin/Code/proj'\n",
        "else:\n",
        "    assert False, 'host computer not regonized'\n",
        "# load local libraries\n",
        "if pylibrary not in sys.path:\n",
        "    sys.path.insert(1, pylibrary)\n",
        "# import other standard paths and local variables\n",
        "from brainstation_capstone.system import host_paths\n",
        "localpaths = host_paths.get(hostname)\n",
        "from brainstation_capstone.ml.toolbox.mlSOP import test_model\n",
        "from brainstation_capstone.ml.toolbox.mlSOP import ml_timer\n",
        "from brainstation_capstone.vs.plots import hyperparameterplot\n",
        "# import standard libraries\n",
        "import time, datetime\n",
        "import numpy as np\n",
        "import pandas as pd\n",
        "import matplotlib.pyplot as plt# import local libraries using host specific paths\n",
        "# report latest run\n",
        "print(f'last ran on: {datetime.datetime.now()} PT')\n",
        "# import data\n",
        "from brainstation_capstone.etl.loaddata import nutcracker\n",
        "data = nutcracker(localpaths, 'nutcracker', ['X_train','X_test','y_train','y_test'])"
      ]
    },
    {
      "cell_type": "markdown",
      "metadata": {},
      "source": [
        "### google colab"
      ]
    },
    {
      "cell_type": "code",
      "execution_count": null,
      "metadata": {},
      "outputs": [],
      "source": [
        "# connect to google drive\n",
        "from google.colab import drive\n",
        "drive.mount('/content/gdrive')"
      ]
    },
    {
      "cell_type": "code",
      "execution_count": null,
      "metadata": {},
      "outputs": [],
      "source": [
        "# import functions\n",
        "import os, time, datetime\n",
        "import pandas as pd\n",
        "import numpy as np\n",
        "import matplotlib.pyplot as plt\n",
        "\n",
        "# define functions\n",
        "def hyperparameter_plot_google_colab(hyperparameter_list, train_score_list, test_score_list, hyperparameter_name, xscale):\n",
        "    if isinstance(hyperparameter_list[0], str):\n",
        "        hyperparameter_label = hyperparameter_list.copy()\n",
        "        hyperparameter_list = range(len(hyperparameter_list))\n",
        "    plt.figure()\n",
        "    plt.plot(hyperparameter_list, train_acc, color='blue', label='train')\n",
        "    plt.plot(hyperparameter_list, test_acc, color='red', label='test')\n",
        "    plt.xlabel(hyperparameter_name)\n",
        "    if isinstance(hyperparameter_list[0], str):\n",
        "        plt.xticks(labels=hyperparameter_label)\n",
        "    plt.ylabel('accuracy score')\n",
        "    plt.xscale(xscale)\n",
        "    plt.legend()\n",
        "    plt.show()\n",
        "\n",
        "def hyperparameterplot(hyperparameter_list, train_score_list, test_score_list, hyperparameter_name='', xscale, titlename=''):\n",
        "    # check if hyperparameter list is string or number\n",
        "    if isinstance(hyperparameter_list[0], str):\n",
        "        hyperparameter_label = hyperparameter_list.copy()\n",
        "        hyperparameter_list = range(len(hyperparameter_list))\n",
        "    # graph\n",
        "    plt.figure()\n",
        "    plt.plot(hyperparameter_list, train_score_list, color='blue', label='train')\n",
        "    plt.plot(hyperparameter_list, test_score_list, color='red', label='test')\n",
        "    plt.title(titlename)\n",
        "    plt.xlabel(hyperparameter_name)\n",
        "    if isinstance(hyperparameter_list[0], str):\n",
        "        plt.xticks(labels=hyperparameter_label)\n",
        "    plt.ylabel('accuracy score')\n",
        "    plt.xscale(xscale)\n",
        "    plt.legend()\n",
        "    plt.show()\n",
        "\n",
        "class test_model:\n",
        "    def __init__(self):\n",
        "        # set test and train score\n",
        "        self.test_acc = []\n",
        "        self.train_acc = []\n",
        "    def score_data(self, model, datadict):\n",
        "        self.model = model\n",
        "        self.data = datadict\n",
        "        # fit model\n",
        "        self.model.fit(self.data['X_train'], self.data['y_train'])\n",
        "        # train score\n",
        "        train_score = self.model.score(self.data['X_train'], self.data['y_train'])\n",
        "        print(f\"\\tTrain Score: {train_score}\")\n",
        "        self.train_acc.append(train_score)\n",
        "        # test score\n",
        "        test_score = self.model.score(self.data['X_test'], self.data['y_test'])\n",
        "        print(f\"\\tTest Score: {test_score}\")\n",
        "        self.test_acc.append(test_score)\n",
        "\n",
        "class ml_timer:\n",
        "    def __init__(self):\n",
        "        # initate session start time\n",
        "        self.start = time.time()\n",
        "        # initiate holder for times\n",
        "        self.session_times = []\n",
        "        print('timer starts')\n",
        "    def param_start(self):\n",
        "        # update current session start time\n",
        "        self.current_session_start = time.time()\n",
        "    def param_end(self):\n",
        "        end_time = time.time()\n",
        "        elapsed_time = end_time - self.current_session_start\n",
        "        print(f'\\telapsed time {elapsed_time/60:.3f} min')\n",
        "        self.session_times.append(elapsed_time)\n",
        "    def session_end(self):\n",
        "        self.end = time.time()\n",
        "    def get_time(self):\n",
        "        print(f'total time: {(self.end - self.start)/60:.3f} min')\n",
        "        return self.session_times\n"
      ]
    },
    {
      "cell_type": "code",
      "execution_count": null,
      "metadata": {},
      "outputs": [],
      "source": [
        "# define file directory\n",
        "file_dir = '/content/gdrive/My Drive/ED Brain Station/data'\n",
        "# get files from google drive\n",
        "print('loading data to data dictionary')\n",
        "datatype = ['X_train','X_test','y_train','y_test']\n",
        "dataname = 'nutcracker'\n",
        "data = dict()\n",
        "for i, dname in enumerate(datatype):\n",
        "    print(f'loading file: {i}', end='\\r')\n",
        "    filename = dataname + '_' + dname + '.csv'\n",
        "    filepath = os.path.join(file_dir, filename)\n",
        "    data[dname] = np.loadtxt(filepath, delimiter=',')\n",
        "print('loading completed')\n",
        "# print the array shape to confirm successful loading\n",
        "print(X_train.shape)\n",
        "# report time run\n",
        "print(f'last ran on: {datetime.datetime.now()} PT')"
      ]
    },
    {
      "cell_type": "markdown",
      "metadata": {
        "id": "KAazNrndtprc",
        "colab_type": "text"
      },
      "source": [
        "## run on google colab"
      ]
    },
    {
      "cell_type": "code",
      "metadata": {
        "id": "Kg5ouKA43WbV",
        "colab_type": "code",
        "colab": {
          "base_uri": "https://localhost:8080/",
          "height": 122
        },
        "outputId": "ee0191e7-1d9b-46f8-c1ea-223065528141"
      },
      "source": [
        "# connect to google drive\n",
        "from google.colab import drive\n",
        "drive.mount('/content/gdrive')"
      ],
      "execution_count": null,
      "outputs": [
        {
          "output_type": "stream",
          "text": [
            "Go to this URL in a browser: https://accounts.google.com/o/oauth2/auth?client_id=947318989803-6bn6qk8qdgf4n4g3pfee6491hc0brc4i.apps.googleusercontent.com&redirect_uri=urn%3aietf%3awg%3aoauth%3a2.0%3aoob&response_type=code&scope=email%20https%3a%2f%2fwww.googleapis.com%2fauth%2fdocs.test%20https%3a%2f%2fwww.googleapis.com%2fauth%2fdrive%20https%3a%2f%2fwww.googleapis.com%2fauth%2fdrive.photos.readonly%20https%3a%2f%2fwww.googleapis.com%2fauth%2fpeopleapi.readonly\n",
            "\n",
            "Enter your authorization code:\n",
            "··········\n",
            "Mounted at /content/gdrive\n"
          ],
          "name": "stdout"
        }
      ]
    },
    {
      "cell_type": "code",
      "metadata": {
        "id": "ExfYkqrs3bR3",
        "colab_type": "code",
        "colab": {
          "base_uri": "https://localhost:8080/",
          "height": 34
        },
        "outputId": "f3ca61a0-9bbb-4915-a908-4255de8eabe3"
      },
      "source": [
        "file_dir = '/content/gdrive/My Drive/ED Brain Station/data'\n",
        "import pandas as pd\n",
        "import numpy as np\n",
        "import os\n",
        "\n",
        "# load array\n",
        "X = np.loadtxt(os.path.join(file_dir, 'nutcracker_X_train.csv'), delimiter=',')\n",
        "y = np.loadtxt(os.path.join(file_dir, 'nutcracker_y_train.csv'), delimiter=',')\n",
        "X_test = np.loadtxt(os.path.join(file_dir, 'nutcracker_X_test.csv'), delimiter=',')\n",
        "y_test = np.loadtxt(os.path.join(file_dir, 'nutcracker_y_test.csv'), delimiter=',')\n",
        "\n",
        "# print the array\n",
        "print(X.shape)"
      ],
      "execution_count": null,
      "outputs": [
        {
          "output_type": "stream",
          "text": [
            "(1600000, 21)\n"
          ],
          "name": "stdout"
        }
      ]
    },
    {
      "cell_type": "markdown",
      "metadata": {
        "id": "Ycio3CSfWdlN",
        "colab_type": "text"
      },
      "source": [
        "\n",
        "run one untune model"
      ]
    },
    {
      "cell_type": "code",
      "metadata": {
        "id": "Wblopq4MWZw3",
        "colab_type": "code",
        "colab": {
          "base_uri": "https://localhost:8080/",
          "height": 1000
        },
        "outputId": "46df4bbd-6cd0-4552-add7-db7454f34316"
      },
      "source": [
        "# untune model\n",
        "from sklearn.ensemble import GradientBoostingClassifier\n",
        "import time\n",
        "start_time = time.time()\n",
        "model = GradientBoostingClassifier(random_state=318, verbose=3)\n",
        "model.fit(X,y)\n",
        "train_score = model.score(X, y)\n",
        "print(f'train score: {train_score}')\n",
        "test_score = model.score(X_test, y_test)\n",
        "print(f'test score: {test_score}')\n",
        "print(f'took {(time.time()-start_time)/60:.2f}min')"
      ],
      "execution_count": null,
      "outputs": [
        {
          "output_type": "stream",
          "text": [
            "      Iter       Train Loss   Remaining Time \n",
            "         1           1.2935           19.02m\n",
            "         2           1.2176           18.67m\n",
            "         3           1.1545           18.33m\n",
            "         4           1.1012           18.07m\n",
            "         5           1.0563           17.80m\n",
            "         6           1.0179           17.54m\n",
            "         7           0.9854           17.32m\n",
            "         8           0.9566           17.10m\n",
            "         9           0.9310           16.82m\n",
            "        10           0.9090           16.53m\n",
            "        11           0.8897           16.25m\n",
            "        12           0.8719           15.98m\n",
            "        13           0.8577           15.73m\n",
            "        14           0.8435           15.50m\n",
            "        15           0.8306           15.27m\n",
            "        16           0.8201           15.06m\n",
            "        17           0.8095           14.84m\n",
            "        18           0.8005           14.62m\n",
            "        19           0.7915           14.42m\n",
            "        20           0.7837           14.21m\n",
            "        21           0.7762           14.01m\n",
            "        22           0.7701           13.81m\n",
            "        23           0.7630           13.62m\n",
            "        24           0.7564           13.42m\n",
            "        25           0.7518           13.23m\n",
            "        26           0.7452           13.04m\n",
            "        27           0.7405           12.86m\n",
            "        28           0.7350           12.67m\n",
            "        29           0.7290           12.49m\n",
            "        30           0.7248           12.31m\n",
            "        31           0.7205           12.12m\n",
            "        32           0.7172           11.94m\n",
            "        33           0.7141           11.76m\n",
            "        34           0.7107           11.58m\n",
            "        35           0.7073           11.40m\n",
            "        36           0.7049           11.21m\n",
            "        37           0.7022           11.04m\n",
            "        38           0.6989           10.86m\n",
            "        39           0.6952           10.68m\n",
            "        40           0.6923           10.49m\n",
            "        41           0.6897           10.32m\n",
            "        42           0.6862           10.14m\n",
            "        43           0.6843            9.96m\n",
            "        44           0.6813            9.78m\n",
            "        45           0.6794            9.61m\n",
            "        46           0.6771            9.43m\n",
            "        47           0.6753            9.25m\n",
            "        48           0.6731            9.07m\n",
            "        49           0.6716            8.90m\n",
            "        50           0.6693            8.72m\n",
            "        51           0.6673            8.54m\n",
            "        52           0.6658            8.39m\n",
            "        53           0.6637            8.22m\n",
            "        54           0.6615            8.04m\n",
            "        55           0.6591            7.86m\n",
            "        56           0.6576            7.69m\n",
            "        57           0.6553            7.51m\n",
            "        58           0.6536            7.33m\n",
            "        59           0.6516            7.15m\n",
            "        60           0.6498            6.98m\n",
            "        61           0.6484            6.80m\n",
            "        62           0.6474            6.63m\n",
            "        63           0.6459            6.45m\n",
            "        64           0.6439            6.28m\n",
            "        65           0.6428            6.10m\n",
            "        66           0.6411            5.93m\n",
            "        67           0.6400            5.75m\n",
            "        68           0.6385            5.57m\n",
            "        69           0.6369            5.40m\n",
            "        70           0.6353            5.22m\n",
            "        71           0.6338            5.05m\n",
            "        72           0.6328            4.87m\n",
            "        73           0.6317            4.70m\n",
            "        74           0.6303            4.52m\n",
            "        75           0.6291            4.35m\n",
            "        76           0.6279            4.17m\n",
            "        77           0.6269            4.00m\n",
            "        78           0.6255            3.83m\n",
            "        79           0.6244            3.65m\n",
            "        80           0.6233            3.48m\n",
            "        81           0.6225            3.30m\n",
            "        82           0.6215            3.13m\n",
            "        83           0.6206            2.95m\n",
            "        84           0.6195            2.78m\n",
            "        85           0.6185            2.61m\n",
            "        86           0.6177            2.43m\n",
            "        87           0.6166            2.26m\n",
            "        88           0.6156            2.08m\n",
            "        89           0.6143            1.91m\n",
            "        90           0.6133            1.74m\n",
            "        91           0.6124            1.56m\n",
            "        92           0.6116            1.39m\n",
            "        93           0.6107            1.21m\n",
            "        94           0.6096            1.04m\n",
            "        95           0.6088           52.04s\n",
            "        96           0.6081           41.62s\n",
            "        97           0.6072           31.21s\n",
            "        98           0.6061           20.81s\n",
            "        99           0.6052           10.40s\n",
            "       100           0.6044            0.00s\n",
            "train score: 0.87604375\n",
            "test score: 0.875275\n",
            "took 17.43min\n"
          ],
          "name": "stdout"
        }
      ]
    },
    {
      "cell_type": "markdown",
      "metadata": {
        "id": "_qTi1DA3WrxV",
        "colab_type": "text"
      },
      "source": [
        "Tune:\n",
        "n_estimators = [5, 10, 20, 50, 100]\n",
        "\n",
        "learning_rate = [0.001, 0.01, 0.1]\n",
        "\n",
        "subsample = [0.5, 0.7, 1.0]\n",
        "\n",
        "max_depth = [3, 7, 9]\n",
        "\n"
      ]
    },
    {
      "cell_type": "code",
      "metadata": {
        "id": "PTjxmMmNWSJH",
        "colab_type": "code",
        "colab": {
          "base_uri": "https://localhost:8080/",
          "height": 1000
        },
        "outputId": "1ad4502f-05ff-4f7b-c6a3-6ba238221b5e"
      },
      "source": [
        "from sklearn.ensemble import GradientBoostingClassifier\n",
        "import time\n",
        "import matplotlib.pyplot as plt\n",
        "\n",
        "n_estimators = [4, 10, 20]\n",
        "train_score_list = []\n",
        "test_score_list = []\n",
        "for n in n_estimators:\n",
        "  start_time = time.time()\n",
        "  model = GradientBoostingClassifier(random_state=318, n_estimators=n, verbose=3)\n",
        "  print(f'fitting {n} estimators')\n",
        "  model.fit(X,y)\n",
        "  train_score = model.score(X, y)\n",
        "  train_score_list.append(train_score)\n",
        "  print(f'train score: {train_score}')\n",
        "  test_score = model.score(X_test, y_test)\n",
        "  test_score_list.append(test_score)\n",
        "  print(f'test score: {test_score}')\n",
        "  print(f'took {(time.time()-start_time)/60:.2f}min')\n",
        "\n",
        "plt.figure()\n",
        "plt.plot(n_estimators, train_score_list, color='blue', label='train')\n",
        "plt.plot(n_estimators, test_score_list, color='red', label='test')\n",
        "plt.legend()\n",
        "plt.show()"
      ],
      "execution_count": null,
      "outputs": [
        {
          "output_type": "stream",
          "text": [
            "fitting 4 estimators\n",
            "      Iter       Train Loss   Remaining Time \n",
            "         1           1.2935           35.55s\n",
            "         2           1.2176           23.70s\n",
            "         3           1.1545           11.84s\n",
            "         4           1.1012            0.00s\n",
            "train score: 0.833270625\n",
            "test score: 0.8328575\n",
            "took 0.81min\n",
            "fitting 10 estimators\n",
            "      Iter       Train Loss   Remaining Time \n",
            "         1           1.2935            1.78m\n",
            "         2           1.2176            1.58m\n",
            "         3           1.1545            1.40m\n",
            "         4           1.1012            1.20m\n",
            "         5           1.0563           59.63s\n",
            "         6           1.0179           47.67s\n",
            "         7           0.9854           35.74s\n",
            "         8           0.9566           23.83s\n",
            "         9           0.9310           11.87s\n",
            "        10           0.9090            0.00s\n",
            "train score: 0.834148125\n",
            "test score: 0.833515\n",
            "took 1.99min\n",
            "fitting 20 estimators\n",
            "      Iter       Train Loss   Remaining Time \n",
            "         1           1.2935            3.60m\n",
            "         2           1.2176            3.39m\n",
            "         3           1.1545            3.19m\n",
            "         4           1.1012            3.00m\n",
            "         5           1.0563            2.80m\n",
            "         6           1.0179            2.61m\n",
            "         7           0.9854            2.41m\n",
            "         8           0.9566            2.21m\n",
            "         9           0.9310            2.04m\n",
            "        10           0.9090            1.84m\n",
            "        11           0.8897            1.65m\n",
            "        12           0.8719            1.46m\n",
            "        13           0.8577            1.27m\n",
            "        14           0.8435            1.09m\n",
            "        15           0.8306           54.09s\n",
            "        16           0.8201           43.15s\n",
            "        17           0.8095           32.28s\n",
            "        18           0.8005           21.47s\n",
            "        19           0.7915           10.71s\n",
            "        20           0.7837            0.00s\n",
            "train score: 0.843280625\n",
            "test score: 0.8426825\n",
            "took 3.60min\n"
          ],
          "name": "stdout"
        },
        {
          "output_type": "display_data",
          "data": {
            "image/png": "[encoded data removed]",
            "text/plain": [
              "<Figure size 432x288 with 1 Axes>"
            ]
          },
          "metadata": {
            "tags": [],
            "needs_background": "light"
          }
        }
      ]
    },
    {
      "cell_type": "code",
      "metadata": {
        "id": "MDFX9qBj3f0s",
        "colab_type": "code",
        "colab": {
          "base_uri": "https://localhost:8080/",
          "height": 85
        },
        "outputId": "8d473826-58c4-417e-da8f-6f912c5d00a1"
      },
      "source": [
        "# example of grid searching key hyperparameters for GradientBoostingClassifier\n",
        "from sklearn.model_selection import GridSearchCV\n",
        "from sklearn.ensemble import GradientBoostingClassifier\n",
        "\n",
        "# load data\n",
        "X = np.loadtxt(os.path.join(file_dir, 'nutcracker_X_train.csv'), delimiter=',')\n",
        "y = np.loadtxt(os.path.join(file_dir, 'nutcracker_y_train.csv'), delimiter=',')\n",
        "\n",
        "# define models and parameters\n",
        "model = GradientBoostingClassifier()\n",
        "n_estimators = [5, 10, 20, 50, 100]\n",
        "learning_rate = [0.001, 0.01, 0.1]\n",
        "subsample = [0.5, 0.7, 1.0]\n",
        "max_depth = [3, 7, 9]\n",
        "\n",
        "# define grid search\n",
        "grid = dict(learning_rate=learning_rate, n_estimators=n_estimators, subsample=subsample, max_depth=max_depth)\n",
        "cv=5 #cv = RepeatedStratifiedKFold(n_splits=10, n_repeats=3, random_state=1)\n",
        "grid_search = GridSearchCV(estimator=model, param_grid=grid, n_jobs=-1, cv=cv, \n",
        "                           scoring='accuracy',error_score=0, verbose=5)\n",
        "grid_result = grid_search.fit(X, y)\n",
        "\n",
        "# summarize results\n",
        "means = grid_result.cv_results_['mean_test_score']\n",
        "stds = grid_result.cv_results_['std_test_score']\n",
        "params = grid_result.cv_results_['params']\n",
        "for mean, stdev, param in zip(means, stds, params):\n",
        "    print(\"%f (%f) with: %r\" % (mean, stdev, param))\n",
        "print(\"Best: %f using %s\" % (grid_result.best_score_, grid_result.best_params_))\n"
      ],
      "execution_count": null,
      "outputs": [
        {
          "output_type": "stream",
          "text": [
            "Fitting 5 folds for each of 135 candidates, totalling 675 fits\n"
          ],
          "name": "stdout"
        },
        {
          "output_type": "stream",
          "text": [
            "[Parallel(n_jobs=-1)]: Using backend LokyBackend with 2 concurrent workers.\n",
            "[Parallel(n_jobs=-1)]: Done  14 tasks      | elapsed:  5.7min\n",
            "[Parallel(n_jobs=-1)]: Done  68 tasks      | elapsed: 157.3min\n"
          ],
          "name": "stderr"
        }
      ]
    },
    {
      "cell_type": "code",
      "metadata": {
        "colab_type": "code",
        "id": "Op9C2ZZqTzMo",
        "colab": {}
      },
      "source": [
        "grid search did not finish"
      ],
      "execution_count": null,
      "outputs": []
    },
    {
      "cell_type": "markdown",
      "metadata": {
        "id": "0Kt3DsOFtpsC",
        "colab_type": "text"
      },
      "source": [
        "## run smaller batches to tune\n",
        "\n"
      ]
    },
    {
      "cell_type": "markdown",
      "metadata": {
        "id": "OHEwfjxUtwQB",
        "colab_type": "text"
      },
      "source": [
        "### max_depth on google colab"
      ]
    },
    {
      "cell_type": "code",
      "metadata": {
        "id": "gIDa_5f1tpsD",
        "colab_type": "code",
        "colab": {
          "base_uri": "https://localhost:8080/",
          "height": 326
        },
        "outputId": "0496f068-1ae7-4495-c639-30dde5cbd266"
      },
      "source": [
        "import timeit, os\n",
        "from sklearn.ensemble import GradientBoostingClassifier\n",
        "import pandas as pd\n",
        "import numpy as np\n",
        "\n",
        "# import data\n",
        "# connect to google drive\n",
        "from google.colab import drive\n",
        "drive.mount('/content/gdrive')\n",
        "file_dir = '/content/gdrive/My Drive/ED Brain Station/data'\n",
        "\n",
        "# load array\n",
        "X = np.loadtxt(os.path.join(file_dir, 'nutcracker_X_train.csv'), delimiter=',')\n",
        "y = np.loadtxt(os.path.join(file_dir, 'nutcracker_y_train.csv'), delimiter=',')\n",
        "X_test = np.loadtxt(os.path.join(file_dir, 'nutcracker_X_test.csv'), delimiter=',')\n",
        "y_test = np.loadtxt(os.path.join(file_dir, 'nutcracker_y_test.csv'), delimiter=',')\n",
        "# print the array\n",
        "print(X.shape)\n",
        "\n",
        "# set up time\n",
        "start_time_all = timeit.timeit()\n",
        "print('timer start')\n",
        "print(f'test timer {(timeit.timeit() - start_time_all)/60:.2f} min')\n",
        "# hyperparameters\n",
        "n_estimators = 20\n",
        "max_depth_list = [3, 7, 9]\n",
        "# declare output var\n",
        "test_scores = []\n",
        "train_scores = []\n",
        "# test hyperparameter\n",
        "for max_depth in max_depth_list:\n",
        "    print(f'running {max_depth}')\n",
        "    # set up time\n",
        "    start_time = timeit.timeit()\n",
        "    # start model\n",
        "    NN_model = GradientBoostingClassifier(max_depth=max_depth)\n",
        "    NN_model.fit(X, y)\n",
        "    # get scores\n",
        "    train_score = NN_model.score(X, y)\n",
        "    test_score = NN_model.score(X_test, y_test)\n",
        "    # print results\n",
        "    print(f\"\\tTrain Score: {train_score}\")\n",
        "    print(f\"\\tTest Score: {test_score}\")\n",
        "    # print time elapsed\n",
        "    print(f'\\ttook {(timeit.timeit() - start_time)/60:.2f} min')\n",
        "\n",
        "# set up time\n",
        "start_time_all = timeit.timeit()\n",
        "print(f'total time: {(timeit.timeit() - start_time_all)/60:.2f} min')\n"
      ],
      "execution_count": null,
      "outputs": [
        {
          "output_type": "stream",
          "text": [
            "Drive already mounted at /content/gdrive; to attempt to forcibly remount, call drive.mount(\"/content/gdrive\", force_remount=True).\n",
            "(1600000, 21)\n",
            "timer start\n",
            "test timer -0.00 min\n",
            "running 3\n",
            "\tTrain Score: 0.87604375\n",
            "\tTest Score: 0.875275\n",
            "\ttook 0.00 min\n",
            "running 7\n",
            "\tTrain Score: 0.89990375\n",
            "\tTest Score: 0.896415\n",
            "\ttook 0.00 min\n",
            "running 9\n",
            "\tTrain Score: 0.913314375\n",
            "\tTest Score: 0.90374\n",
            "\ttook 0.00 min\n",
            "total time: -0.00 min\n"
          ],
          "name": "stdout"
        }
      ]
    },
    {
      "cell_type": "markdown",
      "metadata": {
        "id": "8H7wMWCZ_Jtv",
        "colab_type": "text"
      },
      "source": [
        "seems max_depth=9 is the best. See if higher can be better.\n"
      ]
    },
    {
      "cell_type": "markdown",
      "metadata": {
        "id": "4QAt9rKn_b0J",
        "colab_type": "text"
      },
      "source": [
        "## max_depth 9 and more"
      ]
    },
    {
      "cell_type": "code",
      "metadata": {
        "id": "ojYIjaRb_fVo",
        "colab_type": "code",
        "colab": {
          "base_uri": "https://localhost:8080/",
          "height": 360
        },
        "outputId": "eb71f5fa-9d45-40af-db07-3913df633d78"
      },
      "source": [
        "import time, os\n",
        "from sklearn.ensemble import GradientBoostingClassifier\n",
        "import pandas as pd\n",
        "import numpy as np\n",
        "import matplotlib.pyplot as plt\n",
        "\n",
        "# set up time\n",
        "session_start = time.time()\n",
        "print('timer start')\n",
        "print(f'test timer {(time.time() - session_start)/60:.2f} min')\n",
        "# hyperparameters - testing\n",
        "max_depth_list = np.arange(9,20,dtype=int)\n",
        "hyperparameter_list = max_depth_list\n",
        "hyperparameter_name = 'max_depth_list'\n",
        "# hyperparameters - determined\n",
        "n_estimators = 20\n",
        "# declare output var\n",
        "train_score_list = []\n",
        "test_score_list = []\n",
        "# test hyperparameter\n",
        "for max_depth in max_depth_list:\n",
        "    print(f'running {max_depth}')\n",
        "    # set up time\n",
        "    start_time = time.time()\n",
        "    # start model\n",
        "    NN_model = GradientBoostingClassifier(max_depth=max_depth)\n",
        "    NN_model.fit(X, y)\n",
        "    # get scores\n",
        "    train_score = NN_model.score(X, y)\n",
        "    print(f\"\\tTrain Score: {train_score}\")\n",
        "    train_score_list.append(train_score)\n",
        "    test_score = NN_model.score(X_test, y_test)\n",
        "    print(f\"\\tTest Score: {test_score}\")\n",
        "    test_score_list.append(test_score)\n",
        "    # print time elapsed\n",
        "    print(f'\\ttook {(time.time() - start_time)/60:.2f} min')\n",
        "\n",
        "# report total time\n",
        "print(f'total time: {(time.time() - session_start)/60:.2f} min')\n",
        "\n",
        "# plot \n",
        "plt.figure()\n",
        "plt.plot(hyperparameter_list, train_score_list, color='blue', label='train')\n",
        "plt.plot(hyperparameter_list, test_score_list, color='red', label='test')\n",
        "plt.xlabel(hyperparameter_name)\n",
        "plt.ylabel('accuracy score')\n",
        "plt.legend()\n",
        "plt.show()"
      ],
      "execution_count": null,
      "outputs": [
        {
          "output_type": "stream",
          "text": [
            "timer start\n",
            "test timer 26543516.13 min\n",
            "running 9\n",
            "\tTrain Score: 0.913315\n",
            "\tTest Score: 0.9037325\n",
            "\ttook 51.91 min\n",
            "running 10\n",
            "\tTrain Score: 0.923209375\n",
            "\tTest Score: 0.907465\n",
            "\ttook 59.90 min\n",
            "running 11\n",
            "\tTrain Score: 0.9347825\n",
            "\tTest Score: 0.9103975\n",
            "\ttook 69.34 min\n",
            "running 12\n",
            "\tTrain Score: 0.949330625\n",
            "\tTest Score: 0.911925\n",
            "\ttook 73.38 min\n",
            "running 13\n"
          ],
          "name": "stdout"
        }
      ]
    },
    {
      "cell_type": "markdown",
      "metadata": {
        "colab": {},
        "colab_type": "code",
        "id": "NSgdlSOOAs-s"
      },
      "source": [
        "the run did not finish, but seems like higher max_depth is better. Overfitting increases by 0.1% as each max_depth increase. Each max_depth increase also increase run time by about 10 mins."
      ]
    },
    {
      "cell_type": "markdown",
      "metadata": {},
      "source": [
        "## loss type"
      ]
    },
    {
      "cell_type": "code",
      "execution_count": 9,
      "metadata": {
        "tags": []
      },
      "outputs": [
        {
          "output_type": "stream",
          "name": "stdout",
          "text": "timer starts\nrunning: loss - deviance\n      Iter       Train Loss   Remaining Time \n         1           1.2904            6.24m\n         2           1.2114            5.94m\n         3           1.1456            5.16m\n         4           1.0893            4.65m\n         5           1.0421            4.28m\n         6           1.0015            4.01m\n         7           0.9657            3.81m\n         8           0.9353            3.41m\n         9           0.9093            3.06m\n        10           0.8845            2.70m\n        20           0.7480            0.00s\n\tTrain Score: \t\t0.851968125\n\tTest Score: \t\t0.85136\n\tOverfit (train - test): \t\t 0.0006081249999999594\n\telapsed time 5.312 min\nrunning: loss - exponential\n      Iter       Train Loss   Remaining Time \n         1           0.9520            6.78m\n         2           0.9098            5.16m\n         3           0.8730            4.95m\n         4           0.8403            5.02m\n         5           0.8119            4.60m\n         6           0.7877            4.28m\n         7           0.7654            3.93m\n         8           0.7452            3.60m\n         9           0.7287            3.94m\n        10           0.7134            3.93m\n        20           0.6257            0.00s\n\tTrain Score: \t\t0.85231\n\tTest Score: \t\t0.85161\n\tOverfit (train - test): \t\t 0.0007000000000000339\n\telapsed time 8.958 min\ntotal time: 14.270 min\n"
        },
        {
          "output_type": "error",
          "ename": "NameError",
          "evalue": "name 'hyperparameterplot' is not defined",
          "traceback": [
            "\u001b[0;31m---------------------------------------------------------------------------\u001b[0m",
            "\u001b[0;31mNameError\u001b[0m                                 Traceback (most recent call last)",
            "\u001b[0;32m<ipython-input-9-0431e6a5ac75>\u001b[0m in \u001b[0;36m<module>\u001b[0;34m\u001b[0m\n\u001b[1;32m     54\u001b[0m \u001b[0mtime_per_session\u001b[0m \u001b[0;34m=\u001b[0m \u001b[0mtimer\u001b[0m\u001b[0;34m.\u001b[0m\u001b[0mget_time\u001b[0m\u001b[0;34m(\u001b[0m\u001b[0;34m)\u001b[0m\u001b[0;34m\u001b[0m\u001b[0;34m\u001b[0m\u001b[0m\n\u001b[1;32m     55\u001b[0m \u001b[0;31m# graph\u001b[0m\u001b[0;34m\u001b[0m\u001b[0;34m\u001b[0m\u001b[0;34m\u001b[0m\u001b[0m\n\u001b[0;32m---> 56\u001b[0;31m \u001b[0mhyperparameterplot\u001b[0m\u001b[0;34m(\u001b[0m\u001b[0mhyperparameter_list\u001b[0m\u001b[0;34m,\u001b[0m \u001b[0mmodel_acc\u001b[0m\u001b[0;34m.\u001b[0m\u001b[0mtrain_acc\u001b[0m\u001b[0;34m,\u001b[0m \u001b[0mmodel_acc\u001b[0m\u001b[0;34m.\u001b[0m\u001b[0mtest_acc\u001b[0m\u001b[0;34m,\u001b[0m \u001b[0mhyperparameter_name\u001b[0m\u001b[0;34m)\u001b[0m\u001b[0;34m\u001b[0m\u001b[0;34m\u001b[0m\u001b[0m\n\u001b[0m",
            "\u001b[0;31mNameError\u001b[0m: name 'hyperparameterplot' is not defined"
          ]
        }
      ],
      "source": [
        "from sklearn.ensemble import GradientBoostingClassifier\n",
        "# hyperparameters - testing\n",
        "loss = ['deviance', 'exponential']\n",
        "hyperparameter_list = loss.copy()\n",
        "hyperparameter_name = 'loss'\n",
        "# hyperparameters - to test\n",
        "learning_rate = 0.1\n",
        "min_samples_leaf = 1\n",
        "subsample = 1.0\n",
        "min_samples_split = 2\n",
        "min_weight_fraction_leaf = 0.0\n",
        "min_impurity_decrease = 0.0\n",
        "min_impurity_split = None\n",
        "init = None \n",
        "max_features = None \n",
        "max_leaf_nodes = None\n",
        "warm_start = False\n",
        "validation_fraction = 0.1 \n",
        "n_iter_no_change = None\n",
        "tol = 1e-4 \n",
        "ccp_alpha = 0.0\n",
        "# hyperparameters - test - low priorty\n",
        "criterion = 'friedman_mse' # generally best\n",
        "# hyperparameters - determined / to fine tune\n",
        "n_estimators = 20\n",
        "verbose = 1\n",
        "random_state = 318\n",
        "max_depth = 4 # 9 or more can be better, but to limit time spend on tuning others, keep this low when testing\n",
        "\n",
        "# test hyperparameter\n",
        "model_acc = test_model()\n",
        "timer = ml_timer()\n",
        "for parameter in hyperparameter_list:\n",
        "    print(f'running: {hyperparameter_name} - {parameter}')\n",
        "    timer.param_start()\n",
        "    model = GradientBoostingClassifier(verbose=verbose, n_estimators=n_estimators,\n",
        "                random_state=random_state, max_depth=max_depth,\n",
        "                loss=parameter, \n",
        "                learning_rate=learning_rate, \n",
        "                subsample=subsample, criterion=criterion,\n",
        "                min_samples_split=min_samples_split, min_samples_leaf=min_samples_leaf,\n",
        "                min_weight_fraction_leaf=min_weight_fraction_leaf, \n",
        "                min_impurity_decrease=min_impurity_decrease, \n",
        "                min_impurity_split=min_impurity_split, init=init, \n",
        "                max_features=max_features, \n",
        "                max_leaf_nodes=max_leaf_nodes, warm_start=warm_start, \n",
        "                validation_fraction=validation_fraction, \n",
        "                n_iter_no_change=n_iter_no_change, tol=tol, ccp_alpha=ccp_alpha\n",
        "                )\n",
        "    model_acc.score_data(model, data)\n",
        "    timer.param_end()\n",
        "# end time\n",
        "timer.session_end()\n",
        "time_per_session = timer.get_time()\n",
        "# graph\n",
        "hyperparameterplot(hyperparameter_list, model_acc.train_acc, model_acc.test_acc, hyperparameter_name)"
      ]
    },
    {
      "cell_type": "code",
      "execution_count": 15,
      "metadata": {
        "tags": []
      },
      "outputs": [
        {
          "output_type": "display_data",
          "data": {
            "text/plain": "<Figure size 432x288 with 1 Axes>",
            "image/svg+xml": "<?xml version=\"1.0\" encoding=\"utf-8\" standalone=\"no\"?>\n<!DOCTYPE svg PUBLIC \"-//W3C//DTD SVG 1.1//EN\"\n  \"http://www.w3.org/Graphics/SVG/1.1/DTD/svg11.dtd\">\n<!-- Created with matplotlib (https://matplotlib.org/) -->\n<svg height=\"262.19625pt\" version=\"1.1\" viewBox=\"0 0 404.86875 262.19625\" width=\"404.86875pt\" xmlns=\"http://www.w3.org/2000/svg\" xmlns:xlink=\"http://www.w3.org/1999/xlink\">\n <defs>\n  <style type=\"text/css\">\n*{stroke-linecap:butt;stroke-linejoin:round;}\n  </style>\n </defs>\n <g id=\"figure_1\">\n  <g id=\"patch_1\">\n   <path d=\"M 0 262.19625 \nL 404.86875 262.19625 \nL 404.86875 0 \nL 0 0 \nz\n\" style=\"fill:none;\"/>\n  </g>\n  <g id=\"axes_1\">\n   <g id=\"patch_2\">\n    <path d=\"M 62.86875 224.64 \nL 397.66875 224.64 \nL 397.66875 7.2 \nL 62.86875 7.2 \nz\n\" style=\"fill:#ffffff;\"/>\n   </g>\n   <g id=\"matplotlib.axis_1\">\n    <g id=\"xtick_1\">\n     <g id=\"line2d_1\">\n      <defs>\n       <path d=\"M 0 0 \nL 0 3.5 \n\" id=\"m3f9976a985\" style=\"stroke:#000000;stroke-width:0.8;\"/>\n      </defs>\n      <g>\n       <use style=\"stroke:#000000;stroke-width:0.8;\" x=\"78.086932\" xlink:href=\"#m3f9976a985\" y=\"224.64\"/>\n      </g>\n     </g>\n     <g id=\"text_1\">\n      <!-- 0.0 -->\n      <defs>\n       <path d=\"M 31.78125 66.40625 \nQ 24.171875 66.40625 20.328125 58.90625 \nQ 16.5 51.421875 16.5 36.375 \nQ 16.5 21.390625 20.328125 13.890625 \nQ 24.171875 6.390625 31.78125 6.390625 \nQ 39.453125 6.390625 43.28125 13.890625 \nQ 47.125 21.390625 47.125 36.375 \nQ 47.125 51.421875 43.28125 58.90625 \nQ 39.453125 66.40625 31.78125 66.40625 \nz\nM 31.78125 74.21875 \nQ 44.046875 74.21875 50.515625 64.515625 \nQ 56.984375 54.828125 56.984375 36.375 \nQ 56.984375 17.96875 50.515625 8.265625 \nQ 44.046875 -1.421875 31.78125 -1.421875 \nQ 19.53125 -1.421875 13.0625 8.265625 \nQ 6.59375 17.96875 6.59375 36.375 \nQ 6.59375 54.828125 13.0625 64.515625 \nQ 19.53125 74.21875 31.78125 74.21875 \nz\n\" id=\"DejaVuSans-48\"/>\n       <path d=\"M 10.6875 12.40625 \nL 21 12.40625 \nL 21 0 \nL 10.6875 0 \nz\n\" id=\"DejaVuSans-46\"/>\n      </defs>\n      <g transform=\"translate(70.135369 239.238437)scale(0.1 -0.1)\">\n       <use xlink:href=\"#DejaVuSans-48\"/>\n       <use x=\"63.623047\" xlink:href=\"#DejaVuSans-46\"/>\n       <use x=\"95.410156\" xlink:href=\"#DejaVuSans-48\"/>\n      </g>\n     </g>\n    </g>\n    <g id=\"xtick_2\">\n     <g id=\"line2d_2\">\n      <g>\n       <use style=\"stroke:#000000;stroke-width:0.8;\" x=\"138.959659\" xlink:href=\"#m3f9976a985\" y=\"224.64\"/>\n      </g>\n     </g>\n     <g id=\"text_2\">\n      <!-- 0.2 -->\n      <defs>\n       <path d=\"M 19.1875 8.296875 \nL 53.609375 8.296875 \nL 53.609375 0 \nL 7.328125 0 \nL 7.328125 8.296875 \nQ 12.9375 14.109375 22.625 23.890625 \nQ 32.328125 33.6875 34.8125 36.53125 \nQ 39.546875 41.84375 41.421875 45.53125 \nQ 43.3125 49.21875 43.3125 52.78125 \nQ 43.3125 58.59375 39.234375 62.25 \nQ 35.15625 65.921875 28.609375 65.921875 \nQ 23.96875 65.921875 18.8125 64.3125 \nQ 13.671875 62.703125 7.8125 59.421875 \nL 7.8125 69.390625 \nQ 13.765625 71.78125 18.9375 73 \nQ 24.125 74.21875 28.421875 74.21875 \nQ 39.75 74.21875 46.484375 68.546875 \nQ 53.21875 62.890625 53.21875 53.421875 \nQ 53.21875 48.921875 51.53125 44.890625 \nQ 49.859375 40.875 45.40625 35.40625 \nQ 44.1875 33.984375 37.640625 27.21875 \nQ 31.109375 20.453125 19.1875 8.296875 \nz\n\" id=\"DejaVuSans-50\"/>\n      </defs>\n      <g transform=\"translate(131.008097 239.238437)scale(0.1 -0.1)\">\n       <use xlink:href=\"#DejaVuSans-48\"/>\n       <use x=\"63.623047\" xlink:href=\"#DejaVuSans-46\"/>\n       <use x=\"95.410156\" xlink:href=\"#DejaVuSans-50\"/>\n      </g>\n     </g>\n    </g>\n    <g id=\"xtick_3\">\n     <g id=\"line2d_3\">\n      <g>\n       <use style=\"stroke:#000000;stroke-width:0.8;\" x=\"199.832386\" xlink:href=\"#m3f9976a985\" y=\"224.64\"/>\n      </g>\n     </g>\n     <g id=\"text_3\">\n      <!-- 0.4 -->\n      <defs>\n       <path d=\"M 37.796875 64.3125 \nL 12.890625 25.390625 \nL 37.796875 25.390625 \nz\nM 35.203125 72.90625 \nL 47.609375 72.90625 \nL 47.609375 25.390625 \nL 58.015625 25.390625 \nL 58.015625 17.1875 \nL 47.609375 17.1875 \nL 47.609375 0 \nL 37.796875 0 \nL 37.796875 17.1875 \nL 4.890625 17.1875 \nL 4.890625 26.703125 \nz\n\" id=\"DejaVuSans-52\"/>\n      </defs>\n      <g transform=\"translate(191.880824 239.238437)scale(0.1 -0.1)\">\n       <use xlink:href=\"#DejaVuSans-48\"/>\n       <use x=\"63.623047\" xlink:href=\"#DejaVuSans-46\"/>\n       <use x=\"95.410156\" xlink:href=\"#DejaVuSans-52\"/>\n      </g>\n     </g>\n    </g>\n    <g id=\"xtick_4\">\n     <g id=\"line2d_4\">\n      <g>\n       <use style=\"stroke:#000000;stroke-width:0.8;\" x=\"260.705114\" xlink:href=\"#m3f9976a985\" y=\"224.64\"/>\n      </g>\n     </g>\n     <g id=\"text_4\">\n      <!-- 0.6 -->\n      <defs>\n       <path d=\"M 33.015625 40.375 \nQ 26.375 40.375 22.484375 35.828125 \nQ 18.609375 31.296875 18.609375 23.390625 \nQ 18.609375 15.53125 22.484375 10.953125 \nQ 26.375 6.390625 33.015625 6.390625 \nQ 39.65625 6.390625 43.53125 10.953125 \nQ 47.40625 15.53125 47.40625 23.390625 \nQ 47.40625 31.296875 43.53125 35.828125 \nQ 39.65625 40.375 33.015625 40.375 \nz\nM 52.59375 71.296875 \nL 52.59375 62.3125 \nQ 48.875 64.0625 45.09375 64.984375 \nQ 41.3125 65.921875 37.59375 65.921875 \nQ 27.828125 65.921875 22.671875 59.328125 \nQ 17.53125 52.734375 16.796875 39.40625 \nQ 19.671875 43.65625 24.015625 45.921875 \nQ 28.375 48.1875 33.59375 48.1875 \nQ 44.578125 48.1875 50.953125 41.515625 \nQ 57.328125 34.859375 57.328125 23.390625 \nQ 57.328125 12.15625 50.6875 5.359375 \nQ 44.046875 -1.421875 33.015625 -1.421875 \nQ 20.359375 -1.421875 13.671875 8.265625 \nQ 6.984375 17.96875 6.984375 36.375 \nQ 6.984375 53.65625 15.1875 63.9375 \nQ 23.390625 74.21875 37.203125 74.21875 \nQ 40.921875 74.21875 44.703125 73.484375 \nQ 48.484375 72.75 52.59375 71.296875 \nz\n\" id=\"DejaVuSans-54\"/>\n      </defs>\n      <g transform=\"translate(252.753551 239.238437)scale(0.1 -0.1)\">\n       <use xlink:href=\"#DejaVuSans-48\"/>\n       <use x=\"63.623047\" xlink:href=\"#DejaVuSans-46\"/>\n       <use x=\"95.410156\" xlink:href=\"#DejaVuSans-54\"/>\n      </g>\n     </g>\n    </g>\n    <g id=\"xtick_5\">\n     <g id=\"line2d_5\">\n      <g>\n       <use style=\"stroke:#000000;stroke-width:0.8;\" x=\"321.577841\" xlink:href=\"#m3f9976a985\" y=\"224.64\"/>\n      </g>\n     </g>\n     <g id=\"text_5\">\n      <!-- 0.8 -->\n      <defs>\n       <path d=\"M 31.78125 34.625 \nQ 24.75 34.625 20.71875 30.859375 \nQ 16.703125 27.09375 16.703125 20.515625 \nQ 16.703125 13.921875 20.71875 10.15625 \nQ 24.75 6.390625 31.78125 6.390625 \nQ 38.8125 6.390625 42.859375 10.171875 \nQ 46.921875 13.96875 46.921875 20.515625 \nQ 46.921875 27.09375 42.890625 30.859375 \nQ 38.875 34.625 31.78125 34.625 \nz\nM 21.921875 38.8125 \nQ 15.578125 40.375 12.03125 44.71875 \nQ 8.5 49.078125 8.5 55.328125 \nQ 8.5 64.0625 14.71875 69.140625 \nQ 20.953125 74.21875 31.78125 74.21875 \nQ 42.671875 74.21875 48.875 69.140625 \nQ 55.078125 64.0625 55.078125 55.328125 \nQ 55.078125 49.078125 51.53125 44.71875 \nQ 48 40.375 41.703125 38.8125 \nQ 48.828125 37.15625 52.796875 32.3125 \nQ 56.78125 27.484375 56.78125 20.515625 \nQ 56.78125 9.90625 50.3125 4.234375 \nQ 43.84375 -1.421875 31.78125 -1.421875 \nQ 19.734375 -1.421875 13.25 4.234375 \nQ 6.78125 9.90625 6.78125 20.515625 \nQ 6.78125 27.484375 10.78125 32.3125 \nQ 14.796875 37.15625 21.921875 38.8125 \nz\nM 18.3125 54.390625 \nQ 18.3125 48.734375 21.84375 45.5625 \nQ 25.390625 42.390625 31.78125 42.390625 \nQ 38.140625 42.390625 41.71875 45.5625 \nQ 45.3125 48.734375 45.3125 54.390625 \nQ 45.3125 60.0625 41.71875 63.234375 \nQ 38.140625 66.40625 31.78125 66.40625 \nQ 25.390625 66.40625 21.84375 63.234375 \nQ 18.3125 60.0625 18.3125 54.390625 \nz\n\" id=\"DejaVuSans-56\"/>\n      </defs>\n      <g transform=\"translate(313.626278 239.238437)scale(0.1 -0.1)\">\n       <use xlink:href=\"#DejaVuSans-48\"/>\n       <use x=\"63.623047\" xlink:href=\"#DejaVuSans-46\"/>\n       <use x=\"95.410156\" xlink:href=\"#DejaVuSans-56\"/>\n      </g>\n     </g>\n    </g>\n    <g id=\"xtick_6\">\n     <g id=\"line2d_6\">\n      <g>\n       <use style=\"stroke:#000000;stroke-width:0.8;\" x=\"382.450568\" xlink:href=\"#m3f9976a985\" y=\"224.64\"/>\n      </g>\n     </g>\n     <g id=\"text_6\">\n      <!-- 1.0 -->\n      <defs>\n       <path d=\"M 12.40625 8.296875 \nL 28.515625 8.296875 \nL 28.515625 63.921875 \nL 10.984375 60.40625 \nL 10.984375 69.390625 \nL 28.421875 72.90625 \nL 38.28125 72.90625 \nL 38.28125 8.296875 \nL 54.390625 8.296875 \nL 54.390625 0 \nL 12.40625 0 \nz\n\" id=\"DejaVuSans-49\"/>\n      </defs>\n      <g transform=\"translate(374.499006 239.238437)scale(0.1 -0.1)\">\n       <use xlink:href=\"#DejaVuSans-49\"/>\n       <use x=\"63.623047\" xlink:href=\"#DejaVuSans-46\"/>\n       <use x=\"95.410156\" xlink:href=\"#DejaVuSans-48\"/>\n      </g>\n     </g>\n    </g>\n    <g id=\"text_7\">\n     <!-- loss -->\n     <defs>\n      <path d=\"M 9.421875 75.984375 \nL 18.40625 75.984375 \nL 18.40625 0 \nL 9.421875 0 \nz\n\" id=\"DejaVuSans-108\"/>\n      <path d=\"M 30.609375 48.390625 \nQ 23.390625 48.390625 19.1875 42.75 \nQ 14.984375 37.109375 14.984375 27.296875 \nQ 14.984375 17.484375 19.15625 11.84375 \nQ 23.34375 6.203125 30.609375 6.203125 \nQ 37.796875 6.203125 41.984375 11.859375 \nQ 46.1875 17.53125 46.1875 27.296875 \nQ 46.1875 37.015625 41.984375 42.703125 \nQ 37.796875 48.390625 30.609375 48.390625 \nz\nM 30.609375 56 \nQ 42.328125 56 49.015625 48.375 \nQ 55.71875 40.765625 55.71875 27.296875 \nQ 55.71875 13.875 49.015625 6.21875 \nQ 42.328125 -1.421875 30.609375 -1.421875 \nQ 18.84375 -1.421875 12.171875 6.21875 \nQ 5.515625 13.875 5.515625 27.296875 \nQ 5.515625 40.765625 12.171875 48.375 \nQ 18.84375 56 30.609375 56 \nz\n\" id=\"DejaVuSans-111\"/>\n      <path d=\"M 44.28125 53.078125 \nL 44.28125 44.578125 \nQ 40.484375 46.53125 36.375 47.5 \nQ 32.28125 48.484375 27.875 48.484375 \nQ 21.1875 48.484375 17.84375 46.4375 \nQ 14.5 44.390625 14.5 40.28125 \nQ 14.5 37.15625 16.890625 35.375 \nQ 19.28125 33.59375 26.515625 31.984375 \nL 29.59375 31.296875 \nQ 39.15625 29.25 43.1875 25.515625 \nQ 47.21875 21.78125 47.21875 15.09375 \nQ 47.21875 7.46875 41.1875 3.015625 \nQ 35.15625 -1.421875 24.609375 -1.421875 \nQ 20.21875 -1.421875 15.453125 -0.5625 \nQ 10.6875 0.296875 5.421875 2 \nL 5.421875 11.28125 \nQ 10.40625 8.6875 15.234375 7.390625 \nQ 20.0625 6.109375 24.8125 6.109375 \nQ 31.15625 6.109375 34.5625 8.28125 \nQ 37.984375 10.453125 37.984375 14.40625 \nQ 37.984375 18.0625 35.515625 20.015625 \nQ 33.0625 21.96875 24.703125 23.78125 \nL 21.578125 24.515625 \nQ 13.234375 26.265625 9.515625 29.90625 \nQ 5.8125 33.546875 5.8125 39.890625 \nQ 5.8125 47.609375 11.28125 51.796875 \nQ 16.75 56 26.8125 56 \nQ 31.78125 56 36.171875 55.265625 \nQ 40.578125 54.546875 44.28125 53.078125 \nz\n\" id=\"DejaVuSans-115\"/>\n     </defs>\n     <g transform=\"translate(220.610938 252.916562)scale(0.1 -0.1)\">\n      <use xlink:href=\"#DejaVuSans-108\"/>\n      <use x=\"27.783203\" xlink:href=\"#DejaVuSans-111\"/>\n      <use x=\"88.964844\" xlink:href=\"#DejaVuSans-115\"/>\n      <use x=\"141.064453\" xlink:href=\"#DejaVuSans-115\"/>\n     </g>\n    </g>\n   </g>\n   <g id=\"matplotlib.axis_2\">\n    <g id=\"ytick_1\">\n     <g id=\"line2d_7\">\n      <defs>\n       <path d=\"M 0 0 \nL -3.5 0 \n\" id=\"m6cfa6254ea\" style=\"stroke:#000000;stroke-width:0.8;\"/>\n      </defs>\n      <g>\n       <use style=\"stroke:#000000;stroke-width:0.8;\" x=\"62.86875\" xlink:href=\"#m6cfa6254ea\" y=\"206.433301\"/>\n      </g>\n     </g>\n     <g id=\"text_8\">\n      <!-- 0.8514 -->\n      <defs>\n       <path d=\"M 10.796875 72.90625 \nL 49.515625 72.90625 \nL 49.515625 64.59375 \nL 19.828125 64.59375 \nL 19.828125 46.734375 \nQ 21.96875 47.46875 24.109375 47.828125 \nQ 26.265625 48.1875 28.421875 48.1875 \nQ 40.625 48.1875 47.75 41.5 \nQ 54.890625 34.8125 54.890625 23.390625 \nQ 54.890625 11.625 47.5625 5.09375 \nQ 40.234375 -1.421875 26.90625 -1.421875 \nQ 22.3125 -1.421875 17.546875 -0.640625 \nQ 12.796875 0.140625 7.71875 1.703125 \nL 7.71875 11.625 \nQ 12.109375 9.234375 16.796875 8.0625 \nQ 21.484375 6.890625 26.703125 6.890625 \nQ 35.15625 6.890625 40.078125 11.328125 \nQ 45.015625 15.765625 45.015625 23.390625 \nQ 45.015625 31 40.078125 35.4375 \nQ 35.15625 39.890625 26.703125 39.890625 \nQ 22.75 39.890625 18.8125 39.015625 \nQ 14.890625 38.140625 10.796875 36.28125 \nz\n\" id=\"DejaVuSans-53\"/>\n      </defs>\n      <g transform=\"translate(20.878125 210.23252)scale(0.1 -0.1)\">\n       <use xlink:href=\"#DejaVuSans-48\"/>\n       <use x=\"63.623047\" xlink:href=\"#DejaVuSans-46\"/>\n       <use x=\"95.410156\" xlink:href=\"#DejaVuSans-56\"/>\n       <use x=\"159.033203\" xlink:href=\"#DejaVuSans-53\"/>\n       <use x=\"222.65625\" xlink:href=\"#DejaVuSans-49\"/>\n       <use x=\"286.279297\" xlink:href=\"#DejaVuSans-52\"/>\n      </g>\n     </g>\n    </g>\n    <g id=\"ytick_2\">\n     <g id=\"line2d_8\">\n      <g>\n       <use style=\"stroke:#000000;stroke-width:0.8;\" x=\"62.86875\" xlink:href=\"#m6cfa6254ea\" y=\"164.81799\"/>\n      </g>\n     </g>\n     <g id=\"text_9\">\n      <!-- 0.8516 -->\n      <g transform=\"translate(20.878125 168.617209)scale(0.1 -0.1)\">\n       <use xlink:href=\"#DejaVuSans-48\"/>\n       <use x=\"63.623047\" xlink:href=\"#DejaVuSans-46\"/>\n       <use x=\"95.410156\" xlink:href=\"#DejaVuSans-56\"/>\n       <use x=\"159.033203\" xlink:href=\"#DejaVuSans-53\"/>\n       <use x=\"222.65625\" xlink:href=\"#DejaVuSans-49\"/>\n       <use x=\"286.279297\" xlink:href=\"#DejaVuSans-54\"/>\n      </g>\n     </g>\n    </g>\n    <g id=\"ytick_3\">\n     <g id=\"line2d_9\">\n      <g>\n       <use style=\"stroke:#000000;stroke-width:0.8;\" x=\"62.86875\" xlink:href=\"#m6cfa6254ea\" y=\"123.202679\"/>\n      </g>\n     </g>\n     <g id=\"text_10\">\n      <!-- 0.8518 -->\n      <g transform=\"translate(20.878125 127.001898)scale(0.1 -0.1)\">\n       <use xlink:href=\"#DejaVuSans-48\"/>\n       <use x=\"63.623047\" xlink:href=\"#DejaVuSans-46\"/>\n       <use x=\"95.410156\" xlink:href=\"#DejaVuSans-56\"/>\n       <use x=\"159.033203\" xlink:href=\"#DejaVuSans-53\"/>\n       <use x=\"222.65625\" xlink:href=\"#DejaVuSans-49\"/>\n       <use x=\"286.279297\" xlink:href=\"#DejaVuSans-56\"/>\n      </g>\n     </g>\n    </g>\n    <g id=\"ytick_4\">\n     <g id=\"line2d_10\">\n      <g>\n       <use style=\"stroke:#000000;stroke-width:0.8;\" x=\"62.86875\" xlink:href=\"#m6cfa6254ea\" y=\"81.587368\"/>\n      </g>\n     </g>\n     <g id=\"text_11\">\n      <!-- 0.8520 -->\n      <g transform=\"translate(20.878125 85.386587)scale(0.1 -0.1)\">\n       <use xlink:href=\"#DejaVuSans-48\"/>\n       <use x=\"63.623047\" xlink:href=\"#DejaVuSans-46\"/>\n       <use x=\"95.410156\" xlink:href=\"#DejaVuSans-56\"/>\n       <use x=\"159.033203\" xlink:href=\"#DejaVuSans-53\"/>\n       <use x=\"222.65625\" xlink:href=\"#DejaVuSans-50\"/>\n       <use x=\"286.279297\" xlink:href=\"#DejaVuSans-48\"/>\n      </g>\n     </g>\n    </g>\n    <g id=\"ytick_5\">\n     <g id=\"line2d_11\">\n      <g>\n       <use style=\"stroke:#000000;stroke-width:0.8;\" x=\"62.86875\" xlink:href=\"#m6cfa6254ea\" y=\"39.972057\"/>\n      </g>\n     </g>\n     <g id=\"text_12\">\n      <!-- 0.8522 -->\n      <g transform=\"translate(20.878125 43.771276)scale(0.1 -0.1)\">\n       <use xlink:href=\"#DejaVuSans-48\"/>\n       <use x=\"63.623047\" xlink:href=\"#DejaVuSans-46\"/>\n       <use x=\"95.410156\" xlink:href=\"#DejaVuSans-56\"/>\n       <use x=\"159.033203\" xlink:href=\"#DejaVuSans-53\"/>\n       <use x=\"222.65625\" xlink:href=\"#DejaVuSans-50\"/>\n       <use x=\"286.279297\" xlink:href=\"#DejaVuSans-50\"/>\n      </g>\n     </g>\n    </g>\n    <g id=\"text_13\">\n     <!-- accuracy score -->\n     <defs>\n      <path d=\"M 34.28125 27.484375 \nQ 23.390625 27.484375 19.1875 25 \nQ 14.984375 22.515625 14.984375 16.5 \nQ 14.984375 11.71875 18.140625 8.90625 \nQ 21.296875 6.109375 26.703125 6.109375 \nQ 34.1875 6.109375 38.703125 11.40625 \nQ 43.21875 16.703125 43.21875 25.484375 \nL 43.21875 27.484375 \nz\nM 52.203125 31.203125 \nL 52.203125 0 \nL 43.21875 0 \nL 43.21875 8.296875 \nQ 40.140625 3.328125 35.546875 0.953125 \nQ 30.953125 -1.421875 24.3125 -1.421875 \nQ 15.921875 -1.421875 10.953125 3.296875 \nQ 6 8.015625 6 15.921875 \nQ 6 25.140625 12.171875 29.828125 \nQ 18.359375 34.515625 30.609375 34.515625 \nL 43.21875 34.515625 \nL 43.21875 35.40625 \nQ 43.21875 41.609375 39.140625 45 \nQ 35.0625 48.390625 27.6875 48.390625 \nQ 23 48.390625 18.546875 47.265625 \nQ 14.109375 46.140625 10.015625 43.890625 \nL 10.015625 52.203125 \nQ 14.9375 54.109375 19.578125 55.046875 \nQ 24.21875 56 28.609375 56 \nQ 40.484375 56 46.34375 49.84375 \nQ 52.203125 43.703125 52.203125 31.203125 \nz\n\" id=\"DejaVuSans-97\"/>\n      <path d=\"M 48.78125 52.59375 \nL 48.78125 44.1875 \nQ 44.96875 46.296875 41.140625 47.34375 \nQ 37.3125 48.390625 33.40625 48.390625 \nQ 24.65625 48.390625 19.8125 42.84375 \nQ 14.984375 37.3125 14.984375 27.296875 \nQ 14.984375 17.28125 19.8125 11.734375 \nQ 24.65625 6.203125 33.40625 6.203125 \nQ 37.3125 6.203125 41.140625 7.25 \nQ 44.96875 8.296875 48.78125 10.40625 \nL 48.78125 2.09375 \nQ 45.015625 0.34375 40.984375 -0.53125 \nQ 36.96875 -1.421875 32.421875 -1.421875 \nQ 20.0625 -1.421875 12.78125 6.34375 \nQ 5.515625 14.109375 5.515625 27.296875 \nQ 5.515625 40.671875 12.859375 48.328125 \nQ 20.21875 56 33.015625 56 \nQ 37.15625 56 41.109375 55.140625 \nQ 45.0625 54.296875 48.78125 52.59375 \nz\n\" id=\"DejaVuSans-99\"/>\n      <path d=\"M 8.5 21.578125 \nL 8.5 54.6875 \nL 17.484375 54.6875 \nL 17.484375 21.921875 \nQ 17.484375 14.15625 20.5 10.265625 \nQ 23.53125 6.390625 29.59375 6.390625 \nQ 36.859375 6.390625 41.078125 11.03125 \nQ 45.3125 15.671875 45.3125 23.6875 \nL 45.3125 54.6875 \nL 54.296875 54.6875 \nL 54.296875 0 \nL 45.3125 0 \nL 45.3125 8.40625 \nQ 42.046875 3.421875 37.71875 1 \nQ 33.40625 -1.421875 27.6875 -1.421875 \nQ 18.265625 -1.421875 13.375 4.4375 \nQ 8.5 10.296875 8.5 21.578125 \nz\nM 31.109375 56 \nz\n\" id=\"DejaVuSans-117\"/>\n      <path d=\"M 41.109375 46.296875 \nQ 39.59375 47.171875 37.8125 47.578125 \nQ 36.03125 48 33.890625 48 \nQ 26.265625 48 22.1875 43.046875 \nQ 18.109375 38.09375 18.109375 28.8125 \nL 18.109375 0 \nL 9.078125 0 \nL 9.078125 54.6875 \nL 18.109375 54.6875 \nL 18.109375 46.1875 \nQ 20.953125 51.171875 25.484375 53.578125 \nQ 30.03125 56 36.53125 56 \nQ 37.453125 56 38.578125 55.875 \nQ 39.703125 55.765625 41.0625 55.515625 \nz\n\" id=\"DejaVuSans-114\"/>\n      <path d=\"M 32.171875 -5.078125 \nQ 28.375 -14.84375 24.75 -17.8125 \nQ 21.140625 -20.796875 15.09375 -20.796875 \nL 7.90625 -20.796875 \nL 7.90625 -13.28125 \nL 13.1875 -13.28125 \nQ 16.890625 -13.28125 18.9375 -11.515625 \nQ 21 -9.765625 23.484375 -3.21875 \nL 25.09375 0.875 \nL 2.984375 54.6875 \nL 12.5 54.6875 \nL 29.59375 11.921875 \nL 46.6875 54.6875 \nL 56.203125 54.6875 \nz\n\" id=\"DejaVuSans-121\"/>\n      <path id=\"DejaVuSans-32\"/>\n      <path d=\"M 56.203125 29.59375 \nL 56.203125 25.203125 \nL 14.890625 25.203125 \nQ 15.484375 15.921875 20.484375 11.0625 \nQ 25.484375 6.203125 34.421875 6.203125 \nQ 39.59375 6.203125 44.453125 7.46875 \nQ 49.3125 8.734375 54.109375 11.28125 \nL 54.109375 2.78125 \nQ 49.265625 0.734375 44.1875 -0.34375 \nQ 39.109375 -1.421875 33.890625 -1.421875 \nQ 20.796875 -1.421875 13.15625 6.1875 \nQ 5.515625 13.8125 5.515625 26.8125 \nQ 5.515625 40.234375 12.765625 48.109375 \nQ 20.015625 56 32.328125 56 \nQ 43.359375 56 49.78125 48.890625 \nQ 56.203125 41.796875 56.203125 29.59375 \nz\nM 47.21875 32.234375 \nQ 47.125 39.59375 43.09375 43.984375 \nQ 39.0625 48.390625 32.421875 48.390625 \nQ 24.90625 48.390625 20.390625 44.140625 \nQ 15.875 39.890625 15.1875 32.171875 \nz\n\" id=\"DejaVuSans-101\"/>\n     </defs>\n     <g transform=\"translate(14.798438 153.612187)rotate(-90)scale(0.1 -0.1)\">\n      <use xlink:href=\"#DejaVuSans-97\"/>\n      <use x=\"61.279297\" xlink:href=\"#DejaVuSans-99\"/>\n      <use x=\"116.259766\" xlink:href=\"#DejaVuSans-99\"/>\n      <use x=\"171.240234\" xlink:href=\"#DejaVuSans-117\"/>\n      <use x=\"234.619141\" xlink:href=\"#DejaVuSans-114\"/>\n      <use x=\"275.732422\" xlink:href=\"#DejaVuSans-97\"/>\n      <use x=\"337.011719\" xlink:href=\"#DejaVuSans-99\"/>\n      <use x=\"391.992188\" xlink:href=\"#DejaVuSans-121\"/>\n      <use x=\"451.171875\" xlink:href=\"#DejaVuSans-32\"/>\n      <use x=\"482.958984\" xlink:href=\"#DejaVuSans-115\"/>\n      <use x=\"535.058594\" xlink:href=\"#DejaVuSans-99\"/>\n      <use x=\"590.039062\" xlink:href=\"#DejaVuSans-111\"/>\n      <use x=\"651.220703\" xlink:href=\"#DejaVuSans-114\"/>\n      <use x=\"692.302734\" xlink:href=\"#DejaVuSans-101\"/>\n     </g>\n    </g>\n   </g>\n   <g id=\"line2d_12\">\n    <path clip-path=\"url(#p89f59b5f56)\" d=\"M 78.086932 88.219809 \nL 382.450568 17.083636 \n\" style=\"fill:none;stroke:#0000ff;stroke-linecap:square;stroke-width:1.5;\"/>\n   </g>\n   <g id=\"line2d_13\">\n    <path clip-path=\"url(#p89f59b5f56)\" d=\"M 78.086932 214.756364 \nL 382.450568 162.737225 \n\" style=\"fill:none;stroke:#ff0000;stroke-linecap:square;stroke-width:1.5;\"/>\n   </g>\n   <g id=\"patch_3\">\n    <path d=\"M 62.86875 224.64 \nL 62.86875 7.2 \n\" style=\"fill:none;stroke:#000000;stroke-linecap:square;stroke-linejoin:miter;stroke-width:0.8;\"/>\n   </g>\n   <g id=\"patch_4\">\n    <path d=\"M 397.66875 224.64 \nL 397.66875 7.2 \n\" style=\"fill:none;stroke:#000000;stroke-linecap:square;stroke-linejoin:miter;stroke-width:0.8;\"/>\n   </g>\n   <g id=\"patch_5\">\n    <path d=\"M 62.86875 224.64 \nL 397.66875 224.64 \n\" style=\"fill:none;stroke:#000000;stroke-linecap:square;stroke-linejoin:miter;stroke-width:0.8;\"/>\n   </g>\n   <g id=\"patch_6\">\n    <path d=\"M 62.86875 7.2 \nL 397.66875 7.2 \n\" style=\"fill:none;stroke:#000000;stroke-linecap:square;stroke-linejoin:miter;stroke-width:0.8;\"/>\n   </g>\n   <g id=\"legend_1\">\n    <g id=\"patch_7\">\n     <path d=\"M 69.86875 44.55625 \nL 125.14375 44.55625 \nQ 127.14375 44.55625 127.14375 42.55625 \nL 127.14375 14.2 \nQ 127.14375 12.2 125.14375 12.2 \nL 69.86875 12.2 \nQ 67.86875 12.2 67.86875 14.2 \nL 67.86875 42.55625 \nQ 67.86875 44.55625 69.86875 44.55625 \nz\n\" style=\"fill:#ffffff;opacity:0.8;stroke:#cccccc;stroke-linejoin:miter;\"/>\n    </g>\n    <g id=\"line2d_14\">\n     <path d=\"M 71.86875 20.298437 \nL 91.86875 20.298437 \n\" style=\"fill:none;stroke:#0000ff;stroke-linecap:square;stroke-width:1.5;\"/>\n    </g>\n    <g id=\"line2d_15\"/>\n    <g id=\"text_14\">\n     <!-- train -->\n     <defs>\n      <path d=\"M 18.3125 70.21875 \nL 18.3125 54.6875 \nL 36.8125 54.6875 \nL 36.8125 47.703125 \nL 18.3125 47.703125 \nL 18.3125 18.015625 \nQ 18.3125 11.328125 20.140625 9.421875 \nQ 21.96875 7.515625 27.59375 7.515625 \nL 36.8125 7.515625 \nL 36.8125 0 \nL 27.59375 0 \nQ 17.1875 0 13.234375 3.875 \nQ 9.28125 7.765625 9.28125 18.015625 \nL 9.28125 47.703125 \nL 2.6875 47.703125 \nL 2.6875 54.6875 \nL 9.28125 54.6875 \nL 9.28125 70.21875 \nz\n\" id=\"DejaVuSans-116\"/>\n      <path d=\"M 9.421875 54.6875 \nL 18.40625 54.6875 \nL 18.40625 0 \nL 9.421875 0 \nz\nM 9.421875 75.984375 \nL 18.40625 75.984375 \nL 18.40625 64.59375 \nL 9.421875 64.59375 \nz\n\" id=\"DejaVuSans-105\"/>\n      <path d=\"M 54.890625 33.015625 \nL 54.890625 0 \nL 45.90625 0 \nL 45.90625 32.71875 \nQ 45.90625 40.484375 42.875 44.328125 \nQ 39.84375 48.1875 33.796875 48.1875 \nQ 26.515625 48.1875 22.3125 43.546875 \nQ 18.109375 38.921875 18.109375 30.90625 \nL 18.109375 0 \nL 9.078125 0 \nL 9.078125 54.6875 \nL 18.109375 54.6875 \nL 18.109375 46.1875 \nQ 21.34375 51.125 25.703125 53.5625 \nQ 30.078125 56 35.796875 56 \nQ 45.21875 56 50.046875 50.171875 \nQ 54.890625 44.34375 54.890625 33.015625 \nz\n\" id=\"DejaVuSans-110\"/>\n     </defs>\n     <g transform=\"translate(99.86875 23.798437)scale(0.1 -0.1)\">\n      <use xlink:href=\"#DejaVuSans-116\"/>\n      <use x=\"39.208984\" xlink:href=\"#DejaVuSans-114\"/>\n      <use x=\"80.322266\" xlink:href=\"#DejaVuSans-97\"/>\n      <use x=\"141.601562\" xlink:href=\"#DejaVuSans-105\"/>\n      <use x=\"169.384766\" xlink:href=\"#DejaVuSans-110\"/>\n     </g>\n    </g>\n    <g id=\"line2d_16\">\n     <path d=\"M 71.86875 34.976562 \nL 91.86875 34.976562 \n\" style=\"fill:none;stroke:#ff0000;stroke-linecap:square;stroke-width:1.5;\"/>\n    </g>\n    <g id=\"line2d_17\"/>\n    <g id=\"text_15\">\n     <!-- test -->\n     <g transform=\"translate(99.86875 38.476562)scale(0.1 -0.1)\">\n      <use xlink:href=\"#DejaVuSans-116\"/>\n      <use x=\"39.208984\" xlink:href=\"#DejaVuSans-101\"/>\n      <use x=\"100.732422\" xlink:href=\"#DejaVuSans-115\"/>\n      <use x=\"152.832031\" xlink:href=\"#DejaVuSans-116\"/>\n     </g>\n    </g>\n   </g>\n  </g>\n </g>\n <defs>\n  <clipPath id=\"p89f59b5f56\">\n   <rect height=\"217.44\" width=\"334.8\" x=\"62.86875\" y=\"7.2\"/>\n  </clipPath>\n </defs>\n</svg>\n",
            "image/png": "[encoded data removed]"
          },
          "metadata": {
            "needs_background": "light"
          }
        },
        {
          "output_type": "stream",
          "name": "stdout",
          "text": "loss = ['deviance', 'exponential']\ntrain_acc = [0.851968125, 0.85231]\ntest_acc = [0.85136, 0.85161]\ntime per param = [318.69321179389954, 537.5090651512146]\n"
        }
      ],
      "source": [
        "# graph\n",
        "hyperparameterplot(hyperparameter_list, model_acc.train_acc, model_acc.test_acc, hyperparameter_name)\n",
        "print(f'{hyperparameter_name} = {hyperparameter_list}')\n",
        "print(f'train_acc = {model_acc.train_acc}\\ntest_acc = {model_acc.test_acc}')\n",
        "print(f'time per param = {time_per_session}')"
      ]
    },
    {
      "cell_type": "markdown",
      "metadata": {},
      "source": [
        "exponential is slightly better but also slighty overfitting and takes almost double the time to run. The gain is not worth the cost. Keep it with deviance."
      ]
    },
    {
      "cell_type": "markdown",
      "metadata": {},
      "source": [
        "## Next:\n",
        "* learning rate\n",
        "* subsample\n",
        "* max_depth\n"
      ]
    },
    {
      "cell_type": "code",
      "execution_count": null,
      "metadata": {},
      "outputs": [],
      "source": [
        "from sklearn.ensemble import GradientBoostingClassifier\n",
        "# hyperparameters - testing\n",
        "learning_rate = [0.0001, 0.001, 0.01, 0.1]\n",
        "hyperparameter_list = learning_rate.copy()\n",
        "hyperparameter_name = 'learning_rate'\n",
        "# hyperparameters - to test\n",
        "subsample = 1.0\n",
        "min_samples_leaf = 1\n",
        "min_samples_split = 2\n",
        "min_weight_fraction_leaf = 0.0\n",
        "min_impurity_decrease = 0.0\n",
        "min_impurity_split = None\n",
        "init = None \n",
        "max_features = None \n",
        "max_leaf_nodes = None\n",
        "warm_start = False\n",
        "validation_fraction = 0.1 \n",
        "n_iter_no_change = None\n",
        "tol = 1e-4 \n",
        "ccp_alpha = 0.0\n",
        "# hyperparameters - test - low priorty\n",
        "criterion = 'friedman_mse' # generally best\n",
        "# hyperparameters - determined - can tune further\n",
        "n_estimators = 20\n",
        "max_depth = 4 # 9 or more can be better, but to limit time spend on tuning others, keep this low when testing\n",
        "# hyperparameters - determined - no further tuning\n",
        "verbose = 1\n",
        "random_state = 318\n",
        "loss = 'deviance'\n",
        "\n",
        "# test hyperparameter\n",
        "model_acc = test_model()\n",
        "timer = ml_timer()\n",
        "for parameter in hyperparameter_list:\n",
        "    print(f'running: {hyperparameter_name} - {parameter}')\n",
        "    timer.param_start()\n",
        "    model = GradientBoostingClassifier(verbose=verbose, n_estimators=n_estimators,\n",
        "                random_state=random_state, max_depth=max_depth, loss=loss, \n",
        "                learning_rate=parameter, \n",
        "                subsample=subsample, criterion=criterion,\n",
        "                min_samples_split=min_samples_split, min_samples_leaf=min_samples_leaf,\n",
        "                min_weight_fraction_leaf=min_weight_fraction_leaf, \n",
        "                min_impurity_decrease=min_impurity_decrease, \n",
        "                min_impurity_split=min_impurity_split, init=init, \n",
        "                max_features=max_features, \n",
        "                max_leaf_nodes=max_leaf_nodes, warm_start=warm_start, \n",
        "                validation_fraction=validation_fraction, \n",
        "                n_iter_no_change=n_iter_no_change, tol=tol, ccp_alpha=ccp_alpha\n",
        "                )\n",
        "    model_acc.score_data(model, data)\n",
        "    timer.param_end()\n",
        "# end time\n",
        "timer.session_end()\n",
        "time_per_session = timer.get_time()\n",
        "# graph\n",
        "hyperparameterplot(hyperparameter_list, model_acc.train_acc, model_acc.test_acc, hyperparameter_name)\n",
        "print(f'{hyperparameter_name} = {hyperparameter_list}')\n",
        "print(f'train_acc = {model_acc.train_acc}\\ntest_acc = {model_acc.test_acc}')\n",
        "print(f'time per param = {time_per_session}')"
      ]
    },
    {
      "cell_type": "code",
      "execution_count": null,
      "metadata": {},
      "outputs": [],
      "source": []
    }
  ],
  "metadata": {
    "colab": {
      "name": "StochasticGradientBoosting_20200619-1153.ipynb",
      "provenance": [],
      "collapsed_sections": []
    },
    "kernelspec": {
      "name": "python3",
      "display_name": "Python 3"
    }
  },
  "nbformat": 4,
  "nbformat_minor": 0
}