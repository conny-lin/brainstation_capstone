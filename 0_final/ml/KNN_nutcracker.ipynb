{
 "cells": [
  {
   "cell_type": "markdown",
   "metadata": {},
   "source": [
    "# KNN Nutcracker\n",
    "Conny Lin | June 11, 2020 | update June 16, 2020"
   ]
  },
  {
   "cell_type": "code",
   "execution_count": 1,
   "metadata": {},
   "outputs": [
    {
     "name": "stdout",
     "output_type": "stream",
     "text": [
      "getting host computer specific paths\n",
      "None\n",
      "None\n"
     ]
    }
   ],
   "source": [
    "# import local libraries using host specific paths\n",
    "import socket, sys, time, datetime, os\n",
    "import numpy as np\n",
    "import pandas as pd\n",
    "import matplotlib.pyplot as plt\n",
    "\n",
    "# get paths for local computer\n",
    "hostname = socket.gethostname().split('.')[0]\n",
    "# set local path settings based on computer host\n",
    "if hostname == 'PFC':\n",
    "    pylibrary = '/Users/connylin/Dropbox/Code/proj'\n",
    "elif hostname == 'Angular-Gyrus':\n",
    "    pylibrary = '/Users/connylin/Code/proj'\n",
    "else:\n",
    "    assert False, 'host computer not regonized'\n",
    "\n",
    "# import local variables\n",
    "if pylibrary not in sys.path:\n",
    "    sys.path.insert(1, pylibrary)\n",
    "from brainstation_capstone.ml.toolbox.mlSOP import test_model\n",
    "from brainstation_capstone.ml.toolbox.mlSOP import ml_timer\n",
    "from brainstation_capstone.ml.toolbox.mlSOP import ModelEvaluation\n",
    "from brainstation_capstone.system import host_paths\n",
    "localpaths = host_paths.get(hostname)\n",
    "data_dir = os.path.join(localpaths['Capstone'], 'data')\n",
    "\n",
    "# report latest run\n",
    "print(f'last ran on: {datetime.datetime.now()} PT')"
   ]
  },
  {
   "cell_type": "code",
   "execution_count": null,
   "metadata": {},
   "outputs": [],
   "source": [
    "\n",
    "# import data\n",
    "from brainstation_capstone.etl.loaddata import nutcracker\n",
    "data = nutcracker(localpaths, 'nutcracker', ['X_train','X_test','y_train','y_test'])"
   ]
  },
  {
   "cell_type": "markdown",
   "metadata": {},
   "source": [
    "## rough tune - takes forever to run. Discard this option"
   ]
  },
  {
   "cell_type": "code",
   "execution_count": null,
   "metadata": {},
   "outputs": [
    {
     "name": "stdout",
     "output_type": "stream",
     "text": [
      "finished fitting model\n"
     ]
    }
   ],
   "source": [
    "# rough tune\n",
    "from sklearn.neighbors import KNeighborsClassifier\n",
    "KNN_model = KNeighborsClassifier(n_neighbors=3)\n",
    "KNN_model.fit(X_train, y_train)\n",
    "print('finished fitting model')\n",
    "print(f'train score: {KNN_model.score(X_train, y_train)}')\n",
    "print(f'test score: {KNN_model.score(X_test, y_test)}')"
   ]
  },
  {
   "cell_type": "code",
   "execution_count": null,
   "metadata": {},
   "outputs": [],
   "source": []
  },
  {
   "cell_type": "code",
   "execution_count": null,
   "metadata": {},
   "outputs": [],
   "source": [
    "# rough tune\n",
    "# example of grid searching key hyperparametres for KNeighborsClassifier\n",
    "from sklearn.model_selection import GridSearchCV\n",
    "from sklearn.neighbors import KNeighborsClassifier\n",
    "# define models and parameters\n",
    "model = KNeighborsClassifier()\n",
    "n_neighbors = range(1, 21, 2)\n",
    "weights = ['uniform', 'distance']\n",
    "metric = ['euclidean', 'manhattan', 'minkowski']\n",
    "# define grid search\n",
    "grid = dict(n_neighbors=n_neighbors,weights=weights,metric=metric)\n",
    "cv = 5 #cv = RepeatedStratifiedKFold(n_splits=10, n_repeats=3, random_state=1)\n",
    "grid_search = GridSearchCV(estimator=model, param_grid=grid, n_jobs=-1, cv=cv, \n",
    "                           scoring='accuracy',error_score=0, verbose=5)\n",
    "grid_result = grid_search.fit(X_train, y_train)\n",
    "# summarize results\n",
    "means = grid_result.cv_results_['mean_test_score']\n",
    "stds = grid_result.cv_results_['std_test_score']\n",
    "params = grid_result.cv_results_['params']\n",
    "for mean, stdev, param in zip(means, stds, params):\n",
    "    print(\"%f (%f) with: %r\" % (mean, stdev, param))\n",
    "print(\"Best: %f using %s\" % (grid_result.best_score_, grid_result.best_params_))"
   ]
  },
  {
   "cell_type": "markdown",
   "metadata": {},
   "source": [
    "## tune n_neighbors"
   ]
  },
  {
   "cell_type": "code",
   "execution_count": null,
   "metadata": {},
   "outputs": [],
   "source": [
    "\n",
    "from sklearn.ensemble import GradientBoostingClassifier\n",
    "# hyperparameters - testing\n",
    "learning_rate = np.arange(0.9, 1, 0.02)  # max tested 0.1 can be more (There is a trade-off between learning_rate and n_estimators)\n",
    "hyperparameter_list = learning_rate.copy()\n",
    "hyperparameter_name = 'learning_rate'\n",
    "# hyperparameters - determined - can tune further\n",
    "subsample = 0.8 # can tune between 0.99 to 0.5\n",
    "max_depth = 4 # 9 or more can be better, but to limit time spend on tuning others, keep this low when testing\n",
    "n_estimators = 100 # more better, but takes a lot more time.\n",
    "# hyperparameters - determined - no further tuning\n",
    "verbose = 1\n",
    "random_state = 318\n",
    "loss = 'deviance'\n",
    "# hyperparameters - to test\n",
    "min_samples_leaf = 1\n",
    "min_samples_split = 2\n",
    "min_weight_fraction_leaf = 0.0\n",
    "min_impurity_decrease = 0.0\n",
    "min_impurity_split = None\n",
    "init = None \n",
    "max_features = None \n",
    "max_leaf_nodes = None\n",
    "validation_fraction = 0.1 \n",
    "n_iter_no_change = None\n",
    "tol = 1e-4 \n",
    "ccp_alpha = 0.0\n",
    "# hyperparameters - test - low priorty\n",
    "criterion = 'friedman_mse' # generally best\n",
    "warm_start = False\n",
    "\n",
    "\n",
    "# test hyperparameter\n",
    "model_acc = test_model()\n",
    "timer = ml_timer()\n",
    "for parameter in hyperparameter_list:\n",
    "    print(f'running: {hyperparameter_name} = {parameter}')\n",
    "    timer.param_start()\n",
    "    model = GradientBoostingClassifier(verbose=verbose, random_state=random_state, \n",
    "                warm_start=warm_start, loss=loss, \n",
    "                max_depth=max_depth, n_estimators=n_estimators,\n",
    "                learning_rate=parameter, \n",
    "                subsample=subsample, \n",
    "                max_features=max_features, criterion=criterion,\n",
    "                min_samples_split=min_samples_split, min_samples_leaf=min_samples_leaf,\n",
    "                min_weight_fraction_leaf=min_weight_fraction_leaf, \n",
    "                min_impurity_decrease=min_impurity_decrease, \n",
    "                min_impurity_split=min_impurity_split, init=init, \n",
    "                max_leaf_nodes=max_leaf_nodes,  \n",
    "                validation_fraction=validation_fraction, \n",
    "                n_iter_no_change=n_iter_no_change, tol=tol, ccp_alpha=ccp_alpha\n",
    "                )\n",
    "    model_acc.score_data(model, data)\n",
    "    timer.param_end()\n",
    "    print(model)\n",
    "# end time\n",
    "timer.session_end()\n",
    "time_per_session = timer.get_time()\n",
    "# graph\n",
    "hyperparameterplot(hyperparameter_list, model_acc.train_acc, model_acc.test_acc, hyperparameter_name)\n",
    "print(f'{hyperparameter_name} = {hyperparameter_list}')\n",
    "print(f'train_acc = {model_acc.train_acc}\\ntest_acc = {model_acc.test_acc}')\n",
    "print(f'time per param = {time_per_session}')\n",
    "\n",
    "from sklearn.ensemble import GradientBoostingClassifier\n",
    "# hyperparameters - testing\n",
    "learning_rate = np.arange(0.9, 1, 0.02)  # max tested 0.1 can be more (There is a trade-off between learning_rate and n_estimators)\n",
    "hyperparameter_list = learning_rate.copy()\n",
    "hyperparameter_name = 'learning_rate'\n",
    "# hyperparameters - determined - can tune further\n",
    "subsample = 0.8 # can tune between 0.99 to 0.5\n",
    "max_depth = 4 # 9 or more can be better, but to limit time spend on tuning others, keep this low when testing\n",
    "n_estimators = 100 # more better, but takes a lot more time.\n",
    "# hyperparameters - determined - no further tuning\n",
    "verbose = 1\n",
    "random_state = 318\n",
    "loss = 'deviance'\n",
    "# hyperparameters - to test\n",
    "min_samples_leaf = 1\n",
    "min_samples_split = 2\n",
    "min_weight_fraction_leaf = 0.0\n",
    "min_impurity_decrease = 0.0\n",
    "min_impurity_split = None\n",
    "init = None \n",
    "max_features = None \n",
    "max_leaf_nodes = None\n",
    "validation_fraction = 0.1 \n",
    "n_iter_no_change = None\n",
    "tol = 1e-4 \n",
    "ccp_alpha = 0.0\n",
    "# hyperparameters - test - low priorty\n",
    "criterion = 'friedman_mse' # generally best\n",
    "warm_start = False\n",
    "\n",
    "\n",
    "# test hyperparameter\n",
    "model_acc = test_model()\n",
    "timer = ml_timer()\n",
    "for parameter in hyperparameter_list:\n",
    "    print(f'running: {hyperparameter_name} = {parameter}')\n",
    "    timer.param_start()\n",
    "    model = GradientBoostingClassifier(verbose=verbose, random_state=random_state, \n",
    "                warm_start=warm_start, loss=loss, \n",
    "                max_depth=max_depth, n_estimators=n_estimators,\n",
    "                learning_rate=parameter, \n",
    "                subsample=subsample, \n",
    "                max_features=max_features, criterion=criterion,\n",
    "                min_samples_split=min_samples_split, min_samples_leaf=min_samples_leaf,\n",
    "                min_weight_fraction_leaf=min_weight_fraction_leaf, \n",
    "                min_impurity_decrease=min_impurity_decrease, \n",
    "                min_impurity_split=min_impurity_split, init=init, \n",
    "                max_leaf_nodes=max_leaf_nodes,  \n",
    "                validation_fraction=validation_fraction, \n",
    "                n_iter_no_change=n_iter_no_change, tol=tol, ccp_alpha=ccp_alpha\n",
    "                )\n",
    "    model_acc.score_data(model, data)\n",
    "    timer.param_end()\n",
    "    print(model)\n",
    "# end time\n",
    "timer.session_end()\n",
    "time_per_session = timer.get_time()\n",
    "# graph\n",
    "hyperparameterplot(hyperparameter_list, model_acc.train_acc, model_acc.test_acc, hyperparameter_name)\n",
    "print(f'{hyperparameter_name} = {hyperparameter_list}')\n",
    "print(f'train_acc = {model_acc.train_acc}\\ntest_acc = {model_acc.test_acc}')\n",
    "print(f'time per param = {time_per_session}')\n"
   ]
  },
  {
   "cell_type": "code",
   "execution_count": null,
   "metadata": {},
   "outputs": [],
   "source": []
  }
 ],
 "metadata": {
  "kernelspec": {
   "display_name": "Python 3",
   "language": "python",
   "name": "python3"
  },
  "language_info": {
   "codemirror_mode": {
    "name": "ipython",
    "version": 3
   },
   "file_extension": ".py",
   "mimetype": "text/x-python",
   "name": "python",
   "nbconvert_exporter": "python",
   "pygments_lexer": "ipython3",
   "version": "3.6.10"
  }
 },
 "nbformat": 4,
 "nbformat_minor": 4
}