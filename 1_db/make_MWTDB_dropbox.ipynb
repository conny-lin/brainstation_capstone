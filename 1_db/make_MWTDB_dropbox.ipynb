{
 "cells": [
  {
   "cell_type": "code",
   "execution_count": null,
   "metadata": {},
   "outputs": [],
   "source": [
    "# make MWTDB for dropbox\n",
    "# Conny Lin  | June 5, 2020"
   ]
  },
  {
   "cell_type": "code",
   "execution_count": 1,
   "metadata": {},
   "outputs": [
    {
     "name": "stdout",
     "output_type": "stream",
     "text": [
      "Searching for MWT folders in dir: /Users/connylin/Dropbox/MWT/db\n",
      "\n",
      "\tThis will take a while...\n",
      "\t\tdone\n",
      "\t\t7294 MWT folders found\n"
     ]
    }
   ],
   "source": [
    "# load library\n",
    "import sys\n",
    "import pandas as pd\n",
    "import numpy as np\n",
    "\n",
    "# import functions\n",
    "dir_function_collection = [\n",
    "'/Users/connylin/Dropbox/Code/language/python_lib/localpackage/mwt',\n",
    "'/Users/connylin/Dropbox/CA/ED _20200119 Brain Station Data Science Diploma/Capstone/brainstation_capstone/0_lib'\n",
    "]\n",
    "for p in dir_function_collection:\n",
    "    sys.path.insert(1, p)\n",
    "import BrainStationLib as bs\n",
    "\n",
    "# define global varialbes/paths\n",
    "pDropbox_home = '/Users/connylin/Dropbox/MWT/db'\n",
    "\n",
    "# create MWTDB for dropbox folders\n",
    "pMWT_dropbox = bs.searchMWTplates(pDropbox_home)\n",
    "MWTDB = bs.makeMWTDB(pMWT_dropbox)\n",
    "MWTDB.to_csv('/Users/connylin/Dropbox/MWT/db/MWTDB.csv')"
   ]
  },
  {
   "cell_type": "code",
   "execution_count": null,
   "metadata": {},
   "outputs": [],
   "source": []
  },
  {
   "cell_type": "code",
   "execution_count": null,
   "metadata": {},
   "outputs": [],
   "source": []
  }
 ],
 "metadata": {
  "kernelspec": {
   "display_name": "Python 3",
   "language": "python",
   "name": "python3"
  },
  "language_info": {
   "codemirror_mode": {
    "name": "ipython",
    "version": 3
   },
   "file_extension": ".py",
   "mimetype": "text/x-python",
   "name": "python",
   "nbconvert_exporter": "python",
   "pygments_lexer": "ipython3",
   "version": "3.7.7"
  }
 },
 "nbformat": 4,
 "nbformat_minor": 4
}
