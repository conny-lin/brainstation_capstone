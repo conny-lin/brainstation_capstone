{
 "cells": [
  {
   "cell_type": "code",
   "execution_count": 1,
   "metadata": {},
   "outputs": [],
   "source": [
    "# process matlab produced csv and convert pickle back to csv\n",
    "# Conny Lin | June 5, 2020"
   ]
  },
  {
   "cell_type": "code",
   "execution_count": 19,
   "metadata": {},
   "outputs": [],
   "source": [
    "# load library\n",
    "import os\n",
    "import sys\n",
    "import pickle\n",
    "import time\n",
    "import numpy as np\n",
    "import pandas as pd\n",
    "import subprocess\n",
    "import glob\n"
   ]
  },
  {
   "cell_type": "code",
   "execution_count": 3,
   "metadata": {},
   "outputs": [],
   "source": [
    "# import functions\n",
    "dir_function_collection = [\n",
    "'/Users/connylin/Dropbox/Code/language/python_lib/localpackage/mwt',\n",
    "'/Users/connylin/Dropbox/CA/ED _20200119 Brain Station Data Science Diploma/Capstone/brainstation_capstone/0_lib'\n",
    "]\n",
    "for p in dir_function_collection:\n",
    "    sys.path.insert(1, p)\n",
    "    \n",
    "from MWT import testadd \n",
    "testadd(1)\n",
    "\n",
    "import BrainStationLib as bs"
   ]
  },
  {
   "cell_type": "code",
   "execution_count": 4,
   "metadata": {},
   "outputs": [],
   "source": [
    "# define global varialbes/paths\n",
    "pCapstone_output = '/Users/connylin/Dropbox/CA/ED _20200119 Brain Station Data Science Diploma/Capstone/data'\n",
    "pDropbox_home = '/Users/connylin/Dropbox/MWT/db'"
   ]
  },
  {
   "cell_type": "code",
   "execution_count": 5,
   "metadata": {},
   "outputs": [],
   "source": [
    "# look at which folders have trinity.csv and trinity_meta.csv to process\n",
    "# get all trinity.csv file paths\n",
    "ptrinity_csv_list = glob.glob(pDropbox_home+'/*/*/*/*/trinity_idin.csv')"
   ]
  },
  {
   "cell_type": "code",
   "execution_count": 6,
   "metadata": {},
   "outputs": [
    {
     "name": "stdout",
     "output_type": "stream",
     "text": [
      "/Users/connylin/Dropbox/MWT/db/MWT/20120121C_SS_100s30x10s10s/N2_ER6d_c/20120121_125708/trinity_idin.csv\n"
     ]
    }
   ],
   "source": [
    "# for each file ...\n",
    "i = 0\n",
    "# get trinity.csv file path\n",
    "ptrinity_csv = ptrinity_csv_list[i]\n",
    "# get plate dir\n",
    "pplate = os.path.dirname(ptrinity_csv)\n",
    "# check if meta exist in the same folder\n",
    "ptrinity_meta_expected = os.path.join(pplate,'trinity_meta.csv')"
   ]
  },
  {
   "cell_type": "code",
   "execution_count": 21,
   "metadata": {},
   "outputs": [
    {
     "name": "stdout",
     "output_type": "stream",
     "text": [
      "1.761991024017334\n"
     ]
    }
   ],
   "source": [
    "# check if have trinity pickle file exist \n",
    "ptrinity_picke = os.path.join(pCapstone_output, 'trinity_all_worms.pickle')\n",
    "# if so, skip the loop merge and delete\n",
    "if not os.path.isfile(ptrinity_picke):\n",
    "    st = time.time()\n",
    "    # load csv\n",
    "    td = bs.TrinityData(ptrinity_csv)\n",
    "    td.loaddata();\n",
    "    et= time.time()\n",
    "    print(et-st)\n",
    "    # create ethanol 0/1 column\n",
    "    td.addetohlabel()\n",
    "    # create plate id column\n",
    "    \n",
    "    # add to trinity.csv\n",
    "    ptrinity_csv_output = os.path.join(pplate,'trinity.csv')\n",
    "\n",
    "    # output as trinity pickle"
   ]
  },
  {
   "cell_type": "code",
   "execution_count": 25,
   "metadata": {},
   "outputs": [],
   "source": [
    "ptrinity_pickle_list = glob.glob(pDropbox_home+'/*/*/*/*/trinity_all_worms.pickle')\n",
    "# delete trinity.csv and trinity_meta.csv files"
   ]
  },
  {
   "cell_type": "code",
   "execution_count": 26,
   "metadata": {},
   "outputs": [
    {
     "data": {
      "text/plain": [
       "'/Users/connylin/Dropbox/MWT/db/MWT/20140824X_DC_100s30x60s10s_Etoh60sISI/NM1630_400mM/20140824_163724/trinity_all_worms.pickle'"
      ]
     },
     "execution_count": 26,
     "metadata": {},
     "output_type": "execute_result"
    }
   ],
   "source": [
    "# check pickle/csv which one smaller\n",
    "pickle.load(open(ptrinity_pickle_list[0], 'rb'))\n"
   ]
  },
  {
   "cell_type": "code",
   "execution_count": 27,
   "metadata": {},
   "outputs": [
    {
     "data": {
      "text/plain": [
       "['trinity_idin.csv',\n",
       " '20120121_125708',\n",
       " 'N2_ER6d_c',\n",
       " '20120121C_SS_100s30x10s10s',\n",
       " 'MWT',\n",
       " 'db',\n",
       " 'MWT',\n",
       " 'Dropbox',\n",
       " 'connylin',\n",
       " 'Users',\n",
       " '']"
      ]
     },
     "execution_count": 27,
     "metadata": {},
     "output_type": "execute_result"
    }
   ],
   "source": [
    "td.path_components"
   ]
  },
  {
   "cell_type": "code",
   "execution_count": null,
   "metadata": {},
   "outputs": [],
   "source": []
  },
  {
   "cell_type": "code",
   "execution_count": null,
   "metadata": {},
   "outputs": [],
   "source": []
  }
 ],
 "metadata": {
  "kernelspec": {
   "display_name": "Python 3",
   "language": "python",
   "name": "python3"
  },
  "language_info": {
   "codemirror_mode": {
    "name": "ipython",
    "version": 3
   },
   "file_extension": ".py",
   "mimetype": "text/x-python",
   "name": "python",
   "nbconvert_exporter": "python",
   "pygments_lexer": "ipython3",
   "version": "3.7.7"
  }
 },
 "nbformat": 4,
 "nbformat_minor": 4
}
