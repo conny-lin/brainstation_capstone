{
 "cells": [
  {
   "cell_type": "code",
   "execution_count": 1,
   "metadata": {},
   "outputs": [],
   "source": [
    "# construct MWTDB from paths\n",
    "# --------------------------\n",
    "# Conny Lin | May 20, 2020\n",
    "# --------------------------\n",
    "# from a list of paths, decompose the paths into data attributes\n",
    "# !TODO! make it into a class later"
   ]
  },
  {
   "cell_type": "code",
   "execution_count": 2,
   "metadata": {},
   "outputs": [],
   "source": [
    "# define local variables (inputs for function/class)\n",
    "dir_save = '/Users/connylin/Dropbox/CA/ED _20200119 Brain Station Data Science Diploma/Capstone/data'\n",
    "paths_pickle_filename = 'path.pickle'"
   ]
  },
  {
   "cell_type": "code",
   "execution_count": 3,
   "metadata": {},
   "outputs": [],
   "source": [
    "# import libraries\n",
    "import os\n",
    "import pickle\n",
    "from pathlib import Path\n",
    "from pathlib import PurePath\n",
    "import numpy as np\n",
    "import pandas as pd"
   ]
  },
  {
   "cell_type": "code",
   "execution_count": 4,
   "metadata": {},
   "outputs": [],
   "source": [
    "# import test variables\n",
    "path_save = os.path.join(dir_save, paths_pickle_filename)\n",
    "with open(path_save,'rb') as f:\n",
    "    paths_list = pickle.load(f)"
   ]
  },
  {
   "cell_type": "code",
   "execution_count": 5,
   "metadata": {},
   "outputs": [],
   "source": [
    "# !TEST! get small subsets of variables for writing the function\n",
    "# paths_list = paths_list[:1000]"
   ]
  },
  {
   "cell_type": "code",
   "execution_count": 6,
   "metadata": {},
   "outputs": [],
   "source": [
    "# function/class starts >>"
   ]
  },
  {
   "cell_type": "code",
   "execution_count": 7,
   "metadata": {},
   "outputs": [
    {
     "name": "stdout",
     "output_type": "stream",
     "text": [
      "paths in input: 1318724\n"
     ]
    }
   ],
   "source": [
    "# input reporting\n",
    "print(f'paths in input: {len(paths_list)}')"
   ]
  },
  {
   "cell_type": "code",
   "execution_count": 8,
   "metadata": {},
   "outputs": [],
   "source": [
    "# create paths objects\n",
    "path_obj = list(map(PurePath,paths_list))"
   ]
  },
  {
   "cell_type": "code",
   "execution_count": 9,
   "metadata": {},
   "outputs": [],
   "source": [
    "# get parts\n",
    "path_parts = list(map(lambda x: np.array(x.parts),path_obj))\n",
    "# get length of each parts\n",
    "part_numbers = list(map(lambda x: len(x),path_parts))\n",
    "# check which paths has 8 parts\n",
    "part_number_is_8 = np.array(part_numbers) == 8\n",
    "# convert path parts to numpy array\n",
    "file_parts_nparray = np.array(path_parts)\n",
    "# get only file parts with 8 parts into dataframe\n",
    "df = pd.DataFrame(file_parts_nparray[part_number_is_8], \n",
    "             columns=['remove','volume','drivename','dbname','expname','groupname','mwtname','filename'])\n",
    "# add absolute path\n",
    "test_paths_array = np.array(paths_list)\n",
    "df['path'] = test_paths_array[part_number_is_8]\n",
    "# add file name\n",
    "file_names = list(map(lambda x: x.stem, path_obj))\n",
    "df['fname'] = file_names\n",
    "# add extension name\n",
    "df['ext']  = list(map(lambda x: x.suffix, path_obj))\n",
    "# search for suffixes\n",
    "df['analysis_tag'] = list(map(lambda x: np.setdiff1d(x.suffixes, x.suffix), path_obj))\n",
    "# remove unnecesary\n",
    "df.drop(['remove','volume','drivename'],axis=1,inplace=True)"
   ]
  },
  {
   "cell_type": "code",
   "execution_count": 11,
   "metadata": {},
   "outputs": [],
   "source": [
    "# save data frame\n",
    "df.to_csv(os.path.join(dir_save,'path_allfiles_MWTDB.csv'))"
   ]
  },
  {
   "cell_type": "code",
   "execution_count": null,
   "metadata": {},
   "outputs": [],
   "source": [
    "# get strain name\n",
    "groupname_parse = df['groupname'].str.split(r'_',expand=True)\n",
    "df['strain'] = groupname_parse.loc[:,0]"
   ]
  },
  {
   "cell_type": "code",
   "execution_count": null,
   "metadata": {},
   "outputs": [],
   "source": [
    "# add more features here"
   ]
  },
  {
   "cell_type": "code",
   "execution_count": null,
   "metadata": {},
   "outputs": [],
   "source": [
    "assert False, 'unfinished'"
   ]
  },
  {
   "cell_type": "code",
   "execution_count": null,
   "metadata": {},
   "outputs": [],
   "source": []
  }
 ],
 "metadata": {
  "kernelspec": {
   "display_name": "Python 3",
   "language": "python",
   "name": "python3"
  },
  "language_info": {
   "codemirror_mode": {
    "name": "ipython",
    "version": 3
   },
   "file_extension": ".py",
   "mimetype": "text/x-python",
   "name": "python",
   "nbconvert_exporter": "python",
   "pygments_lexer": "ipython3",
   "version": "3.7.7"
  },
  "toc-autonumbering": false,
  "toc-showmarkdowntxt": false
 },
 "nbformat": 4,
 "nbformat_minor": 4
}
