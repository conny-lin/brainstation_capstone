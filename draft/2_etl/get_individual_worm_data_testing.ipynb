{
 "cells": [
  {
   "cell_type": "code",
   "execution_count": 77,
   "metadata": {},
   "outputs": [],
   "source": [
    "# Get trinity worm data from 0mM and 400mM N2\n",
    "# Conny Lin | June 2, 2020\n",
    "# connylin@doctor.com\n",
    "# \n",
    "# concat trinity.wormid.dat files into one csv file\n",
    "# add worm id and ethanol groups (0 = no ethanol, 1 = 400mM ethanol)\n",
    "# save the file"
   ]
  },
  {
   "cell_type": "code",
   "execution_count": 78,
   "metadata": {},
   "outputs": [],
   "source": [
    "import os\n",
    "import pickle\n",
    "import numpy as np\n",
    "import pandas as pd\n",
    "import time"
   ]
  },
  {
   "cell_type": "code",
   "execution_count": 79,
   "metadata": {},
   "outputs": [],
   "source": [
    "# set test sample size (if 0, will run the complete file list)\n",
    "test_sample_size = 0\n",
    "output_filename = 'trinity_data.csv'\n",
    "output_temp_trinity = 'temp_trinity.csv'\n",
    "output_temp_id = 'temp_wormid_eth.csv'\n",
    "dir_save = '/Users/connylin/Dropbox/CA/ED _20200119 Brain Station Data Science Diploma/Capstone/data'\n",
    "random_number = 318\n",
    "start_time = time.time()"
   ]
  },
  {
   "cell_type": "code",
   "execution_count": 80,
   "metadata": {},
   "outputs": [],
   "source": [
    "# get file info file --\n",
    "p = os.path.join(dir_save, 'fileinfo_trinity_N2400mM.pickle')\n",
    "fileinfoDB = pickle.load(open(p,'rb'))"
   ]
  },
  {
   "cell_type": "code",
   "execution_count": 81,
   "metadata": {},
   "outputs": [],
   "source": [
    "# get a sample size or the full set\n",
    "total_file_number = fileinfoDB.shape[0]\n",
    "if test_sample_size > 0:\n",
    "    df_target = fileinfoDB.sample(test_sample_size, random_state=random_number).copy()\n",
    "else:\n",
    "    df_target = fileinfoDB\n",
    "del fileinfoDB"
   ]
  },
  {
   "cell_type": "code",
   "execution_count": 82,
   "metadata": {},
   "outputs": [
    {
     "name": "stdout",
     "output_type": "stream",
     "text": [
      "processing time: 38.62s\n",
      "estimate time for full set: 4120.47s or 1.13hr\n"
     ]
    }
   ],
   "source": [
    "# concat --\n",
    "# create bash command components\n",
    "bashcommand_prefix = 'cat'\n",
    "bashcommand_sourcepaths = ''\n",
    "bashcommand_space = ' '\n",
    "bashcommand_link = '>'\n",
    "bashcommand_outputpath = '\"'+os.path.join(dir_save, output_temp_trinity)+'\"'\n",
    "\n",
    "# link file paths\n",
    "print('linking file path')\n",
    "for p in df_target['path'].values:\n",
    "    p = '\"'+p+'\"'\n",
    "    bashcommand_sourcepaths += p\n",
    "    bashcommand_sourcepaths += ' '\n",
    "# create bash command\n",
    "bashcommand = bashcommand_prefix + bashcommand_space + \\\n",
    "            bashcommand_sourcepaths + \\\n",
    "            bashcommand_link + bashcommand_space + \\\n",
    "            bashcommand_outputpath\n",
    "# call bash command\n",
    "os.system(bashcommand)\n",
    "\n",
    "\n",
    "# create wormid array and ethanol array --\n",
    "# get info\n",
    "worm_id_list = df_target['worm_id'].values\n",
    "ethanol_list = df_target['ethanol'].values\n",
    "rows_list = df_target['row_number'].values\n",
    "row_total = df_target['row_number'].sum()\n",
    "# instantiate arrays\n",
    "worm_id_array = np.empty([row_total],dtype='int')\n",
    "ethanol_array = np.empty([row_total],dtype='int')\n",
    "\n",
    "# create arrays\n",
    "print('creating worm id and ethanol id array')\n",
    "i_row_previous = 0\n",
    "for worm_id, ethanol, rows in zip(worm_id_list, ethanol_list, rows_list):\n",
    "    # get start row position\n",
    "    i_start_row = i_row_previous\n",
    "    # get end row position\n",
    "    i_end_row = i_row_previous+rows-1\n",
    "    # get worm id array x number of rows\n",
    "    worm_id_array[i_start_row:i_end_row+1] = np.tile(worm_id, rows)\n",
    "    # get ethanol array x number of rows\n",
    "    ethanol_array[i_start_row:i_end_row+1] = np.tile(ethanol, rows)\n",
    "    # create next starting position\n",
    "    i_row_previous = rows+i_row_previous\n",
    "    \n",
    "    \n",
    "# save to space deliminated without header --\n",
    "print('putting worm id and ethanol id array into dataframe')\n",
    "# create data frame\n",
    "df = pd.DataFrame({'worm_id':worm_id_array, \n",
    "                   'ethanol':ethanol_array})\n",
    "# save csv\n",
    "df.to_csv(path_id_array, sep=' ',index=False, header=False)\n",
    "\n",
    "# bash concat\n",
    "print('bash concatenate worm id, ethanol id array with trinity.dat')\n",
    "bashcommand = \"paste '\" + \\\n",
    "            os.path.join(dir_save, output_temp_id) + \\\n",
    "            \"' '\" + \\\n",
    "            os.path.join(dir_save, output_temp_trinity) + \\\n",
    "            \"' > '\" + \\\n",
    "            os.path.join(dir_save, output_filename) + \\\n",
    "            \"'\"\n",
    "os.system(bashcommand)\n",
    "\n",
    "# report estimate time\n",
    "end_time = time.time()\n",
    "process_time = end_time - start_time\n",
    "print(f'processing time: {process_time:.2f}s')\n",
    "if test_sample_size > 0:\n",
    "    est_time = total_file_number / test_sample_size * process_time\n",
    "    print(f'estimate time for full set: {est_time:.2f}s or {est_time/3660:.2f}hr')\n",
    "start_time = time.time()"
   ]
  }
 ],
 "metadata": {
  "kernelspec": {
   "display_name": "Python 3",
   "language": "python",
   "name": "python3"
  },
  "language_info": {
   "codemirror_mode": {
    "name": "ipython",
    "version": 3
   },
   "file_extension": ".py",
   "mimetype": "text/x-python",
   "name": "python",
   "nbconvert_exporter": "python",
   "pygments_lexer": "ipython3",
   "version": "3.7.7"
  }
 },
 "nbformat": 4,
 "nbformat_minor": 4
}
