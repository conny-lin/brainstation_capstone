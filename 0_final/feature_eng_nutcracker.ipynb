{
 "cells": [
  {
   "cell_type": "code",
   "execution_count": null,
   "metadata": {},
   "outputs": [],
   "source": [
    "# feature engineering\n",
    "# Conny Lin | June 14, 2020"
   ]
  },
  {
   "cell_type": "code",
   "execution_count": 1,
   "metadata": {},
   "outputs": [],
   "source": [
    "# updated June 14, 2020\n",
    "# computer dependent local variable settings \n",
    "import socket, os\n",
    "# check which computer this code is running on\n",
    "hostname = socket.gethostname().split('.')[0]\n",
    "# set local path settings based on computer host\n",
    "if hostname == 'PFC':\n",
    "    pylibrary = ['/Users/connylin/Dropbox/Code/proj/']\n",
    "    pCapstone = '/Users/connylin/Dropbox/CA/ED _20200119 Brain Station Data Science Diploma/Capstone'\n",
    "    datapath = os.path.join(pCapstone,'data','nutcracker_sample_1Meach.csv')\n",
    "elif hostname == 'Angular Gyrus':\n",
    "    pylibrary = ['/Users/connylin/Code/proj/']\n",
    "    pCapstone = '/Users/connylin/Dropbox/CA/ED _20200119 Brain Station Data Science Diploma/Capstone'\n",
    "    datapath = os.path.join(pCapstone,'data','nutcracker_sample_1Meach.csv')\n",
    "else:\n",
    "    assert False, 'host computer not regonized'\n",
    "    \n",
    "# import standard libraries\n",
    "import sys, pickle, socket\n",
    "import numpy as np\n",
    "import pandas as pd\n",
    "import matplotlib.pyplot as plt\n",
    "# load local libraries\n",
    "for path in pylibrary:\n",
    "    if path not in sys.path:\n",
    "        sys.path.insert(1, path)\n",
    "import brainstation_capstone\n",
    "from brainstation_capstone.etl.datatransform import Nutcracker\n"
   ]
  },
  {
   "cell_type": "code",
   "execution_count": 2,
   "metadata": {},
   "outputs": [],
   "source": [
    "# ML specific \n",
    "outputfolder = os.path.join(pCapstone,'ml_feature_eng')\n",
    "from sklearn.feature_selection import VarianceThreshold\n",
    "from sklearn.linear_model import LogisticRegression"
   ]
  },
  {
   "cell_type": "markdown",
   "metadata": {},
   "source": [
    "Many of the features in nutcracker are calculated to represent similar things"
   ]
  },
  {
   "cell_type": "markdown",
   "metadata": {},
   "source": [
    "time measures:\n",
    "* time\n",
    "* persistence\n",
    "\n",
    "size measures:\n",
    "* area\n",
    "\n",
    "width measures:\n",
    "* midline\n",
    "* morphwidth\n",
    "* width\n",
    "* relwidth\n",
    "\n",
    "length measures:\n",
    "* length\n",
    "* rellength\n",
    "\n",
    "angle measures:\n",
    "* aspect\n",
    "* relaspect\n",
    "* kink\n",
    "* curve\n",
    "* orient\n",
    "\n",
    "movement speed measures:\n",
    "* speed\n",
    "* crab\n",
    "* angular\n",
    "\n",
    "movement dir measures: \n",
    "* bias\n",
    "* dir\n",
    "* vel_x\n",
    "* vel_y\n",
    "\n"
   ]
  },
  {
   "cell_type": "code",
   "execution_count": 3,
   "metadata": {},
   "outputs": [
    {
     "data": {
      "text/html": [
       "<div>\n",
       "<style scoped>\n",
       "    .dataframe tbody tr th:only-of-type {\n",
       "        vertical-align: middle;\n",
       "    }\n",
       "\n",
       "    .dataframe tbody tr th {\n",
       "        vertical-align: top;\n",
       "    }\n",
       "\n",
       "    .dataframe thead th {\n",
       "        text-align: right;\n",
       "    }\n",
       "</style>\n",
       "<table border=\"1\" class=\"dataframe\">\n",
       "  <thead>\n",
       "    <tr style=\"text-align: right;\">\n",
       "      <th></th>\n",
       "      <th>call</th>\n",
       "      <th>name</th>\n",
       "      <th>type</th>\n",
       "      <th>category</th>\n",
       "      <th>description</th>\n",
       "    </tr>\n",
       "  </thead>\n",
       "  <tbody>\n",
       "    <tr>\n",
       "      <th>0</th>\n",
       "      <td>t</td>\n",
       "      <td>time</td>\n",
       "      <td>measure</td>\n",
       "      <td>time</td>\n",
       "      <td>time of the frame</td>\n",
       "    </tr>\n",
       "    <tr>\n",
       "      <th>1</th>\n",
       "      <td>f</td>\n",
       "      <td>frame</td>\n",
       "      <td>measure</td>\n",
       "      <td>time</td>\n",
       "      <td>the frame number</td>\n",
       "    </tr>\n",
       "    <tr>\n",
       "      <th>2</th>\n",
       "      <td>p</td>\n",
       "      <td>persistence</td>\n",
       "      <td>measure</td>\n",
       "      <td>time</td>\n",
       "      <td>length of time object is tracked</td>\n",
       "    </tr>\n",
       "    <tr>\n",
       "      <th>3</th>\n",
       "      <td>D</td>\n",
       "      <td>id</td>\n",
       "      <td>measure</td>\n",
       "      <td>id</td>\n",
       "      <td>the object ID</td>\n",
       "    </tr>\n",
       "    <tr>\n",
       "      <th>4</th>\n",
       "      <td>n</td>\n",
       "      <td>number</td>\n",
       "      <td>measure</td>\n",
       "      <td>sample_size</td>\n",
       "      <td>the number of objects tracked</td>\n",
       "    </tr>\n",
       "    <tr>\n",
       "      <th>5</th>\n",
       "      <td>N</td>\n",
       "      <td>goodnumber</td>\n",
       "      <td>measure</td>\n",
       "      <td>sample_size</td>\n",
       "      <td>the number of objects passing the criteria gi...</td>\n",
       "    </tr>\n",
       "    <tr>\n",
       "      <th>6</th>\n",
       "      <td>e</td>\n",
       "      <td>area</td>\n",
       "      <td>measure</td>\n",
       "      <td>area</td>\n",
       "      <td>body area</td>\n",
       "    </tr>\n",
       "    <tr>\n",
       "      <th>7</th>\n",
       "      <td>m</td>\n",
       "      <td>midline</td>\n",
       "      <td>measure</td>\n",
       "      <td>width</td>\n",
       "      <td>length measured along the curve of object</td>\n",
       "    </tr>\n",
       "    <tr>\n",
       "      <th>8</th>\n",
       "      <td>M</td>\n",
       "      <td>morphwidth</td>\n",
       "      <td>measure</td>\n",
       "      <td>width</td>\n",
       "      <td>mean width of body about midline</td>\n",
       "    </tr>\n",
       "    <tr>\n",
       "      <th>9</th>\n",
       "      <td>w</td>\n",
       "      <td>width</td>\n",
       "      <td>measure</td>\n",
       "      <td>width</td>\n",
       "      <td>width of the rectangle framing the body</td>\n",
       "    </tr>\n",
       "    <tr>\n",
       "      <th>10</th>\n",
       "      <td>W</td>\n",
       "      <td>relwidth</td>\n",
       "      <td>measure</td>\n",
       "      <td>width</td>\n",
       "      <td>instantaneous width/average width</td>\n",
       "    </tr>\n",
       "    <tr>\n",
       "      <th>11</th>\n",
       "      <td>l</td>\n",
       "      <td>length</td>\n",
       "      <td>measure</td>\n",
       "      <td>length</td>\n",
       "      <td>measured along major axis, not curve of object</td>\n",
       "    </tr>\n",
       "    <tr>\n",
       "      <th>12</th>\n",
       "      <td>L</td>\n",
       "      <td>rellength</td>\n",
       "      <td>measure</td>\n",
       "      <td>length</td>\n",
       "      <td>instantaneous length/average length</td>\n",
       "    </tr>\n",
       "    <tr>\n",
       "      <th>13</th>\n",
       "      <td>a</td>\n",
       "      <td>aspect</td>\n",
       "      <td>measure</td>\n",
       "      <td>angle</td>\n",
       "      <td>length/width</td>\n",
       "    </tr>\n",
       "    <tr>\n",
       "      <th>14</th>\n",
       "      <td>A</td>\n",
       "      <td>relaspect</td>\n",
       "      <td>measure</td>\n",
       "      <td>angle</td>\n",
       "      <td>instantaneous aspect/average aspect</td>\n",
       "    </tr>\n",
       "    <tr>\n",
       "      <th>15</th>\n",
       "      <td>k</td>\n",
       "      <td>kink</td>\n",
       "      <td>measure</td>\n",
       "      <td>angle</td>\n",
       "      <td>head/tail angle difference from body (in degr...</td>\n",
       "    </tr>\n",
       "    <tr>\n",
       "      <th>16</th>\n",
       "      <td>c</td>\n",
       "      <td>curve</td>\n",
       "      <td>measure</td>\n",
       "      <td>angle</td>\n",
       "      <td>average angle (in degrees) between body split...</td>\n",
       "    </tr>\n",
       "    <tr>\n",
       "      <th>17</th>\n",
       "      <td>s</td>\n",
       "      <td>speed</td>\n",
       "      <td>measure</td>\n",
       "      <td>speed</td>\n",
       "      <td>speed of movement</td>\n",
       "    </tr>\n",
       "    <tr>\n",
       "      <th>18</th>\n",
       "      <td>S</td>\n",
       "      <td>angular</td>\n",
       "      <td>measure</td>\n",
       "      <td>speed</td>\n",
       "      <td>angular speed</td>\n",
       "    </tr>\n",
       "    <tr>\n",
       "      <th>19</th>\n",
       "      <td>b</td>\n",
       "      <td>bias</td>\n",
       "      <td>measure</td>\n",
       "      <td>dir</td>\n",
       "      <td>fractional excess of time spent moving one way</td>\n",
       "    </tr>\n",
       "    <tr>\n",
       "      <th>20</th>\n",
       "      <td>P</td>\n",
       "      <td>pathlen</td>\n",
       "      <td>measure</td>\n",
       "      <td>pathlen</td>\n",
       "      <td>distance traveled forwards (backwards=negative)</td>\n",
       "    </tr>\n",
       "    <tr>\n",
       "      <th>21</th>\n",
       "      <td>d</td>\n",
       "      <td>dir</td>\n",
       "      <td>measure</td>\n",
       "      <td>dir</td>\n",
       "      <td>consistency of direction of motion</td>\n",
       "    </tr>\n",
       "    <tr>\n",
       "      <th>22</th>\n",
       "      <td>x</td>\n",
       "      <td>loc_x</td>\n",
       "      <td>measure</td>\n",
       "      <td>location</td>\n",
       "      <td>x coordinate of object (mm)</td>\n",
       "    </tr>\n",
       "    <tr>\n",
       "      <th>23</th>\n",
       "      <td>y</td>\n",
       "      <td>loc_y</td>\n",
       "      <td>measure</td>\n",
       "      <td>location</td>\n",
       "      <td>y coordinate of object (mm)</td>\n",
       "    </tr>\n",
       "    <tr>\n",
       "      <th>24</th>\n",
       "      <td>u</td>\n",
       "      <td>vel_x</td>\n",
       "      <td>measure</td>\n",
       "      <td>speed</td>\n",
       "      <td>x velocity (mm/sec)</td>\n",
       "    </tr>\n",
       "    <tr>\n",
       "      <th>25</th>\n",
       "      <td>v</td>\n",
       "      <td>vel_y</td>\n",
       "      <td>measure</td>\n",
       "      <td>speed</td>\n",
       "      <td>y velocity (mm/sec)</td>\n",
       "    </tr>\n",
       "    <tr>\n",
       "      <th>26</th>\n",
       "      <td>o</td>\n",
       "      <td>orient</td>\n",
       "      <td>measure</td>\n",
       "      <td>angle</td>\n",
       "      <td>orientation of body (degrees, only guaranteed...</td>\n",
       "    </tr>\n",
       "    <tr>\n",
       "      <th>27</th>\n",
       "      <td>r</td>\n",
       "      <td>crab</td>\n",
       "      <td>measure</td>\n",
       "      <td>speed</td>\n",
       "      <td>speed perpendicular to body orientation</td>\n",
       "    </tr>\n",
       "    <tr>\n",
       "      <th>28</th>\n",
       "      <td>1</td>\n",
       "      <td>tap</td>\n",
       "      <td>measure</td>\n",
       "      <td>stim</td>\n",
       "      <td>whether a tap (stimulus 1) has occurred</td>\n",
       "    </tr>\n",
       "    <tr>\n",
       "      <th>29</th>\n",
       "      <td>2</td>\n",
       "      <td>puff</td>\n",
       "      <td>measure</td>\n",
       "      <td>stim</td>\n",
       "      <td>whether a puff (stimulus 2) has occurred</td>\n",
       "    </tr>\n",
       "    <tr>\n",
       "      <th>30</th>\n",
       "      <td>3</td>\n",
       "      <td>stim3</td>\n",
       "      <td>measure</td>\n",
       "      <td>stim</td>\n",
       "      <td>whether the first custom stimulus has occurred</td>\n",
       "    </tr>\n",
       "    <tr>\n",
       "      <th>31</th>\n",
       "      <td>4</td>\n",
       "      <td>stim4</td>\n",
       "      <td>measure</td>\n",
       "      <td>stim</td>\n",
       "      <td>whether the second custom stimulus has occurr...</td>\n",
       "    </tr>\n",
       "    <tr>\n",
       "      <th>32</th>\n",
       "      <td>^</td>\n",
       "      <td>:max</td>\n",
       "      <td>stats</td>\n",
       "      <td>stats</td>\n",
       "      <td>maximum value</td>\n",
       "    </tr>\n",
       "    <tr>\n",
       "      <th>33</th>\n",
       "      <td>_</td>\n",
       "      <td>:min</td>\n",
       "      <td>stats</td>\n",
       "      <td>stats</td>\n",
       "      <td>minimum value</td>\n",
       "    </tr>\n",
       "    <tr>\n",
       "      <th>34</th>\n",
       "      <td>#</td>\n",
       "      <td>:number</td>\n",
       "      <td>stats</td>\n",
       "      <td>stats</td>\n",
       "      <td>number of items considered in this statistic</td>\n",
       "    </tr>\n",
       "    <tr>\n",
       "      <th>35</th>\n",
       "      <td>-</td>\n",
       "      <td>:median</td>\n",
       "      <td>stats</td>\n",
       "      <td>stats</td>\n",
       "      <td>median value</td>\n",
       "    </tr>\n",
       "    <tr>\n",
       "      <th>36</th>\n",
       "      <td>*</td>\n",
       "      <td>:std</td>\n",
       "      <td>stats</td>\n",
       "      <td>stats</td>\n",
       "      <td>standard deviation</td>\n",
       "    </tr>\n",
       "    <tr>\n",
       "      <th>37</th>\n",
       "      <td>:sem</td>\n",
       "      <td>:sem</td>\n",
       "      <td>stats</td>\n",
       "      <td>stats</td>\n",
       "      <td>standard error</td>\n",
       "    </tr>\n",
       "    <tr>\n",
       "      <th>38</th>\n",
       "      <td>:var</td>\n",
       "      <td>:var</td>\n",
       "      <td>stats</td>\n",
       "      <td>stats</td>\n",
       "      <td>variance</td>\n",
       "    </tr>\n",
       "    <tr>\n",
       "      <th>39</th>\n",
       "      <td>:?</td>\n",
       "      <td>:exists</td>\n",
       "      <td>stats</td>\n",
       "      <td>stats</td>\n",
       "      <td>1 if the value exists, 0 otherwise</td>\n",
       "    </tr>\n",
       "    <tr>\n",
       "      <th>40</th>\n",
       "      <td>:p25</td>\n",
       "      <td>:p25</td>\n",
       "      <td>stats</td>\n",
       "      <td>stats</td>\n",
       "      <td>25th percentile</td>\n",
       "    </tr>\n",
       "    <tr>\n",
       "      <th>41</th>\n",
       "      <td>:p75</td>\n",
       "      <td>:p75</td>\n",
       "      <td>stats</td>\n",
       "      <td>stats</td>\n",
       "      <td>75th percentile</td>\n",
       "    </tr>\n",
       "    <tr>\n",
       "      <th>42</th>\n",
       "      <td>:jitter</td>\n",
       "      <td>:jitter</td>\n",
       "      <td>stats</td>\n",
       "      <td>stats</td>\n",
       "      <td>estimate of measurement precision</td>\n",
       "    </tr>\n",
       "  </tbody>\n",
       "</table>\n",
       "</div>"
      ],
      "text/plain": [
       "       call         name     type     category  \\\n",
       "0         t         time  measure         time   \n",
       "1         f        frame  measure         time   \n",
       "2         p  persistence  measure         time   \n",
       "3         D           id  measure           id   \n",
       "4         n       number  measure  sample_size   \n",
       "5         N   goodnumber  measure  sample_size   \n",
       "6         e         area  measure         area   \n",
       "7         m      midline  measure        width   \n",
       "8         M   morphwidth  measure        width   \n",
       "9         w        width  measure        width   \n",
       "10        W     relwidth  measure        width   \n",
       "11        l       length  measure       length   \n",
       "12        L    rellength  measure       length   \n",
       "13        a       aspect  measure        angle   \n",
       "14        A    relaspect  measure        angle   \n",
       "15        k         kink  measure        angle   \n",
       "16        c        curve  measure        angle   \n",
       "17        s        speed  measure        speed   \n",
       "18        S      angular  measure        speed   \n",
       "19        b         bias  measure          dir   \n",
       "20        P      pathlen  measure      pathlen   \n",
       "21        d          dir  measure          dir   \n",
       "22        x        loc_x  measure     location   \n",
       "23        y        loc_y  measure     location   \n",
       "24        u        vel_x  measure        speed   \n",
       "25        v        vel_y  measure        speed   \n",
       "26        o       orient  measure        angle   \n",
       "27        r         crab  measure        speed   \n",
       "28        1          tap  measure         stim   \n",
       "29        2         puff  measure         stim   \n",
       "30        3        stim3  measure         stim   \n",
       "31        4        stim4  measure         stim   \n",
       "32        ^         :max    stats        stats   \n",
       "33        _         :min    stats        stats   \n",
       "34        #      :number    stats        stats   \n",
       "35        -      :median    stats        stats   \n",
       "36        *         :std    stats        stats   \n",
       "37     :sem         :sem    stats        stats   \n",
       "38     :var         :var    stats        stats   \n",
       "39       :?      :exists    stats        stats   \n",
       "40     :p25         :p25    stats        stats   \n",
       "41     :p75         :p75    stats        stats   \n",
       "42  :jitter      :jitter    stats        stats   \n",
       "\n",
       "                                          description  \n",
       "0                                   time of the frame  \n",
       "1                                   the frame number   \n",
       "2                   length of time object is tracked   \n",
       "3                                      the object ID   \n",
       "4                      the number of objects tracked   \n",
       "5    the number of objects passing the criteria gi...  \n",
       "6                                           body area  \n",
       "7          length measured along the curve of object   \n",
       "8                   mean width of body about midline   \n",
       "9             width of the rectangle framing the body  \n",
       "10                 instantaneous width/average width   \n",
       "11    measured along major axis, not curve of object   \n",
       "12                instantaneous length/average length  \n",
       "13                                      length/width   \n",
       "14                instantaneous aspect/average aspect  \n",
       "15   head/tail angle difference from body (in degr...  \n",
       "16   average angle (in degrees) between body split...  \n",
       "17                                  speed of movement  \n",
       "18                                      angular speed  \n",
       "19     fractional excess of time spent moving one way  \n",
       "20   distance traveled forwards (backwards=negative)   \n",
       "21                consistency of direction of motion   \n",
       "22                       x coordinate of object (mm)   \n",
       "23                       y coordinate of object (mm)   \n",
       "24                               x velocity (mm/sec)   \n",
       "25                               y velocity (mm/sec)   \n",
       "26   orientation of body (degrees, only guaranteed...  \n",
       "27           speed perpendicular to body orientation   \n",
       "28           whether a tap (stimulus 1) has occurred   \n",
       "29           whether a puff (stimulus 2) has occurred  \n",
       "30    whether the first custom stimulus has occurred   \n",
       "31   whether the second custom stimulus has occurr...  \n",
       "32                                     maximum value   \n",
       "33                                     minimum value   \n",
       "34      number of items considered in this statistic   \n",
       "35                                      median value   \n",
       "36                                standard deviation   \n",
       "37                                    standard error   \n",
       "38                                          variance   \n",
       "39                1 if the value exists, 0 otherwise   \n",
       "40                                   25th percentile   \n",
       "41                                   75th percentile   \n",
       "42                 estimate of measurement precision   "
      ]
     },
     "execution_count": 3,
     "metadata": {},
     "output_type": "execute_result"
    }
   ],
   "source": [
    "from brainstation_capstone.db import chor_legend\n",
    "# create reference table\n",
    "chor_legend = chor_legend.get_chor_legend()\n",
    "chor_legend"
   ]
  },
  {
   "cell_type": "markdown",
   "metadata": {},
   "source": [
    "use OLS "
   ]
  },
  {
   "cell_type": "code",
   "execution_count": 6,
   "metadata": {},
   "outputs": [],
   "source": [
    "# list features\n",
    "NC = Nutcracker(datapath)\n",
    "# get machine learning input data\n",
    "X_train, X_test, y_train, y_test = NC.mldata()\n",
    "X_columns = np.array(NC.names['X']).transpose()"
   ]
  },
  {
   "cell_type": "code",
   "execution_count": 7,
   "metadata": {},
   "outputs": [
    {
     "name": "stderr",
     "output_type": "stream",
     "text": [
      "/Users/connylin/opt/anaconda3/lib/python3.7/site-packages/sklearn/linear_model/_logistic.py:940: ConvergenceWarning: lbfgs failed to converge (status=1):\n",
      "STOP: TOTAL NO. of ITERATIONS REACHED LIMIT.\n",
      "\n",
      "Increase the number of iterations (max_iter) or scale the data as shown in:\n",
      "    https://scikit-learn.org/stable/modules/preprocessing.html\n",
      "Please also refer to the documentation for alternative solver options:\n",
      "    https://scikit-learn.org/stable/modules/linear_model.html#logistic-regression\n",
      "  extra_warning_msg=_LOGISTIC_SOLVER_CONVERGENCE_MSG)\n"
     ]
    }
   ],
   "source": [
    "# OLS to view the best features\n",
    "C=0.05\n",
    "random_state = 318\n",
    "max_iter=1000\n",
    "OLS = LogisticRegression(C=C, random_state=random_state, max_iter=max_iter)\n",
    "OLS.fit(X_train, y_train)\n",
    "# get coefficient\n",
    "X_logistic_coef = OLS.coef_"
   ]
  },
  {
   "cell_type": "code",
   "execution_count": 34,
   "metadata": {},
   "outputs": [
    {
     "data": {
      "text/html": [
       "<div>\n",
       "<style scoped>\n",
       "    .dataframe tbody tr th:only-of-type {\n",
       "        vertical-align: middle;\n",
       "    }\n",
       "\n",
       "    .dataframe tbody tr th {\n",
       "        vertical-align: top;\n",
       "    }\n",
       "\n",
       "    .dataframe thead th {\n",
       "        text-align: right;\n",
       "    }\n",
       "</style>\n",
       "<table border=\"1\" class=\"dataframe\">\n",
       "  <thead>\n",
       "    <tr style=\"text-align: right;\">\n",
       "      <th></th>\n",
       "      <th>features</th>\n",
       "      <th>OLS_coef</th>\n",
       "      <th>OLS_coef_abs</th>\n",
       "      <th>category</th>\n",
       "    </tr>\n",
       "  </thead>\n",
       "  <tbody>\n",
       "    <tr>\n",
       "      <th>5</th>\n",
       "      <td>width</td>\n",
       "      <td>-13.761015</td>\n",
       "      <td>13.761015</td>\n",
       "      <td>width</td>\n",
       "    </tr>\n",
       "    <tr>\n",
       "      <th>9</th>\n",
       "      <td>aspect</td>\n",
       "      <td>-10.941442</td>\n",
       "      <td>10.941442</td>\n",
       "      <td>angle</td>\n",
       "    </tr>\n",
       "    <tr>\n",
       "      <th>6</th>\n",
       "      <td>relwidth</td>\n",
       "      <td>3.617541</td>\n",
       "      <td>3.617541</td>\n",
       "      <td>width</td>\n",
       "    </tr>\n",
       "    <tr>\n",
       "      <th>10</th>\n",
       "      <td>relaspect</td>\n",
       "      <td>2.827076</td>\n",
       "      <td>2.827076</td>\n",
       "      <td>angle</td>\n",
       "    </tr>\n",
       "    <tr>\n",
       "      <th>8</th>\n",
       "      <td>rellength</td>\n",
       "      <td>-2.393815</td>\n",
       "      <td>2.393815</td>\n",
       "      <td>length</td>\n",
       "    </tr>\n",
       "    <tr>\n",
       "      <th>4</th>\n",
       "      <td>morphwidth</td>\n",
       "      <td>2.076456</td>\n",
       "      <td>2.076456</td>\n",
       "      <td>width</td>\n",
       "    </tr>\n",
       "    <tr>\n",
       "      <th>7</th>\n",
       "      <td>length</td>\n",
       "      <td>2.056058</td>\n",
       "      <td>2.056058</td>\n",
       "      <td>length</td>\n",
       "    </tr>\n",
       "    <tr>\n",
       "      <th>2</th>\n",
       "      <td>area</td>\n",
       "      <td>-0.712834</td>\n",
       "      <td>0.712834</td>\n",
       "      <td>area</td>\n",
       "    </tr>\n",
       "    <tr>\n",
       "      <th>13</th>\n",
       "      <td>speed</td>\n",
       "      <td>0.684202</td>\n",
       "      <td>0.684202</td>\n",
       "      <td>speed</td>\n",
       "    </tr>\n",
       "    <tr>\n",
       "      <th>20</th>\n",
       "      <td>crab</td>\n",
       "      <td>-0.585187</td>\n",
       "      <td>0.585187</td>\n",
       "      <td>speed</td>\n",
       "    </tr>\n",
       "    <tr>\n",
       "      <th>3</th>\n",
       "      <td>midline</td>\n",
       "      <td>-0.410617</td>\n",
       "      <td>0.410617</td>\n",
       "      <td>width</td>\n",
       "    </tr>\n",
       "    <tr>\n",
       "      <th>16</th>\n",
       "      <td>dir</td>\n",
       "      <td>0.401372</td>\n",
       "      <td>0.401372</td>\n",
       "      <td>dir</td>\n",
       "    </tr>\n",
       "    <tr>\n",
       "      <th>15</th>\n",
       "      <td>bias</td>\n",
       "      <td>-0.382911</td>\n",
       "      <td>0.382911</td>\n",
       "      <td>dir</td>\n",
       "    </tr>\n",
       "    <tr>\n",
       "      <th>17</th>\n",
       "      <td>vel_x</td>\n",
       "      <td>-0.205959</td>\n",
       "      <td>0.205959</td>\n",
       "      <td>speed</td>\n",
       "    </tr>\n",
       "    <tr>\n",
       "      <th>12</th>\n",
       "      <td>curve</td>\n",
       "      <td>-0.200358</td>\n",
       "      <td>0.200358</td>\n",
       "      <td>angle</td>\n",
       "    </tr>\n",
       "    <tr>\n",
       "      <th>18</th>\n",
       "      <td>vel_y</td>\n",
       "      <td>0.096130</td>\n",
       "      <td>0.096130</td>\n",
       "      <td>speed</td>\n",
       "    </tr>\n",
       "    <tr>\n",
       "      <th>11</th>\n",
       "      <td>kink</td>\n",
       "      <td>0.030345</td>\n",
       "      <td>0.030345</td>\n",
       "      <td>angle</td>\n",
       "    </tr>\n",
       "    <tr>\n",
       "      <th>14</th>\n",
       "      <td>angular</td>\n",
       "      <td>0.014709</td>\n",
       "      <td>0.014709</td>\n",
       "      <td>speed</td>\n",
       "    </tr>\n",
       "    <tr>\n",
       "      <th>0</th>\n",
       "      <td>time</td>\n",
       "      <td>0.006520</td>\n",
       "      <td>0.006520</td>\n",
       "      <td>time</td>\n",
       "    </tr>\n",
       "    <tr>\n",
       "      <th>1</th>\n",
       "      <td>persistence</td>\n",
       "      <td>0.003011</td>\n",
       "      <td>0.003011</td>\n",
       "      <td>time</td>\n",
       "    </tr>\n",
       "    <tr>\n",
       "      <th>19</th>\n",
       "      <td>orient</td>\n",
       "      <td>-0.000123</td>\n",
       "      <td>0.000123</td>\n",
       "      <td>angle</td>\n",
       "    </tr>\n",
       "  </tbody>\n",
       "</table>\n",
       "</div>"
      ],
      "text/plain": [
       "       features   OLS_coef  OLS_coef_abs category\n",
       "5         width -13.761015     13.761015    width\n",
       "9        aspect -10.941442     10.941442    angle\n",
       "6      relwidth   3.617541      3.617541    width\n",
       "10    relaspect   2.827076      2.827076    angle\n",
       "8     rellength  -2.393815      2.393815   length\n",
       "4    morphwidth   2.076456      2.076456    width\n",
       "7        length   2.056058      2.056058   length\n",
       "2          area  -0.712834      0.712834     area\n",
       "13        speed   0.684202      0.684202    speed\n",
       "20         crab  -0.585187      0.585187    speed\n",
       "3       midline  -0.410617      0.410617    width\n",
       "16          dir   0.401372      0.401372      dir\n",
       "15         bias  -0.382911      0.382911      dir\n",
       "17        vel_x  -0.205959      0.205959    speed\n",
       "12        curve  -0.200358      0.200358    angle\n",
       "18        vel_y   0.096130      0.096130    speed\n",
       "11         kink   0.030345      0.030345    angle\n",
       "14      angular   0.014709      0.014709    speed\n",
       "0          time   0.006520      0.006520     time\n",
       "1   persistence   0.003011      0.003011     time\n",
       "19       orient  -0.000123      0.000123    angle"
      ]
     },
     "execution_count": 34,
     "metadata": {},
     "output_type": "execute_result"
    }
   ],
   "source": [
    "# set dataframe\n",
    "top_features = pd.DataFrame(X_columns, columns=['features'])\n",
    "# put int OLS_coef\n",
    "top_features['OLS_coef'] = X_logistic_coef[0]\n",
    "# put in absolute\n",
    "top_features['OLS_coef_abs'] = np.absolute(top_features['OLS_coef'].values)\n",
    "# join table with category\n",
    "top_features = top_features.merge(chor_legend[['name','category']], \n",
    "                   left_on='features', right_on='name', how='left')\n",
    "top_features.drop(columns='name',inplace=True)\n",
    "top_features.sort_values(ascending=False, inplace=True, by=['OLS_coef_abs'])\n",
    "top_features"
   ]
  },
  {
   "cell_type": "markdown",
   "metadata": {},
   "source": [
    "as expected, time doesn't look like a good predictive feature. drop them."
   ]
  },
  {
   "cell_type": "markdown",
   "metadata": {},
   "source": [
    "Use variance inflation factor to detect multicolinearity. Use trained split and scaled data."
   ]
  },
  {
   "cell_type": "code",
   "execution_count": 25,
   "metadata": {},
   "outputs": [],
   "source": [
    "from statsmodels.stats.outliers_influence import variance_inflation_factor\n",
    "# get data frame \n",
    "df = pd.DataFrame(X_train, columns=X_columns)\n",
    "\n",
    "VIF = pd.Series([variance_inflation_factor(df.values, i) \n",
    "           for i in range(df.shape[1])], index=df.columns)"
   ]
  },
  {
   "cell_type": "code",
   "execution_count": 28,
   "metadata": {},
   "outputs": [
    {
     "data": {
      "text/plain": [
       "time             5.816375\n",
       "persistence      2.637530\n",
       "area           139.898284\n",
       "midline        457.248200\n",
       "morphwidth      52.038697\n",
       "width          114.543742\n",
       "relwidth       263.506779\n",
       "length         380.273174\n",
       "rellength      152.491069\n",
       "aspect          83.754391\n",
       "relaspect      185.980740\n",
       "kink             6.366266\n",
       "curve           17.415263\n",
       "speed            5.500643\n",
       "angular          1.857357\n",
       "bias             3.217497\n",
       "dir              1.025195\n",
       "vel_x            1.000438\n",
       "vel_y            1.005443\n",
       "orient           1.181026\n",
       "crab             2.499766\n",
       "dtype: float64"
      ]
     },
     "execution_count": 28,
     "metadata": {},
     "output_type": "execute_result"
    }
   ],
   "source": [
    "VIF"
   ]
  },
  {
   "cell_type": "code",
   "execution_count": 37,
   "metadata": {},
   "outputs": [
    {
     "data": {
      "text/html": [
       "<div>\n",
       "<style scoped>\n",
       "    .dataframe tbody tr th:only-of-type {\n",
       "        vertical-align: middle;\n",
       "    }\n",
       "\n",
       "    .dataframe tbody tr th {\n",
       "        vertical-align: top;\n",
       "    }\n",
       "\n",
       "    .dataframe thead th {\n",
       "        text-align: right;\n",
       "    }\n",
       "</style>\n",
       "<table border=\"1\" class=\"dataframe\">\n",
       "  <thead>\n",
       "    <tr style=\"text-align: right;\">\n",
       "      <th></th>\n",
       "      <th>features</th>\n",
       "      <th>OLS_coef</th>\n",
       "      <th>OLS_coef_abs</th>\n",
       "      <th>category</th>\n",
       "      <th>VIF</th>\n",
       "    </tr>\n",
       "  </thead>\n",
       "  <tbody>\n",
       "    <tr>\n",
       "      <th>0</th>\n",
       "      <td>width</td>\n",
       "      <td>-13.761015</td>\n",
       "      <td>13.761015</td>\n",
       "      <td>width</td>\n",
       "      <td>114.543742</td>\n",
       "    </tr>\n",
       "    <tr>\n",
       "      <th>1</th>\n",
       "      <td>aspect</td>\n",
       "      <td>-10.941442</td>\n",
       "      <td>10.941442</td>\n",
       "      <td>angle</td>\n",
       "      <td>83.754391</td>\n",
       "    </tr>\n",
       "    <tr>\n",
       "      <th>2</th>\n",
       "      <td>relwidth</td>\n",
       "      <td>3.617541</td>\n",
       "      <td>3.617541</td>\n",
       "      <td>width</td>\n",
       "      <td>263.506779</td>\n",
       "    </tr>\n",
       "    <tr>\n",
       "      <th>3</th>\n",
       "      <td>relaspect</td>\n",
       "      <td>2.827076</td>\n",
       "      <td>2.827076</td>\n",
       "      <td>angle</td>\n",
       "      <td>185.980740</td>\n",
       "    </tr>\n",
       "    <tr>\n",
       "      <th>4</th>\n",
       "      <td>rellength</td>\n",
       "      <td>-2.393815</td>\n",
       "      <td>2.393815</td>\n",
       "      <td>length</td>\n",
       "      <td>152.491069</td>\n",
       "    </tr>\n",
       "    <tr>\n",
       "      <th>5</th>\n",
       "      <td>morphwidth</td>\n",
       "      <td>2.076456</td>\n",
       "      <td>2.076456</td>\n",
       "      <td>width</td>\n",
       "      <td>52.038697</td>\n",
       "    </tr>\n",
       "    <tr>\n",
       "      <th>6</th>\n",
       "      <td>length</td>\n",
       "      <td>2.056058</td>\n",
       "      <td>2.056058</td>\n",
       "      <td>length</td>\n",
       "      <td>380.273174</td>\n",
       "    </tr>\n",
       "    <tr>\n",
       "      <th>7</th>\n",
       "      <td>area</td>\n",
       "      <td>-0.712834</td>\n",
       "      <td>0.712834</td>\n",
       "      <td>area</td>\n",
       "      <td>139.898284</td>\n",
       "    </tr>\n",
       "    <tr>\n",
       "      <th>8</th>\n",
       "      <td>speed</td>\n",
       "      <td>0.684202</td>\n",
       "      <td>0.684202</td>\n",
       "      <td>speed</td>\n",
       "      <td>5.500643</td>\n",
       "    </tr>\n",
       "    <tr>\n",
       "      <th>9</th>\n",
       "      <td>crab</td>\n",
       "      <td>-0.585187</td>\n",
       "      <td>0.585187</td>\n",
       "      <td>speed</td>\n",
       "      <td>2.499766</td>\n",
       "    </tr>\n",
       "    <tr>\n",
       "      <th>10</th>\n",
       "      <td>midline</td>\n",
       "      <td>-0.410617</td>\n",
       "      <td>0.410617</td>\n",
       "      <td>width</td>\n",
       "      <td>457.248200</td>\n",
       "    </tr>\n",
       "    <tr>\n",
       "      <th>11</th>\n",
       "      <td>dir</td>\n",
       "      <td>0.401372</td>\n",
       "      <td>0.401372</td>\n",
       "      <td>dir</td>\n",
       "      <td>1.025195</td>\n",
       "    </tr>\n",
       "    <tr>\n",
       "      <th>12</th>\n",
       "      <td>bias</td>\n",
       "      <td>-0.382911</td>\n",
       "      <td>0.382911</td>\n",
       "      <td>dir</td>\n",
       "      <td>3.217497</td>\n",
       "    </tr>\n",
       "    <tr>\n",
       "      <th>13</th>\n",
       "      <td>vel_x</td>\n",
       "      <td>-0.205959</td>\n",
       "      <td>0.205959</td>\n",
       "      <td>speed</td>\n",
       "      <td>1.000438</td>\n",
       "    </tr>\n",
       "    <tr>\n",
       "      <th>14</th>\n",
       "      <td>curve</td>\n",
       "      <td>-0.200358</td>\n",
       "      <td>0.200358</td>\n",
       "      <td>angle</td>\n",
       "      <td>17.415263</td>\n",
       "    </tr>\n",
       "    <tr>\n",
       "      <th>15</th>\n",
       "      <td>vel_y</td>\n",
       "      <td>0.096130</td>\n",
       "      <td>0.096130</td>\n",
       "      <td>speed</td>\n",
       "      <td>1.005443</td>\n",
       "    </tr>\n",
       "    <tr>\n",
       "      <th>16</th>\n",
       "      <td>kink</td>\n",
       "      <td>0.030345</td>\n",
       "      <td>0.030345</td>\n",
       "      <td>angle</td>\n",
       "      <td>6.366266</td>\n",
       "    </tr>\n",
       "    <tr>\n",
       "      <th>17</th>\n",
       "      <td>angular</td>\n",
       "      <td>0.014709</td>\n",
       "      <td>0.014709</td>\n",
       "      <td>speed</td>\n",
       "      <td>1.857357</td>\n",
       "    </tr>\n",
       "    <tr>\n",
       "      <th>18</th>\n",
       "      <td>time</td>\n",
       "      <td>0.006520</td>\n",
       "      <td>0.006520</td>\n",
       "      <td>time</td>\n",
       "      <td>5.816375</td>\n",
       "    </tr>\n",
       "    <tr>\n",
       "      <th>19</th>\n",
       "      <td>persistence</td>\n",
       "      <td>0.003011</td>\n",
       "      <td>0.003011</td>\n",
       "      <td>time</td>\n",
       "      <td>2.637530</td>\n",
       "    </tr>\n",
       "    <tr>\n",
       "      <th>20</th>\n",
       "      <td>orient</td>\n",
       "      <td>-0.000123</td>\n",
       "      <td>0.000123</td>\n",
       "      <td>angle</td>\n",
       "      <td>1.181026</td>\n",
       "    </tr>\n",
       "  </tbody>\n",
       "</table>\n",
       "</div>"
      ],
      "text/plain": [
       "       features   OLS_coef  OLS_coef_abs category         VIF\n",
       "0         width -13.761015     13.761015    width  114.543742\n",
       "1        aspect -10.941442     10.941442    angle   83.754391\n",
       "2      relwidth   3.617541      3.617541    width  263.506779\n",
       "3     relaspect   2.827076      2.827076    angle  185.980740\n",
       "4     rellength  -2.393815      2.393815   length  152.491069\n",
       "5    morphwidth   2.076456      2.076456    width   52.038697\n",
       "6        length   2.056058      2.056058   length  380.273174\n",
       "7          area  -0.712834      0.712834     area  139.898284\n",
       "8         speed   0.684202      0.684202    speed    5.500643\n",
       "9          crab  -0.585187      0.585187    speed    2.499766\n",
       "10      midline  -0.410617      0.410617    width  457.248200\n",
       "11          dir   0.401372      0.401372      dir    1.025195\n",
       "12         bias  -0.382911      0.382911      dir    3.217497\n",
       "13        vel_x  -0.205959      0.205959    speed    1.000438\n",
       "14        curve  -0.200358      0.200358    angle   17.415263\n",
       "15        vel_y   0.096130      0.096130    speed    1.005443\n",
       "16         kink   0.030345      0.030345    angle    6.366266\n",
       "17      angular   0.014709      0.014709    speed    1.857357\n",
       "18         time   0.006520      0.006520     time    5.816375\n",
       "19  persistence   0.003011      0.003011     time    2.637530\n",
       "20       orient  -0.000123      0.000123    angle    1.181026"
      ]
     },
     "execution_count": 37,
     "metadata": {},
     "output_type": "execute_result"
    }
   ],
   "source": [
    "# join with table\n",
    "vif_df = pd.DataFrame({'features':VIF.index.values, 'VIF': VIF.values})\n",
    "# join table with category\n",
    "top_features = top_features.merge(vif_df, how='left',on='features', right_index=False)\n",
    "top_features"
   ]
  },
  {
   "cell_type": "markdown",
   "metadata": {},
   "source": [
    "Keep only top for each category, drop time"
   ]
  },
  {
   "cell_type": "code",
   "execution_count": 59,
   "metadata": {},
   "outputs": [],
   "source": [
    "# for each category, get the top ols_coeff\n",
    "categories = top_features['category'].value_counts().index.values\n",
    "# remove time \n",
    "categories = categories[categories != 'time']"
   ]
  },
  {
   "cell_type": "code",
   "execution_count": 60,
   "metadata": {},
   "outputs": [
    {
     "data": {
      "text/plain": [
       "['speed', 'aspect', 'width', 'rellength', 'dir', 'area']"
      ]
     },
     "execution_count": 60,
     "metadata": {},
     "output_type": "execute_result"
    }
   ],
   "source": [
    "best_feature_by_category = []\n",
    "for c in categories:\n",
    "    i = top_features['category']== c\n",
    "    d = top_features.loc[i, ['features','category','OLS_coef_abs']]\n",
    "    j = d['OLS_coef_abs'].argmax()\n",
    "    best_feature = d['features'].iloc[j]\n",
    "    best_feature_by_category.append(best_feature)\n",
    "best_feature_by_category\n",
    "# remove time"
   ]
  },
  {
   "cell_type": "markdown",
   "metadata": {},
   "source": [
    "Recorded ['speed', 'aspect', 'width', 'rellength', 'dir', 'area'] top category in Nutcracker object in datatransform.py "
   ]
  },
  {
   "cell_type": "code",
   "execution_count": 61,
   "metadata": {},
   "outputs": [
    {
     "data": {
      "text/plain": [
       "speed         3.652589\n",
       "aspect       22.244330\n",
       "width        42.550239\n",
       "rellength    13.018498\n",
       "dir           1.013721\n",
       "area         20.659303\n",
       "dtype: float64"
      ]
     },
     "execution_count": 61,
     "metadata": {},
     "output_type": "execute_result"
    }
   ],
   "source": [
    "# try VIF again with just top features\n",
    "from statsmodels.stats.outliers_influence import variance_inflation_factor\n",
    "# get data frame \n",
    "df = pd.DataFrame(X_train, columns=X_columns)\n",
    "df = df[best_feature_by_category].copy()\n",
    "\n",
    "VIF = pd.Series([variance_inflation_factor(df.values, i) \n",
    "           for i in range(df.shape[1])], index=df.columns)\n",
    "VIF"
   ]
  },
  {
   "cell_type": "code",
   "execution_count": 6,
   "metadata": {},
   "outputs": [],
   "source": [
    "# try with OLS\n",
    "# list features\n",
    "NC = Nutcracker(datapath)\n",
    "# get machine learning input data\n",
    "X_train, X_test, y_train, y_test = NC.mldata()\n",
    "X_columns = np.array(NC.names['X']).transpose()\n"
   ]
  },
  {
   "cell_type": "code",
   "execution_count": 75,
   "metadata": {},
   "outputs": [
    {
     "data": {
      "text/plain": [
       "(1600000, 6)"
      ]
     },
     "execution_count": 75,
     "metadata": {},
     "output_type": "execute_result"
    }
   ],
   "source": [
    "# get index\n",
    "i = []\n",
    "for c in best_feature_by_category:\n",
    "    i.append(np.where(X_columns == c)[0][0])\n",
    "X_columns_reduced = X_columns[i]\n",
    "X_train_reduced = X_train[:,i]\n",
    "X_test_reduced = X_test[:,i]\n",
    "X_train_reduced.shape"
   ]
  },
  {
   "cell_type": "code",
   "execution_count": 76,
   "metadata": {},
   "outputs": [],
   "source": [
    "# OLS to view the best features\n",
    "C=0.05\n",
    "random_state = 318\n",
    "max_iter=1000\n",
    "OLS = LogisticRegression(C=C, random_state=random_state, max_iter=max_iter)\n",
    "OLS.fit(X_train_reduced, y_train)\n",
    "# get coefficient\n",
    "X_logistic_coef = OLS.coef_"
   ]
  },
  {
   "cell_type": "code",
   "execution_count": 80,
   "metadata": {},
   "outputs": [
    {
     "name": "stdout",
     "output_type": "stream",
     "text": [
      "train score: 0.715986875\n",
      "test score: 0.7158025\n"
     ]
    }
   ],
   "source": [
    "y_predicted = OLS.predict(X_test_reduced)\n",
    "print(f'train score: {OLS.score(X_train_reduced,y_train)}')\n",
    "print(f'test score: {OLS.score(X_test_reduced,y_test)}')"
   ]
  },
  {
   "cell_type": "markdown",
   "metadata": {},
   "source": [
    "Ok. that's wayy too much reduction. Previously the prediction is 0.86."
   ]
  },
  {
   "cell_type": "code",
   "execution_count": 82,
   "metadata": {},
   "outputs": [
    {
     "name": "stdout",
     "output_type": "stream",
     "text": [
      "'time', 'persistence', 'area', 'midline', 'morphwidth', 'width', 'relwidth', 'length', 'rellength', 'aspect', 'relaspect', 'kink', 'curve', 'speed', 'angular', 'bias', 'dir', 'vel_x', 'vel_y', 'orient', 'crab', "
     ]
    }
   ],
   "source": [
    "for c in X_columns:\n",
    "    print(f\"'{c}',\",end=' ')\n"
   ]
  },
  {
   "cell_type": "code",
   "execution_count": 86,
   "metadata": {},
   "outputs": [
    {
     "name": "stderr",
     "output_type": "stream",
     "text": [
      "/Users/connylin/opt/anaconda3/lib/python3.7/site-packages/sklearn/linear_model/_logistic.py:940: ConvergenceWarning: lbfgs failed to converge (status=1):\n",
      "STOP: TOTAL NO. of ITERATIONS REACHED LIMIT.\n",
      "\n",
      "Increase the number of iterations (max_iter) or scale the data as shown in:\n",
      "    https://scikit-learn.org/stable/modules/preprocessing.html\n",
      "Please also refer to the documentation for alternative solver options:\n",
      "    https://scikit-learn.org/stable/modules/linear_model.html#logistic-regression\n",
      "  extra_warning_msg=_LOGISTIC_SOLVER_CONVERGENCE_MSG)\n"
     ]
    },
    {
     "name": "stdout",
     "output_type": "stream",
     "text": [
      "train score: 0.86551875\n",
      "test score: 0.864975\n"
     ]
    },
    {
     "data": {
      "text/html": [
       "<div>\n",
       "<style scoped>\n",
       "    .dataframe tbody tr th:only-of-type {\n",
       "        vertical-align: middle;\n",
       "    }\n",
       "\n",
       "    .dataframe tbody tr th {\n",
       "        vertical-align: top;\n",
       "    }\n",
       "\n",
       "    .dataframe thead th {\n",
       "        text-align: right;\n",
       "    }\n",
       "</style>\n",
       "<table border=\"1\" class=\"dataframe\">\n",
       "  <thead>\n",
       "    <tr style=\"text-align: right;\">\n",
       "      <th></th>\n",
       "      <th>features</th>\n",
       "      <th>OLS_coef</th>\n",
       "      <th>OLS_coef_abs</th>\n",
       "    </tr>\n",
       "  </thead>\n",
       "  <tbody>\n",
       "    <tr>\n",
       "      <th>3</th>\n",
       "      <td>width</td>\n",
       "      <td>-19.712978</td>\n",
       "      <td>19.712978</td>\n",
       "    </tr>\n",
       "    <tr>\n",
       "      <th>7</th>\n",
       "      <td>aspect</td>\n",
       "      <td>-8.167657</td>\n",
       "      <td>8.167657</td>\n",
       "    </tr>\n",
       "    <tr>\n",
       "      <th>2</th>\n",
       "      <td>morphwidth</td>\n",
       "      <td>7.000185</td>\n",
       "      <td>7.000185</td>\n",
       "    </tr>\n",
       "    <tr>\n",
       "      <th>4</th>\n",
       "      <td>relwidth</td>\n",
       "      <td>6.394532</td>\n",
       "      <td>6.394532</td>\n",
       "    </tr>\n",
       "    <tr>\n",
       "      <th>1</th>\n",
       "      <td>midline</td>\n",
       "      <td>3.445190</td>\n",
       "      <td>3.445190</td>\n",
       "    </tr>\n",
       "    <tr>\n",
       "      <th>6</th>\n",
       "      <td>rellength</td>\n",
       "      <td>-3.368993</td>\n",
       "      <td>3.368993</td>\n",
       "    </tr>\n",
       "    <tr>\n",
       "      <th>5</th>\n",
       "      <td>length</td>\n",
       "      <td>-1.234110</td>\n",
       "      <td>1.234110</td>\n",
       "    </tr>\n",
       "    <tr>\n",
       "      <th>0</th>\n",
       "      <td>area</td>\n",
       "      <td>0.755910</td>\n",
       "      <td>0.755910</td>\n",
       "    </tr>\n",
       "    <tr>\n",
       "      <th>18</th>\n",
       "      <td>crab</td>\n",
       "      <td>-0.737983</td>\n",
       "      <td>0.737983</td>\n",
       "    </tr>\n",
       "    <tr>\n",
       "      <th>13</th>\n",
       "      <td>bias</td>\n",
       "      <td>-0.445770</td>\n",
       "      <td>0.445770</td>\n",
       "    </tr>\n",
       "    <tr>\n",
       "      <th>8</th>\n",
       "      <td>relaspect</td>\n",
       "      <td>0.331407</td>\n",
       "      <td>0.331407</td>\n",
       "    </tr>\n",
       "    <tr>\n",
       "      <th>14</th>\n",
       "      <td>dir</td>\n",
       "      <td>0.313870</td>\n",
       "      <td>0.313870</td>\n",
       "    </tr>\n",
       "    <tr>\n",
       "      <th>10</th>\n",
       "      <td>curve</td>\n",
       "      <td>-0.212032</td>\n",
       "      <td>0.212032</td>\n",
       "    </tr>\n",
       "    <tr>\n",
       "      <th>16</th>\n",
       "      <td>vel_y</td>\n",
       "      <td>-0.187585</td>\n",
       "      <td>0.187585</td>\n",
       "    </tr>\n",
       "    <tr>\n",
       "      <th>15</th>\n",
       "      <td>vel_x</td>\n",
       "      <td>0.036123</td>\n",
       "      <td>0.036123</td>\n",
       "    </tr>\n",
       "    <tr>\n",
       "      <th>11</th>\n",
       "      <td>speed</td>\n",
       "      <td>-0.033739</td>\n",
       "      <td>0.033739</td>\n",
       "    </tr>\n",
       "    <tr>\n",
       "      <th>9</th>\n",
       "      <td>kink</td>\n",
       "      <td>0.028635</td>\n",
       "      <td>0.028635</td>\n",
       "    </tr>\n",
       "    <tr>\n",
       "      <th>12</th>\n",
       "      <td>angular</td>\n",
       "      <td>0.016360</td>\n",
       "      <td>0.016360</td>\n",
       "    </tr>\n",
       "    <tr>\n",
       "      <th>17</th>\n",
       "      <td>orient</td>\n",
       "      <td>-0.000853</td>\n",
       "      <td>0.000853</td>\n",
       "    </tr>\n",
       "  </tbody>\n",
       "</table>\n",
       "</div>"
      ],
      "text/plain": [
       "      features   OLS_coef  OLS_coef_abs\n",
       "3        width -19.712978     19.712978\n",
       "7       aspect  -8.167657      8.167657\n",
       "2   morphwidth   7.000185      7.000185\n",
       "4     relwidth   6.394532      6.394532\n",
       "1      midline   3.445190      3.445190\n",
       "6    rellength  -3.368993      3.368993\n",
       "5       length  -1.234110      1.234110\n",
       "0         area   0.755910      0.755910\n",
       "18        crab  -0.737983      0.737983\n",
       "13        bias  -0.445770      0.445770\n",
       "8    relaspect   0.331407      0.331407\n",
       "14         dir   0.313870      0.313870\n",
       "10       curve  -0.212032      0.212032\n",
       "16       vel_y  -0.187585      0.187585\n",
       "15       vel_x   0.036123      0.036123\n",
       "11       speed  -0.033739      0.033739\n",
       "9         kink   0.028635      0.028635\n",
       "12     angular   0.016360      0.016360\n",
       "17      orient  -0.000853      0.000853"
      ]
     },
     "execution_count": 86,
     "metadata": {},
     "output_type": "execute_result"
    }
   ],
   "source": [
    "# take just time out\n",
    "# get index\n",
    "feature_selection = ['area', 'midline', 'morphwidth', 'width', 'relwidth', 'length', 'rellength', 'aspect', 'relaspect', 'kink', 'curve', 'speed', 'angular', 'bias', 'dir', 'vel_x', 'vel_y', 'orient', 'crab']\n",
    "i = []\n",
    "for c in feature_selection:\n",
    "    i.append(np.where(X_columns == c)[0][0])\n",
    "Xr_column = X_columns[i]\n",
    "Xr_train = X_train[:,i]\n",
    "Xr_test = X_test[:,i]\n",
    "Xr_train.shape\n",
    "\n",
    "# OLS to view the best features\n",
    "C=0.05\n",
    "random_state = 318\n",
    "max_iter=1000\n",
    "OLS = LogisticRegression(C=C, random_state=random_state, max_iter=max_iter)\n",
    "OLS.fit(Xr_train, y_train)\n",
    "print(f'train score: {OLS.score(Xr_train,y_train)}')\n",
    "print(f'test score: {OLS.score(Xr_test,y_test)}')\n",
    "# get coefficient\n",
    "X_logistic_coef = OLS.coef_\n",
    "\n",
    "# set dataframe\n",
    "top_features = pd.DataFrame(Xr_column, columns=['features'])\n",
    "# put int OLS_coef\n",
    "top_features['OLS_coef'] = X_logistic_coef[0]\n",
    "# put in absolute\n",
    "top_features['OLS_coef_abs'] = np.absolute(top_features['OLS_coef'].values)\n",
    "# join table with category\n",
    "top_features.sort_values(ascending=False, inplace=True, by=['OLS_coef_abs'])\n",
    "top_features"
   ]
  },
  {
   "cell_type": "markdown",
   "metadata": {},
   "source": [
    "dropping time features improved width predictive value by 6 points. try dropping orient."
   ]
  },
  {
   "cell_type": "code",
   "execution_count": 87,
   "metadata": {},
   "outputs": [
    {
     "name": "stderr",
     "output_type": "stream",
     "text": [
      "/Users/connylin/opt/anaconda3/lib/python3.7/site-packages/sklearn/linear_model/_logistic.py:940: ConvergenceWarning: lbfgs failed to converge (status=1):\n",
      "STOP: TOTAL NO. of ITERATIONS REACHED LIMIT.\n",
      "\n",
      "Increase the number of iterations (max_iter) or scale the data as shown in:\n",
      "    https://scikit-learn.org/stable/modules/preprocessing.html\n",
      "Please also refer to the documentation for alternative solver options:\n",
      "    https://scikit-learn.org/stable/modules/linear_model.html#logistic-regression\n",
      "  extra_warning_msg=_LOGISTIC_SOLVER_CONVERGENCE_MSG)\n"
     ]
    },
    {
     "name": "stdout",
     "output_type": "stream",
     "text": [
      "train score: 0.866840625\n",
      "test score: 0.8660375\n"
     ]
    },
    {
     "data": {
      "text/html": [
       "<div>\n",
       "<style scoped>\n",
       "    .dataframe tbody tr th:only-of-type {\n",
       "        vertical-align: middle;\n",
       "    }\n",
       "\n",
       "    .dataframe tbody tr th {\n",
       "        vertical-align: top;\n",
       "    }\n",
       "\n",
       "    .dataframe thead th {\n",
       "        text-align: right;\n",
       "    }\n",
       "</style>\n",
       "<table border=\"1\" class=\"dataframe\">\n",
       "  <thead>\n",
       "    <tr style=\"text-align: right;\">\n",
       "      <th></th>\n",
       "      <th>features</th>\n",
       "      <th>OLS_coef</th>\n",
       "      <th>OLS_coef_abs</th>\n",
       "    </tr>\n",
       "  </thead>\n",
       "  <tbody>\n",
       "    <tr>\n",
       "      <th>3</th>\n",
       "      <td>width</td>\n",
       "      <td>-25.747492</td>\n",
       "      <td>25.747492</td>\n",
       "    </tr>\n",
       "    <tr>\n",
       "      <th>2</th>\n",
       "      <td>morphwidth</td>\n",
       "      <td>8.924791</td>\n",
       "      <td>8.924791</td>\n",
       "    </tr>\n",
       "    <tr>\n",
       "      <th>4</th>\n",
       "      <td>relwidth</td>\n",
       "      <td>6.987108</td>\n",
       "      <td>6.987108</td>\n",
       "    </tr>\n",
       "    <tr>\n",
       "      <th>1</th>\n",
       "      <td>midline</td>\n",
       "      <td>3.327124</td>\n",
       "      <td>3.327124</td>\n",
       "    </tr>\n",
       "    <tr>\n",
       "      <th>7</th>\n",
       "      <td>aspect</td>\n",
       "      <td>-3.050006</td>\n",
       "      <td>3.050006</td>\n",
       "    </tr>\n",
       "    <tr>\n",
       "      <th>6</th>\n",
       "      <td>rellength</td>\n",
       "      <td>-2.700236</td>\n",
       "      <td>2.700236</td>\n",
       "    </tr>\n",
       "    <tr>\n",
       "      <th>0</th>\n",
       "      <td>area</td>\n",
       "      <td>-0.941961</td>\n",
       "      <td>0.941961</td>\n",
       "    </tr>\n",
       "    <tr>\n",
       "      <th>17</th>\n",
       "      <td>crab</td>\n",
       "      <td>-0.692447</td>\n",
       "      <td>0.692447</td>\n",
       "    </tr>\n",
       "    <tr>\n",
       "      <th>11</th>\n",
       "      <td>speed</td>\n",
       "      <td>0.608800</td>\n",
       "      <td>0.608800</td>\n",
       "    </tr>\n",
       "    <tr>\n",
       "      <th>13</th>\n",
       "      <td>bias</td>\n",
       "      <td>-0.497130</td>\n",
       "      <td>0.497130</td>\n",
       "    </tr>\n",
       "    <tr>\n",
       "      <th>14</th>\n",
       "      <td>dir</td>\n",
       "      <td>0.297617</td>\n",
       "      <td>0.297617</td>\n",
       "    </tr>\n",
       "    <tr>\n",
       "      <th>5</th>\n",
       "      <td>length</td>\n",
       "      <td>0.246904</td>\n",
       "      <td>0.246904</td>\n",
       "    </tr>\n",
       "    <tr>\n",
       "      <th>10</th>\n",
       "      <td>curve</td>\n",
       "      <td>-0.210115</td>\n",
       "      <td>0.210115</td>\n",
       "    </tr>\n",
       "    <tr>\n",
       "      <th>16</th>\n",
       "      <td>vel_y</td>\n",
       "      <td>-0.157846</td>\n",
       "      <td>0.157846</td>\n",
       "    </tr>\n",
       "    <tr>\n",
       "      <th>15</th>\n",
       "      <td>vel_x</td>\n",
       "      <td>0.053620</td>\n",
       "      <td>0.053620</td>\n",
       "    </tr>\n",
       "    <tr>\n",
       "      <th>8</th>\n",
       "      <td>relaspect</td>\n",
       "      <td>0.034040</td>\n",
       "      <td>0.034040</td>\n",
       "    </tr>\n",
       "    <tr>\n",
       "      <th>9</th>\n",
       "      <td>kink</td>\n",
       "      <td>0.029150</td>\n",
       "      <td>0.029150</td>\n",
       "    </tr>\n",
       "    <tr>\n",
       "      <th>12</th>\n",
       "      <td>angular</td>\n",
       "      <td>0.012925</td>\n",
       "      <td>0.012925</td>\n",
       "    </tr>\n",
       "  </tbody>\n",
       "</table>\n",
       "</div>"
      ],
      "text/plain": [
       "      features   OLS_coef  OLS_coef_abs\n",
       "3        width -25.747492     25.747492\n",
       "2   morphwidth   8.924791      8.924791\n",
       "4     relwidth   6.987108      6.987108\n",
       "1      midline   3.327124      3.327124\n",
       "7       aspect  -3.050006      3.050006\n",
       "6    rellength  -2.700236      2.700236\n",
       "0         area  -0.941961      0.941961\n",
       "17        crab  -0.692447      0.692447\n",
       "11       speed   0.608800      0.608800\n",
       "13        bias  -0.497130      0.497130\n",
       "14         dir   0.297617      0.297617\n",
       "5       length   0.246904      0.246904\n",
       "10       curve  -0.210115      0.210115\n",
       "16       vel_y  -0.157846      0.157846\n",
       "15       vel_x   0.053620      0.053620\n",
       "8    relaspect   0.034040      0.034040\n",
       "9         kink   0.029150      0.029150\n",
       "12     angular   0.012925      0.012925"
      ]
     },
     "execution_count": 87,
     "metadata": {},
     "output_type": "execute_result"
    }
   ],
   "source": [
    "# drop orient\n",
    "# take just time out\n",
    "# get index\n",
    "feature_selection = ['area', 'midline', 'morphwidth', 'width', 'relwidth', 'length', 'rellength', 'aspect', 'relaspect', 'kink', 'curve', 'speed', 'angular', 'bias', 'dir', 'vel_x', 'vel_y', 'crab']\n",
    "i = []\n",
    "for c in feature_selection:\n",
    "    i.append(np.where(X_columns == c)[0][0])\n",
    "Xr_column = X_columns[i]\n",
    "Xr_train = X_train[:,i]\n",
    "Xr_test = X_test[:,i]\n",
    "Xr_train.shape\n",
    "\n",
    "# OLS to view the best features\n",
    "C=0.05\n",
    "random_state = 318\n",
    "max_iter=1000\n",
    "OLS = LogisticRegression(C=C, random_state=random_state, max_iter=max_iter)\n",
    "OLS.fit(Xr_train, y_train)\n",
    "print(f'train score: {OLS.score(Xr_train,y_train)}')\n",
    "print(f'test score: {OLS.score(Xr_test,y_test)}')\n",
    "# get coefficient\n",
    "X_logistic_coef = OLS.coef_\n",
    "\n",
    "# set dataframe\n",
    "top_features = pd.DataFrame(Xr_column, columns=['features'])\n",
    "# put int OLS_coef\n",
    "top_features['OLS_coef'] = X_logistic_coef[0]\n",
    "# put in absolute\n",
    "top_features['OLS_coef_abs'] = np.absolute(top_features['OLS_coef'].values)\n",
    "# join table with category\n",
    "top_features.sort_values(ascending=False, inplace=True, by=['OLS_coef_abs'])\n",
    "top_features\n"
   ]
  },
  {
   "cell_type": "markdown",
   "metadata": {},
   "source": [
    "dropping orient improved width prediction by 12 points. (from 13). improved prediction by 0.5% or so. \n",
    "\n",
    "Try PCA"
   ]
  },
  {
   "cell_type": "code",
   "execution_count": 88,
   "metadata": {},
   "outputs": [
    {
     "name": "stdout",
     "output_type": "stream",
     "text": [
      "(1600000, 5)\n",
      "[[ 3.11047928e-02  2.20268639e-01 -1.18123889e-05 -6.25606363e-05\n",
      "  -3.67581747e-05 -5.62938567e-06 -4.32889282e-05 -3.39199379e-05\n",
      "   1.98903495e-05  9.61810477e-06 -6.83595413e-05  6.29391079e-03\n",
      "   4.88675878e-04 -3.92380099e-05  1.79958156e-03 -1.76811074e-04\n",
      "   1.89134216e-06 -5.86119787e-07 -1.71101633e-06 -9.74921064e-01\n",
      "  -1.16404341e-06]\n",
      " [ 3.70083233e-02  9.74452469e-01 -3.02507714e-05 -1.64839254e-04\n",
      "  -9.23005671e-07 -4.57182533e-05 -3.09197289e-04 -1.47766545e-04\n",
      "   1.28072452e-04 -2.74516113e-06 -4.79508933e-04  1.88904217e-03\n",
      "  -2.83578660e-03 -2.13859347e-04 -8.32245310e-03 -6.69918084e-04\n",
      "   9.63588182e-07 -4.89598392e-07 -3.42304532e-06  2.21339123e-01\n",
      "  -1.29427266e-05]\n",
      " [ 8.53797021e-01 -3.75046927e-02  1.85082314e-05 -3.20620205e-04\n",
      "   1.06399649e-04  1.07788407e-03  2.62529325e-03 -1.54660221e-03\n",
      "  -8.43088716e-04  1.74255089e-03  3.72138554e-03  5.00172699e-01\n",
      "   1.19602020e-01 -5.86879415e-04  6.79690205e-02 -2.52231058e-03\n",
      "   6.26755956e-05  3.38930073e-05 -7.62149606e-06  2.21813239e-02\n",
      "   7.51253877e-05]\n",
      " [-5.17438459e-01  2.14768785e-02  5.63227808e-05 -2.16851182e-04\n",
      "   1.45031276e-04  1.82726002e-03  5.32369705e-03 -2.24436697e-03\n",
      "  -1.65265130e-03  2.79430723e-03  7.46727755e-03  8.08503965e-01\n",
      "   2.30467708e-01  4.00316790e-04  1.57678431e-01 -2.96415141e-05\n",
      "   4.62059675e-05  2.16754791e-06 -4.58548786e-05 -6.03103828e-03\n",
      "   2.06798226e-04]\n",
      " [ 2.59327015e-02  7.20711412e-03 -1.43153692e-04 -9.61298816e-04\n",
      "  -5.98263908e-05  1.17272683e-03  3.50901833e-03 -1.82508051e-03\n",
      "  -7.90699402e-04  2.19009439e-03  5.33007003e-03 -1.89140982e-01\n",
      "   5.01751952e-02  2.30688312e-03  9.80263628e-01  4.29051883e-04\n",
      "   2.18289488e-05 -5.56383864e-05  2.30147291e-05  3.06868063e-03\n",
      "   4.29439788e-04]]\n"
     ]
    }
   ],
   "source": [
    "from sklearn.decomposition import PCA\n",
    "\n",
    "# 1. Instantiate\n",
    "my_pca = PCA(n_components=5)\n",
    "# 2. Fit (mathematical calculations are made at this step) \n",
    "my_pca.fit(X_train)\n",
    "# 3. Transform\n",
    "X_PCA = my_pca.transform(X_train)\n",
    "\n",
    "print(X_PCA.shape)\n",
    "\n",
    "# the principal components\n",
    "print(my_pca.components_)"
   ]
  },
  {
   "cell_type": "code",
   "execution_count": 90,
   "metadata": {},
   "outputs": [
    {
     "data": {
      "text/html": [
       "<div>\n",
       "<style scoped>\n",
       "    .dataframe tbody tr th:only-of-type {\n",
       "        vertical-align: middle;\n",
       "    }\n",
       "\n",
       "    .dataframe tbody tr th {\n",
       "        vertical-align: top;\n",
       "    }\n",
       "\n",
       "    .dataframe thead th {\n",
       "        text-align: right;\n",
       "    }\n",
       "</style>\n",
       "<table border=\"1\" class=\"dataframe\">\n",
       "  <thead>\n",
       "    <tr style=\"text-align: right;\">\n",
       "      <th></th>\n",
       "      <th>0</th>\n",
       "      <th>1</th>\n",
       "      <th>2</th>\n",
       "      <th>3</th>\n",
       "      <th>4</th>\n",
       "      <th>5</th>\n",
       "      <th>6</th>\n",
       "      <th>7</th>\n",
       "      <th>8</th>\n",
       "      <th>9</th>\n",
       "      <th>...</th>\n",
       "      <th>11</th>\n",
       "      <th>12</th>\n",
       "      <th>13</th>\n",
       "      <th>14</th>\n",
       "      <th>15</th>\n",
       "      <th>16</th>\n",
       "      <th>17</th>\n",
       "      <th>18</th>\n",
       "      <th>19</th>\n",
       "      <th>20</th>\n",
       "    </tr>\n",
       "  </thead>\n",
       "  <tbody>\n",
       "    <tr>\n",
       "      <th>0</th>\n",
       "      <td>3.110479</td>\n",
       "      <td>22.026864</td>\n",
       "      <td>-0.001181</td>\n",
       "      <td>-0.006256</td>\n",
       "      <td>-0.003676</td>\n",
       "      <td>-0.000563</td>\n",
       "      <td>-0.004329</td>\n",
       "      <td>-0.003392</td>\n",
       "      <td>0.001989</td>\n",
       "      <td>0.000962</td>\n",
       "      <td>...</td>\n",
       "      <td>0.629391</td>\n",
       "      <td>0.048868</td>\n",
       "      <td>-0.003924</td>\n",
       "      <td>0.179958</td>\n",
       "      <td>-0.017681</td>\n",
       "      <td>0.000189</td>\n",
       "      <td>-0.000059</td>\n",
       "      <td>-0.000171</td>\n",
       "      <td>-97.492106</td>\n",
       "      <td>-0.000116</td>\n",
       "    </tr>\n",
       "    <tr>\n",
       "      <th>1</th>\n",
       "      <td>3.700832</td>\n",
       "      <td>97.445247</td>\n",
       "      <td>-0.003025</td>\n",
       "      <td>-0.016484</td>\n",
       "      <td>-0.000092</td>\n",
       "      <td>-0.004572</td>\n",
       "      <td>-0.030920</td>\n",
       "      <td>-0.014777</td>\n",
       "      <td>0.012807</td>\n",
       "      <td>-0.000275</td>\n",
       "      <td>...</td>\n",
       "      <td>0.188904</td>\n",
       "      <td>-0.283579</td>\n",
       "      <td>-0.021386</td>\n",
       "      <td>-0.832245</td>\n",
       "      <td>-0.066992</td>\n",
       "      <td>0.000096</td>\n",
       "      <td>-0.000049</td>\n",
       "      <td>-0.000342</td>\n",
       "      <td>22.133912</td>\n",
       "      <td>-0.001294</td>\n",
       "    </tr>\n",
       "    <tr>\n",
       "      <th>2</th>\n",
       "      <td>85.379702</td>\n",
       "      <td>-3.750469</td>\n",
       "      <td>0.001851</td>\n",
       "      <td>-0.032062</td>\n",
       "      <td>0.010640</td>\n",
       "      <td>0.107788</td>\n",
       "      <td>0.262529</td>\n",
       "      <td>-0.154660</td>\n",
       "      <td>-0.084309</td>\n",
       "      <td>0.174255</td>\n",
       "      <td>...</td>\n",
       "      <td>50.017270</td>\n",
       "      <td>11.960202</td>\n",
       "      <td>-0.058688</td>\n",
       "      <td>6.796902</td>\n",
       "      <td>-0.252231</td>\n",
       "      <td>0.006268</td>\n",
       "      <td>0.003389</td>\n",
       "      <td>-0.000762</td>\n",
       "      <td>2.218132</td>\n",
       "      <td>0.007513</td>\n",
       "    </tr>\n",
       "    <tr>\n",
       "      <th>3</th>\n",
       "      <td>-51.743846</td>\n",
       "      <td>2.147688</td>\n",
       "      <td>0.005632</td>\n",
       "      <td>-0.021685</td>\n",
       "      <td>0.014503</td>\n",
       "      <td>0.182726</td>\n",
       "      <td>0.532370</td>\n",
       "      <td>-0.224437</td>\n",
       "      <td>-0.165265</td>\n",
       "      <td>0.279431</td>\n",
       "      <td>...</td>\n",
       "      <td>80.850397</td>\n",
       "      <td>23.046771</td>\n",
       "      <td>0.040032</td>\n",
       "      <td>15.767843</td>\n",
       "      <td>-0.002964</td>\n",
       "      <td>0.004621</td>\n",
       "      <td>0.000217</td>\n",
       "      <td>-0.004585</td>\n",
       "      <td>-0.603104</td>\n",
       "      <td>0.020680</td>\n",
       "    </tr>\n",
       "    <tr>\n",
       "      <th>4</th>\n",
       "      <td>2.593270</td>\n",
       "      <td>0.720711</td>\n",
       "      <td>-0.014315</td>\n",
       "      <td>-0.096130</td>\n",
       "      <td>-0.005983</td>\n",
       "      <td>0.117273</td>\n",
       "      <td>0.350902</td>\n",
       "      <td>-0.182508</td>\n",
       "      <td>-0.079070</td>\n",
       "      <td>0.219009</td>\n",
       "      <td>...</td>\n",
       "      <td>-18.914098</td>\n",
       "      <td>5.017520</td>\n",
       "      <td>0.230688</td>\n",
       "      <td>98.026363</td>\n",
       "      <td>0.042905</td>\n",
       "      <td>0.002183</td>\n",
       "      <td>-0.005564</td>\n",
       "      <td>0.002301</td>\n",
       "      <td>0.306868</td>\n",
       "      <td>0.042944</td>\n",
       "    </tr>\n",
       "  </tbody>\n",
       "</table>\n",
       "<p>5 rows × 21 columns</p>\n",
       "</div>"
      ],
      "text/plain": [
       "          0          1         2         3         4         5         6   \\\n",
       "0   3.110479  22.026864 -0.001181 -0.006256 -0.003676 -0.000563 -0.004329   \n",
       "1   3.700832  97.445247 -0.003025 -0.016484 -0.000092 -0.004572 -0.030920   \n",
       "2  85.379702  -3.750469  0.001851 -0.032062  0.010640  0.107788  0.262529   \n",
       "3 -51.743846   2.147688  0.005632 -0.021685  0.014503  0.182726  0.532370   \n",
       "4   2.593270   0.720711 -0.014315 -0.096130 -0.005983  0.117273  0.350902   \n",
       "\n",
       "         7         8         9   ...         11         12        13  \\\n",
       "0 -0.003392  0.001989  0.000962  ...   0.629391   0.048868 -0.003924   \n",
       "1 -0.014777  0.012807 -0.000275  ...   0.188904  -0.283579 -0.021386   \n",
       "2 -0.154660 -0.084309  0.174255  ...  50.017270  11.960202 -0.058688   \n",
       "3 -0.224437 -0.165265  0.279431  ...  80.850397  23.046771  0.040032   \n",
       "4 -0.182508 -0.079070  0.219009  ... -18.914098   5.017520  0.230688   \n",
       "\n",
       "          14        15        16        17        18         19        20  \n",
       "0   0.179958 -0.017681  0.000189 -0.000059 -0.000171 -97.492106 -0.000116  \n",
       "1  -0.832245 -0.066992  0.000096 -0.000049 -0.000342  22.133912 -0.001294  \n",
       "2   6.796902 -0.252231  0.006268  0.003389 -0.000762   2.218132  0.007513  \n",
       "3  15.767843 -0.002964  0.004621  0.000217 -0.004585  -0.603104  0.020680  \n",
       "4  98.026363  0.042905  0.002183 -0.005564  0.002301   0.306868  0.042944  \n",
       "\n",
       "[5 rows x 21 columns]"
      ]
     },
     "execution_count": 90,
     "metadata": {},
     "output_type": "execute_result"
    }
   ],
   "source": [
    "pd.DataFrame(my_pca.components_*100)"
   ]
  },
  {
   "cell_type": "code",
   "execution_count": 92,
   "metadata": {},
   "outputs": [
    {
     "name": "stdout",
     "output_type": "stream",
     "text": [
      "[51.55648087 40.37704455  3.50634294  3.29954692  0.94174441]\n"
     ]
    }
   ],
   "source": [
    "expl_var = my_pca.explained_variance_ratio_*100\n",
    "print(expl_var)"
   ]
  },
  {
   "cell_type": "code",
   "execution_count": 94,
   "metadata": {},
   "outputs": [
    {
     "name": "stdout",
     "output_type": "stream",
     "text": [
      "[51.55648087 91.93352543 95.43986837 98.73941528 99.68115969]\n"
     ]
    }
   ],
   "source": [
    "expl_var_cumulative = my_pca.explained_variance_ratio_.cumsum()*100\n",
    "print(expl_var_cumulative)"
   ]
  },
  {
   "cell_type": "code",
   "execution_count": null,
   "metadata": {},
   "outputs": [],
   "source": [
    "# transform data onto the first two principal components\n",
    "X_train_PCA = my_pca.transform(X_train)\n",
    "\n",
    "# Transform test data, with PCA fit on trainign data!!!\n",
    "X_test_PCA = my_pca.transform(X_test)\n"
   ]
  },
  {
   "cell_type": "code",
   "execution_count": 97,
   "metadata": {},
   "outputs": [],
   "source": [
    "def OLS_test(X_train, X_test, y_train, y_test):\n",
    "    # OLS to view the best features\n",
    "    C=0.05\n",
    "    random_state = 318\n",
    "    max_iter=1000\n",
    "    OLS = LogisticRegression(C=C, random_state=random_state, max_iter=max_iter)\n",
    "    OLS.fit(X_train, y_train)\n",
    "    train_score = OLS.score(X_train,y_train)\n",
    "    test_score = OLS.score(X_test,y_test)\n",
    "    print(f'train score: {train_score}')\n",
    "    print(f'test score: {test_score}')\n",
    "    return train_score, test_score"
   ]
  },
  {
   "cell_type": "code",
   "execution_count": 123,
   "metadata": {},
   "outputs": [
    {
     "name": "stdout",
     "output_type": "stream",
     "text": [
      "component=3\n",
      "train score: 0.54159375\n",
      "test score: 0.5412975\n"
     ]
    },
    {
     "data": {
      "image/png": "[encoded data removed]",
      "text/plain": [
       "<Figure size 432x288 with 1 Axes>"
      ]
     },
     "metadata": {
      "needs_background": "light"
     },
     "output_type": "display_data"
    },
    {
     "name": "stdout",
     "output_type": "stream",
     "text": [
      "component=4\n",
      "train score: 0.63500375\n",
      "test score: 0.63516\n"
     ]
    },
    {
     "data": {
      "image/png": "[encoded data removed]",
      "text/plain": [
       "<Figure size 432x288 with 1 Axes>"
      ]
     },
     "metadata": {
      "needs_background": "light"
     },
     "output_type": "display_data"
    },
    {
     "name": "stdout",
     "output_type": "stream",
     "text": [
      "component=5\n",
      "train score: 0.645888125\n",
      "test score: 0.6459075\n"
     ]
    },
    {
     "data": {
      "image/png": "[encoded data removed]",
      "text/plain": [
       "<Figure size 432x288 with 1 Axes>"
      ]
     },
     "metadata": {
      "needs_background": "light"
     },
     "output_type": "display_data"
    },
    {
     "name": "stdout",
     "output_type": "stream",
     "text": [
      "component=6\n",
      "train score: 0.820274375\n",
      "test score: 0.8204\n"
     ]
    },
    {
     "data": {
      "image/png": "[encoded data removed]",
      "text/plain": [
       "<Figure size 432x288 with 1 Axes>"
      ]
     },
     "metadata": {
      "needs_background": "light"
     },
     "output_type": "display_data"
    },
    {
     "name": "stdout",
     "output_type": "stream",
     "text": [
      "component=7\n",
      "train score: 0.820485\n",
      "test score: 0.820515\n"
     ]
    },
    {
     "data": {
      "image/png": "[encoded data removed]",
      "text/plain": [
       "<Figure size 432x288 with 1 Axes>"
      ]
     },
     "metadata": {
      "needs_background": "light"
     },
     "output_type": "display_data"
    },
    {
     "name": "stdout",
     "output_type": "stream",
     "text": [
      "component=8\n",
      "train score: 0.827725625\n",
      "test score: 0.8277475\n"
     ]
    },
    {
     "data": {
      "image/png": "[encoded data removed]",
      "text/plain": [
       "<Figure size 432x288 with 1 Axes>"
      ]
     },
     "metadata": {
      "needs_background": "light"
     },
     "output_type": "display_data"
    },
    {
     "name": "stdout",
     "output_type": "stream",
     "text": [
      "component=9\n",
      "train score: 0.828579375\n",
      "test score: 0.8285575\n"
     ]
    },
    {
     "data": {
      "image/png": "[encoded data removed]",
      "text/plain": [
       "<Figure size 432x288 with 1 Axes>"
      ]
     },
     "metadata": {
      "needs_background": "light"
     },
     "output_type": "display_data"
    }
   ],
   "source": [
    "expl_var = []\n",
    "n_components_list = range(3,10)\n",
    "train_score_list = []\n",
    "test_score_list = []\n",
    "for n in n_components_list:\n",
    "    print(f'component={n}')\n",
    "    my_pca = PCA(n_components=n)\n",
    "    my_pca.fit(X_train)\n",
    "    X_train_PCA = my_pca.transform(X_train)\n",
    "    X_test_PCA = my_pca.transform(X_test)\n",
    "    train_score, test_score = OLS_test(X_train_PCA, X_test_PCA, y_train, y_test)\n",
    "    train_score_list.append(train_score)\n",
    "    test_score_list.append(test_score)\n",
    "    expl_var_cumulative = my_pca.explained_variance_ratio_.cumsum()*100\n",
    "    expl_var.append(expl_var_cumulative)\n",
    "    plt.figure()\n",
    "    plt.plot(expl_var_cumulative, label=str(n))\n",
    "    plt.legend()\n",
    "    plt.show()"
   ]
  },
  {
   "cell_type": "markdown",
   "metadata": {},
   "source": [
    "reducing dimension to 9 gives 82% accuracy, which is 4% less than no reduction"
   ]
  },
  {
   "cell_type": "code",
   "execution_count": 128,
   "metadata": {},
   "outputs": [
    {
     "data": {
      "text/plain": [
       "[array([[-8.96280421e+01, -2.09630241e+01,  2.40388146e+01, ...,\n",
       "          1.31501591e-01,  3.37209287e-02,  2.56665669e-02],\n",
       "        [-4.71144457e+01, -7.96687038e+01,  2.59704268e+01, ...,\n",
       "         -4.49827526e-01,  7.85688413e-02, -2.37462817e-01],\n",
       "        [ 2.00095791e+02,  1.84196151e+01,  4.30973622e+01, ...,\n",
       "          1.72988475e-01,  4.60469107e-01,  1.27340402e-02],\n",
       "        ...,\n",
       "        [-1.23743464e+02,  4.81038857e+01,  2.74984805e+01, ...,\n",
       "          2.37214516e-01,  8.28950112e-02,  5.64707465e-02],\n",
       "        [-3.67759857e+00, -5.79167242e+01, -1.81221372e+01, ...,\n",
       "          3.29453793e-01,  3.01055238e-01, -3.22279711e-01],\n",
       "        [-6.82569700e+01, -3.41674301e+01, -1.15594645e+01, ...,\n",
       "          4.79899217e-01,  1.10432821e-01, -1.62620348e-01]]),\n",
       " array([[-8.96280421e+01, -2.09630241e+01,  2.40388146e+01, ...,\n",
       "          3.37209287e-02,  2.56665669e-02, -4.62640685e-02],\n",
       "        [-4.71144457e+01, -7.96687038e+01,  2.59704268e+01, ...,\n",
       "          7.85688413e-02, -2.37462817e-01,  3.49312506e-02],\n",
       "        [ 2.00095791e+02,  1.84196151e+01,  4.30973622e+01, ...,\n",
       "          4.60469107e-01,  1.27340402e-02,  2.23177257e-02],\n",
       "        ...,\n",
       "        [-1.23743464e+02,  4.81038857e+01,  2.74984805e+01, ...,\n",
       "          8.28950112e-02,  5.64707465e-02,  1.49448067e-01],\n",
       "        [-3.67759857e+00, -5.79167242e+01, -1.81221372e+01, ...,\n",
       "          3.01055238e-01, -3.22279711e-01, -1.61853452e-01],\n",
       "        [-6.82569700e+01, -3.41674301e+01, -1.15594645e+01, ...,\n",
       "          1.10432821e-01, -1.62620348e-01,  1.25383510e-01]]),\n",
       " array([[-8.96280421e+01, -2.09630241e+01,  2.40388146e+01, ...,\n",
       "          2.56665669e-02, -4.62640685e-02, -1.62970849e-03],\n",
       "        [-4.71144457e+01, -7.96687038e+01,  2.59704268e+01, ...,\n",
       "         -2.37462817e-01,  3.49312506e-02,  7.68410298e-02],\n",
       "        [ 2.00095791e+02,  1.84196151e+01,  4.30973622e+01, ...,\n",
       "          1.27340402e-02,  2.23177257e-02, -1.47577686e-01],\n",
       "        ...,\n",
       "        [-1.23743464e+02,  4.81038857e+01,  2.74984805e+01, ...,\n",
       "          5.64707465e-02,  1.49448067e-01, -5.25755945e-02],\n",
       "        [-3.67759857e+00, -5.79167242e+01, -1.81221372e+01, ...,\n",
       "         -3.22279711e-01, -1.61853452e-01, -1.07463194e-01],\n",
       "        [-6.82569700e+01, -3.41674301e+01, -1.15594645e+01, ...,\n",
       "         -1.62620348e-01,  1.25383510e-01,  1.87370489e-01]]),\n",
       " array([[-8.96280421e+01, -2.09630241e+01,  2.40388146e+01, ...,\n",
       "         -4.62640685e-02, -1.62970849e-03, -5.73549933e-02],\n",
       "        [-4.71144457e+01, -7.96687038e+01,  2.59704268e+01, ...,\n",
       "          3.49312506e-02,  7.68410298e-02,  4.91207249e-02],\n",
       "        [ 2.00095791e+02,  1.84196151e+01,  4.30973622e+01, ...,\n",
       "          2.23177257e-02, -1.47577686e-01, -1.09607664e-01],\n",
       "        ...,\n",
       "        [-1.23743464e+02,  4.81038857e+01,  2.74984805e+01, ...,\n",
       "          1.49448067e-01, -5.25755945e-02,  1.68716213e-02],\n",
       "        [-3.67759857e+00, -5.79167242e+01, -1.81221372e+01, ...,\n",
       "         -1.61853452e-01, -1.07463194e-01,  1.50312731e-01],\n",
       "        [-6.82569700e+01, -3.41674301e+01, -1.15594645e+01, ...,\n",
       "          1.25383510e-01,  1.87370489e-01,  3.08636072e-02]]),\n",
       " array([[-8.96280421e+01, -2.09630241e+01,  2.40388146e+01, ...,\n",
       "         -1.62970849e-03, -5.73549933e-02, -1.27044397e-02],\n",
       "        [-4.71144457e+01, -7.96687038e+01,  2.59704268e+01, ...,\n",
       "          7.68410298e-02,  4.91207249e-02,  5.16026844e-02],\n",
       "        [ 2.00095791e+02,  1.84196151e+01,  4.30973622e+01, ...,\n",
       "         -1.47577686e-01, -1.09607664e-01, -1.27508292e-01],\n",
       "        ...,\n",
       "        [-1.23743464e+02,  4.81038857e+01,  2.74984805e+01, ...,\n",
       "         -5.25755945e-02,  1.68716213e-02,  6.00161908e-02],\n",
       "        [-3.67759857e+00, -5.79167242e+01, -1.81221372e+01, ...,\n",
       "         -1.07463194e-01,  1.50312731e-01,  9.41910885e-02],\n",
       "        [-6.82569700e+01, -3.41674301e+01, -1.15594645e+01, ...,\n",
       "          1.87370489e-01,  3.08636072e-02, -9.18356818e-03]]),\n",
       " array([[-8.96280421e+01, -2.09630241e+01,  2.40388146e+01, ...,\n",
       "         -5.73549933e-02, -1.27044397e-02, -1.62437534e-02],\n",
       "        [-4.71144457e+01, -7.96687038e+01,  2.59704268e+01, ...,\n",
       "          4.91207249e-02,  5.16026844e-02, -1.09827216e-03],\n",
       "        [ 2.00095791e+02,  1.84196151e+01,  4.30973622e+01, ...,\n",
       "         -1.09607664e-01, -1.27508292e-01, -1.67191497e-02],\n",
       "        ...,\n",
       "        [-1.23743464e+02,  4.81038857e+01,  2.74984805e+01, ...,\n",
       "          1.68716213e-02,  6.00161908e-02, -5.87781911e-04],\n",
       "        [-3.67759857e+00, -5.79167242e+01, -1.81221372e+01, ...,\n",
       "          1.50312731e-01,  9.41910885e-02,  3.20325014e-03],\n",
       "        [-6.82569700e+01, -3.41674301e+01, -1.15594645e+01, ...,\n",
       "          3.08636072e-02, -9.18356818e-03,  2.61428399e-04]]),\n",
       " array([[-8.96280421e+01, -2.09630241e+01,  2.40388146e+01, ...,\n",
       "         -1.27044397e-02, -1.62437534e-02, -1.49248722e-02],\n",
       "        [-4.71144457e+01, -7.96687038e+01,  2.59704268e+01, ...,\n",
       "          5.16026844e-02, -1.09827216e-03,  2.54256801e-02],\n",
       "        [ 2.00095791e+02,  1.84196151e+01,  4.30973622e+01, ...,\n",
       "         -1.27508292e-01, -1.67191497e-02, -3.77095908e-02],\n",
       "        ...,\n",
       "        [-1.23743464e+02,  4.81038857e+01,  2.74984805e+01, ...,\n",
       "          6.00161908e-02, -5.87781911e-04,  5.93405531e-04],\n",
       "        [-3.67759857e+00, -5.79167242e+01, -1.81221372e+01, ...,\n",
       "          9.41910885e-02,  3.20325014e-03, -1.10271826e-02],\n",
       "        [-6.82569700e+01, -3.41674301e+01, -1.15594645e+01, ...,\n",
       "         -9.18356818e-03,  2.61428399e-04, -4.96408953e-02]]),\n",
       " array([[-8.96280421e+01, -2.09630241e+01,  2.40388146e+01, ...,\n",
       "         -1.62437534e-02, -1.49248722e-02, -1.32519399e-02],\n",
       "        [-4.71144457e+01, -7.96687038e+01,  2.59704268e+01, ...,\n",
       "         -1.09827216e-03,  2.54256801e-02,  2.17345892e-02],\n",
       "        [ 2.00095791e+02,  1.84196151e+01,  4.30973622e+01, ...,\n",
       "         -1.67191497e-02, -3.77095908e-02, -1.61665482e-02],\n",
       "        ...,\n",
       "        [-1.23743464e+02,  4.81038857e+01,  2.74984805e+01, ...,\n",
       "         -5.87781911e-04,  5.93405531e-04, -2.26313972e-02],\n",
       "        [-3.67759857e+00, -5.79167242e+01, -1.81221372e+01, ...,\n",
       "          3.20325014e-03, -1.10271826e-02,  2.19923974e-02],\n",
       "        [-6.82569700e+01, -3.41674301e+01, -1.15594645e+01, ...,\n",
       "          2.61428399e-04, -4.96408953e-02,  3.18046648e-02]]),\n",
       " array([[-8.96280421e+01, -2.09630241e+01,  2.40388146e+01, ...,\n",
       "         -1.49248722e-02, -1.32519399e-02, -1.23772597e-02],\n",
       "        [-4.71144457e+01, -7.96687038e+01,  2.59704268e+01, ...,\n",
       "          2.54256801e-02,  2.17345892e-02, -2.32431191e-02],\n",
       "        [ 2.00095791e+02,  1.84196151e+01,  4.30973622e+01, ...,\n",
       "         -3.77095908e-02, -1.61665482e-02, -3.15173216e-03],\n",
       "        ...,\n",
       "        [-1.23743464e+02,  4.81038857e+01,  2.74984805e+01, ...,\n",
       "          5.93405531e-04, -2.26313972e-02, -2.66410077e-02],\n",
       "        [-3.67759857e+00, -5.79167242e+01, -1.81221372e+01, ...,\n",
       "         -1.10271826e-02,  2.19923974e-02,  2.66151620e-02],\n",
       "        [-6.82569700e+01, -3.41674301e+01, -1.15594645e+01, ...,\n",
       "         -4.96408953e-02,  3.18046648e-02,  3.11655999e-03]]),\n",
       " array([[-8.96280421e+01, -2.09630241e+01,  2.40388146e+01, ...,\n",
       "         -1.32519399e-02, -1.23772597e-02, -3.04407234e-03],\n",
       "        [-4.71144457e+01, -7.96687038e+01,  2.59704268e+01, ...,\n",
       "          2.17345892e-02, -2.32431191e-02,  7.74725528e-03],\n",
       "        [ 2.00095791e+02,  1.84196151e+01,  4.30973622e+01, ...,\n",
       "         -1.61665482e-02, -3.15173216e-03, -1.77540737e-02],\n",
       "        ...,\n",
       "        [-1.23743464e+02,  4.81038857e+01,  2.74984805e+01, ...,\n",
       "         -2.26313972e-02, -2.66410077e-02,  3.94765310e-03],\n",
       "        [-3.67759857e+00, -5.79167242e+01, -1.81221372e+01, ...,\n",
       "          2.19923974e-02,  2.66151620e-02,  3.62183856e-02],\n",
       "        [-6.82569700e+01, -3.41674301e+01, -1.15594645e+01, ...,\n",
       "          3.18046648e-02,  3.11655999e-03,  5.53565206e-03]]),\n",
       " array([[-8.96280421e+01, -2.09630241e+01,  2.40388146e+01, ...,\n",
       "         -1.23772597e-02, -3.04407234e-03, -5.80768181e-03],\n",
       "        [-4.71144457e+01, -7.96687038e+01,  2.59704268e+01, ...,\n",
       "         -2.32431191e-02,  7.74725528e-03, -1.31636055e-03],\n",
       "        [ 2.00095791e+02,  1.84196151e+01,  4.30973622e+01, ...,\n",
       "         -3.15173216e-03, -1.77540737e-02, -1.02093808e-02],\n",
       "        ...,\n",
       "        [-1.23743464e+02,  4.81038857e+01,  2.74984805e+01, ...,\n",
       "         -2.66410077e-02,  3.94765310e-03, -4.02386660e-03],\n",
       "        [-3.67759857e+00, -5.79167242e+01, -1.81221372e+01, ...,\n",
       "          2.66151620e-02,  3.62183856e-02,  1.03581781e-02],\n",
       "        [-6.82569700e+01, -3.41674301e+01, -1.15594645e+01, ...,\n",
       "          3.11655999e-03,  5.53565206e-03, -1.35410647e-02]])]"
      ]
     },
     "execution_count": 128,
     "metadata": {},
     "output_type": "execute_result"
    }
   ],
   "source": [
    "train_score_list"
   ]
  },
  {
   "cell_type": "code",
   "execution_count": 124,
   "metadata": {},
   "outputs": [
    {
     "name": "stdout",
     "output_type": "stream",
     "text": [
      "component=10\n",
      "train score: 0.82852875\n",
      "test score: 0.8285525\n"
     ]
    },
    {
     "data": {
      "image/png": "[encoded data removed]",
      "text/plain": [
       "<Figure size 432x288 with 1 Axes>"
      ]
     },
     "metadata": {
      "needs_background": "light"
     },
     "output_type": "display_data"
    },
    {
     "name": "stdout",
     "output_type": "stream",
     "text": [
      "component=11\n",
      "train score: 0.8286675\n",
      "test score: 0.82865\n"
     ]
    },
    {
     "data": {
      "image/png": "[encoded data removed]",
      "text/plain": [
       "<Figure size 432x288 with 1 Axes>"
      ]
     },
     "metadata": {
      "needs_background": "light"
     },
     "output_type": "display_data"
    },
    {
     "name": "stdout",
     "output_type": "stream",
     "text": [
      "component=12\n",
      "train score: 0.829336875\n",
      "test score: 0.8292175\n"
     ]
    },
    {
     "data": {
      "image/png": "[encoded data removed]",
      "text/plain": [
       "<Figure size 432x288 with 1 Axes>"
      ]
     },
     "metadata": {
      "needs_background": "light"
     },
     "output_type": "display_data"
    },
    {
     "name": "stdout",
     "output_type": "stream",
     "text": [
      "component=13\n",
      "train score: 0.83202625\n",
      "test score: 0.83161\n"
     ]
    },
    {
     "data": {
      "image/png": "[encoded data removed]",
      "text/plain": [
       "<Figure size 432x288 with 1 Axes>"
      ]
     },
     "metadata": {
      "needs_background": "light"
     },
     "output_type": "display_data"
    },
    {
     "name": "stdout",
     "output_type": "stream",
     "text": [
      "component=14\n"
     ]
    },
    {
     "name": "stderr",
     "output_type": "stream",
     "text": [
      "/Users/connylin/opt/anaconda3/lib/python3.7/site-packages/sklearn/linear_model/_logistic.py:940: ConvergenceWarning: lbfgs failed to converge (status=1):\n",
      "STOP: TOTAL NO. of ITERATIONS REACHED LIMIT.\n",
      "\n",
      "Increase the number of iterations (max_iter) or scale the data as shown in:\n",
      "    https://scikit-learn.org/stable/modules/preprocessing.html\n",
      "Please also refer to the documentation for alternative solver options:\n",
      "    https://scikit-learn.org/stable/modules/linear_model.html#logistic-regression\n",
      "  extra_warning_msg=_LOGISTIC_SOLVER_CONVERGENCE_MSG)\n"
     ]
    },
    {
     "name": "stdout",
     "output_type": "stream",
     "text": [
      "train score: 0.860528125\n",
      "test score: 0.86031\n"
     ]
    },
    {
     "data": {
      "image/png": "[encoded data removed]",
      "text/plain": [
       "<Figure size 432x288 with 1 Axes>"
      ]
     },
     "metadata": {
      "needs_background": "light"
     },
     "output_type": "display_data"
    },
    {
     "name": "stdout",
     "output_type": "stream",
     "text": [
      "component=15\n"
     ]
    },
    {
     "name": "stderr",
     "output_type": "stream",
     "text": [
      "/Users/connylin/opt/anaconda3/lib/python3.7/site-packages/sklearn/linear_model/_logistic.py:940: ConvergenceWarning: lbfgs failed to converge (status=1):\n",
      "STOP: TOTAL NO. of ITERATIONS REACHED LIMIT.\n",
      "\n",
      "Increase the number of iterations (max_iter) or scale the data as shown in:\n",
      "    https://scikit-learn.org/stable/modules/preprocessing.html\n",
      "Please also refer to the documentation for alternative solver options:\n",
      "    https://scikit-learn.org/stable/modules/linear_model.html#logistic-regression\n",
      "  extra_warning_msg=_LOGISTIC_SOLVER_CONVERGENCE_MSG)\n"
     ]
    },
    {
     "name": "stdout",
     "output_type": "stream",
     "text": [
      "train score: 0.8606225\n",
      "test score: 0.860115\n"
     ]
    },
    {
     "data": {
      "image/png": "[encoded data removed]",
      "text/plain": [
       "<Figure size 432x288 with 1 Axes>"
      ]
     },
     "metadata": {
      "needs_background": "light"
     },
     "output_type": "display_data"
    },
    {
     "name": "stdout",
     "output_type": "stream",
     "text": [
      "component=16\n"
     ]
    },
    {
     "name": "stderr",
     "output_type": "stream",
     "text": [
      "/Users/connylin/opt/anaconda3/lib/python3.7/site-packages/sklearn/linear_model/_logistic.py:940: ConvergenceWarning: lbfgs failed to converge (status=1):\n",
      "STOP: TOTAL NO. of ITERATIONS REACHED LIMIT.\n",
      "\n",
      "Increase the number of iterations (max_iter) or scale the data as shown in:\n",
      "    https://scikit-learn.org/stable/modules/preprocessing.html\n",
      "Please also refer to the documentation for alternative solver options:\n",
      "    https://scikit-learn.org/stable/modules/linear_model.html#logistic-regression\n",
      "  extra_warning_msg=_LOGISTIC_SOLVER_CONVERGENCE_MSG)\n"
     ]
    },
    {
     "name": "stdout",
     "output_type": "stream",
     "text": [
      "train score: 0.86232375\n",
      "test score: 0.861555\n"
     ]
    },
    {
     "data": {
      "image/png": "[encoded data removed]",
      "text/plain": [
       "<Figure size 432x288 with 1 Axes>"
      ]
     },
     "metadata": {
      "needs_background": "light"
     },
     "output_type": "display_data"
    },
    {
     "name": "stdout",
     "output_type": "stream",
     "text": [
      "component=17\n"
     ]
    },
    {
     "name": "stderr",
     "output_type": "stream",
     "text": [
      "/Users/connylin/opt/anaconda3/lib/python3.7/site-packages/sklearn/linear_model/_logistic.py:940: ConvergenceWarning: lbfgs failed to converge (status=1):\n",
      "STOP: TOTAL NO. of ITERATIONS REACHED LIMIT.\n",
      "\n",
      "Increase the number of iterations (max_iter) or scale the data as shown in:\n",
      "    https://scikit-learn.org/stable/modules/preprocessing.html\n",
      "Please also refer to the documentation for alternative solver options:\n",
      "    https://scikit-learn.org/stable/modules/linear_model.html#logistic-regression\n",
      "  extra_warning_msg=_LOGISTIC_SOLVER_CONVERGENCE_MSG)\n"
     ]
    },
    {
     "name": "stdout",
     "output_type": "stream",
     "text": [
      "train score: 0.862399375\n",
      "test score: 0.8614825\n"
     ]
    },
    {
     "data": {
      "image/png": "[encoded data removed]",
      "text/plain": [
       "<Figure size 432x288 with 1 Axes>"
      ]
     },
     "metadata": {
      "needs_background": "light"
     },
     "output_type": "display_data"
    },
    {
     "name": "stdout",
     "output_type": "stream",
     "text": [
      "component=18\n"
     ]
    },
    {
     "name": "stderr",
     "output_type": "stream",
     "text": [
      "/Users/connylin/opt/anaconda3/lib/python3.7/site-packages/sklearn/linear_model/_logistic.py:940: ConvergenceWarning: lbfgs failed to converge (status=1):\n",
      "STOP: TOTAL NO. of ITERATIONS REACHED LIMIT.\n",
      "\n",
      "Increase the number of iterations (max_iter) or scale the data as shown in:\n",
      "    https://scikit-learn.org/stable/modules/preprocessing.html\n",
      "Please also refer to the documentation for alternative solver options:\n",
      "    https://scikit-learn.org/stable/modules/linear_model.html#logistic-regression\n",
      "  extra_warning_msg=_LOGISTIC_SOLVER_CONVERGENCE_MSG)\n"
     ]
    },
    {
     "name": "stdout",
     "output_type": "stream",
     "text": [
      "train score: 0.863750625\n",
      "test score: 0.86315\n"
     ]
    },
    {
     "data": {
      "image/png": "[encoded data removed]",
      "text/plain": [
       "<Figure size 432x288 with 1 Axes>"
      ]
     },
     "metadata": {
      "needs_background": "light"
     },
     "output_type": "display_data"
    },
    {
     "name": "stdout",
     "output_type": "stream",
     "text": [
      "component=19\n"
     ]
    },
    {
     "name": "stderr",
     "output_type": "stream",
     "text": [
      "/Users/connylin/opt/anaconda3/lib/python3.7/site-packages/sklearn/linear_model/_logistic.py:940: ConvergenceWarning: lbfgs failed to converge (status=1):\n",
      "STOP: TOTAL NO. of ITERATIONS REACHED LIMIT.\n",
      "\n",
      "Increase the number of iterations (max_iter) or scale the data as shown in:\n",
      "    https://scikit-learn.org/stable/modules/preprocessing.html\n",
      "Please also refer to the documentation for alternative solver options:\n",
      "    https://scikit-learn.org/stable/modules/linear_model.html#logistic-regression\n",
      "  extra_warning_msg=_LOGISTIC_SOLVER_CONVERGENCE_MSG)\n"
     ]
    },
    {
     "name": "stdout",
     "output_type": "stream",
     "text": [
      "train score: 0.86496625\n",
      "test score: 0.8645275\n"
     ]
    },
    {
     "data": {
      "image/png": "[encoded data removed]",
      "text/plain": [
       "<Figure size 432x288 with 1 Axes>"
      ]
     },
     "metadata": {
      "needs_background": "light"
     },
     "output_type": "display_data"
    },
    {
     "name": "stdout",
     "output_type": "stream",
     "text": [
      "component=20\n"
     ]
    },
    {
     "name": "stderr",
     "output_type": "stream",
     "text": [
      "/Users/connylin/opt/anaconda3/lib/python3.7/site-packages/sklearn/linear_model/_logistic.py:940: ConvergenceWarning: lbfgs failed to converge (status=1):\n",
      "STOP: TOTAL NO. of ITERATIONS REACHED LIMIT.\n",
      "\n",
      "Increase the number of iterations (max_iter) or scale the data as shown in:\n",
      "    https://scikit-learn.org/stable/modules/preprocessing.html\n",
      "Please also refer to the documentation for alternative solver options:\n",
      "    https://scikit-learn.org/stable/modules/linear_model.html#logistic-regression\n",
      "  extra_warning_msg=_LOGISTIC_SOLVER_CONVERGENCE_MSG)\n"
     ]
    },
    {
     "name": "stdout",
     "output_type": "stream",
     "text": [
      "train score: 0.864595\n",
      "test score: 0.86396\n"
     ]
    },
    {
     "data": {
      "image/png": "[encoded data removed]",
      "text/plain": [
       "<Figure size 432x288 with 1 Axes>"
      ]
     },
     "metadata": {
      "needs_background": "light"
     },
     "output_type": "display_data"
    }
   ],
   "source": [
    "expl_var = []\n",
    "n_components_list = range(10,21)\n",
    "train_score_list = []\n",
    "test_score_list = []\n",
    "for n in n_components_list:\n",
    "    print(f'component={n}')\n",
    "    my_pca = PCA(n_components=n)\n",
    "    my_pca.fit(X_train)\n",
    "    X_train_PCA = my_pca.transform(X_train)\n",
    "    X_test_PCA = my_pca.transform(X_test)\n",
    "    train_score, test_score = OLS_test(X_train_PCA, X_test_PCA, y_train, y_test)\n",
    "    train_score_list.append(X_train_PCA)\n",
    "    test_score_list.append(test_score)\n",
    "    expl_var_cumulative = my_pca.explained_variance_ratio_.cumsum()*100\n",
    "    expl_var.append(expl_var_cumulative)\n",
    "    plt.figure()\n",
    "    plt.plot(expl_var_cumulative, label=str(n))\n",
    "    plt.legend()\n",
    "    plt.show()"
   ]
  },
  {
   "cell_type": "markdown",
   "metadata": {},
   "source": [
    "Even to PCA component = 13, still does not give better results. This would only reduce the number of features by 21-3(time, persistence, orient)-13 = 5 features. \n",
    "\n",
    "At component 14, finally hit socre of 86%. This is reducing from 21-14 = 7 less features.\n",
    "\n",
    "The benefit of PCA reducing components vs the negative of losing interpretability, I think don't use PCA."
   ]
  },
  {
   "cell_type": "markdown",
   "metadata": {},
   "source": [
    "Continue with dropping time, persistence and orient."
   ]
  },
  {
   "cell_type": "code",
   "execution_count": 126,
   "metadata": {},
   "outputs": [
    {
     "data": {
      "text/plain": [
       "['X',\n",
       " 'X_test',\n",
       " 'X_test_scaled',\n",
       " 'X_train',\n",
       " 'X_train_scaled',\n",
       " '__class__',\n",
       " '__delattr__',\n",
       " '__dict__',\n",
       " '__dir__',\n",
       " '__doc__',\n",
       " '__eq__',\n",
       " '__format__',\n",
       " '__ge__',\n",
       " '__getattribute__',\n",
       " '__gt__',\n",
       " '__hash__',\n",
       " '__init__',\n",
       " '__init_subclass__',\n",
       " '__le__',\n",
       " '__lt__',\n",
       " '__module__',\n",
       " '__ne__',\n",
       " '__new__',\n",
       " '__reduce__',\n",
       " '__reduce_ex__',\n",
       " '__repr__',\n",
       " '__setattr__',\n",
       " '__sizeof__',\n",
       " '__str__',\n",
       " '__subclasshook__',\n",
       " '__weakref__',\n",
       " 'data',\n",
       " 'datapath',\n",
       " 'loaddata',\n",
       " 'mldata',\n",
       " 'names',\n",
       " 'pCapstone',\n",
       " 'scaledata',\n",
       " 'split_test_train',\n",
       " 'transform',\n",
       " 'transform_full',\n",
       " 'y',\n",
       " 'y_test',\n",
       " 'y_train']"
      ]
     },
     "execution_count": 126,
     "metadata": {},
     "output_type": "execute_result"
    }
   ],
   "source": [
    "dir(NC)"
   ]
  },
  {
   "cell_type": "markdown",
   "metadata": {},
   "source": [
    "prior to this, Nutcracker.mldata outputs unscaled data. Now it's fixed. Also have put in standard feature reduction to remove time, persistence and orient"
   ]
  },
  {
   "cell_type": "code",
   "execution_count": 2,
   "metadata": {},
   "outputs": [
    {
     "data": {
      "text/plain": [
       "['area',\n",
       " 'midline',\n",
       " 'morphwidth',\n",
       " 'width',\n",
       " 'relwidth',\n",
       " 'length',\n",
       " 'rellength',\n",
       " 'aspect',\n",
       " 'relaspect',\n",
       " 'kink',\n",
       " 'curve',\n",
       " 'speed',\n",
       " 'angular',\n",
       " 'bias',\n",
       " 'dir',\n",
       " 'vel_x',\n",
       " 'vel_y',\n",
       " 'crab']"
      ]
     },
     "execution_count": 2,
     "metadata": {},
     "output_type": "execute_result"
    }
   ],
   "source": [
    "# check if the new code works\n",
    "NC = Nutcracker(datapath)\n",
    "# get machine learning input data\n",
    "X_train, X_test, y_train, y_test = NC.mldata()\n",
    "NC.names['X']"
   ]
  },
  {
   "cell_type": "code",
   "execution_count": 4,
   "metadata": {},
   "outputs": [
    {
     "data": {
      "text/plain": [
       "18"
      ]
     },
     "execution_count": 4,
     "metadata": {},
     "output_type": "execute_result"
    }
   ],
   "source": [
    "len(NC.names['X'])"
   ]
  },
  {
   "cell_type": "code",
   "execution_count": 5,
   "metadata": {},
   "outputs": [
    {
     "data": {
      "text/plain": [
       "(1600000, 18)"
      ]
     },
     "execution_count": 5,
     "metadata": {},
     "output_type": "execute_result"
    }
   ],
   "source": [
    "X_train.shape"
   ]
  },
  {
   "cell_type": "markdown",
   "metadata": {},
   "source": [
    "the feature reduction code has worked in Nutcracker."
   ]
  },
  {
   "cell_type": "code",
   "execution_count": 6,
   "metadata": {},
   "outputs": [
    {
     "data": {
      "text/html": [
       "<div>\n",
       "<style scoped>\n",
       "    .dataframe tbody tr th:only-of-type {\n",
       "        vertical-align: middle;\n",
       "    }\n",
       "\n",
       "    .dataframe tbody tr th {\n",
       "        vertical-align: top;\n",
       "    }\n",
       "\n",
       "    .dataframe thead th {\n",
       "        text-align: right;\n",
       "    }\n",
       "</style>\n",
       "<table border=\"1\" class=\"dataframe\">\n",
       "  <thead>\n",
       "    <tr style=\"text-align: right;\">\n",
       "      <th></th>\n",
       "      <th>area</th>\n",
       "      <th>midline</th>\n",
       "      <th>morphwidth</th>\n",
       "      <th>width</th>\n",
       "      <th>relwidth</th>\n",
       "      <th>length</th>\n",
       "      <th>rellength</th>\n",
       "      <th>aspect</th>\n",
       "      <th>relaspect</th>\n",
       "      <th>kink</th>\n",
       "      <th>curve</th>\n",
       "      <th>speed</th>\n",
       "      <th>angular</th>\n",
       "      <th>bias</th>\n",
       "      <th>dir</th>\n",
       "      <th>vel_x</th>\n",
       "      <th>vel_y</th>\n",
       "      <th>crab</th>\n",
       "    </tr>\n",
       "  </thead>\n",
       "  <tbody>\n",
       "    <tr>\n",
       "      <th>0</th>\n",
       "      <td>-0.193703</td>\n",
       "      <td>-0.019687</td>\n",
       "      <td>0.181976</td>\n",
       "      <td>-0.280226</td>\n",
       "      <td>-0.176265</td>\n",
       "      <td>0.233162</td>\n",
       "      <td>0.047203</td>\n",
       "      <td>-0.387495</td>\n",
       "      <td>-0.243562</td>\n",
       "      <td>-0.902743</td>\n",
       "      <td>-1.074487</td>\n",
       "      <td>-1.088128</td>\n",
       "      <td>-0.434802</td>\n",
       "      <td>-1.376389</td>\n",
       "      <td>-0.093455</td>\n",
       "      <td>0.164037</td>\n",
       "      <td>-0.322082</td>\n",
       "      <td>-0.795098</td>\n",
       "    </tr>\n",
       "    <tr>\n",
       "      <th>1</th>\n",
       "      <td>-0.003490</td>\n",
       "      <td>0.530253</td>\n",
       "      <td>-0.703445</td>\n",
       "      <td>-0.954659</td>\n",
       "      <td>-1.202096</td>\n",
       "      <td>0.816957</td>\n",
       "      <td>0.465393</td>\n",
       "      <td>-0.960457</td>\n",
       "      <td>-1.001443</td>\n",
       "      <td>-0.431439</td>\n",
       "      <td>0.152201</td>\n",
       "      <td>0.626215</td>\n",
       "      <td>-0.492164</td>\n",
       "      <td>0.463606</td>\n",
       "      <td>-0.093455</td>\n",
       "      <td>0.728556</td>\n",
       "      <td>1.493708</td>\n",
       "      <td>-0.339314</td>\n",
       "    </tr>\n",
       "    <tr>\n",
       "      <th>2</th>\n",
       "      <td>1.535507</td>\n",
       "      <td>1.310711</td>\n",
       "      <td>0.855807</td>\n",
       "      <td>1.977656</td>\n",
       "      <td>1.044506</td>\n",
       "      <td>0.936370</td>\n",
       "      <td>0.683200</td>\n",
       "      <td>0.838007</td>\n",
       "      <td>0.352271</td>\n",
       "      <td>1.048045</td>\n",
       "      <td>-0.137018</td>\n",
       "      <td>-1.337154</td>\n",
       "      <td>-0.542356</td>\n",
       "      <td>-1.376389</td>\n",
       "      <td>-0.093455</td>\n",
       "      <td>-0.159121</td>\n",
       "      <td>-0.019562</td>\n",
       "      <td>-0.424111</td>\n",
       "    </tr>\n",
       "    <tr>\n",
       "      <th>3</th>\n",
       "      <td>-0.833511</td>\n",
       "      <td>-0.704526</td>\n",
       "      <td>-0.924800</td>\n",
       "      <td>0.540822</td>\n",
       "      <td>0.002696</td>\n",
       "      <td>-1.014036</td>\n",
       "      <td>0.169175</td>\n",
       "      <td>0.853923</td>\n",
       "      <td>-0.131376</td>\n",
       "      <td>0.650510</td>\n",
       "      <td>0.411501</td>\n",
       "      <td>-1.064537</td>\n",
       "      <td>-0.470654</td>\n",
       "      <td>0.463606</td>\n",
       "      <td>-0.093455</td>\n",
       "      <td>-0.171859</td>\n",
       "      <td>-0.336168</td>\n",
       "      <td>-0.609604</td>\n",
       "    </tr>\n",
       "    <tr>\n",
       "      <th>4</th>\n",
       "      <td>-1.006432</td>\n",
       "      <td>-0.278634</td>\n",
       "      <td>-1.588866</td>\n",
       "      <td>-1.277213</td>\n",
       "      <td>-1.505691</td>\n",
       "      <td>0.458719</td>\n",
       "      <td>0.735473</td>\n",
       "      <td>-1.119613</td>\n",
       "      <td>-1.255731</td>\n",
       "      <td>-1.119953</td>\n",
       "      <td>-1.902252</td>\n",
       "      <td>-1.124827</td>\n",
       "      <td>-0.112140</td>\n",
       "      <td>-1.376389</td>\n",
       "      <td>-0.093455</td>\n",
       "      <td>0.289411</td>\n",
       "      <td>0.141424</td>\n",
       "      <td>0.005173</td>\n",
       "    </tr>\n",
       "    <tr>\n",
       "      <th>...</th>\n",
       "      <td>...</td>\n",
       "      <td>...</td>\n",
       "      <td>...</td>\n",
       "      <td>...</td>\n",
       "      <td>...</td>\n",
       "      <td>...</td>\n",
       "      <td>...</td>\n",
       "      <td>...</td>\n",
       "      <td>...</td>\n",
       "      <td>...</td>\n",
       "      <td>...</td>\n",
       "      <td>...</td>\n",
       "      <td>...</td>\n",
       "      <td>...</td>\n",
       "      <td>...</td>\n",
       "      <td>...</td>\n",
       "      <td>...</td>\n",
       "      <td>...</td>\n",
       "    </tr>\n",
       "    <tr>\n",
       "      <th>1599995</th>\n",
       "      <td>0.255891</td>\n",
       "      <td>0.425847</td>\n",
       "      <td>-0.263990</td>\n",
       "      <td>-0.074964</td>\n",
       "      <td>0.041045</td>\n",
       "      <td>0.564864</td>\n",
       "      <td>0.230161</td>\n",
       "      <td>-0.339748</td>\n",
       "      <td>-0.044120</td>\n",
       "      <td>-0.341277</td>\n",
       "      <td>-0.117072</td>\n",
       "      <td>0.924171</td>\n",
       "      <td>0.733953</td>\n",
       "      <td>0.463606</td>\n",
       "      <td>-0.093455</td>\n",
       "      <td>1.095964</td>\n",
       "      <td>1.541333</td>\n",
       "      <td>-0.334014</td>\n",
       "    </tr>\n",
       "    <tr>\n",
       "      <th>1599996</th>\n",
       "      <td>1.604675</td>\n",
       "      <td>0.694614</td>\n",
       "      <td>1.503597</td>\n",
       "      <td>0.247590</td>\n",
       "      <td>0.338248</td>\n",
       "      <td>0.047409</td>\n",
       "      <td>-0.858874</td>\n",
       "      <td>0.058142</td>\n",
       "      <td>0.384680</td>\n",
       "      <td>-0.566683</td>\n",
       "      <td>-1.772602</td>\n",
       "      <td>-1.371231</td>\n",
       "      <td>-0.484994</td>\n",
       "      <td>-1.376389</td>\n",
       "      <td>-0.093455</td>\n",
       "      <td>-0.006928</td>\n",
       "      <td>0.126667</td>\n",
       "      <td>-0.689102</td>\n",
       "    </tr>\n",
       "    <tr>\n",
       "      <th>1599997</th>\n",
       "      <td>-0.297456</td>\n",
       "      <td>0.024763</td>\n",
       "      <td>-0.280266</td>\n",
       "      <td>-0.602781</td>\n",
       "      <td>0.124134</td>\n",
       "      <td>0.684277</td>\n",
       "      <td>0.308572</td>\n",
       "      <td>-0.713765</td>\n",
       "      <td>-0.071544</td>\n",
       "      <td>-0.644551</td>\n",
       "      <td>-1.154271</td>\n",
       "      <td>-0.184647</td>\n",
       "      <td>-0.155161</td>\n",
       "      <td>0.463606</td>\n",
       "      <td>-0.093455</td>\n",
       "      <td>-1.015957</td>\n",
       "      <td>0.232650</td>\n",
       "      <td>-0.609604</td>\n",
       "    </tr>\n",
       "    <tr>\n",
       "      <th>1599998</th>\n",
       "      <td>0.740070</td>\n",
       "      <td>0.878099</td>\n",
       "      <td>-0.078442</td>\n",
       "      <td>-0.485488</td>\n",
       "      <td>0.942242</td>\n",
       "      <td>1.122123</td>\n",
       "      <td>0.596077</td>\n",
       "      <td>-0.721723</td>\n",
       "      <td>0.494374</td>\n",
       "      <td>-0.210131</td>\n",
       "      <td>-0.186883</td>\n",
       "      <td>1.573385</td>\n",
       "      <td>-0.262715</td>\n",
       "      <td>0.463606</td>\n",
       "      <td>-0.093455</td>\n",
       "      <td>2.133151</td>\n",
       "      <td>1.083864</td>\n",
       "      <td>0.418558</td>\n",
       "    </tr>\n",
       "    <tr>\n",
       "      <th>1599999</th>\n",
       "      <td>0.255891</td>\n",
       "      <td>0.839852</td>\n",
       "      <td>-0.172844</td>\n",
       "      <td>-0.192257</td>\n",
       "      <td>0.290312</td>\n",
       "      <td>0.299503</td>\n",
       "      <td>-1.242214</td>\n",
       "      <td>-0.339748</td>\n",
       "      <td>0.569164</td>\n",
       "      <td>-0.796187</td>\n",
       "      <td>-0.954810</td>\n",
       "      <td>0.348355</td>\n",
       "      <td>-0.391780</td>\n",
       "      <td>0.463606</td>\n",
       "      <td>-0.093455</td>\n",
       "      <td>-0.046485</td>\n",
       "      <td>1.446083</td>\n",
       "      <td>-0.816297</td>\n",
       "    </tr>\n",
       "  </tbody>\n",
       "</table>\n",
       "<p>1600000 rows × 18 columns</p>\n",
       "</div>"
      ],
      "text/plain": [
       "             area   midline  morphwidth     width  relwidth    length  \\\n",
       "0       -0.193703 -0.019687    0.181976 -0.280226 -0.176265  0.233162   \n",
       "1       -0.003490  0.530253   -0.703445 -0.954659 -1.202096  0.816957   \n",
       "2        1.535507  1.310711    0.855807  1.977656  1.044506  0.936370   \n",
       "3       -0.833511 -0.704526   -0.924800  0.540822  0.002696 -1.014036   \n",
       "4       -1.006432 -0.278634   -1.588866 -1.277213 -1.505691  0.458719   \n",
       "...           ...       ...         ...       ...       ...       ...   \n",
       "1599995  0.255891  0.425847   -0.263990 -0.074964  0.041045  0.564864   \n",
       "1599996  1.604675  0.694614    1.503597  0.247590  0.338248  0.047409   \n",
       "1599997 -0.297456  0.024763   -0.280266 -0.602781  0.124134  0.684277   \n",
       "1599998  0.740070  0.878099   -0.078442 -0.485488  0.942242  1.122123   \n",
       "1599999  0.255891  0.839852   -0.172844 -0.192257  0.290312  0.299503   \n",
       "\n",
       "         rellength    aspect  relaspect      kink     curve     speed  \\\n",
       "0         0.047203 -0.387495  -0.243562 -0.902743 -1.074487 -1.088128   \n",
       "1         0.465393 -0.960457  -1.001443 -0.431439  0.152201  0.626215   \n",
       "2         0.683200  0.838007   0.352271  1.048045 -0.137018 -1.337154   \n",
       "3         0.169175  0.853923  -0.131376  0.650510  0.411501 -1.064537   \n",
       "4         0.735473 -1.119613  -1.255731 -1.119953 -1.902252 -1.124827   \n",
       "...            ...       ...        ...       ...       ...       ...   \n",
       "1599995   0.230161 -0.339748  -0.044120 -0.341277 -0.117072  0.924171   \n",
       "1599996  -0.858874  0.058142   0.384680 -0.566683 -1.772602 -1.371231   \n",
       "1599997   0.308572 -0.713765  -0.071544 -0.644551 -1.154271 -0.184647   \n",
       "1599998   0.596077 -0.721723   0.494374 -0.210131 -0.186883  1.573385   \n",
       "1599999  -1.242214 -0.339748   0.569164 -0.796187 -0.954810  0.348355   \n",
       "\n",
       "          angular      bias       dir     vel_x     vel_y      crab  \n",
       "0       -0.434802 -1.376389 -0.093455  0.164037 -0.322082 -0.795098  \n",
       "1       -0.492164  0.463606 -0.093455  0.728556  1.493708 -0.339314  \n",
       "2       -0.542356 -1.376389 -0.093455 -0.159121 -0.019562 -0.424111  \n",
       "3       -0.470654  0.463606 -0.093455 -0.171859 -0.336168 -0.609604  \n",
       "4       -0.112140 -1.376389 -0.093455  0.289411  0.141424  0.005173  \n",
       "...           ...       ...       ...       ...       ...       ...  \n",
       "1599995  0.733953  0.463606 -0.093455  1.095964  1.541333 -0.334014  \n",
       "1599996 -0.484994 -1.376389 -0.093455 -0.006928  0.126667 -0.689102  \n",
       "1599997 -0.155161  0.463606 -0.093455 -1.015957  0.232650 -0.609604  \n",
       "1599998 -0.262715  0.463606 -0.093455  2.133151  1.083864  0.418558  \n",
       "1599999 -0.391780  0.463606 -0.093455 -0.046485  1.446083 -0.816297  \n",
       "\n",
       "[1600000 rows x 18 columns]"
      ]
     },
     "execution_count": 6,
     "metadata": {},
     "output_type": "execute_result"
    }
   ],
   "source": [
    "pd.DataFrame(X_train, columns=NC.names['X'])"
   ]
  },
  {
   "cell_type": "code",
   "execution_count": 4,
   "metadata": {},
   "outputs": [
    {
     "name": "stdout",
     "output_type": "stream",
     "text": [
      "train score: 0.866989375\n",
      "test score: 0.8665125\n"
     ]
    },
    {
     "data": {
      "text/plain": [
       "(0.866989375, 0.8665125, {})"
      ]
     },
     "execution_count": 4,
     "metadata": {},
     "output_type": "execute_result"
    }
   ],
   "source": [
    "# try ols\n",
    "from toolbox.datatransform import Nutcracker\n",
    "NC = Nutcracker(datapath)\n",
    "NC.mldata()\n",
    "from brainstation_capstone.ml import LogisticRegression\n",
    "LogisticRegression.quicktest(NC)"
   ]
  },
  {
   "cell_type": "code",
   "execution_count": 5,
   "metadata": {},
   "outputs": [
    {
     "name": "stdout",
     "output_type": "stream",
     "text": [
      "train score: 0.866989375\n",
      "test score: 0.8665125\n"
     ]
    },
    {
     "data": {
      "text/plain": [
       "(0.866989375, 0.8665125, {})"
      ]
     },
     "execution_count": 5,
     "metadata": {},
     "output_type": "execute_result"
    }
   ],
   "source": [
    "from toolbox.datatransform import Nutcracker\n",
    "NC_no_feature_reduction = Nutcracker(datapath)\n",
    "NC_no_feature_reduction.mldata(feature_reduction='None')\n",
    "\n",
    "from toolbox import LogisticRegression\n",
    "LogisticRegression.quicktest(NC_no_feature_reduction)"
   ]
  },
  {
   "cell_type": "code",
   "execution_count": 6,
   "metadata": {},
   "outputs": [
    {
     "data": {
      "text/plain": [
       "(1600000, 18)"
      ]
     },
     "execution_count": 6,
     "metadata": {},
     "output_type": "execute_result"
    }
   ],
   "source": [
    "NC_no_feature_reduction.X_train.shape"
   ]
  },
  {
   "cell_type": "markdown",
   "metadata": {},
   "source": [
    "It's better off to keep all features for logistic regression. "
   ]
  }
 ],
 "metadata": {
  "kernelspec": {
   "display_name": "Python 3",
   "language": "python",
   "name": "python3"
  },
  "language_info": {
   "codemirror_mode": {
    "name": "ipython",
    "version": 3
   },
   "file_extension": ".py",
   "mimetype": "text/x-python",
   "name": "python",
   "nbconvert_exporter": "python",
   "pygments_lexer": "ipython3",
   "version": "3.7.7"
  }
 },
 "nbformat": 4,
 "nbformat_minor": 4
}
