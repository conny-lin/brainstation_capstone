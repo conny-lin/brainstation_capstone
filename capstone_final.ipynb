{
 "cells": [
  {
   "cell_type": "markdown",
   "metadata": {},
   "source": [
    "# Capstone Report | BrainStation\n",
    "Conny Lin | June 2020"
   ]
  },
  {
   "cell_type": "markdown",
   "metadata": {},
   "source": [
    "## set up"
   ]
  },
  {
   "cell_type": "markdown",
   "metadata": {},
   "source": [
    "### functions"
   ]
  },
  {
   "cell_type": "code",
   "execution_count": 6,
   "metadata": {},
   "outputs": [],
   "source": [
    "# set local path settings based on computer host\n",
    "import socket\n",
    "hostname = socket.gethostname().split('.')[0]\n",
    "if hostname == 'Angular-Gyrus':\n",
    "    path_py_library = '/Users/connylin/Code/proj/brainstation_capstone'\n",
    "    if path_py_library not in sys.path:\n",
    "        sys.path.insert(1, path_py_library)\n",
    "    \n",
    "# import libraries\n",
    "import sys, time, datetime, os, pickle, glob\n",
    "import numpy as np\n",
    "import pandas as pd\n",
    "import matplotlib.pyplot as plt\n",
    "import seaborn as sns"
   ]
  },
  {
   "cell_type": "code",
   "execution_count": 19,
   "metadata": {},
   "outputs": [
    {
     "name": "stdout",
     "output_type": "stream",
     "text": [
      "getting host computer specific paths\n",
      "last ran on: 2020-06-28 16:10:23.601192 PT\n"
     ]
    }
   ],
   "source": [
    "# import local libraries\n",
    "import toolbox\n",
    "\n",
    "# set local variables\n",
    "LOCAL_PATHS = toolbox.host_paths.get(hostname)\n",
    "DATA_DIR = os.path.join(LOCAL_PATHS['Capstone'], 'data')\n",
    "\n",
    "# report latest run\n",
    "print(f'last ran on: {datetime.datetime.now()} PT')"
   ]
  },
  {
   "cell_type": "markdown",
   "metadata": {},
   "source": [
    "## Data Acquisition"
   ]
  },
  {
   "cell_type": "markdown",
   "metadata": {},
   "source": [
    "Data are stored in a .blob data lake scheme. An example of the file structure is illustrated below. \n",
    "\n",
    "```\n",
    "Multiworm tracker data (MWT)/\n",
    "│\n",
    "├── experiment folder/\n",
    "│   ├── group folder (e.g. alcohol or no alcohol)\n",
    "│   │   ├── plate folder\n",
    "│   │   │   ├── xxx.blobs\n",
    "│   │   │   ├── xxx.blobs\n",
    "│   │   │   ├── xxx.summary\n",
    "│   │   │   ├── xxx.png\n",
    "│   │   │   └── xxx.dat\n",
    "│   │   ├── plate folder\n",
    "│   │   │   ├── xxx.blobs\n",
    "│   │   │   ├── xxx.blobs\n",
    "│   │   │   ├── xxx.summary\n",
    "│   │   │   ├── xxx.png\n",
    "│   │   │   └── xxx.dat\n",
    "│   │   ├── plate folder\n",
    "│   │   │   └── ...\n",
    "│   └── alcohol group ...\n",
    "│       ├── plate folder\n",
    "│       ├── plate folder\n",
    "│       ├── plate folder\n",
    "└──     └── plate folder\n",
    "```"
   ]
  },
  {
   "cell_type": "code",
   "execution_count": 17,
   "metadata": {},
   "outputs": [
    {
     "name": "stdout",
     "output_type": "stream",
     "text": [
      "data lake has 464 experiment folder\n",
      "data lake has 2187 group folder\n",
      "data lake has 7354 plate folder\n"
     ]
    }
   ],
   "source": [
    "# check how many experiment folders are in the data lake\n",
    "n = len(glob.glob('/Volumes/COBOLT/*/20*'))\n",
    "print(f'data lake has {n} experiment folder')\n",
    "# check how many group folder\n",
    "n = len(glob.glob('/Volumes/COBOLT/*/20*/*'))\n",
    "print(f'data lake has {n} group folder')\n",
    "# check how many plate folder\n",
    "n = len(glob.glob('/Volumes/COBOLT/*/20*/*/20*'))\n",
    "print(f'data lake has {n} plate folder')"
   ]
  },
  {
   "cell_type": "code",
   "execution_count": 15,
   "metadata": {},
   "outputs": [
    {
     "name": "stdout",
     "output_type": "stream",
     "text": [
      "data lake has 2121 group folder\n"
     ]
    }
   ],
   "source": [
    "# construct MWT"
   ]
  },
  {
   "cell_type": "markdown",
   "metadata": {},
   "source": [
    "## EDA\n",
    "## Rough Tune\n",
    "## Fine Tune\n",
    "## Evaluation"
   ]
  },
  {
   "cell_type": "code",
   "execution_count": null,
   "metadata": {},
   "outputs": [],
   "source": []
  }
 ],
 "metadata": {
  "kernelspec": {
   "display_name": "Python 3",
   "language": "python",
   "name": "python3"
  },
  "language_info": {
   "codemirror_mode": {
    "name": "ipython",
    "version": 3
   },
   "file_extension": ".py",
   "mimetype": "text/x-python",
   "name": "python",
   "nbconvert_exporter": "python",
   "pygments_lexer": "ipython3",
   "version": "3.7.7"
  }
 },
 "nbformat": 4,
 "nbformat_minor": 4
}
