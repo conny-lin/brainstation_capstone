{
 "cells": [
  {
   "cell_type": "code",
   "execution_count": null,
   "metadata": {},
   "outputs": [],
   "source": [
    "## ETL trinity for predicting ethanol behavior before first tap\n",
    "# Conny Lin | June 5, 2020"
   ]
  },
  {
   "cell_type": "markdown",
   "metadata": {},
   "source": [
    "* ETL_trinity_predictetoh_before_tap : get worm behavior data from trinity_clean.csv\n",
    "    * only from wildtype\n",
    "    * only from before first tap\n",
    "    * only from 400mM and 0mM groups"
   ]
  },
  {
   "cell_type": "code",
   "execution_count": 57,
   "metadata": {},
   "outputs": [],
   "source": [
    "import pandas as pd\n",
    "import numpy as np\n",
    "import os\n",
    "import sys\n",
    "import re\n",
    "# import functions\n",
    "dir_function_collection = [\n",
    "'/Users/connylin/Dropbox/Code/language/python_lib/localpackage/mwt',\n",
    "'/Users/connylin/Dropbox/CA/ED _20200119 Brain Station Data Science Diploma/Capstone/brainstation_capstone/0_lib'\n",
    "]\n",
    "for p in dir_function_collection:\n",
    "    sys.path.insert(1, p)\n",
    "import BrainStationLib as bs"
   ]
  },
  {
   "cell_type": "code",
   "execution_count": null,
   "metadata": {},
   "outputs": [],
   "source": [
    "# define local function \n",
    "def extract_MWT_feature_preplate(pmwt):\n",
    "    p_parsed = pmwt.split('/')\n",
    "    if os.path.isfile(pmwt):\n",
    "        expname = p_parsed[-4]\n",
    "    elif os.path.isfile(ptrinity):\n",
    "        expname = p_parsed[-3]\n",
    "    a = re.search(r'(?<=_)\\d{1,}', expname)\n",
    "    preplate_time = int(a.group(0))\n",
    "    return preplate_time"
   ]
  },
  {
   "cell_type": "code",
   "execution_count": 106,
   "metadata": {},
   "outputs": [],
   "source": [
    "# define local variable\n",
    "pMWTDB = '/Users/connylin/Dropbox/MWT/db/MWTDB.csv'\n",
    "pCapstone = '/Users/connylin/Dropbox/CA/ED _20200119 Brain Station Data Science Diploma/Capstone/data'"
   ]
  },
  {
   "cell_type": "code",
   "execution_count": 8,
   "metadata": {},
   "outputs": [
    {
     "name": "stdout",
     "output_type": "stream",
     "text": [
      "2008 plates found\n"
     ]
    }
   ],
   "source": [
    "# load MWTDB from dropbox\n",
    "MWTDB = pd.read_csv(pMWTDB)\n",
    "# get only N2 and N2_400mM plates\n",
    "i = MWTDB['groupname'].isin(['N2','N2_400mM'])\n",
    "print(f'{sum(i)} plates found')\n",
    "# keep only those plates\n",
    "MWTDB = MWTDB.loc[i,:].copy()"
   ]
  },
  {
   "cell_type": "code",
   "execution_count": 9,
   "metadata": {},
   "outputs": [
    {
     "data": {
      "text/plain": [
       "(2008, 5)"
      ]
     },
     "execution_count": 9,
     "metadata": {},
     "output_type": "execute_result"
    }
   ],
   "source": [
    "MWTDB.shape"
   ]
  },
  {
   "cell_type": "code",
   "execution_count": 88,
   "metadata": {},
   "outputs": [
    {
     "name": "stdout",
     "output_type": "stream",
     "text": [
      "261 trinity_cleaned.csv exist\n",
      "261\n"
     ]
    }
   ],
   "source": [
    "# get trinity paths for all and check how many exist\n",
    "ptrinity_list = list(map(lambda x: os.path.join(x,'trinity_cleaned.csv'), \n",
    "                         MWTDB['mwtpath']))\n",
    "ptrinity_exist = list(map(lambda x: os.path.isfile(x), ptrinity_list))\n",
    "print(f'{sum(ptrinity_exist)} trinity_cleaned.csv exist')\n",
    "ptrinity_list = np.array(ptrinity_list)\n",
    "ptrinity_list = ptrinity_list[ptrinity_exist].copy()\n",
    "nfiles = ptrinity_list.shape[0]\n",
    "print(nfiles)"
   ]
  },
  {
   "cell_type": "code",
   "execution_count": 89,
   "metadata": {},
   "outputs": [
    {
     "name": "stdout",
     "output_type": "stream",
     "text": [
      "estimated total 571.7 MB\n"
     ]
    }
   ],
   "source": [
    "# get only data before preplate (first tap)\n",
    "df = pd.read_csv(ptrinity_list[0])\n",
    "# get preplate time\n",
    "preplate_time = extract_MWT_feature_preplate(pmwt)\n",
    "# reduce data\n",
    "df = df.loc[df['time'] < preplate_time,:].copy()\n",
    "# get sizse\n",
    "bytesize = sys.getsizeof(df)\n",
    "# estimate total size and see if can concat\n",
    "print(f'estimated total {bytesize/(1000**2)*nfiles:.1f} MB')"
   ]
  },
  {
   "cell_type": "code",
   "execution_count": 104,
   "metadata": {},
   "outputs": [
    {
     "name": "stdout",
     "output_type": "stream",
     "text": [
      "processing 260 file\r"
     ]
    }
   ],
   "source": [
    "# look into each trinity_clean.csv\n",
    "df_collection = []\n",
    "for i, ptrinity in enumerate(ptrinity_list):\n",
    "    print(f'processing {i} file', end='\\r')\n",
    "    # get only data before preplate (first tap)\n",
    "    df = pd.read_csv(ptrinity)\n",
    "    # get preplate time\n",
    "    preplate_time = extract_MWT_feature_preplate(pmwt)\n",
    "    # get only sub set\n",
    "    df = df.loc[df['time'] < preplate_time,:].copy()\n",
    "    # append\n",
    "    df_collection.append(df)\n",
    "df_collection = pd.concat(df_collection, ignore_index=True)"
   ]
  },
  {
   "cell_type": "code",
   "execution_count": 105,
   "metadata": {},
   "outputs": [
    {
     "data": {
      "text/plain": [
       "(11413375, 17)"
      ]
     },
     "execution_count": 105,
     "metadata": {},
     "output_type": "execute_result"
    }
   ],
   "source": [
    "df_collection.shape"
   ]
  },
  {
   "cell_type": "code",
   "execution_count": 110,
   "metadata": {},
   "outputs": [
    {
     "name": "stdout",
     "output_type": "stream",
     "text": [
      "estimated total 1.6 GB\n"
     ]
    }
   ],
   "source": [
    "# get sizse\n",
    "bytesize = sys.getsizeof(df_collection)\n",
    "# estimate total size and see if can concat\n",
    "print(f'estimated total {bytesize/(1000**3):.1f} GB')"
   ]
  },
  {
   "cell_type": "code",
   "execution_count": null,
   "metadata": {},
   "outputs": [],
   "source": [
    "# save\n",
    "df_collection.to_csv(os.path.join(pCapstone, 'trinity_cleaned_N2_etoh_b4tap.csv'))"
   ]
  },
  {
   "cell_type": "code",
   "execution_count": null,
   "metadata": {},
   "outputs": [],
   "source": []
  }
 ],
 "metadata": {
  "kernelspec": {
   "display_name": "Python 3",
   "language": "python",
   "name": "python3"
  },
  "language_info": {
   "codemirror_mode": {
    "name": "ipython",
    "version": 3
   },
   "file_extension": ".py",
   "mimetype": "text/x-python",
   "name": "python",
   "nbconvert_exporter": "python",
   "pygments_lexer": "ipython3",
   "version": "3.7.7"
  }
 },
 "nbformat": 4,
 "nbformat_minor": 4
}
