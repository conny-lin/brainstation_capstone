{
 "cells": [
  {
   "cell_type": "code",
   "execution_count": 1,
   "metadata": {},
   "outputs": [
    {
     "name": "stdout",
     "output_type": "stream",
     "text": [
      "getting host computer specific paths\n"
     ]
    }
   ],
   "source": [
    "# import local libraries using host specific paths\n",
    "import socket, sys\n",
    "hostname = socket.gethostname().split('.')[0]\n",
    "# set local path settings based on computer host\n",
    "if hostname == 'PFC':\n",
    "    pylibrary = '/Users/connylin/Dropbox/Code/proj'\n",
    "elif hostname == 'Angular-Gyrus':\n",
    "    pylibrary = '/Users/connylin/Code/proj'\n",
    "else:\n",
    "    assert False, 'host computer not regonized'\n",
    "# load local libraries\n",
    "if pylibrary not in sys.path:\n",
    "    sys.path.insert(1, pylibrary)\n",
    "# import brainstation_capstone\n",
    "# import other standard paths and local variables\n",
    "from brainstation_capstone.system import host_paths\n",
    "localpaths = host_paths.get(hostname)\n",
    "datapath = localpaths['datapath']\n",
    "\n",
    "# import standard libraries\n",
    "import time\n",
    "import numpy as np\n",
    "import pandas as pd\n",
    "import matplotlib.pyplot as plt\n"
   ]
  },
  {
   "cell_type": "markdown",
   "metadata": {},
   "source": [
    "## no tuning"
   ]
  },
  {
   "cell_type": "markdown",
   "metadata": {},
   "source": [
    "no feature reduction"
   ]
  },
  {
   "cell_type": "code",
   "execution_count": 2,
   "metadata": {},
   "outputs": [
    {
     "name": "stdout",
     "output_type": "stream",
     "text": [
      "None\n",
      "X has 21 features\n",
      "test score: 0.8664475\n",
      "train score: 0.866919375\n"
     ]
    }
   ],
   "source": [
    "# get machine learning input data\n",
    "from brainstation_capstone.etl.datatransform import Nutcracker\n",
    "X_train, X_test, y_train, y_test = Nutcracker(localpaths['datapath']).mldata(feature_reduction='None')\n",
    "print(f'X has {X_train.shape[1]} features')\n",
    "# run untuned model\n",
    "from sklearn.linear_model import RidgeClassifier\n",
    "clf = RidgeClassifier().fit(X_train, y_train)\n",
    "testscore_fullfeature = clf.score(X_test, y_test)\n",
    "trainscore_fullfeature = clf.score(X_train, y_train)\n",
    "print(f'test score: {testscore_fullfeature}')\n",
    "print(f'train score: {trainscore_fullfeature}')"
   ]
  },
  {
   "cell_type": "markdown",
   "metadata": {},
   "source": [
    "reduced to 18 features (remove time, persistence, and orient)"
   ]
  },
  {
   "cell_type": "code",
   "execution_count": 3,
   "metadata": {},
   "outputs": [
    {
     "name": "stdout",
     "output_type": "stream",
     "text": [
      "standard\n",
      "X has 18 features\n",
      "test score: 0.8664475\n",
      "train score: 0.866919375\n"
     ]
    }
   ],
   "source": [
    "# get machine learning input data\n",
    "from brainstation_capstone.etl.datatransform import Nutcracker\n",
    "X_train, X_test, y_train, y_test = Nutcracker(localpaths['datapath']).mldata(feature_reduction='standard')\n",
    "print(f'X has {X_train.shape[1]} features')\n",
    "# run untuned model\n",
    "from sklearn.linear_model import RidgeClassifier\n",
    "clf = RidgeClassifier().fit(X_train, y_train)\n",
    "testscore_18feature = clf.score(X_test, y_test)\n",
    "trainscore_18feature = clf.score(X_train, y_train)\n",
    "print(f'test score: {testscore_fullfeature}')\n",
    "print(f'train score: {trainscore_fullfeature}')"
   ]
  },
  {
   "cell_type": "code",
   "execution_count": 5,
   "metadata": {},
   "outputs": [
    {
     "name": "stdout",
     "output_type": "stream",
     "text": [
      "reduce to 18 feature accuracy gain (train): -0.216%\n",
      "reduce to 18 feature accuracy gain (test): -0.218%\n"
     ]
    }
   ],
   "source": [
    "# comparison of full vs 18 features\n",
    "train_feature_reduction_acc_gain = trainscore_18feature - trainscore_fullfeature\n",
    "test_feature_reduction_acc_gain = testscore_18feature - testscore_fullfeature\n",
    "print(f'reduce to 18 feature accuracy gain (train): {train_feature_reduction_acc_gain*100:.3f}%')\n",
    "print(f'reduce to 18 feature accuracy gain (test): {test_feature_reduction_acc_gain*100:.3f}%')"
   ]
  },
  {
   "cell_type": "markdown",
   "metadata": {},
   "source": [
    "reducing 18 features loses accuracy"
   ]
  },
  {
   "cell_type": "markdown",
   "metadata": {},
   "source": [
    "## Run rough hyperparameter tuning"
   ]
  },
  {
   "cell_type": "code",
   "execution_count": 10,
   "metadata": {},
   "outputs": [
    {
     "name": "stdout",
     "output_type": "stream",
     "text": [
      "None\n",
      "Best: 0.864768 using {'alpha': 0.7}\n",
      "0.864767 (0.000452) with: {'alpha': 0.1}\n",
      "0.864767 (0.000452) with: {'alpha': 0.2}\n",
      "0.864767 (0.000452) with: {'alpha': 0.3}\n",
      "0.864767 (0.000452) with: {'alpha': 0.4}\n",
      "0.864767 (0.000452) with: {'alpha': 0.5}\n",
      "0.864767 (0.000452) with: {'alpha': 0.6}\n",
      "0.864768 (0.000451) with: {'alpha': 0.7}\n",
      "0.864768 (0.000451) with: {'alpha': 0.8}\n",
      "0.864768 (0.000451) with: {'alpha': 0.9}\n",
      "0.864768 (0.000451) with: {'alpha': 1.0}\n",
      "done\n"
     ]
    }
   ],
   "source": [
    "# example of grid searching key hyperparametres for ridge classifier\n",
    "from sklearn.model_selection import RepeatedStratifiedKFold\n",
    "from sklearn.model_selection import GridSearchCV\n",
    "from sklearn.linear_model import RidgeClassifier\n",
    "\n",
    "# import data\n",
    "X_train, _, y_train, _ = Nutcracker(datapath).mldata(feature_reduction='None')\n",
    "\n",
    "# define models and parameters\n",
    "model = RidgeClassifier()\n",
    "alpha = [0.1, 0.2, 0.3, 0.4, 0.5, 0.6, 0.7, 0.8, 0.9, 1.0]\n",
    "cv = 5 #cv = RepeatedStratifiedKFold(n_splits=10, n_repeats=3, random_state=1)\n",
    "\n",
    "# define grid search\n",
    "grid = dict(alpha=alpha)\n",
    "grid_search = GridSearchCV(estimator=model, param_grid=grid, n_jobs=-1, \n",
    "                           cv=cv, scoring='accuracy',error_score=0)\n",
    "grid_result = grid_search.fit(X_train, y_train)\n",
    "\n",
    "# summarize results\n",
    "from brainstation_capstone.ml import GridSearchCVHelper\n",
    "mean, stdev, param = GridSearchCVHelper.print_summary(grid_result)\n",
    "print('done')"
   ]
  },
  {
   "cell_type": "markdown",
   "metadata": {},
   "source": [
    "not much difference with different alpha. try different solve and set random state to 318"
   ]
  },
  {
   "cell_type": "code",
   "execution_count": 3,
   "metadata": {},
   "outputs": [
    {
     "name": "stdout",
     "output_type": "stream",
     "text": [
      "None\n",
      "None\n",
      "Best: 0.866908 using {'alpha': 0.1, 'random_state': 318, 'solver': 'sag'}\n",
      "0.866904 (0.000446) with: {'alpha': 0.1, 'random_state': 318, 'solver': 'svd'}\n",
      "0.866904 (0.000446) with: {'alpha': 0.1, 'random_state': 318, 'solver': 'cholesky'}\n",
      "0.866898 (0.000456) with: {'alpha': 0.1, 'random_state': 318, 'solver': 'lsqr'}\n",
      "0.866902 (0.000439) with: {'alpha': 0.1, 'random_state': 318, 'solver': 'sparse_cg'}\n",
      "0.866908 (0.000451) with: {'alpha': 0.1, 'random_state': 318, 'solver': 'sag'}\n",
      "0.866906 (0.000441) with: {'alpha': 0.1, 'random_state': 318, 'solver': 'saga'}\n",
      "0.866904 (0.000446) with: {'alpha': 0.2, 'random_state': 318, 'solver': 'svd'}\n",
      "0.866904 (0.000446) with: {'alpha': 0.2, 'random_state': 318, 'solver': 'cholesky'}\n",
      "0.866898 (0.000457) with: {'alpha': 0.2, 'random_state': 318, 'solver': 'lsqr'}\n",
      "0.866903 (0.000440) with: {'alpha': 0.2, 'random_state': 318, 'solver': 'sparse_cg'}\n",
      "0.866908 (0.000451) with: {'alpha': 0.2, 'random_state': 318, 'solver': 'sag'}\n",
      "0.866905 (0.000442) with: {'alpha': 0.2, 'random_state': 318, 'solver': 'saga'}\n",
      "0.866904 (0.000446) with: {'alpha': 0.3, 'random_state': 318, 'solver': 'svd'}\n",
      "0.866904 (0.000446) with: {'alpha': 0.3, 'random_state': 318, 'solver': 'cholesky'}\n",
      "0.866897 (0.000457) with: {'alpha': 0.3, 'random_state': 318, 'solver': 'lsqr'}\n",
      "0.866901 (0.000439) with: {'alpha': 0.3, 'random_state': 318, 'solver': 'sparse_cg'}\n",
      "0.866907 (0.000450) with: {'alpha': 0.3, 'random_state': 318, 'solver': 'sag'}\n",
      "0.866905 (0.000442) with: {'alpha': 0.3, 'random_state': 318, 'solver': 'saga'}\n",
      "0.866904 (0.000446) with: {'alpha': 0.4, 'random_state': 318, 'solver': 'svd'}\n",
      "0.866904 (0.000446) with: {'alpha': 0.4, 'random_state': 318, 'solver': 'cholesky'}\n",
      "0.866897 (0.000458) with: {'alpha': 0.4, 'random_state': 318, 'solver': 'lsqr'}\n",
      "0.866902 (0.000439) with: {'alpha': 0.4, 'random_state': 318, 'solver': 'sparse_cg'}\n",
      "0.866907 (0.000450) with: {'alpha': 0.4, 'random_state': 318, 'solver': 'sag'}\n",
      "0.866905 (0.000442) with: {'alpha': 0.4, 'random_state': 318, 'solver': 'saga'}\n",
      "0.866904 (0.000446) with: {'alpha': 0.5, 'random_state': 318, 'solver': 'svd'}\n",
      "0.866904 (0.000446) with: {'alpha': 0.5, 'random_state': 318, 'solver': 'cholesky'}\n",
      "0.866897 (0.000458) with: {'alpha': 0.5, 'random_state': 318, 'solver': 'lsqr'}\n",
      "0.866900 (0.000438) with: {'alpha': 0.5, 'random_state': 318, 'solver': 'sparse_cg'}\n",
      "0.866907 (0.000450) with: {'alpha': 0.5, 'random_state': 318, 'solver': 'sag'}\n",
      "0.866905 (0.000442) with: {'alpha': 0.5, 'random_state': 318, 'solver': 'saga'}\n",
      "0.866904 (0.000446) with: {'alpha': 0.6, 'random_state': 318, 'solver': 'svd'}\n",
      "0.866904 (0.000446) with: {'alpha': 0.6, 'random_state': 318, 'solver': 'cholesky'}\n",
      "0.866897 (0.000458) with: {'alpha': 0.6, 'random_state': 318, 'solver': 'lsqr'}\n",
      "0.866901 (0.000439) with: {'alpha': 0.6, 'random_state': 318, 'solver': 'sparse_cg'}\n",
      "0.866907 (0.000450) with: {'alpha': 0.6, 'random_state': 318, 'solver': 'sag'}\n",
      "0.866905 (0.000442) with: {'alpha': 0.6, 'random_state': 318, 'solver': 'saga'}\n",
      "0.866904 (0.000446) with: {'alpha': 0.7, 'random_state': 318, 'solver': 'svd'}\n",
      "0.866904 (0.000446) with: {'alpha': 0.7, 'random_state': 318, 'solver': 'cholesky'}\n",
      "0.866897 (0.000458) with: {'alpha': 0.7, 'random_state': 318, 'solver': 'lsqr'}\n",
      "0.866901 (0.000439) with: {'alpha': 0.7, 'random_state': 318, 'solver': 'sparse_cg'}\n",
      "0.866908 (0.000450) with: {'alpha': 0.7, 'random_state': 318, 'solver': 'sag'}\n",
      "0.866906 (0.000442) with: {'alpha': 0.7, 'random_state': 318, 'solver': 'saga'}\n",
      "0.866904 (0.000446) with: {'alpha': 0.8, 'random_state': 318, 'solver': 'svd'}\n",
      "0.866904 (0.000446) with: {'alpha': 0.8, 'random_state': 318, 'solver': 'cholesky'}\n",
      "0.866897 (0.000458) with: {'alpha': 0.8, 'random_state': 318, 'solver': 'lsqr'}\n",
      "0.866901 (0.000439) with: {'alpha': 0.8, 'random_state': 318, 'solver': 'sparse_cg'}\n",
      "0.866908 (0.000450) with: {'alpha': 0.8, 'random_state': 318, 'solver': 'sag'}\n",
      "0.866906 (0.000442) with: {'alpha': 0.8, 'random_state': 318, 'solver': 'saga'}\n",
      "0.866904 (0.000446) with: {'alpha': 0.9, 'random_state': 318, 'solver': 'svd'}\n",
      "0.866904 (0.000446) with: {'alpha': 0.9, 'random_state': 318, 'solver': 'cholesky'}\n",
      "0.866897 (0.000458) with: {'alpha': 0.9, 'random_state': 318, 'solver': 'lsqr'}\n",
      "0.866901 (0.000439) with: {'alpha': 0.9, 'random_state': 318, 'solver': 'sparse_cg'}\n",
      "0.866908 (0.000450) with: {'alpha': 0.9, 'random_state': 318, 'solver': 'sag'}\n",
      "0.866906 (0.000442) with: {'alpha': 0.9, 'random_state': 318, 'solver': 'saga'}\n",
      "0.866904 (0.000446) with: {'alpha': 1.0, 'random_state': 318, 'solver': 'svd'}\n",
      "0.866904 (0.000446) with: {'alpha': 1.0, 'random_state': 318, 'solver': 'cholesky'}\n",
      "0.866897 (0.000458) with: {'alpha': 1.0, 'random_state': 318, 'solver': 'lsqr'}\n",
      "0.866901 (0.000439) with: {'alpha': 1.0, 'random_state': 318, 'solver': 'sparse_cg'}\n",
      "0.866908 (0.000450) with: {'alpha': 1.0, 'random_state': 318, 'solver': 'sag'}\n",
      "0.866906 (0.000442) with: {'alpha': 1.0, 'random_state': 318, 'solver': 'saga'}\n",
      "done\n"
     ]
    }
   ],
   "source": [
    "# example of grid searching key hyperparametres for ridge classifier\n",
    "from sklearn.model_selection import RepeatedStratifiedKFold\n",
    "from sklearn.model_selection import GridSearchCV\n",
    "from sklearn.linear_model import RidgeClassifier\n",
    "\n",
    "# import data\n",
    "from brainstation_capstone.etl.datatransform import Nutcracker\n",
    "X_train, _, y_train, _ = Nutcracker(datapath).mldata(feature_reduction='None')\n",
    "\n",
    "# define models and parameters\n",
    "model = RidgeClassifier()\n",
    "alpha = [0.1, 0.2, 0.3, 0.4, 0.5, 0.6, 0.7, 0.8, 0.9, 1.0]\n",
    "solver = ['svd', 'cholesky', 'lsqr', 'sparse_cg', 'sag', 'saga']\n",
    "random_state = [318]\n",
    "\n",
    "grid = dict(alpha=alpha, solver=solver, random_state=random_state)\n",
    "\n",
    "# grid search setting\n",
    "cv = 5 #cv = RepeatedStratifiedKFold(n_splits=10, n_repeats=3, random_state=1)\n",
    "grid_search = GridSearchCV(estimator=model, param_grid=grid, n_jobs=-1, \n",
    "                           cv=cv, scoring='accuracy',error_score=0)\n",
    "# run gridsearch\n",
    "grid_result = grid_search.fit(X_train, y_train)\n",
    "\n",
    "# summarize results\n",
    "from brainstation_capstone.ml import GridSearchCVHelper\n",
    "mean, stdev, param = GridSearchCVHelper.print_summary(grid_result)\n",
    "print('done')"
   ]
  },
  {
   "cell_type": "code",
   "execution_count": null,
   "metadata": {},
   "outputs": [],
   "source": []
  }
 ],
 "metadata": {
  "kernelspec": {
   "display_name": "Python 3",
   "language": "python",
   "name": "python3"
  },
  "language_info": {
   "codemirror_mode": {
    "name": "ipython",
    "version": 3
   },
   "file_extension": ".py",
   "mimetype": "text/x-python",
   "name": "python",
   "nbconvert_exporter": "python",
   "pygments_lexer": "ipython3",
   "version": "3.7.7"
  }
 },
 "nbformat": 4,
 "nbformat_minor": 4
}
