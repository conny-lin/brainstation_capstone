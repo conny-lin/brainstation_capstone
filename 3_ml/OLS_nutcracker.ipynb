{
 "cells": [
  {
   "cell_type": "code",
   "execution_count": 1,
   "metadata": {},
   "outputs": [],
   "source": [
    "# logistic regression\n",
    "# Conny Lin | June 13, 2020"
   ]
  },
  {
   "cell_type": "code",
   "execution_count": 47,
   "metadata": {},
   "outputs": [],
   "source": [
    "import sys, os, pickle\n",
    "import numpy as np\n",
    "import pandas as pd\n",
    "# define local path to the package (can give multiple paths in the list)\n",
    "pylibrary = ['/Users/connylin/Dropbox/Code/proj/brainstation_capstone/']\n",
    "# add package paths to system search paths\n",
    "for path in pylibrary:\n",
    "    if path not in sys.path:\n",
    "        sys.path.insert(1, path)\n",
    "import BrainStationLib\n",
    "\n",
    "from sklearn.model_selection import cross_val_score\n"
   ]
  },
  {
   "cell_type": "code",
   "execution_count": 2,
   "metadata": {},
   "outputs": [],
   "source": [
    "# do standard transformation\n",
    "from BrainStationLib.ETL.datatransform import Nutcracker\n",
    "NC = Nutcracker()\n",
    "transform_data = NC.transform_full()"
   ]
  },
  {
   "cell_type": "code",
   "execution_count": 3,
   "metadata": {},
   "outputs": [],
   "source": [
    "# get data out of dictionary\n",
    "X_train = transform_data['X_train']\n",
    "X_test = transform_data['X_test']\n",
    "y_train = transform_data['y_train']\n",
    "y_test = transform_data['y_test']"
   ]
  },
  {
   "cell_type": "code",
   "execution_count": 4,
   "metadata": {},
   "outputs": [
    {
     "data": {
      "text/plain": [
       "(1600000, 21)"
      ]
     },
     "execution_count": 4,
     "metadata": {},
     "output_type": "execute_result"
    }
   ],
   "source": [
    "X_train.shape"
   ]
  },
  {
   "cell_type": "code",
   "execution_count": 5,
   "metadata": {},
   "outputs": [
    {
     "data": {
      "text/plain": [
       "(400000,)"
      ]
     },
     "execution_count": 5,
     "metadata": {},
     "output_type": "execute_result"
    }
   ],
   "source": [
    "y_test.shape"
   ]
  },
  {
   "cell_type": "code",
   "execution_count": 6,
   "metadata": {},
   "outputs": [],
   "source": [
    "from sklearn.linear_model import LogisticRegression"
   ]
  },
  {
   "cell_type": "code",
   "execution_count": 9,
   "metadata": {},
   "outputs": [
    {
     "name": "stderr",
     "output_type": "stream",
     "text": [
      "/Users/connylin/opt/anaconda3/lib/python3.7/site-packages/sklearn/linear_model/_logistic.py:940: ConvergenceWarning: lbfgs failed to converge (status=1):\n",
      "STOP: TOTAL NO. of ITERATIONS REACHED LIMIT.\n",
      "\n",
      "Increase the number of iterations (max_iter) or scale the data as shown in:\n",
      "    https://scikit-learn.org/stable/modules/preprocessing.html\n",
      "Please also refer to the documentation for alternative solver options:\n",
      "    https://scikit-learn.org/stable/modules/linear_model.html#logistic-regression\n",
      "  extra_warning_msg=_LOGISTIC_SOLVER_CONVERGENCE_MSG)\n"
     ]
    },
    {
     "name": "stdout",
     "output_type": "stream",
     "text": [
      "train score: 0.8644\n",
      "test score: 0.8638375\n"
     ]
    }
   ],
   "source": [
    "C=0.01\n",
    "random_state = 318\n",
    "max_iter=1000\n",
    "OLS = LogisticRegression(C=C, random_state=random_state, max_iter=max_iter)\n",
    "OLS.fit(X_train, y_train)\n",
    "y_predicted = OLS.predict(X_test)\n",
    "\n",
    "print(f'train score: {OLS.score(X_train,y_train)}')\n",
    "print(f'test score: {OLS.score(X_test,y_test)}')"
   ]
  },
  {
   "cell_type": "markdown",
   "metadata": {},
   "source": [
    "* C=0.01\n",
    "* random_state = 318\n",
    "* max_iter=1000\n",
    "\n",
    "results are train/test both = 0.86"
   ]
  },
  {
   "cell_type": "code",
   "execution_count": 21,
   "metadata": {},
   "outputs": [],
   "source": [
    "X_columns = np.array(NC.names['X'])"
   ]
  },
  {
   "cell_type": "code",
   "execution_count": 41,
   "metadata": {},
   "outputs": [],
   "source": [
    "# take a look at predictive value of each parameter\n",
    "# set dataframe\n",
    "top_features = pd.DataFrame(X_columns, columns=['features'])\n",
    "# get coefficient\n",
    "X_logistic_coef = OLS.coef_\n",
    "# put int OLS_coef\n",
    "top_features['OLS_coef'] = X_logistic_coef[0]\n",
    "# put in absolute\n",
    "top_features['OLS_coef_abs'] = np.absolute(top_features['OLS_coef'].values)\n",
    "\n"
   ]
  },
  {
   "cell_type": "code",
   "execution_count": 44,
   "metadata": {},
   "outputs": [
    {
     "data": {
      "text/html": [
       "<div>\n",
       "<style scoped>\n",
       "    .dataframe tbody tr th:only-of-type {\n",
       "        vertical-align: middle;\n",
       "    }\n",
       "\n",
       "    .dataframe tbody tr th {\n",
       "        vertical-align: top;\n",
       "    }\n",
       "\n",
       "    .dataframe thead th {\n",
       "        text-align: right;\n",
       "    }\n",
       "</style>\n",
       "<table border=\"1\" class=\"dataframe\">\n",
       "  <thead>\n",
       "    <tr style=\"text-align: right;\">\n",
       "      <th></th>\n",
       "      <th>features</th>\n",
       "      <th>OLS_coef</th>\n",
       "      <th>OLS_coef_abs</th>\n",
       "    </tr>\n",
       "  </thead>\n",
       "  <tbody>\n",
       "    <tr>\n",
       "      <th>5</th>\n",
       "      <td>width</td>\n",
       "      <td>-10.813590</td>\n",
       "      <td>10.813590</td>\n",
       "    </tr>\n",
       "    <tr>\n",
       "      <th>9</th>\n",
       "      <td>aspect</td>\n",
       "      <td>-9.695887</td>\n",
       "      <td>9.695887</td>\n",
       "    </tr>\n",
       "    <tr>\n",
       "      <th>10</th>\n",
       "      <td>relaspect</td>\n",
       "      <td>3.588359</td>\n",
       "      <td>3.588359</td>\n",
       "    </tr>\n",
       "    <tr>\n",
       "      <th>7</th>\n",
       "      <td>length</td>\n",
       "      <td>2.830295</td>\n",
       "      <td>2.830295</td>\n",
       "    </tr>\n",
       "    <tr>\n",
       "      <th>6</th>\n",
       "      <td>relwidth</td>\n",
       "      <td>2.072623</td>\n",
       "      <td>2.072623</td>\n",
       "    </tr>\n",
       "    <tr>\n",
       "      <th>8</th>\n",
       "      <td>rellength</td>\n",
       "      <td>-1.924569</td>\n",
       "      <td>1.924569</td>\n",
       "    </tr>\n",
       "    <tr>\n",
       "      <th>2</th>\n",
       "      <td>area</td>\n",
       "      <td>-1.060606</td>\n",
       "      <td>1.060606</td>\n",
       "    </tr>\n",
       "    <tr>\n",
       "      <th>13</th>\n",
       "      <td>speed</td>\n",
       "      <td>0.994026</td>\n",
       "      <td>0.994026</td>\n",
       "    </tr>\n",
       "    <tr>\n",
       "      <th>3</th>\n",
       "      <td>midline</td>\n",
       "      <td>-0.943060</td>\n",
       "      <td>0.943060</td>\n",
       "    </tr>\n",
       "    <tr>\n",
       "      <th>4</th>\n",
       "      <td>morphwidth</td>\n",
       "      <td>0.691033</td>\n",
       "      <td>0.691033</td>\n",
       "    </tr>\n",
       "    <tr>\n",
       "      <th>20</th>\n",
       "      <td>crab</td>\n",
       "      <td>-0.464334</td>\n",
       "      <td>0.464334</td>\n",
       "    </tr>\n",
       "    <tr>\n",
       "      <th>15</th>\n",
       "      <td>bias</td>\n",
       "      <td>-0.401446</td>\n",
       "      <td>0.401446</td>\n",
       "    </tr>\n",
       "    <tr>\n",
       "      <th>16</th>\n",
       "      <td>dir</td>\n",
       "      <td>0.330553</td>\n",
       "      <td>0.330553</td>\n",
       "    </tr>\n",
       "    <tr>\n",
       "      <th>12</th>\n",
       "      <td>curve</td>\n",
       "      <td>-0.218703</td>\n",
       "      <td>0.218703</td>\n",
       "    </tr>\n",
       "    <tr>\n",
       "      <th>17</th>\n",
       "      <td>vel_x</td>\n",
       "      <td>-0.097355</td>\n",
       "      <td>0.097355</td>\n",
       "    </tr>\n",
       "    <tr>\n",
       "      <th>18</th>\n",
       "      <td>vel_y</td>\n",
       "      <td>-0.045256</td>\n",
       "      <td>0.045256</td>\n",
       "    </tr>\n",
       "    <tr>\n",
       "      <th>11</th>\n",
       "      <td>kink</td>\n",
       "      <td>0.029184</td>\n",
       "      <td>0.029184</td>\n",
       "    </tr>\n",
       "    <tr>\n",
       "      <th>14</th>\n",
       "      <td>angular</td>\n",
       "      <td>0.010256</td>\n",
       "      <td>0.010256</td>\n",
       "    </tr>\n",
       "    <tr>\n",
       "      <th>0</th>\n",
       "      <td>time</td>\n",
       "      <td>0.004195</td>\n",
       "      <td>0.004195</td>\n",
       "    </tr>\n",
       "    <tr>\n",
       "      <th>1</th>\n",
       "      <td>persistence</td>\n",
       "      <td>0.002752</td>\n",
       "      <td>0.002752</td>\n",
       "    </tr>\n",
       "    <tr>\n",
       "      <th>19</th>\n",
       "      <td>orient</td>\n",
       "      <td>-0.000308</td>\n",
       "      <td>0.000308</td>\n",
       "    </tr>\n",
       "  </tbody>\n",
       "</table>\n",
       "</div>"
      ],
      "text/plain": [
       "       features   OLS_coef  OLS_coef_abs\n",
       "5         width -10.813590     10.813590\n",
       "9        aspect  -9.695887      9.695887\n",
       "10    relaspect   3.588359      3.588359\n",
       "7        length   2.830295      2.830295\n",
       "6      relwidth   2.072623      2.072623\n",
       "8     rellength  -1.924569      1.924569\n",
       "2          area  -1.060606      1.060606\n",
       "13        speed   0.994026      0.994026\n",
       "3       midline  -0.943060      0.943060\n",
       "4    morphwidth   0.691033      0.691033\n",
       "20         crab  -0.464334      0.464334\n",
       "15         bias  -0.401446      0.401446\n",
       "16          dir   0.330553      0.330553\n",
       "12        curve  -0.218703      0.218703\n",
       "17        vel_x  -0.097355      0.097355\n",
       "18        vel_y  -0.045256      0.045256\n",
       "11         kink   0.029184      0.029184\n",
       "14      angular   0.010256      0.010256\n",
       "0          time   0.004195      0.004195\n",
       "1   persistence   0.002752      0.002752\n",
       "19       orient  -0.000308      0.000308"
      ]
     },
     "execution_count": 44,
     "metadata": {},
     "output_type": "execute_result"
    }
   ],
   "source": [
    "top_features.sort_values(ascending=False, inplace=True, by=['OLS_coef_abs'])\n",
    "top_features"
   ]
  },
  {
   "cell_type": "markdown",
   "metadata": {},
   "source": [
    "* width, aspect are top predictors for etoh worms.\n",
    "* interesting that curve doesn't do much\n",
    "\n",
    "Should look at graphs differences between the two parameters"
   ]
  },
  {
   "cell_type": "code",
   "execution_count": null,
   "metadata": {},
   "outputs": [
    {
     "name": "stdout",
     "output_type": "stream",
     "text": [
      "running C = 1e-06\n",
      "running C = 1e-05\n",
      "running C = 0.0001\n"
     ]
    }
   ],
   "source": [
    "# rough tune\n",
    "# settingss\n",
    "c_power_array = np.arange(-6,3, dtype=float)\n",
    "c_value_list = [10**c for c in c_power_array]\n",
    "max_iter_setting = 1000\n",
    "cv = 5\n",
    "import warnings\n",
    "warnings.filterwarnings(\"ignore\")\n",
    "# solver_setting = 'lbfgs'\n",
    "\n",
    "# train\n",
    "train_score = []\n",
    "test_score = []\n",
    "cross_validation_scores = []\n",
    "cross_validation_stdev = []\n",
    "for cp in c_value_list:\n",
    "    print(f'running C = {cp}')\n",
    "    model = LogisticRegression(C=cp,\n",
    "                               penalty='l2',\n",
    "                               max_iter=max_iter_setting,\n",
    "                               random_state=random_state)\n",
    "    \n",
    "    cv_result = cross_val_score(model, X_train, y_train, cv=cv)    \n",
    "    # the cross validation score (mean of scores from all folds)\n",
    "    cv_score = np.mean(cv_result)\n",
    "    cv_stdev = np.std(cv_result)\n",
    "    # add to result\n",
    "    cross_validation_scores.append(cv_score)\n",
    "    cross_validation_stdev.append(cv_stdev)\n",
    "    \n",
    "# plot\n",
    "plt.figure()\n",
    "plt.errorbar(c_value_list, \n",
    "             cross_validation_scores,\n",
    "             yerr=cross_validation_stdev,\n",
    "             label=\"Cross Validation Score\",marker='.')\n",
    "plt.xscale('Log')\n",
    "plt.xlabel('Regularization Parameter: C')\n",
    "plt.ylabel('Cross Validation Score')\n",
    "plt.grid()\n",
    "plt.show();\n",
    "print(c_value_list)"
   ]
  },
  {
   "cell_type": "code",
   "execution_count": null,
   "metadata": {},
   "outputs": [],
   "source": []
  },
  {
   "cell_type": "code",
   "execution_count": 45,
   "metadata": {},
   "outputs": [
    {
     "data": {
      "text/plain": [
       "['X',\n",
       " 'X_test',\n",
       " 'X_test_scaled',\n",
       " 'X_train',\n",
       " 'X_train_scaled',\n",
       " '__class__',\n",
       " '__delattr__',\n",
       " '__dict__',\n",
       " '__dir__',\n",
       " '__doc__',\n",
       " '__eq__',\n",
       " '__format__',\n",
       " '__ge__',\n",
       " '__getattribute__',\n",
       " '__gt__',\n",
       " '__hash__',\n",
       " '__init__',\n",
       " '__init_subclass__',\n",
       " '__le__',\n",
       " '__lt__',\n",
       " '__module__',\n",
       " '__ne__',\n",
       " '__new__',\n",
       " '__reduce__',\n",
       " '__reduce_ex__',\n",
       " '__repr__',\n",
       " '__setattr__',\n",
       " '__sizeof__',\n",
       " '__str__',\n",
       " '__subclasshook__',\n",
       " '__weakref__',\n",
       " 'data',\n",
       " 'datapath',\n",
       " 'loaddata',\n",
       " 'names',\n",
       " 'pCapstone',\n",
       " 'scaledata',\n",
       " 'split_test_train',\n",
       " 'transform',\n",
       " 'transform_full',\n",
       " 'y',\n",
       " 'y_test',\n",
       " 'y_train']"
      ]
     },
     "execution_count": 45,
     "metadata": {},
     "output_type": "execute_result"
    }
   ],
   "source": [
    "# look at differences between width and aspect between the two\n"
   ]
  },
  {
   "cell_type": "code",
   "execution_count": null,
   "metadata": {},
   "outputs": [],
   "source": []
  }
 ],
 "metadata": {
  "kernelspec": {
   "display_name": "Python 3",
   "language": "python",
   "name": "python3"
  },
  "language_info": {
   "codemirror_mode": {
    "name": "ipython",
    "version": 3
   },
   "file_extension": ".py",
   "mimetype": "text/x-python",
   "name": "python",
   "nbconvert_exporter": "python",
   "pygments_lexer": "ipython3",
   "version": "3.7.7"
  }
 },
 "nbformat": 4,
 "nbformat_minor": 4
}
