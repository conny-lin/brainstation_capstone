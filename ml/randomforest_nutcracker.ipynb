{
 "cells": [
  {
   "cell_type": "code",
   "execution_count": 1,
   "metadata": {},
   "outputs": [
    {
     "name": "stdout",
     "output_type": "stream",
     "text": [
      "getting host computer specific paths\n"
     ]
    }
   ],
   "source": [
    "# import local libraries using host specific paths\n",
    "import socket, sys\n",
    "hostname = socket.gethostname().split('.')[0]\n",
    "# set local path settings based on computer host\n",
    "if hostname == 'PFC':\n",
    "    pylibrary = '/Users/connylin/Dropbox/Code/proj'\n",
    "elif hostname == 'Angular Gyrus':\n",
    "    pylibrary = '/Users/connylin/Code/proj'\n",
    "else:\n",
    "    assert False, 'host computer not regonized'\n",
    "# load local libraries\n",
    "if pylibrary not in sys.path:\n",
    "    sys.path.insert(1, pylibrary)\n",
    "# import brainstation_capstone\n",
    "# import other standard paths and local variables\n",
    "from brainstation_capstone.system import host_paths\n",
    "localpaths = host_paths.get(hostname)\n",
    "\n",
    "# import standard libraries\n",
    "import numpy as np\n",
    "import pandas as pd\n",
    "import matplotlib.pyplot as plt\n"
   ]
  },
  {
   "cell_type": "code",
   "execution_count": 2,
   "metadata": {},
   "outputs": [
    {
     "data": {
      "text/plain": [
       "'/Users/connylin/Dropbox/CA/ED _20200119 Brain Station Data Science Diploma/Capstone/data/nutcracker_sample_1Meach.csv'"
      ]
     },
     "execution_count": 2,
     "metadata": {},
     "output_type": "execute_result"
    }
   ],
   "source": [
    "localpaths['datapath']"
   ]
  },
  {
   "cell_type": "code",
   "execution_count": 3,
   "metadata": {},
   "outputs": [],
   "source": [
    "# get data\n",
    "from brainstation_capstone.etl.datatransform import Nutcracker\n",
    "NC = Nutcracker(localpaths['datapath'])\n",
    "NC.mldata();"
   ]
  },
  {
   "cell_type": "code",
   "execution_count": 5,
   "metadata": {},
   "outputs": [
    {
     "name": "stdout",
     "output_type": "stream",
     "text": [
      "train score: 0.9918475\n",
      "test score: 0.881155\n"
     ]
    }
   ],
   "source": [
    "# run a simple one\n",
    "from sklearn.ensemble import RandomForestClassifier\n",
    "\n",
    "my_model = RandomForestClassifier(n_estimators=10, random_state=318)\n",
    "my_model.fit(NC.X_train_scaled, NC.y_train)\n",
    "\n",
    "print(f'train score: {my_model.score(NC.X_train_scaled, NC.y_train)}')\n",
    "print(f'test score: {my_model.score(NC.X_test_scaled, NC.y_test)}')"
   ]
  },
  {
   "cell_type": "markdown",
   "metadata": {},
   "source": [
    "Random forest is a lot better! Just a bit over fitting with 10 estimators."
   ]
  },
  {
   "cell_type": "markdown",
   "metadata": {},
   "source": [
    "Run a range of it"
   ]
  },
  {
   "cell_type": "code",
   "execution_count": null,
   "metadata": {},
   "outputs": [
    {
     "name": "stdout",
     "output_type": "stream",
     "text": [
      "finished 62 estimators\r"
     ]
    }
   ],
   "source": [
    "# run a range\n",
    "estimator_number = list(range(1, 500))\n",
    "train_scores = []\n",
    "test_scores = []\n",
    "\n",
    "\n",
    "for number in estimator_number:\n",
    "    my_model = RandomForestClassifier(n_estimators=number, random_state=318)\n",
    "    my_model.fit(NC.X_train_scaled, NC.y_train)\n",
    "\n",
    "    train_scores.append(my_model.score(NC.X_train_scaled, NC.y_train))\n",
    "    test_scores.append(my_model.score(NC.X_test_scaled, NC.y_test))\n",
    "    \n",
    "    print(f'finished {number} estimators', end='\\r')"
   ]
  },
  {
   "cell_type": "code",
   "execution_count": null,
   "metadata": {},
   "outputs": [],
   "source": [
    "plt.figure()\n",
    "plt.plot(estimator_number, train_scores, label=\"Train\")\n",
    "plt.plot(estimator_number, test_scores, label=\"Test\")\n",
    "plt.xlabel(\"Estimator number\")\n",
    "plt.ylabel(\"Accuracy\")\n",
    "plt.legend()\n",
    "plt.show()"
   ]
  },
  {
   "cell_type": "code",
   "execution_count": null,
   "metadata": {},
   "outputs": [],
   "source": [
    "decision_tree_scores = []\n",
    "for sub_tree in my_model.estimators_:\n",
    "    decision_tree_scores.append(sub_tree.score(X_train2, y_train2))\n",
    "    \n",
    "print(\"Performance on fitted data:\")\n",
    "print(f\"Average Decision Tree: {np.mean(decision_tree_scores)}\")\n",
    "print(f\"Random Forest: {my_random_forest.score(X_train2, y_train2)}\")"
   ]
  },
  {
   "cell_type": "code",
   "execution_count": null,
   "metadata": {},
   "outputs": [],
   "source": [
    "decision_tree_scores = []\n",
    "for sub_tree in my_model.estimators_:\n",
    "    decision_tree_scores.append(sub_tree.score(X_test2, y_test2))\n",
    "\n",
    "print(\"Performance on Test data:\")\n",
    "print(f\"Average Decision Tree: {np.mean(decision_tree_scores)}\")\n",
    "print(f\"Random Forest: {my_random_forest.score(X_test2, y_test2)}\")"
   ]
  }
 ],
 "metadata": {
  "kernelspec": {
   "display_name": "Python 3",
   "language": "python",
   "name": "python3"
  },
  "language_info": {
   "codemirror_mode": {
    "name": "ipython",
    "version": 3
   },
   "file_extension": ".py",
   "mimetype": "text/x-python",
   "name": "python",
   "nbconvert_exporter": "python",
   "pygments_lexer": "ipython3",
   "version": "3.7.7"
  }
 },
 "nbformat": 4,
 "nbformat_minor": 4
}
