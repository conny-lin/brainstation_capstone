{
 "cells": [
  {
   "cell_type": "markdown",
   "metadata": {},
   "source": [
    "# Documentation on sequences of events\n",
    "Conny Lin | June 4, 2020\n"
   ]
  },
  {
   "cell_type": "markdown",
   "metadata": {},
   "source": [
    "# Questions\n",
    "* Can I predict which worm is on ethanol plate by it's image and behavior?\n",
    "* Can I predict which tap number the worm is reacting to by it's behavior before and after the tap? \n",
    "    * for wildtype\n",
    "    * for ethanol vs non ethanol\n",
    "    * for mutants?"
   ]
  },
  {
   "cell_type": "markdown",
   "metadata": {},
   "source": [
    "# prepare data\n",
    "\n",
    "* \"get_individual_worm_data_exploratory.ipynb\": explore ways to collect data, also created db for target data.\n",
    "* \"concat_trinity_per_plate.ipynb\": concatenate individual worm trinity.id.dat files and save it to pickle file: . Worm number is extracted worm numbers from file name and attach it to the end of the file.\n",
    "* \"ETL_trinity.ipynb\": prepare the data into machine learning ready format. \n",
    "    * Extract data from individual plates, label with plate index in the plate db, and group name. - done with each individual files, but each file is 100MB * 800 = 80GB. Won't be able to use them all\n",
    "* ETL_worm_image.ipynb: get individual worm image from a plate and the x, y axis of the worm. Find plate images and see if can match it using x y axis of a worm."
   ]
  },
  {
   "cell_type": "code",
   "execution_count": null,
   "metadata": {},
   "outputs": [],
   "source": []
  },
  {
   "cell_type": "code",
   "execution_count": null,
   "metadata": {},
   "outputs": [],
   "source": []
  }
 ],
 "metadata": {
  "kernelspec": {
   "display_name": "Python 3",
   "language": "python",
   "name": "python3"
  },
  "language_info": {
   "codemirror_mode": {
    "name": "ipython",
    "version": 3
   },
   "file_extension": ".py",
   "mimetype": "text/x-python",
   "name": "python",
   "nbconvert_exporter": "python",
   "pygments_lexer": "ipython3",
   "version": "3.7.6"
  }
 },
 "nbformat": 4,
 "nbformat_minor": 4
}
