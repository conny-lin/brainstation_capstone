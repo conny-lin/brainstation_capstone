{
 "cells": [
  {
   "cell_type": "markdown",
   "metadata": {},
   "source": [
    "# Construct MWT DB"
   ]
  },
  {
   "cell_type": "code",
   "execution_count": 39,
   "metadata": {},
   "outputs": [],
   "source": [
    "import numpy as np\n",
    "import pandas as pd\n",
    "import os\n",
    "from pathlib import Path\n",
    "from pathlib import PurePath\n",
    "import pathlib\n",
    "import glob\n",
    "import pickle"
   ]
  },
  {
   "cell_type": "code",
   "execution_count": 251,
   "metadata": {},
   "outputs": [],
   "source": [
    "dir_drive = '/Volumes/COBOLT'\n",
    "dir_save = '/Users/connylin/Dropbox/CA/ED _20200119 Brain Station Data Science Diploma/Capstone/data'"
   ]
  },
  {
   "cell_type": "markdown",
   "metadata": {},
   "source": [
    "get files under all MWT folders in dir_drive\n",
    "\n",
    "example path: /Volumes/COBOLT/MWT/20190418X_XX_100s30x10s10s_slo1/VG903_400mM/20190418_141335/VG903_OH_15x3_t96h20C_100s30x10s10s_A_0418_jv410014.png\n",
    "\n",
    "parse the file names into:\n",
    "* extension\n",
    "* filename prefix\n",
    "* filename suffix (e.g. shanespark)\n",
    "* mwt name\n",
    "* group name\n",
    "* expname\n",
    "    * exp date\n",
    "    * tracker\n",
    "    * experimenter\n",
    "    * exp condition\n",
    "        * pre-plate\n",
    "        * taps\n",
    "        * ISI\n",
    "        * post-tap\n",
    "    * exp name tag\n",
    "* MWT DB source (e.g. MWT, MWT bad)"
   ]
  },
  {
   "cell_type": "code",
   "execution_count": 16,
   "metadata": {},
   "outputs": [],
   "source": [
    "# get files under all MWT folders in dir_drive\n",
    "p = Path(dir_drive)"
   ]
  },
  {
   "cell_type": "code",
   "execution_count": 18,
   "metadata": {},
   "outputs": [
    {
     "data": {
      "text/plain": [
       "[PosixPath('/Volumes/COBOLT/MWT'),\n",
       " PosixPath('/Volumes/COBOLT/.Trashes'),\n",
       " PosixPath('/Volumes/COBOLT/.fseventsd'),\n",
       " PosixPath('/Volumes/COBOLT/.Spotlight-V100'),\n",
       " PosixPath('/Volumes/COBOLT/.TemporaryItems'),\n",
       " PosixPath('/Volumes/COBOLT/.bzvol'),\n",
       " PosixPath('/Volumes/COBOLT/MWT DISCARD'),\n",
       " PosixPath('/Volumes/COBOLT/MWT_New'),\n",
       " PosixPath('/Volumes/COBOLT/RL Pub PhD Dissertation'),\n",
       " PosixPath('/Volumes/COBOLT/MWT_edit'),\n",
       " PosixPath('/Volumes/COBOLT/MWT to check')]"
      ]
     },
     "execution_count": 18,
     "metadata": {},
     "output_type": "execute_result"
    }
   ],
   "source": [
    "[x for x in p.iterdir() if x.is_dir()]"
   ]
  },
  {
   "cell_type": "code",
   "execution_count": 31,
   "metadata": {},
   "outputs": [],
   "source": [
    "# get all MWT folders\n",
    "mwt_folders = glob.glob('/Volumes/COBOLT/MWT*')"
   ]
  },
  {
   "cell_type": "markdown",
   "metadata": {},
   "source": [
    "**Note**: glob [documentation](https://docs.python.org/3/library/glob.html)"
   ]
  },
  {
   "cell_type": "code",
   "execution_count": 35,
   "metadata": {},
   "outputs": [
    {
     "data": {
      "text/plain": [
       "['/Volumes/COBOLT/MWT/20100201X_JC_0s0x0s0s_EE01013/N2_EE0/20100201_131356/0%_EtOH.dat',\n",
       " '/Volumes/COBOLT/MWT/20100201X_JC_0s0x0s0s_EE01013/N2_EE0/20100201_131356/0%_EtOH.png',\n",
       " '/Volumes/COBOLT/MWT/20100201X_JC_0s0x0s0s_EE01013/N2_EE0/20100201_131356/0%_EtOH.summary',\n",
       " '/Volumes/COBOLT/MWT/20100201X_JC_0s0x0s0s_EE01013/N2_EE0/20100201_131356/0%_EtOH.evan.dat',\n",
       " '/Volumes/COBOLT/MWT/20100201X_JC_0s0x0s0s_EE01013/N2_EE0/20100201_131356/0%_EtOH.drunkposture2.dat',\n",
       " '/Volumes/COBOLT/MWT/20100201X_JC_0s0x0s0s_EE01013/N2_EE0/20100201_131356/0%_EtOH_00000k.blobs',\n",
       " '/Volumes/COBOLT/MWT/20100201X_JC_0s0x0s0s_EE01013/N2_EE0/20100201_131356/0%_EtOH_00001k.blobs',\n",
       " '/Volumes/COBOLT/MWT/20100201X_JC_0s0x0s0s_EE01013/N2_EE0/20100201_131356/0%_EtOH_every60sec.trig',\n",
       " '/Volumes/COBOLT/MWT/20100201X_JC_0s0x0s0s_EE01013/N2_EE0/20100201_131356/0%_EtOH_s1.trig',\n",
       " '/Volumes/COBOLT/MWT/20100201X_JC_0s0x0s0s_EE01013/N2_EE0/20100201_131356/0%_EtOH_s5.trig',\n",
       " '/Volumes/COBOLT/MWT/20100201X_JC_0s0x0s0s_EE01013/N2_EE0/20100201_131356/0%_EtOH_total.trig',\n",
       " '/Volumes/COBOLT/MWT/20100201X_JC_0s0x0s0s_EE01013/N2_EE10/20100201_132626/10%_EtOH.dat',\n",
       " '/Volumes/COBOLT/MWT/20100201X_JC_0s0x0s0s_EE01013/N2_EE10/20100201_132626/10%_EtOH.png',\n",
       " '/Volumes/COBOLT/MWT/20100201X_JC_0s0x0s0s_EE01013/N2_EE10/20100201_132626/10%_EtOH.summary',\n",
       " '/Volumes/COBOLT/MWT/20100201X_JC_0s0x0s0s_EE01013/N2_EE10/20100201_132626/10%_EtOH.evan.dat',\n",
       " '/Volumes/COBOLT/MWT/20100201X_JC_0s0x0s0s_EE01013/N2_EE10/20100201_132626/10%_EtOH.drunkposture2.dat',\n",
       " '/Volumes/COBOLT/MWT/20100201X_JC_0s0x0s0s_EE01013/N2_EE10/20100201_132626/10%_EtOH_00000k.blobs',\n",
       " '/Volumes/COBOLT/MWT/20100201X_JC_0s0x0s0s_EE01013/N2_EE10/20100201_132626/10%_EtOH_every60sec.trig',\n",
       " '/Volumes/COBOLT/MWT/20100201X_JC_0s0x0s0s_EE01013/N2_EE13/20100201_133819/13%_EtOH.dat',\n",
       " '/Volumes/COBOLT/MWT/20100201X_JC_0s0x0s0s_EE01013/N2_EE13/20100201_133819/13%_EtOH.png',\n",
       " '/Volumes/COBOLT/MWT/20100201X_JC_0s0x0s0s_EE01013/N2_EE13/20100201_133819/13%_EtOH.summary',\n",
       " '/Volumes/COBOLT/MWT/20100201X_JC_0s0x0s0s_EE01013/N2_EE13/20100201_133819/13%_EtOH.evan.dat',\n",
       " '/Volumes/COBOLT/MWT/20100201X_JC_0s0x0s0s_EE01013/N2_EE13/20100201_133819/13%_EtOH.drunkposture2.dat',\n",
       " '/Volumes/COBOLT/MWT/20100201X_JC_0s0x0s0s_EE01013/N2_EE13/20100201_133819/13%_EtOH_00000k.blobs',\n",
       " '/Volumes/COBOLT/MWT/20100201X_JC_0s0x0s0s_EE01013/N2_EE13/20100201_133819/13%_EtOH_00001k.blobs',\n",
       " '/Volumes/COBOLT/MWT/20100201X_JC_0s0x0s0s_EE01013/N2_EE13/20100201_133819/13%_EtOH_every60sec.trig',\n",
       " '/Volumes/COBOLT/MWT/20110906C_SS_10s30x10s10s_incorrectTap/N2/20110906_103005/N2_5x3_f92h20C_10s30x10s10s_C0902da.drunkposture.dat',\n",
       " '/Volumes/COBOLT/MWT/20110906C_SS_10s30x10s10s_incorrectTap/N2/20110906_103005/N2_5x3_f92h20C_10s30x10s10s_C0902da.evan.dat',\n",
       " '/Volumes/COBOLT/MWT/20110906C_SS_10s30x10s10s_incorrectTap/N2/20110906_103005/N2_5x3_f92h20C_10s30x10s10s_C0902da.png',\n",
       " '/Volumes/COBOLT/MWT/20110906C_SS_10s30x10s10s_incorrectTap/N2/20110906_103005/N2_5x3_f92h20C_10s30x10s10s_C0902da.set',\n",
       " '/Volumes/COBOLT/MWT/20110906C_SS_10s30x10s10s_incorrectTap/N2/20110906_103005/N2_5x3_f92h20C_10s30x10s10s_C0902da.shanespark.dat',\n",
       " '/Volumes/COBOLT/MWT/20110906C_SS_10s30x10s10s_incorrectTap/N2/20110906_103005/N2_5x3_f92h20C_10s30x10s10s_C0902da.ssr',\n",
       " '/Volumes/COBOLT/MWT/20110906C_SS_10s30x10s10s_incorrectTap/N2/20110906_103005/N2_5x3_f92h20C_10s30x10s10s_C0902da.summary',\n",
       " '/Volumes/COBOLT/MWT/20110906C_SS_10s30x10s10s_incorrectTap/N2/20110906_103005/N2_5x3_f92h20C_10s30x10s10s_C0902da.swanlake2.dat',\n",
       " '/Volumes/COBOLT/MWT/20110906C_SS_10s30x10s10s_incorrectTap/N2/20110906_103005/N2_5x3_f92h20C_10s30x10s10s_C0902da.drunkposture2.dat',\n",
       " '/Volumes/COBOLT/MWT/20110906C_SS_10s30x10s10s_incorrectTap/N2/20110906_103005/N2_5x3_f92h20C_10s30x10s10s_C0902da.swn',\n",
       " '/Volumes/COBOLT/MWT/20110906C_SS_10s30x10s10s_incorrectTap/N2/20110906_103005/N2_5x3_f92h20C_10s30x10s10s_C0902da.trv',\n",
       " '/Volumes/COBOLT/MWT/20110906C_SS_10s30x10s10s_incorrectTap/N2/20110906_103005/N2_5x3_f92h20C_10s30x10s10s_C0902da_00000k.blobs',\n",
       " '/Volumes/COBOLT/MWT/20110906C_SS_10s30x10s10s_incorrectTap/N2/20110906_103005/N2_5x3_f92h20C_10s30x10s10s_C0902da_00001k.blobs',\n",
       " '/Volumes/COBOLT/MWT/20110906C_SS_10s30x10s10s_incorrectTap/N2/20110906_103005/N2_5x3_f92h20C_10s30x10s10s_C0902da_00002k.blobs',\n",
       " '/Volumes/COBOLT/MWT/20110906C_SS_10s30x10s10s_incorrectTap/N2/20110906_103622/N2_5x3_f92h20C_10s30x10s10s_C0902db.drunkposture.dat',\n",
       " '/Volumes/COBOLT/MWT/20110906C_SS_10s30x10s10s_incorrectTap/N2/20110906_103622/N2_5x3_f92h20C_10s30x10s10s_C0902db.evan.dat',\n",
       " '/Volumes/COBOLT/MWT/20110906C_SS_10s30x10s10s_incorrectTap/N2/20110906_103622/N2_5x3_f92h20C_10s30x10s10s_C0902db.png',\n",
       " '/Volumes/COBOLT/MWT/20110906C_SS_10s30x10s10s_incorrectTap/N2/20110906_103622/N2_5x3_f92h20C_10s30x10s10s_C0902db.set',\n",
       " '/Volumes/COBOLT/MWT/20110906C_SS_10s30x10s10s_incorrectTap/N2/20110906_103622/N2_5x3_f92h20C_10s30x10s10s_C0902db.shanespark.dat',\n",
       " '/Volumes/COBOLT/MWT/20110906C_SS_10s30x10s10s_incorrectTap/N2/20110906_103622/N2_5x3_f92h20C_10s30x10s10s_C0902db.ssr',\n",
       " '/Volumes/COBOLT/MWT/20110906C_SS_10s30x10s10s_incorrectTap/N2/20110906_103622/N2_5x3_f92h20C_10s30x10s10s_C0902db.summary',\n",
       " '/Volumes/COBOLT/MWT/20110906C_SS_10s30x10s10s_incorrectTap/N2/20110906_103622/N2_5x3_f92h20C_10s30x10s10s_C0902db.swanlake2.dat',\n",
       " '/Volumes/COBOLT/MWT/20110906C_SS_10s30x10s10s_incorrectTap/N2/20110906_103622/N2_5x3_f92h20C_10s30x10s10s_C0902db.drunkposture2.dat',\n",
       " '/Volumes/COBOLT/MWT/20110906C_SS_10s30x10s10s_incorrectTap/N2/20110906_103622/N2_5x3_f92h20C_10s30x10s10s_C0902db.swn']"
      ]
     },
     "execution_count": 35,
     "metadata": {},
     "output_type": "execute_result"
    }
   ],
   "source": [
    "allfiles = glob.glob('/Volumes/COBOLT/MWT*/*/*/*/*')\n"
   ]
  },
  {
   "cell_type": "markdown",
   "metadata": {},
   "source": [
    "save this in pickle file: https://www.jessicayung.com/how-to-use-pickle-to-save-and-load-variables-in-python/\n",
    "\n",
    "to load:\n",
    "\n",
    "`with open(filename, ‘rb’) as f:`\n",
    "\n",
    "`var_you_want_to_load_into = pickle.load(f)`"
   ]
  },
  {
   "cell_type": "code",
   "execution_count": 252,
   "metadata": {},
   "outputs": [],
   "source": [
    "path_save = os.path.join(dir_save, 'allfilepaths.pickle')\n",
    "with open(path_save,'wb') as f:\n",
    "    pickle.dump(allfiles,f)"
   ]
  },
  {
   "cell_type": "code",
   "execution_count": 37,
   "metadata": {},
   "outputs": [
    {
     "data": {
      "text/plain": [
       "1318724"
      ]
     },
     "execution_count": 37,
     "metadata": {},
     "output_type": "execute_result"
    }
   ],
   "source": [
    "# take a look at the results I've got\n",
    "len(allfiles)\n",
    "# 1,318,724 files"
   ]
  },
  {
   "cell_type": "markdown",
   "metadata": {},
   "source": [
    "## Create database (seems like a lot of memory - maybe just search it for later)\n",
    "\n",
    "* use `PurePath.parts` to access all parts see doc: https://docs.python.org/3/library/pathlib.html\n",
    "* apply to all paths using `map`. See doc: https://chrisalbon.com/python/basics/applying_functions_to_list_items/\n",
    "    * example:`regimentNamesCapitalized_m = list(map(capitalizer, regimentNames)); regimentNamesCapitalized_m`\n",
    "* glob: https://docs.python.org/3/library/glob.html"
   ]
  },
  {
   "cell_type": "code",
   "execution_count": null,
   "metadata": {},
   "outputs": [],
   "source": [
    "# get paths to .png\n",
    "# test apply all with map\n",
    "path_allfiles_array = np.array(allfiles)\n",
    "# create paths objects\n",
    "path_obj = list(map(PurePath,path_allfiles_array))\n",
    "# get extension \n",
    "file_ext = np.array(list(map(lambda x: x.suffix, path_obj)))\n",
    "# get extension = png\n",
    "path_png = path_allfiles_array[file_ext == '.png']"
   ]
  },
  {
   "cell_type": "code",
   "execution_count": 265,
   "metadata": {},
   "outputs": [
    {
     "name": "stdout",
     "output_type": "stream",
     "text": [
      "8883 png files\n"
     ]
    }
   ],
   "source": [
    "print(f'{len(path_png)} png files') # get how many png"
   ]
  },
  {
   "cell_type": "code",
   "execution_count": 266,
   "metadata": {},
   "outputs": [
    {
     "data": {
      "text/plain": [
       "8883"
      ]
     },
     "execution_count": 266,
     "metadata": {},
     "output_type": "execute_result"
    }
   ],
   "source": [
    "# make sure there aren't any duplicates\n",
    "len(set(path_png))"
   ]
  },
  {
   "cell_type": "code",
   "execution_count": 268,
   "metadata": {},
   "outputs": [],
   "source": [
    "# parse just the png files\n",
    "test_paths = path_png\n",
    "# create paths objects\n",
    "path_obj = list(map(PurePath,test_paths))"
   ]
  },
  {
   "cell_type": "code",
   "execution_count": 277,
   "metadata": {},
   "outputs": [],
   "source": [
    "# get parts\n",
    "path_parts = list(map(lambda x: np.array(x.parts),path_obj))\n",
    "# get length of each parts\n",
    "part_numbers = list(map(lambda x: len(x),path_parts))\n",
    "# check which paths has 8 parts\n",
    "part_number_is_8 = np.array(part_numbers) == 8\n",
    "# convert path parts to numpy array\n",
    "file_parts_nparray = np.array(path_parts)\n",
    "# get only file parts with 8 parts into dataframe\n",
    "df = pd.DataFrame(file_parts_nparray[part_number_is_8], \n",
    "             columns=['remove','volume','drivename','dbname','expname','groupname','mwtname','filename'])\n",
    "# add absolute path\n",
    "test_paths_array = np.array(test_paths)\n",
    "df['path'] = test_paths_array[part_number_is_8]\n",
    "# add file name\n",
    "file_names = list(map(lambda x: x.stem, path_obj))\n",
    "df['fname'] = file_names\n",
    "# add extension name\n",
    "df['ext']  = list(map(lambda x: x.suffix, path_obj))\n",
    "# search for suffixes\n",
    "df['analysis_tag'] = list(map(lambda x: np.setdiff1d(x.suffixes, x.suffix), path_obj))\n",
    "# remove unnecesary\n",
    "df.drop(['remove','volume','drivename'],axis=1,inplace=True)\n"
   ]
  },
  {
   "cell_type": "code",
   "execution_count": 275,
   "metadata": {},
   "outputs": [],
   "source": [
    "# save png file dataframe\n",
    "path_save = os.path.join(dir_save, 'path_png.pickle')\n",
    "with open(path_save,'wb') as f:\n",
    "    pickle.dump(df,f)"
   ]
  },
  {
   "cell_type": "code",
   "execution_count": null,
   "metadata": {},
   "outputs": [],
   "source": [
    "# experimenter\n",
    "# tracker\n",
    "# expdate\n",
    "# preplate\n",
    "# tap\n",
    "# ISI\n",
    "# posttap\n",
    "# exp_description"
   ]
  },
  {
   "cell_type": "code",
   "execution_count": 276,
   "metadata": {},
   "outputs": [],
   "source": [
    "# get only file parts with 8 parts into dataframe\n"
   ]
  },
  {
   "cell_type": "code",
   "execution_count": null,
   "metadata": {},
   "outputs": [],
   "source": []
  }
 ],
 "metadata": {
  "kernelspec": {
   "display_name": "Python 3",
   "language": "python",
   "name": "python3"
  },
  "language_info": {
   "codemirror_mode": {
    "name": "ipython",
    "version": 3
   },
   "file_extension": ".py",
   "mimetype": "text/x-python",
   "name": "python",
   "nbconvert_exporter": "python",
   "pygments_lexer": "ipython3",
   "version": "3.7.7"
  }
 },
 "nbformat": 4,
 "nbformat_minor": 4
}
