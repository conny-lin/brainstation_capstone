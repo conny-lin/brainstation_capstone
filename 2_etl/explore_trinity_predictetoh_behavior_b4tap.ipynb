{
 "cells": [
  {
   "cell_type": "code",
   "execution_count": null,
   "metadata": {},
   "outputs": [],
   "source": [
    "# explore data from \"ETL_trinity_predictetoh_before_tap\"\n",
    "# Conny Lin | June 5, 2020"
   ]
  },
  {
   "cell_type": "code",
   "execution_count": 1,
   "metadata": {},
   "outputs": [],
   "source": [
    "# local variables\n",
    "pCapstone = '/Users/connylin/Dropbox/CA/ED _20200119 Brain Station Data Science Diploma/Capstone/data'\n",
    "csvname = 'trinity_cleaned_N2_etoh_b4tap.csv'\n",
    "pMWTDB = '/Users/connylin/Dropbox/MWT/db/MWTDB.csv'\n"
   ]
  },
  {
   "cell_type": "code",
   "execution_count": 17,
   "metadata": {},
   "outputs": [],
   "source": [
    "# import libraries\n",
    "import pandas as pd\n",
    "import numpy as np\n",
    "import os\n",
    "import seaborn as sns\n",
    "import matplotlib.pyplot as plt\n",
    "import pickle\n"
   ]
  },
  {
   "cell_type": "code",
   "execution_count": 3,
   "metadata": {},
   "outputs": [],
   "source": [
    "# load data\n",
    "pdata = os.path.join(pCapstone, csvname)\n",
    "data = pd.read_csv(pdata, index_col=False)\n",
    "data.drop(columns=['Unnamed: 0'], inplace=True)"
   ]
  },
  {
   "cell_type": "markdown",
   "metadata": {},
   "source": [
    "<font color=red>Note: some wormid are NaN</font>"
   ]
  },
  {
   "cell_type": "code",
   "execution_count": 13,
   "metadata": {},
   "outputs": [
    {
     "name": "stdout",
     "output_type": "stream",
     "text": [
      "<class 'pandas.core.frame.DataFrame'>\n",
      "RangeIndex: 11413375 entries, 0 to 11413374\n",
      "Data columns (total 17 columns):\n",
      " #   Column      Dtype  \n",
      "---  ------      -----  \n",
      " 0   mwtid       int64  \n",
      " 1   etoh        int64  \n",
      " 2   time        float64\n",
      " 3   speed       float64\n",
      " 4   bias        float64\n",
      " 5   tap         float64\n",
      " 6   loc_x       float64\n",
      " 7   loc_y       float64\n",
      " 8   morphwidth  float64\n",
      " 9   midline     float64\n",
      " 10  area        float64\n",
      " 11  angular     float64\n",
      " 12  aspect      float64\n",
      " 13  kink        float64\n",
      " 14  curve       float64\n",
      " 15  crab        float64\n",
      " 16  wormid      float64\n",
      "dtypes: float64(15), int64(2)\n",
      "memory usage: 1.4 GB\n"
     ]
    }
   ],
   "source": [
    "data.info()"
   ]
  },
  {
   "cell_type": "code",
   "execution_count": 12,
   "metadata": {},
   "outputs": [
    {
     "data": {
      "text/html": [
       "<div>\n",
       "<style scoped>\n",
       "    .dataframe tbody tr th:only-of-type {\n",
       "        vertical-align: middle;\n",
       "    }\n",
       "\n",
       "    .dataframe tbody tr th {\n",
       "        vertical-align: top;\n",
       "    }\n",
       "\n",
       "    .dataframe thead th {\n",
       "        text-align: right;\n",
       "    }\n",
       "</style>\n",
       "<table border=\"1\" class=\"dataframe\">\n",
       "  <thead>\n",
       "    <tr style=\"text-align: right;\">\n",
       "      <th></th>\n",
       "      <th>count</th>\n",
       "      <th>mean</th>\n",
       "      <th>std</th>\n",
       "      <th>min</th>\n",
       "      <th>25%</th>\n",
       "      <th>50%</th>\n",
       "      <th>75%</th>\n",
       "      <th>max</th>\n",
       "    </tr>\n",
       "  </thead>\n",
       "  <tbody>\n",
       "    <tr>\n",
       "      <th>mwtid</th>\n",
       "      <td>11413375.0</td>\n",
       "      <td>509.262626</td>\n",
       "      <td>294.521838</td>\n",
       "      <td>17.00000</td>\n",
       "      <td>268.000000</td>\n",
       "      <td>440.000000</td>\n",
       "      <td>804.000000</td>\n",
       "      <td>975.0000</td>\n",
       "    </tr>\n",
       "    <tr>\n",
       "      <th>etoh</th>\n",
       "      <td>11413375.0</td>\n",
       "      <td>0.470422</td>\n",
       "      <td>0.499124</td>\n",
       "      <td>0.00000</td>\n",
       "      <td>0.000000</td>\n",
       "      <td>0.000000</td>\n",
       "      <td>1.000000</td>\n",
       "      <td>1.0000</td>\n",
       "    </tr>\n",
       "    <tr>\n",
       "      <th>time</th>\n",
       "      <td>11413375.0</td>\n",
       "      <td>39.638358</td>\n",
       "      <td>27.999562</td>\n",
       "      <td>1.00000</td>\n",
       "      <td>16.000000</td>\n",
       "      <td>34.000000</td>\n",
       "      <td>61.000000</td>\n",
       "      <td>99.9970</td>\n",
       "    </tr>\n",
       "    <tr>\n",
       "      <th>speed</th>\n",
       "      <td>11413375.0</td>\n",
       "      <td>0.790466</td>\n",
       "      <td>0.370111</td>\n",
       "      <td>0.00000</td>\n",
       "      <td>1.000000</td>\n",
       "      <td>1.000000</td>\n",
       "      <td>1.000000</td>\n",
       "      <td>6.6763</td>\n",
       "    </tr>\n",
       "    <tr>\n",
       "      <th>bias</th>\n",
       "      <td>11413375.0</td>\n",
       "      <td>0.192470</td>\n",
       "      <td>0.418165</td>\n",
       "      <td>-1.00000</td>\n",
       "      <td>0.000000</td>\n",
       "      <td>0.000000</td>\n",
       "      <td>0.000000</td>\n",
       "      <td>1.0000</td>\n",
       "    </tr>\n",
       "    <tr>\n",
       "      <th>tap</th>\n",
       "      <td>11413375.0</td>\n",
       "      <td>0.508230</td>\n",
       "      <td>0.613179</td>\n",
       "      <td>-1.00000</td>\n",
       "      <td>0.000000</td>\n",
       "      <td>1.000000</td>\n",
       "      <td>1.000000</td>\n",
       "      <td>1.0000</td>\n",
       "    </tr>\n",
       "    <tr>\n",
       "      <th>loc_x</th>\n",
       "      <td>11413375.0</td>\n",
       "      <td>5.400049</td>\n",
       "      <td>10.758301</td>\n",
       "      <td>0.00000</td>\n",
       "      <td>0.000000</td>\n",
       "      <td>0.000000</td>\n",
       "      <td>0.000000</td>\n",
       "      <td>46.2351</td>\n",
       "    </tr>\n",
       "    <tr>\n",
       "      <th>loc_y</th>\n",
       "      <td>11413375.0</td>\n",
       "      <td>25.859452</td>\n",
       "      <td>10.803280</td>\n",
       "      <td>0.28330</td>\n",
       "      <td>17.592600</td>\n",
       "      <td>26.022800</td>\n",
       "      <td>34.074100</td>\n",
       "      <td>58.9729</td>\n",
       "    </tr>\n",
       "    <tr>\n",
       "      <th>morphwidth</th>\n",
       "      <td>11413375.0</td>\n",
       "      <td>25.281532</td>\n",
       "      <td>17.009631</td>\n",
       "      <td>0.01330</td>\n",
       "      <td>12.669200</td>\n",
       "      <td>28.090800</td>\n",
       "      <td>38.691500</td>\n",
       "      <td>59.0447</td>\n",
       "    </tr>\n",
       "    <tr>\n",
       "      <th>midline</th>\n",
       "      <td>11413375.0</td>\n",
       "      <td>0.325710</td>\n",
       "      <td>0.377942</td>\n",
       "      <td>0.00960</td>\n",
       "      <td>0.103800</td>\n",
       "      <td>0.124200</td>\n",
       "      <td>0.233500</td>\n",
       "      <td>2.6365</td>\n",
       "    </tr>\n",
       "    <tr>\n",
       "      <th>area</th>\n",
       "      <td>11413375.0</td>\n",
       "      <td>0.845864</td>\n",
       "      <td>0.446609</td>\n",
       "      <td>0.01458</td>\n",
       "      <td>0.586000</td>\n",
       "      <td>1.008700</td>\n",
       "      <td>1.171800</td>\n",
       "      <td>4.9513</td>\n",
       "    </tr>\n",
       "    <tr>\n",
       "      <th>angular</th>\n",
       "      <td>11413375.0</td>\n",
       "      <td>1.513309</td>\n",
       "      <td>5.366693</td>\n",
       "      <td>0.00000</td>\n",
       "      <td>0.127575</td>\n",
       "      <td>0.164754</td>\n",
       "      <td>0.229635</td>\n",
       "      <td>830.4000</td>\n",
       "    </tr>\n",
       "    <tr>\n",
       "      <th>aspect</th>\n",
       "      <td>11413375.0</td>\n",
       "      <td>6.627044</td>\n",
       "      <td>16.000084</td>\n",
       "      <td>0.00000</td>\n",
       "      <td>0.371000</td>\n",
       "      <td>2.400000</td>\n",
       "      <td>7.200000</td>\n",
       "      <td>960.9000</td>\n",
       "    </tr>\n",
       "    <tr>\n",
       "      <th>kink</th>\n",
       "      <td>11413375.0</td>\n",
       "      <td>8.489887</td>\n",
       "      <td>17.951659</td>\n",
       "      <td>0.00000</td>\n",
       "      <td>0.176000</td>\n",
       "      <td>0.270000</td>\n",
       "      <td>0.833000</td>\n",
       "      <td>180.0000</td>\n",
       "    </tr>\n",
       "    <tr>\n",
       "      <th>curve</th>\n",
       "      <td>11413375.0</td>\n",
       "      <td>36.464703</td>\n",
       "      <td>25.455847</td>\n",
       "      <td>0.00000</td>\n",
       "      <td>19.800000</td>\n",
       "      <td>30.400000</td>\n",
       "      <td>45.100000</td>\n",
       "      <td>180.0000</td>\n",
       "    </tr>\n",
       "    <tr>\n",
       "      <th>crab</th>\n",
       "      <td>11413375.0</td>\n",
       "      <td>20.181635</td>\n",
       "      <td>14.737968</td>\n",
       "      <td>0.00000</td>\n",
       "      <td>6.000000</td>\n",
       "      <td>21.600000</td>\n",
       "      <td>30.800000</td>\n",
       "      <td>148.7000</td>\n",
       "    </tr>\n",
       "    <tr>\n",
       "      <th>wormid</th>\n",
       "      <td>2802309.0</td>\n",
       "      <td>367.630927</td>\n",
       "      <td>548.347251</td>\n",
       "      <td>1.00000</td>\n",
       "      <td>33.000000</td>\n",
       "      <td>125.000000</td>\n",
       "      <td>475.000000</td>\n",
       "      <td>4267.0000</td>\n",
       "    </tr>\n",
       "  </tbody>\n",
       "</table>\n",
       "</div>"
      ],
      "text/plain": [
       "                 count        mean         std       min         25%  \\\n",
       "mwtid       11413375.0  509.262626  294.521838  17.00000  268.000000   \n",
       "etoh        11413375.0    0.470422    0.499124   0.00000    0.000000   \n",
       "time        11413375.0   39.638358   27.999562   1.00000   16.000000   \n",
       "speed       11413375.0    0.790466    0.370111   0.00000    1.000000   \n",
       "bias        11413375.0    0.192470    0.418165  -1.00000    0.000000   \n",
       "tap         11413375.0    0.508230    0.613179  -1.00000    0.000000   \n",
       "loc_x       11413375.0    5.400049   10.758301   0.00000    0.000000   \n",
       "loc_y       11413375.0   25.859452   10.803280   0.28330   17.592600   \n",
       "morphwidth  11413375.0   25.281532   17.009631   0.01330   12.669200   \n",
       "midline     11413375.0    0.325710    0.377942   0.00960    0.103800   \n",
       "area        11413375.0    0.845864    0.446609   0.01458    0.586000   \n",
       "angular     11413375.0    1.513309    5.366693   0.00000    0.127575   \n",
       "aspect      11413375.0    6.627044   16.000084   0.00000    0.371000   \n",
       "kink        11413375.0    8.489887   17.951659   0.00000    0.176000   \n",
       "curve       11413375.0   36.464703   25.455847   0.00000   19.800000   \n",
       "crab        11413375.0   20.181635   14.737968   0.00000    6.000000   \n",
       "wormid       2802309.0  367.630927  548.347251   1.00000   33.000000   \n",
       "\n",
       "                   50%         75%        max  \n",
       "mwtid       440.000000  804.000000   975.0000  \n",
       "etoh          0.000000    1.000000     1.0000  \n",
       "time         34.000000   61.000000    99.9970  \n",
       "speed         1.000000    1.000000     6.6763  \n",
       "bias          0.000000    0.000000     1.0000  \n",
       "tap           1.000000    1.000000     1.0000  \n",
       "loc_x         0.000000    0.000000    46.2351  \n",
       "loc_y        26.022800   34.074100    58.9729  \n",
       "morphwidth   28.090800   38.691500    59.0447  \n",
       "midline       0.124200    0.233500     2.6365  \n",
       "area          1.008700    1.171800     4.9513  \n",
       "angular       0.164754    0.229635   830.4000  \n",
       "aspect        2.400000    7.200000   960.9000  \n",
       "kink          0.270000    0.833000   180.0000  \n",
       "curve        30.400000   45.100000   180.0000  \n",
       "crab         21.600000   30.800000   148.7000  \n",
       "wormid      125.000000  475.000000  4267.0000  "
      ]
     },
     "execution_count": 12,
     "metadata": {},
     "output_type": "execute_result"
    }
   ],
   "source": [
    "data.describe().transpose()"
   ]
  },
  {
   "cell_type": "markdown",
   "metadata": {},
   "source": [
    "<font color=green>Drop loc_x, loc_y, wormid</font>"
   ]
  },
  {
   "cell_type": "code",
   "execution_count": 28,
   "metadata": {
    "scrolled": true
   },
   "outputs": [
    {
     "data": {
      "image/png": "[encoded data removed]",
      "text/plain": [
       "<Figure size 432x288 with 1 Axes>"
      ]
     },
     "metadata": {
      "needs_background": "light"
     },
     "output_type": "display_data"
    },
    {
     "data": {
      "image/png": "[encoded data removed]",
      "text/plain": [
       "<Figure size 432x288 with 1 Axes>"
      ]
     },
     "metadata": {
      "needs_background": "light"
     },
     "output_type": "display_data"
    },
    {
     "data": {
      "image/png": "[encoded data removed]",
      "text/plain": [
       "<Figure size 432x288 with 1 Axes>"
      ]
     },
     "metadata": {
      "needs_background": "light"
     },
     "output_type": "display_data"
    },
    {
     "data": {
      "image/png": "[encoded data removed]",
      "text/plain": [
       "<Figure size 432x288 with 1 Axes>"
      ]
     },
     "metadata": {
      "needs_background": "light"
     },
     "output_type": "display_data"
    },
    {
     "data": {
      "image/png": "[encoded data removed]",
      "text/plain": [
       "<Figure size 432x288 with 1 Axes>"
      ]
     },
     "metadata": {
      "needs_background": "light"
     },
     "output_type": "display_data"
    },
    {
     "data": {
      "image/png": "[encoded data removed]",
      "text/plain": [
       "<Figure size 432x288 with 1 Axes>"
      ]
     },
     "metadata": {
      "needs_background": "light"
     },
     "output_type": "display_data"
    },
    {
     "data": {
      "image/png": "[encoded data removed]",
      "text/plain": [
       "<Figure size 432x288 with 1 Axes>"
      ]
     },
     "metadata": {
      "needs_background": "light"
     },
     "output_type": "display_data"
    },
    {
     "data": {
      "image/png": "[encoded data removed]",
      "text/plain": [
       "<Figure size 432x288 with 1 Axes>"
      ]
     },
     "metadata": {
      "needs_background": "light"
     },
     "output_type": "display_data"
    },
    {
     "data": {
      "image/png": "[encoded data removed]",
      "text/plain": [
       "<Figure size 432x288 with 1 Axes>"
      ]
     },
     "metadata": {
      "needs_background": "light"
     },
     "output_type": "display_data"
    },
    {
     "data": {
      "image/png": "[encoded data removed]",
      "text/plain": [
       "<Figure size 432x288 with 1 Axes>"
      ]
     },
     "metadata": {
      "needs_background": "light"
     },
     "output_type": "display_data"
    },
    {
     "data": {
      "image/png": "[encoded data removed]",
      "text/plain": [
       "<Figure size 432x288 with 1 Axes>"
      ]
     },
     "metadata": {
      "needs_background": "light"
     },
     "output_type": "display_data"
    },
    {
     "data": {
      "image/png": "[encoded data removed]",
      "text/plain": [
       "<Figure size 432x288 with 1 Axes>"
      ]
     },
     "metadata": {
      "needs_background": "light"
     },
     "output_type": "display_data"
    }
   ],
   "source": [
    "# plot distribution\n",
    "columns_plot = ['time','speed','bias','tap','morphwidth','midline','area','angular','aspect',\\\n",
    "                'kink','curve','crab']\n",
    "for c in columns_plot:\n",
    "    plt.figure()\n",
    "    plt.hist(data[c])\n",
    "    plt.title(c)\n",
    "    plt.ylabel('count')\n",
    "    plt.xlabel(c)\n",
    "    plt.show()\n",
    "    "
   ]
  },
  {
   "cell_type": "markdown",
   "metadata": {},
   "source": [
    "**Note (for historgram)**\n",
    "* time : worm detect gradually lowers over time\n",
    "* need fine tune graphs/data:\n",
    "    * speed\n",
    "    * morphwidth = 0?\n",
    "    * midline = 0?\n",
    "    * area = 0?\n",
    "    * angular\n",
    "    * aspect\n",
    "    * kink - skewed right\n",
    "    * curve - skewed right\n",
    "    * crab - skewed right\n",
    "* need to put aside (non-continuous)\n",
    "    * bias\n",
    "    * tap - remove worms that have taps\n",
    "    * loc_x, loc_y, wormid"
   ]
  },
  {
   "cell_type": "markdown",
   "metadata": {},
   "source": [
    "## look into 0 entries\n",
    "\n",
    "* morphwidth = 0?\n",
    "* midline = 0?\n",
    "* area = 0?"
   ]
  },
  {
   "cell_type": "markdown",
   "metadata": {},
   "source": [
    "### morphwidth"
   ]
  },
  {
   "cell_type": "code",
   "execution_count": 42,
   "metadata": {},
   "outputs": [
    {
     "name": "stdout",
     "output_type": "stream",
     "text": [
      "# of morphwidth=0: 0\n"
     ]
    },
    {
     "data": {
      "image/png": "[encoded data removed]",
      "text/plain": [
       "<Figure size 432x288 with 1 Axes>"
      ]
     },
     "metadata": {
      "needs_background": "light"
     },
     "output_type": "display_data"
    }
   ],
   "source": [
    "# check morphwidth = 0\n",
    "cname = 'morphwidth'\n",
    "n = sum(data[cname]==0)\n",
    "print(f'# of {cname}=0: {n}')\n",
    "plt.figure()\n",
    "plt.hist(data['morphwidth'], bins=100)\n",
    "plt.title(cname)\n",
    "plt.ylabel('count')\n",
    "plt.xlabel(cname)\n",
    "plt.show()"
   ]
  },
  {
   "cell_type": "code",
   "execution_count": 47,
   "metadata": {},
   "outputs": [
    {
     "name": "stdout",
     "output_type": "stream",
     "text": [
      "2811696 morphwidth<10 24.64%\n"
     ]
    }
   ],
   "source": [
    "cutoff = 10\n",
    "n = sum(data[cname]<cutoff)\n",
    "print(f'{n} {cname}<{cutoff}, {n/data.shape[0]*100:.2f}%')"
   ]
  },
  {
   "cell_type": "code",
   "execution_count": null,
   "metadata": {},
   "outputs": [],
   "source": []
  },
  {
   "cell_type": "code",
   "execution_count": null,
   "metadata": {},
   "outputs": [],
   "source": []
  },
  {
   "cell_type": "code",
   "execution_count": null,
   "metadata": {},
   "outputs": [],
   "source": []
  },
  {
   "cell_type": "code",
   "execution_count": null,
   "metadata": {},
   "outputs": [],
   "source": [
    "# check midline\n",
    "# check area"
   ]
  },
  {
   "cell_type": "markdown",
   "metadata": {},
   "source": [
    "* need fine tune graphs/data:\n",
    "    * angular\n",
    "    * aspect\n",
    "    * speed\n",
    "    * kink - skewed right\n",
    "    * curve - skewed right\n",
    "    * crab - skewed right\n",
    "* time : worm detect gradually lowers over time - Is there a difference between etoh vs no ethanol?\n"
   ]
  },
  {
   "cell_type": "code",
   "execution_count": 34,
   "metadata": {
    "scrolled": true
   },
   "outputs": [
    {
     "data": {
      "image/png": "[encoded data removed]",
      "text/plain": [
       "<Figure size 432x288 with 1 Axes>"
      ]
     },
     "metadata": {
      "needs_background": "light"
     },
     "output_type": "display_data"
    },
    {
     "data": {
      "image/png": "[encoded data removed]",
      "text/plain": [
       "<Figure size 432x288 with 1 Axes>"
      ]
     },
     "metadata": {
      "needs_background": "light"
     },
     "output_type": "display_data"
    },
    {
     "data": {
      "image/png": "[encoded data removed]",
      "text/plain": [
       "<Figure size 432x288 with 1 Axes>"
      ]
     },
     "metadata": {
      "needs_background": "light"
     },
     "output_type": "display_data"
    },
    {
     "data": {
      "image/png": "[encoded data removed]",
      "text/plain": [
       "<Figure size 432x288 with 1 Axes>"
      ]
     },
     "metadata": {
      "needs_background": "light"
     },
     "output_type": "display_data"
    },
    {
     "data": {
      "image/png": "[encoded data removed]",
      "text/plain": [
       "<Figure size 432x288 with 1 Axes>"
      ]
     },
     "metadata": {
      "needs_background": "light"
     },
     "output_type": "display_data"
    },
    {
     "data": {
      "image/png": "[encoded data removed]",
      "text/plain": [
       "<Figure size 432x288 with 1 Axes>"
      ]
     },
     "metadata": {
      "needs_background": "light"
     },
     "output_type": "display_data"
    },
    {
     "data": {
      "image/png": "[encoded data removed]",
      "text/plain": [
       "<Figure size 432x288 with 1 Axes>"
      ]
     },
     "metadata": {
      "needs_background": "light"
     },
     "output_type": "display_data"
    },
    {
     "data": {
      "image/png": "[encoded data removed]",
      "text/plain": [
       "<Figure size 432x288 with 1 Axes>"
      ]
     },
     "metadata": {
      "needs_background": "light"
     },
     "output_type": "display_data"
    },
    {
     "data": {
      "image/png": "[encoded data removed]",
      "text/plain": [
       "<Figure size 432x288 with 1 Axes>"
      ]
     },
     "metadata": {
      "needs_background": "light"
     },
     "output_type": "display_data"
    },
    {
     "data": {
      "image/png": "[encoded data removed]",
      "text/plain": [
       "<Figure size 432x288 with 1 Axes>"
      ]
     },
     "metadata": {
      "needs_background": "light"
     },
     "output_type": "display_data"
    },
    {
     "data": {
      "image/png": "[encoded data removed]",
      "text/plain": [
       "<Figure size 432x288 with 1 Axes>"
      ]
     },
     "metadata": {
      "needs_background": "light"
     },
     "output_type": "display_data"
    },
    {
     "data": {
      "image/png": "[encoded data removed]",
      "text/plain": [
       "<Figure size 432x288 with 1 Axes>"
      ]
     },
     "metadata": {
      "needs_background": "light"
     },
     "output_type": "display_data"
    }
   ],
   "source": [
    "# compare etoh vs wt\n",
    "for c in columns_plot:\n",
    "    plt.figure()\n",
    "    sns.boxplot(x=\"etoh\", y=c, palette=[\"m\", \"g\"],\n",
    "                data=data)\n",
    "    sns.despine(offset=10, trim=True)\n",
    "    plt.title(c)"
   ]
  },
  {
   "cell_type": "markdown",
   "metadata": {},
   "source": [
    "# separate predictors and outcomes"
   ]
  },
  {
   "cell_type": "code",
   "execution_count": 8,
   "metadata": {},
   "outputs": [
    {
     "data": {
      "text/plain": [
       "array([       0,        1,        2, ..., 11413371, 11413372, 11413373])"
      ]
     },
     "execution_count": 8,
     "metadata": {},
     "output_type": "execute_result"
    }
   ],
   "source": [
    "# remove data with tap time\n",
    "# get unique mwtid that has tap before 100s\n",
    "i = data['tap']==1\n",
    "print(sum(i) / data.shape[0])\n"
   ]
  },
  {
   "cell_type": "code",
   "execution_count": 14,
   "metadata": {},
   "outputs": [
    {
     "data": {
      "image/png": "[encoded data removed]",
      "text/plain": [
       "<Figure size 432x288 with 1 Axes>"
      ]
     },
     "metadata": {
      "needs_background": "light"
     },
     "output_type": "display_data"
    }
   ],
   "source": [
    "# see differences\n",
    "plt.figure()\n",
    "sns.boxplot(x=\"etoh\", y=\"morphwidth\", hue=\"tap\", data=data, palette=\"muted\")\n",
    "plt.title('morphwidth')\n",
    "plt.show()"
   ]
  },
  {
   "cell_type": "code",
   "execution_count": 15,
   "metadata": {},
   "outputs": [
    {
     "data": {
      "text/html": [
       "<div>\n",
       "<style scoped>\n",
       "    .dataframe tbody tr th:only-of-type {\n",
       "        vertical-align: middle;\n",
       "    }\n",
       "\n",
       "    .dataframe tbody tr th {\n",
       "        vertical-align: top;\n",
       "    }\n",
       "\n",
       "    .dataframe thead th {\n",
       "        text-align: right;\n",
       "    }\n",
       "</style>\n",
       "<table border=\"1\" class=\"dataframe\">\n",
       "  <thead>\n",
       "    <tr style=\"text-align: right;\">\n",
       "      <th></th>\n",
       "      <th>mwtid</th>\n",
       "      <th>etoh</th>\n",
       "      <th>time</th>\n",
       "      <th>speed</th>\n",
       "      <th>bias</th>\n",
       "      <th>tap</th>\n",
       "      <th>loc_x</th>\n",
       "      <th>loc_y</th>\n",
       "      <th>morphwidth</th>\n",
       "      <th>midline</th>\n",
       "      <th>area</th>\n",
       "      <th>angular</th>\n",
       "      <th>aspect</th>\n",
       "      <th>kink</th>\n",
       "      <th>curve</th>\n",
       "      <th>crab</th>\n",
       "      <th>wormid</th>\n",
       "    </tr>\n",
       "  </thead>\n",
       "  <tbody>\n",
       "    <tr>\n",
       "      <th>0</th>\n",
       "      <td>17</td>\n",
       "      <td>1</td>\n",
       "      <td>1.0</td>\n",
       "      <td>1.0</td>\n",
       "      <td>0.0</td>\n",
       "      <td>1.0</td>\n",
       "      <td>0.0</td>\n",
       "      <td>16.2008</td>\n",
       "      <td>21.3477</td>\n",
       "      <td>0.1037</td>\n",
       "      <td>1.2937</td>\n",
       "      <td>0.164025</td>\n",
       "      <td>4.6</td>\n",
       "      <td>0.122</td>\n",
       "      <td>11.3</td>\n",
       "      <td>11.3</td>\n",
       "      <td>NaN</td>\n",
       "    </tr>\n",
       "    <tr>\n",
       "      <th>1</th>\n",
       "      <td>17</td>\n",
       "      <td>1</td>\n",
       "      <td>1.0</td>\n",
       "      <td>1.0</td>\n",
       "      <td>0.0</td>\n",
       "      <td>1.0</td>\n",
       "      <td>0.0</td>\n",
       "      <td>16.2237</td>\n",
       "      <td>21.3484</td>\n",
       "      <td>0.1041</td>\n",
       "      <td>1.2947</td>\n",
       "      <td>0.167670</td>\n",
       "      <td>4.0</td>\n",
       "      <td>0.124</td>\n",
       "      <td>7.9</td>\n",
       "      <td>11.4</td>\n",
       "      <td>NaN</td>\n",
       "    </tr>\n",
       "    <tr>\n",
       "      <th>2</th>\n",
       "      <td>17</td>\n",
       "      <td>1</td>\n",
       "      <td>1.0</td>\n",
       "      <td>1.0</td>\n",
       "      <td>0.0</td>\n",
       "      <td>1.0</td>\n",
       "      <td>0.0</td>\n",
       "      <td>16.2465</td>\n",
       "      <td>21.3505</td>\n",
       "      <td>0.1034</td>\n",
       "      <td>1.3011</td>\n",
       "      <td>0.166941</td>\n",
       "      <td>2.4</td>\n",
       "      <td>0.106</td>\n",
       "      <td>4.4</td>\n",
       "      <td>12.2</td>\n",
       "      <td>NaN</td>\n",
       "    </tr>\n",
       "    <tr>\n",
       "      <th>3</th>\n",
       "      <td>17</td>\n",
       "      <td>1</td>\n",
       "      <td>1.0</td>\n",
       "      <td>1.0</td>\n",
       "      <td>0.0</td>\n",
       "      <td>1.0</td>\n",
       "      <td>0.0</td>\n",
       "      <td>16.2667</td>\n",
       "      <td>21.3508</td>\n",
       "      <td>0.1038</td>\n",
       "      <td>1.2984</td>\n",
       "      <td>0.165483</td>\n",
       "      <td>1.5</td>\n",
       "      <td>0.106</td>\n",
       "      <td>8.2</td>\n",
       "      <td>14.2</td>\n",
       "      <td>NaN</td>\n",
       "    </tr>\n",
       "    <tr>\n",
       "      <th>4</th>\n",
       "      <td>17</td>\n",
       "      <td>1</td>\n",
       "      <td>1.0</td>\n",
       "      <td>1.0</td>\n",
       "      <td>0.0</td>\n",
       "      <td>1.0</td>\n",
       "      <td>0.0</td>\n",
       "      <td>16.2869</td>\n",
       "      <td>21.3517</td>\n",
       "      <td>0.1029</td>\n",
       "      <td>1.3325</td>\n",
       "      <td>0.164754</td>\n",
       "      <td>1.1</td>\n",
       "      <td>0.106</td>\n",
       "      <td>12.5</td>\n",
       "      <td>14.2</td>\n",
       "      <td>NaN</td>\n",
       "    </tr>\n",
       "    <tr>\n",
       "      <th>...</th>\n",
       "      <td>...</td>\n",
       "      <td>...</td>\n",
       "      <td>...</td>\n",
       "      <td>...</td>\n",
       "      <td>...</td>\n",
       "      <td>...</td>\n",
       "      <td>...</td>\n",
       "      <td>...</td>\n",
       "      <td>...</td>\n",
       "      <td>...</td>\n",
       "      <td>...</td>\n",
       "      <td>...</td>\n",
       "      <td>...</td>\n",
       "      <td>...</td>\n",
       "      <td>...</td>\n",
       "      <td>...</td>\n",
       "      <td>...</td>\n",
       "    </tr>\n",
       "    <tr>\n",
       "      <th>11413370</th>\n",
       "      <td>975</td>\n",
       "      <td>0</td>\n",
       "      <td>98.0</td>\n",
       "      <td>1.0</td>\n",
       "      <td>0.0</td>\n",
       "      <td>1.0</td>\n",
       "      <td>0.0</td>\n",
       "      <td>29.4001</td>\n",
       "      <td>48.7551</td>\n",
       "      <td>0.0932</td>\n",
       "      <td>0.4305</td>\n",
       "      <td>0.054675</td>\n",
       "      <td>2.4</td>\n",
       "      <td>0.260</td>\n",
       "      <td>19.5</td>\n",
       "      <td>8.2</td>\n",
       "      <td>NaN</td>\n",
       "    </tr>\n",
       "    <tr>\n",
       "      <th>11413371</th>\n",
       "      <td>975</td>\n",
       "      <td>0</td>\n",
       "      <td>98.0</td>\n",
       "      <td>1.0</td>\n",
       "      <td>0.0</td>\n",
       "      <td>1.0</td>\n",
       "      <td>0.0</td>\n",
       "      <td>29.4002</td>\n",
       "      <td>48.7621</td>\n",
       "      <td>0.0917</td>\n",
       "      <td>0.4401</td>\n",
       "      <td>0.051759</td>\n",
       "      <td>1.2</td>\n",
       "      <td>0.135</td>\n",
       "      <td>4.7</td>\n",
       "      <td>3.8</td>\n",
       "      <td>NaN</td>\n",
       "    </tr>\n",
       "    <tr>\n",
       "      <th>11413372</th>\n",
       "      <td>975</td>\n",
       "      <td>0</td>\n",
       "      <td>98.0</td>\n",
       "      <td>1.0</td>\n",
       "      <td>0.0</td>\n",
       "      <td>1.0</td>\n",
       "      <td>0.0</td>\n",
       "      <td>29.3963</td>\n",
       "      <td>48.7737</td>\n",
       "      <td>0.0866</td>\n",
       "      <td>0.4179</td>\n",
       "      <td>0.046656</td>\n",
       "      <td>5.9</td>\n",
       "      <td>0.164</td>\n",
       "      <td>19.0</td>\n",
       "      <td>7.1</td>\n",
       "      <td>NaN</td>\n",
       "    </tr>\n",
       "    <tr>\n",
       "      <th>11413373</th>\n",
       "      <td>975</td>\n",
       "      <td>0</td>\n",
       "      <td>98.0</td>\n",
       "      <td>1.0</td>\n",
       "      <td>0.0</td>\n",
       "      <td>1.0</td>\n",
       "      <td>0.0</td>\n",
       "      <td>29.3928</td>\n",
       "      <td>48.7798</td>\n",
       "      <td>0.0890</td>\n",
       "      <td>0.3925</td>\n",
       "      <td>0.045927</td>\n",
       "      <td>8.7</td>\n",
       "      <td>0.206</td>\n",
       "      <td>7.4</td>\n",
       "      <td>2.8</td>\n",
       "      <td>NaN</td>\n",
       "    </tr>\n",
       "    <tr>\n",
       "      <th>11413374</th>\n",
       "      <td>975</td>\n",
       "      <td>0</td>\n",
       "      <td>98.0</td>\n",
       "      <td>1.0</td>\n",
       "      <td>0.0</td>\n",
       "      <td>0.0</td>\n",
       "      <td>0.0</td>\n",
       "      <td>29.3905</td>\n",
       "      <td>48.7848</td>\n",
       "      <td>0.0854</td>\n",
       "      <td>0.3909</td>\n",
       "      <td>0.044469</td>\n",
       "      <td>9.9</td>\n",
       "      <td>0.235</td>\n",
       "      <td>22.2</td>\n",
       "      <td>6.3</td>\n",
       "      <td>NaN</td>\n",
       "    </tr>\n",
       "  </tbody>\n",
       "</table>\n",
       "<p>11413375 rows × 17 columns</p>\n",
       "</div>"
      ],
      "text/plain": [
       "          mwtid  etoh  time  speed  bias  tap  loc_x    loc_y  morphwidth  \\\n",
       "0            17     1   1.0    1.0   0.0  1.0    0.0  16.2008     21.3477   \n",
       "1            17     1   1.0    1.0   0.0  1.0    0.0  16.2237     21.3484   \n",
       "2            17     1   1.0    1.0   0.0  1.0    0.0  16.2465     21.3505   \n",
       "3            17     1   1.0    1.0   0.0  1.0    0.0  16.2667     21.3508   \n",
       "4            17     1   1.0    1.0   0.0  1.0    0.0  16.2869     21.3517   \n",
       "...         ...   ...   ...    ...   ...  ...    ...      ...         ...   \n",
       "11413370    975     0  98.0    1.0   0.0  1.0    0.0  29.4001     48.7551   \n",
       "11413371    975     0  98.0    1.0   0.0  1.0    0.0  29.4002     48.7621   \n",
       "11413372    975     0  98.0    1.0   0.0  1.0    0.0  29.3963     48.7737   \n",
       "11413373    975     0  98.0    1.0   0.0  1.0    0.0  29.3928     48.7798   \n",
       "11413374    975     0  98.0    1.0   0.0  0.0    0.0  29.3905     48.7848   \n",
       "\n",
       "          midline    area   angular  aspect   kink  curve  crab  wormid  \n",
       "0          0.1037  1.2937  0.164025     4.6  0.122   11.3  11.3     NaN  \n",
       "1          0.1041  1.2947  0.167670     4.0  0.124    7.9  11.4     NaN  \n",
       "2          0.1034  1.3011  0.166941     2.4  0.106    4.4  12.2     NaN  \n",
       "3          0.1038  1.2984  0.165483     1.5  0.106    8.2  14.2     NaN  \n",
       "4          0.1029  1.3325  0.164754     1.1  0.106   12.5  14.2     NaN  \n",
       "...           ...     ...       ...     ...    ...    ...   ...     ...  \n",
       "11413370   0.0932  0.4305  0.054675     2.4  0.260   19.5   8.2     NaN  \n",
       "11413371   0.0917  0.4401  0.051759     1.2  0.135    4.7   3.8     NaN  \n",
       "11413372   0.0866  0.4179  0.046656     5.9  0.164   19.0   7.1     NaN  \n",
       "11413373   0.0890  0.3925  0.045927     8.7  0.206    7.4   2.8     NaN  \n",
       "11413374   0.0854  0.3909  0.044469     9.9  0.235   22.2   6.3     NaN  \n",
       "\n",
       "[11413375 rows x 17 columns]"
      ]
     },
     "execution_count": 15,
     "metadata": {},
     "output_type": "execute_result"
    }
   ],
   "source": [
    "data"
   ]
  },
  {
   "cell_type": "code",
   "execution_count": 19,
   "metadata": {},
   "outputs": [
    {
     "data": {
      "text/html": [
       "<div>\n",
       "<style scoped>\n",
       "    .dataframe tbody tr th:only-of-type {\n",
       "        vertical-align: middle;\n",
       "    }\n",
       "\n",
       "    .dataframe tbody tr th {\n",
       "        vertical-align: top;\n",
       "    }\n",
       "\n",
       "    .dataframe thead th {\n",
       "        text-align: right;\n",
       "    }\n",
       "</style>\n",
       "<table border=\"1\" class=\"dataframe\">\n",
       "  <thead>\n",
       "    <tr style=\"text-align: right;\">\n",
       "      <th></th>\n",
       "      <th>call</th>\n",
       "      <th>name</th>\n",
       "    </tr>\n",
       "  </thead>\n",
       "  <tbody>\n",
       "    <tr>\n",
       "      <th>0</th>\n",
       "      <td>t</td>\n",
       "      <td>time</td>\n",
       "    </tr>\n",
       "    <tr>\n",
       "      <th>1</th>\n",
       "      <td>n</td>\n",
       "      <td>number</td>\n",
       "    </tr>\n",
       "    <tr>\n",
       "      <th>2</th>\n",
       "      <td>N</td>\n",
       "      <td>goodnumber</td>\n",
       "    </tr>\n",
       "    <tr>\n",
       "      <th>3</th>\n",
       "      <td>s</td>\n",
       "      <td>speed</td>\n",
       "    </tr>\n",
       "    <tr>\n",
       "      <th>4</th>\n",
       "      <td>s</td>\n",
       "      <td>speed_std</td>\n",
       "    </tr>\n",
       "    <tr>\n",
       "      <th>5</th>\n",
       "      <td>b</td>\n",
       "      <td>bias</td>\n",
       "    </tr>\n",
       "    <tr>\n",
       "      <th>6</th>\n",
       "      <td>1</td>\n",
       "      <td>tap</td>\n",
       "    </tr>\n",
       "    <tr>\n",
       "      <th>7</th>\n",
       "      <td>2</td>\n",
       "      <td>puff</td>\n",
       "    </tr>\n",
       "    <tr>\n",
       "      <th>8</th>\n",
       "      <td>x</td>\n",
       "      <td>loc_x</td>\n",
       "    </tr>\n",
       "    <tr>\n",
       "      <th>9</th>\n",
       "      <td>y</td>\n",
       "      <td>loc_y</td>\n",
       "    </tr>\n",
       "    <tr>\n",
       "      <th>10</th>\n",
       "      <td>M</td>\n",
       "      <td>morphwidth</td>\n",
       "    </tr>\n",
       "    <tr>\n",
       "      <th>11</th>\n",
       "      <td>m</td>\n",
       "      <td>midline</td>\n",
       "    </tr>\n",
       "    <tr>\n",
       "      <th>12</th>\n",
       "      <td>e</td>\n",
       "      <td>area</td>\n",
       "    </tr>\n",
       "    <tr>\n",
       "      <th>13</th>\n",
       "      <td>S</td>\n",
       "      <td>angular</td>\n",
       "    </tr>\n",
       "    <tr>\n",
       "      <th>14</th>\n",
       "      <td>a</td>\n",
       "      <td>aspect</td>\n",
       "    </tr>\n",
       "    <tr>\n",
       "      <th>15</th>\n",
       "      <td>k</td>\n",
       "      <td>kink</td>\n",
       "    </tr>\n",
       "    <tr>\n",
       "      <th>16</th>\n",
       "      <td>c</td>\n",
       "      <td>curve</td>\n",
       "    </tr>\n",
       "    <tr>\n",
       "      <th>17</th>\n",
       "      <td>r</td>\n",
       "      <td>crab</td>\n",
       "    </tr>\n",
       "  </tbody>\n",
       "</table>\n",
       "</div>"
      ],
      "text/plain": [
       "   call        name\n",
       "0     t        time\n",
       "1     n      number\n",
       "2     N  goodnumber\n",
       "3     s       speed\n",
       "4     s   speed_std\n",
       "5     b        bias\n",
       "6     1         tap\n",
       "7     2        puff\n",
       "8     x       loc_x\n",
       "9     y       loc_y\n",
       "10    M  morphwidth\n",
       "11    m     midline\n",
       "12    e        area\n",
       "13    S     angular\n",
       "14    a      aspect\n",
       "15    k        kink\n",
       "16    c       curve\n",
       "17    r        crab"
      ]
     },
     "execution_count": 19,
     "metadata": {},
     "output_type": "execute_result"
    }
   ],
   "source": [
    "pickle.load(open(os.path.join(pCapstone, 'legend_trinity_worm.pickle'),'rb'))"
   ]
  },
  {
   "cell_type": "code",
   "execution_count": null,
   "metadata": {},
   "outputs": [],
   "source": []
  },
  {
   "cell_type": "code",
   "execution_count": null,
   "metadata": {},
   "outputs": [],
   "source": []
  },
  {
   "cell_type": "code",
   "execution_count": null,
   "metadata": {},
   "outputs": [],
   "source": []
  },
  {
   "cell_type": "code",
   "execution_count": null,
   "metadata": {},
   "outputs": [],
   "source": [
    "* need to put aside (non-continuous)\n",
    "    * bias\n",
    "    * loc_x, loc_y, wormid"
   ]
  },
  {
   "cell_type": "code",
   "execution_count": 49,
   "metadata": {},
   "outputs": [],
   "source": [
    "# put aside these\n",
    "column_stashaway = ['bias','tap','loc_x','loc_y','wormid', 'mwtid']\n",
    "data_others = data[column_stashaway].copy()\n",
    "data.drop(columns=column_stashaway, inplace=True)"
   ]
  },
  {
   "cell_type": "code",
   "execution_count": 51,
   "metadata": {},
   "outputs": [],
   "source": [
    "column_y = ['etoh']\n",
    "y_df = data[column_y].copy()\n",
    "data.drop(columns=column_y, inplace=True)"
   ]
  },
  {
   "cell_type": "markdown",
   "metadata": {},
   "source": [
    "# use machine learning to see feature selection"
   ]
  },
  {
   "cell_type": "code",
   "execution_count": 53,
   "metadata": {},
   "outputs": [],
   "source": [
    "from sklearn.feature_selection import VarianceThreshold\n",
    "# Instantiate the VarianceThresholder \n",
    "my_vt = VarianceThreshold(threshold=10)\n",
    "# Fit to the data and calculate the variances per column\n",
    "my_vt.fit(data)\n",
    "# Extract the variances per column\n",
    "column_variances = my_vt.variances_.round(2)"
   ]
  },
  {
   "cell_type": "code",
   "execution_count": 54,
   "metadata": {},
   "outputs": [
    {
     "data": {
      "image/png": "[encoded data removed]",
      "text/plain": [
       "<Figure size 432x288 with 1 Axes>"
      ]
     },
     "metadata": {
      "needs_background": "light"
     },
     "output_type": "display_data"
    }
   ],
   "source": [
    "# Plot with the threshold\n",
    "plt.figure()\n",
    "plt.barh(np.flip(data.columns), np.flip(column_variances))\n",
    "plt.xlabel('Variance')\n",
    "plt.ylabel('Feature')\n",
    "plt.axvline(10, color='black', linestyle='--')\n",
    "plt.show()"
   ]
  },
  {
   "cell_type": "code",
   "execution_count": null,
   "metadata": {},
   "outputs": [],
   "source": []
  }
 ],
 "metadata": {
  "kernelspec": {
   "display_name": "Python 3",
   "language": "python",
   "name": "python3"
  },
  "language_info": {
   "codemirror_mode": {
    "name": "ipython",
    "version": 3
   },
   "file_extension": ".py",
   "mimetype": "text/x-python",
   "name": "python",
   "nbconvert_exporter": "python",
   "pygments_lexer": "ipython3",
   "version": "3.7.7"
  }
 },
 "nbformat": 4,
 "nbformat_minor": 4
}
