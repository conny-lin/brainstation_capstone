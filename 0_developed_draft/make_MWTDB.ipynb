{
 "cells": [
  {
   "cell_type": "code",
   "execution_count": 1,
   "metadata": {},
   "outputs": [],
   "source": [
    "# make MWTDB\n",
    "# Conny Lin | June 5, 2020"
   ]
  },
  {
   "cell_type": "code",
   "execution_count": 2,
   "metadata": {},
   "outputs": [
    {
     "name": "stdout",
     "output_type": "stream",
     "text": [
      "Searching for MWT folders in dir: /Volumes/COBOLT\n",
      "\n",
      "\tThis will take a while...\n",
      "\t\tdone\n",
      "\t\t7294 MWT folders found\n",
      "load existing MWTDB.csv\n",
      "7981 MWT files found in MWTDB.csv\n",
      "nothing new to update\n"
     ]
    },
    {
     "ename": "UnboundLocalError",
     "evalue": "local variable 'MWTDB_append' referenced before assignment",
     "output_type": "error",
     "traceback": [
      "\u001b[0;31m---------------------------------------------------------------------------\u001b[0m",
      "\u001b[0;31mUnboundLocalError\u001b[0m                         Traceback (most recent call last)",
      "\u001b[0;32m<ipython-input-2-8e24cc978dd6>\u001b[0m in \u001b[0;36m<module>\u001b[0;34m\u001b[0m\n\u001b[1;32m     22\u001b[0m \u001b[0;34m\u001b[0m\u001b[0m\n\u001b[1;32m     23\u001b[0m \u001b[0;31m# test function\u001b[0m\u001b[0;34m\u001b[0m\u001b[0;34m\u001b[0m\u001b[0;34m\u001b[0m\u001b[0m\n\u001b[0;32m---> 24\u001b[0;31m \u001b[0mMWTDB\u001b[0m \u001b[0;34m=\u001b[0m \u001b[0mbs\u001b[0m\u001b[0;34m.\u001b[0m\u001b[0mupdateMWTDB\u001b[0m\u001b[0;34m(\u001b[0m\u001b[0mpath_dbcsv\u001b[0m\u001b[0;34m,\u001b[0m \u001b[0mpath_db\u001b[0m\u001b[0;34m,\u001b[0m \u001b[0msearch_param\u001b[0m\u001b[0;34m,\u001b[0m \u001b[0maddfullpath\u001b[0m\u001b[0;34m)\u001b[0m\u001b[0;34m\u001b[0m\u001b[0;34m\u001b[0m\u001b[0m\n\u001b[0m\u001b[1;32m     25\u001b[0m \u001b[0;32massert\u001b[0m \u001b[0;32mFalse\u001b[0m\u001b[0;34m,\u001b[0m \u001b[0;34m'stop'\u001b[0m\u001b[0;34m\u001b[0m\u001b[0;34m\u001b[0m\u001b[0m\n",
      "\u001b[0;32m~/Dropbox/CA/ED _20200119 Brain Station Data Science Diploma/Capstone/brainstation_capstone/0_lib/BrainStationLib.py\u001b[0m in \u001b[0;36mupdateMWTDB\u001b[0;34m(path_dbcsv, path_db, search_param, addfullpath)\u001b[0m\n\u001b[1;32m    181\u001b[0m     \u001b[0;32melse\u001b[0m\u001b[0;34m:\u001b[0m\u001b[0;34m\u001b[0m\u001b[0;34m\u001b[0m\u001b[0m\n\u001b[1;32m    182\u001b[0m         \u001b[0mprint\u001b[0m\u001b[0;34m(\u001b[0m\u001b[0;34m'nothing new to update'\u001b[0m\u001b[0;34m)\u001b[0m\u001b[0;34m\u001b[0m\u001b[0;34m\u001b[0m\u001b[0m\n\u001b[0;32m--> 183\u001b[0;31m     \u001b[0;32mreturn\u001b[0m \u001b[0mMWTDB_append\u001b[0m\u001b[0;34m\u001b[0m\u001b[0;34m\u001b[0m\u001b[0m\n\u001b[0m\u001b[1;32m    184\u001b[0m \u001b[0;34m\u001b[0m\u001b[0m\n\u001b[1;32m    185\u001b[0m \u001b[0;34m\u001b[0m\u001b[0m\n",
      "\u001b[0;31mUnboundLocalError\u001b[0m: local variable 'MWTDB_append' referenced before assignment"
     ]
    }
   ],
   "source": [
    "import sys\n",
    "import os\n",
    "\n",
    "# import local libraries ---------\n",
    "# list paths\n",
    "dir_function_collection = [\n",
    "    '/Users/connylin/Dropbox/Code/language/python_lib/localpackage/mwt',\n",
    "    '/Users/connylin/Dropbox/CA/ED _20200119 Brain Station Data Science Diploma/Capstone/brainstation_capstone/0_lib'\n",
    "    ]\n",
    "# add paths to function files\n",
    "for p in dir_function_collection:\n",
    "    sys.path.insert(1, p)\n",
    "# import\n",
    "import BrainStationLib as bs\n",
    "\n",
    "# define local variables\n",
    "path_db = '/Volumes/COBOLT'\n",
    "path_dbcsv = os.path.join(path_db, 'MWTDB.csv')\n",
    "addfullpath = False\n",
    "search_param = 'structured' # set to \"unstructured\" to search all dir matches MWT name\n",
    "\n",
    "# test function\n",
    "MWTDB = bs.updateMWTDB(path_dbcsv, path_db, search_param, addfullpath)\n",
    "assert False, 'stop'"
   ]
  }
 ],
 "metadata": {
  "kernelspec": {
   "display_name": "Python 3",
   "language": "python",
   "name": "python3"
  },
  "language_info": {
   "codemirror_mode": {
    "name": "ipython",
    "version": 3
   },
   "file_extension": ".py",
   "mimetype": "text/x-python",
   "name": "python",
   "nbconvert_exporter": "python",
   "pygments_lexer": "ipython3",
   "version": "3.7.7"
  }
 },
 "nbformat": 4,
 "nbformat_minor": 4
}
