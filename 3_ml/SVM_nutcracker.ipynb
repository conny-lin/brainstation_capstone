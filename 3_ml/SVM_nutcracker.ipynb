{
 "cells": [
  {
   "cell_type": "code",
   "execution_count": 1,
   "metadata": {},
   "outputs": [],
   "source": [
    "# SVM for 400mM ethanol\n",
    "# Conny Lin | June 11, 2020"
   ]
  },
  {
   "cell_type": "code",
   "execution_count": 3,
   "metadata": {},
   "outputs": [],
   "source": [
    "import sys, os, pickle\n",
    "import numpy as np\n",
    "import pandas as pd\n",
    "# define local path to the package (can give multiple paths in the list)\n",
    "pylibrary = ['/Users/connylin/Dropbox/Code/proj/brainstation_capstone/']\n",
    "# add package paths to system search paths\n",
    "for path in pylibrary:\n",
    "    if path not in sys.path:\n",
    "        sys.path.insert(1, path)\n",
    "import BrainStationLib"
   ]
  },
  {
   "cell_type": "code",
   "execution_count": 4,
   "metadata": {},
   "outputs": [],
   "source": [
    "# do standard transformation\n",
    "from BrainStationLib.ETL.datatransform import Nutcracker\n",
    "NC = Nutcracker()\n",
    "transform_data = NC.transform_full()"
   ]
  },
  {
   "cell_type": "code",
   "execution_count": 5,
   "metadata": {},
   "outputs": [],
   "source": [
    "# get data out of dictionary\n",
    "X_train = transform_data['X_train']\n",
    "X_test = transform_data['X_test']\n",
    "y_train = transform_data['y_train']\n",
    "y_test = transform_data['y_test']"
   ]
  },
  {
   "cell_type": "code",
   "execution_count": null,
   "metadata": {},
   "outputs": [],
   "source": []
  },
  {
   "cell_type": "code",
   "execution_count": null,
   "metadata": {},
   "outputs": [],
   "source": []
  }
 ],
 "metadata": {
  "kernelspec": {
   "display_name": "Python 3",
   "language": "python",
   "name": "python3"
  },
  "language_info": {
   "codemirror_mode": {
    "name": "ipython",
    "version": 3
   },
   "file_extension": ".py",
   "mimetype": "text/x-python",
   "name": "python",
   "nbconvert_exporter": "python",
   "pygments_lexer": "ipython3",
   "version": "3.7.7"
  }
 },
 "nbformat": 4,
 "nbformat_minor": 4
}
