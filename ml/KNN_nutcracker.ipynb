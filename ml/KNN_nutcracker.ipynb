{
 "cells": [
  {
   "cell_type": "code",
   "execution_count": 6,
   "metadata": {},
   "outputs": [],
   "source": [
    "# KNN for 400mM ethanol\n",
    "# Conny Lin | June 11, 2020\n"
   ]
  },
  {
   "cell_type": "code",
   "execution_count": 7,
   "metadata": {},
   "outputs": [],
   "source": [
    "import sys, os, pickle, socket\n",
    "import numpy as np\n",
    "import pandas as pd\n",
    "import matplotlib.pyplot as plt\n",
    "from sklearn.neighbors import KNeighborsClassifier\n",
    "from sklearn.metrics import accuracy_score"
   ]
  },
  {
   "cell_type": "code",
   "execution_count": 8,
   "metadata": {},
   "outputs": [],
   "source": [
    "# enable running in Angular Gyrus\n",
    "# local variable settings\n",
    "# check which computer this code is running on\n",
    "hostname = socket.gethostname()\n",
    "hostname = hostname.split('.')\n",
    "hostname = hostname[0]\n",
    "\n",
    "# set local path settings based on computer host\n",
    "if hostname == 'PFC':\n",
    "    pylibrary = ['/Users/connylin/Dropbox/Code/proj/brainstation_capstone/']\n",
    "    datapath = '/Users/connylin/Dropbox/CA/ED _20200119 Brain Station Data Science Diploma/Capstone/nutcracker_sample_1Meach.csv'\n",
    "elif hostname == 'Angular-Gyrus':\n",
    "    pylibrary = ['/Users/connylin/Code/proj/brainstation_capstone/']\n",
    "    datapath = '/Users/connylin/Dropbox/CA/ED _20200119 Brain Station Data Science Diploma/Capstone/nutcracker_sample_1Meach.csv'\n",
    "else:\n",
    "    assert False, 'host computer not regonized'"
   ]
  },
  {
   "cell_type": "code",
   "execution_count": 9,
   "metadata": {},
   "outputs": [],
   "source": [
    "# define local path to the package (can give multiple paths in the list)\n",
    "# add package paths to system search paths\n",
    "for path in pylibrary:\n",
    "    if path not in sys.path:\n",
    "        sys.path.insert(1, path)\n",
    "import BrainStationLib"
   ]
  },
  {
   "cell_type": "code",
   "execution_count": 10,
   "metadata": {},
   "outputs": [
    {
     "ename": "ModuleNotFoundError",
     "evalue": "No module named 'BrainStationLib.ETL.datatransform'",
     "output_type": "error",
     "traceback": [
      "\u001b[0;31m---------------------------------------------------------------------------\u001b[0m",
      "\u001b[0;31mModuleNotFoundError\u001b[0m                       Traceback (most recent call last)",
      "\u001b[0;32m<ipython-input-10-5593bdee4f27>\u001b[0m in \u001b[0;36m<module>\u001b[0;34m\u001b[0m\n\u001b[1;32m      1\u001b[0m \u001b[0;31m# do standard transformation\u001b[0m\u001b[0;34m\u001b[0m\u001b[0;34m\u001b[0m\u001b[0;34m\u001b[0m\u001b[0m\n\u001b[0;32m----> 2\u001b[0;31m \u001b[0;32mfrom\u001b[0m \u001b[0mBrainStationLib\u001b[0m\u001b[0;34m.\u001b[0m\u001b[0mETL\u001b[0m\u001b[0;34m.\u001b[0m\u001b[0mdatatransform\u001b[0m \u001b[0;32mimport\u001b[0m \u001b[0mNutcracker\u001b[0m\u001b[0;34m\u001b[0m\u001b[0;34m\u001b[0m\u001b[0m\n\u001b[0m\u001b[1;32m      3\u001b[0m \u001b[0;34m\u001b[0m\u001b[0m\n\u001b[1;32m      4\u001b[0m \u001b[0mNC\u001b[0m \u001b[0;34m=\u001b[0m \u001b[0mNutcracker\u001b[0m\u001b[0;34m(\u001b[0m\u001b[0;34m)\u001b[0m \u001b[0;31m# same path link between two computers. should be fine without\u001b[0m\u001b[0;34m\u001b[0m\u001b[0;34m\u001b[0m\u001b[0m\n\u001b[1;32m      5\u001b[0m \u001b[0mtransform_data\u001b[0m \u001b[0;34m=\u001b[0m \u001b[0mNC\u001b[0m\u001b[0;34m.\u001b[0m\u001b[0mtransform_full\u001b[0m\u001b[0;34m(\u001b[0m\u001b[0;34m)\u001b[0m\u001b[0;34m\u001b[0m\u001b[0;34m\u001b[0m\u001b[0m\n",
      "\u001b[0;31mModuleNotFoundError\u001b[0m: No module named 'BrainStationLib.ETL.datatransform'"
     ]
    }
   ],
   "source": [
    "# do standard transformation\n",
    "from BrainStationLib.ETL.datatransform import Nutcracker\n",
    "\n",
    "NC = Nutcracker() # same path link between two computers. should be fine without\n",
    "transform_data = NC.transform_full()"
   ]
  },
  {
   "cell_type": "code",
   "execution_count": null,
   "metadata": {},
   "outputs": [],
   "source": [
    "# get data out of dictionary\n",
    "X_train = transform_data['X_train']\n",
    "X_test = transform_data['X_test']\n",
    "y_train = transform_data['y_train']\n",
    "y_test = transform_data['y_test']"
   ]
  },
  {
   "cell_type": "code",
   "execution_count": null,
   "metadata": {},
   "outputs": [],
   "source": [
    "# instantiate and fit the KNN model. Use n_neighbors=3 to demostrate the process\n",
    "\n",
    "\n",
    "KNN_model = KNeighborsClassifier(n_neighbors=3)\n",
    "KNN_model.fit(X_train, y_train)\n",
    "# Score the model on the test set\n",
    "test_predictions = KNN_model.predict(X_test)\n",
    "test_accuracy = accuracy_score(test_predictions, y_test)\n",
    "print(f\"Test set accuracy: {test_accuracy}\")"
   ]
  },
  {
   "cell_type": "code",
   "execution_count": null,
   "metadata": {},
   "outputs": [],
   "source": [
    "train_predictions = KNN_model.predict(X_train)\n",
    "train_accuracy = accuracy_score(train_predictions, y_train)\n",
    "print(f\"Train set accuracy: {train_accuracy}\")"
   ]
  },
  {
   "cell_type": "code",
   "execution_count": null,
   "metadata": {},
   "outputs": [],
   "source": [
    "# rough tune\n",
    "def KNN_tune(X_train, X_test, y_train, y_test, n_neighbors_list):\n",
    "    \n",
    "    train_scores = []\n",
    "    test_scores = []\n",
    "    for n in n_neighbors_list:\n",
    "        print(f'running n_neighbors_list = {n}', end='\\r')\n",
    "        KNN_model = KNeighborsClassifier(n_neighbors=n)\n",
    "        KNN_model.fit(X_train, y_train)\n",
    "        # Score the model on the test set\n",
    "        test_scores.append(accuracy_score(KNN_model.predict(X_test), y_test))\n",
    "        train_scores.append(accuracy_score(KNN_model.predict(X_train), y_train))\n",
    "    return test_scores, train_scores"
   ]
  },
  {
   "cell_type": "code",
   "execution_count": null,
   "metadata": {},
   "outputs": [],
   "source": [
    "n_neighbors_list = range(3, 10)\n",
    "test_scores, train_scores = KNN_tune(X_train, X_test, y_train, y_test, n_neighbors_list)"
   ]
  },
  {
   "cell_type": "code",
   "execution_count": null,
   "metadata": {},
   "outputs": [],
   "source": [
    "# plot\n",
    "plt.figure()\n",
    "plt.plot(n_neighbors_list, train_scores, color='black')\n",
    "plt.plot(n_neighbors_list, test_scores, color='red')\n",
    "plt.legend()\n",
    "plt.xlabel('n neighnors')\n",
    "plt.ylabel('accuracy score')\n",
    "plt.show()"
   ]
  },
  {
   "cell_type": "code",
   "execution_count": null,
   "metadata": {},
   "outputs": [],
   "source": []
  }
 ],
 "metadata": {
  "kernelspec": {
   "display_name": "Python 3",
   "language": "python",
   "name": "python3"
  },
  "language_info": {
   "codemirror_mode": {
    "name": "ipython",
    "version": 3
   },
   "file_extension": ".py",
   "mimetype": "text/x-python",
   "name": "python",
   "nbconvert_exporter": "python",
   "pygments_lexer": "ipython3",
   "version": "3.6.10"
  }
 },
 "nbformat": 4,
 "nbformat_minor": 4
}
