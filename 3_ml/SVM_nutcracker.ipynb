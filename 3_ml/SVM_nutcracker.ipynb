{
 "cells": [
  {
   "cell_type": "code",
   "execution_count": 1,
   "metadata": {},
   "outputs": [],
   "source": [
    "# SVM for 400mM ethanol\n",
    "# Conny Lin | June 11, 2020"
   ]
  },
  {
   "cell_type": "code",
   "execution_count": 2,
   "metadata": {},
   "outputs": [],
   "source": [
    "# computer dependent local variable settings \n",
    "import socket, os\n",
    "# check which computer this code is running on\n",
    "hostname = socket.gethostname().split('.')[0]\n",
    "# set local path settings based on computer host\n",
    "if hostname == 'PFC':\n",
    "    pylibrary = ['/Users/connylin/Dropbox/Code/proj/brainstation_capstone/']\n",
    "    pCapstone = '/Users/connylin/Dropbox/CA/ED _20200119 Brain Station Data Science Diploma/Capstone'\n",
    "    datapath = os.path.join(pCapstone,'data','nutcracker_sample_1Meach.csv')\n",
    "elif hostname == 'Angular Gyrus':\n",
    "    pylibrary = ['/Users/connylin/Code/proj/brainstation_capstone/']\n",
    "    pCapstone = '/Users/connylin/Dropbox/CA/ED _20200119 Brain Station Data Science Diploma/Capstone'\n",
    "    datapath = os.path.join(pCapstone,'data','nutcracker_sample_1Meach.csv')\n",
    "else:\n",
    "    assert False, 'host computer not regonized'\n",
    "    \n",
    "# import standard libraries\n",
    "import sys, pickle, socket\n",
    "import numpy as np\n",
    "import pandas as pd\n",
    "import matplotlib.pyplot as plt\n",
    "# load local libraries\n",
    "for path in pylibrary:\n",
    "    if path not in sys.path:\n",
    "        sys.path.insert(1, path)\n",
    "import BrainStationLib\n",
    "from BrainStationLib.ETL.datatransform import Nutcracker\n",
    "\n",
    "# get machine learning input data\n",
    "X_train, X_test, y_train, y_test = Nutcracker(datapath).mldata()"
   ]
  },
  {
   "cell_type": "code",
   "execution_count": null,
   "metadata": {},
   "outputs": [],
   "source": [
    "# ML specific \n",
    "outputfolder = os.path.join(pCapstone,'ml_svm')\n",
    "from sklearn.svm import LinearSVC\n",
    "from sklearn.svm import SVC"
   ]
  },
  {
   "cell_type": "code",
   "execution_count": null,
   "metadata": {},
   "outputs": [
    {
     "name": "stdout",
     "output_type": "stream",
     "text": [
      "running c=1e-05\n",
      "running c=0.0001\n"
     ]
    },
    {
     "name": "stderr",
     "output_type": "stream",
     "text": [
      "/Users/connylin/opt/anaconda3/lib/python3.7/site-packages/sklearn/svm/_base.py:947: ConvergenceWarning: Liblinear failed to converge, increase the number of iterations.\n",
      "  \"the number of iterations.\", ConvergenceWarning)\n"
     ]
    },
    {
     "name": "stdout",
     "output_type": "stream",
     "text": [
      "running c=0.001\n"
     ]
    },
    {
     "name": "stderr",
     "output_type": "stream",
     "text": [
      "/Users/connylin/opt/anaconda3/lib/python3.7/site-packages/sklearn/svm/_base.py:947: ConvergenceWarning: Liblinear failed to converge, increase the number of iterations.\n",
      "  \"the number of iterations.\", ConvergenceWarning)\n"
     ]
    },
    {
     "name": "stdout",
     "output_type": "stream",
     "text": [
      "running c=0.01\n"
     ]
    },
    {
     "name": "stderr",
     "output_type": "stream",
     "text": [
      "/Users/connylin/opt/anaconda3/lib/python3.7/site-packages/sklearn/svm/_base.py:947: ConvergenceWarning: Liblinear failed to converge, increase the number of iterations.\n",
      "  \"the number of iterations.\", ConvergenceWarning)\n"
     ]
    },
    {
     "name": "stdout",
     "output_type": "stream",
     "text": [
      "running c=0.1\n"
     ]
    }
   ],
   "source": [
    "train_scores = []\n",
    "test_scores = []\n",
    "kernel=['linear','rbf'.'poly']\n",
    "max_iter = 1000\n",
    "\n",
    "for i in range(-5,6):\n",
    "    c = 10**i\n",
    "    print(f'running c={c}')\n",
    "    my_svm = LinearSVC(C=c, max_iter=1000)\n",
    "    my_svm.fit(X_train, y_train)\n",
    "\n",
    "    train_scores.append(my_svm.score(X_train, y_train))\n",
    "    test_scores.append(my_svm.score(X_test, y_test))\n",
    "\n",
    "plt.figure()\n",
    "plt.plot(range(-5,6), train_scores, label=\"train scores\")\n",
    "plt.plot(range(-5,6), test_scores, label=\"test scores\")\n",
    "plt.legend()\n",
    "plt.ylim(0.5, 1.1)\n",
    "plt.xlabel(\"Exponent for C\")\n",
    "plt.show()\n",
    "\n",
    "print(np.max(test_scores))"
   ]
  },
  {
   "cell_type": "code",
   "execution_count": null,
   "metadata": {},
   "outputs": [],
   "source": [
    "train_scores\n",
    "\n",
    "\n"
   ]
  },
  {
   "cell_type": "code",
   "execution_count": null,
   "metadata": {},
   "outputs": [],
   "source": []
  }
 ],
 "metadata": {
  "kernelspec": {
   "display_name": "Python 3",
   "language": "python",
   "name": "python3"
  },
  "language_info": {
   "codemirror_mode": {
    "name": "ipython",
    "version": 3
   },
   "file_extension": ".py",
   "mimetype": "text/x-python",
   "name": "python",
   "nbconvert_exporter": "python",
   "pygments_lexer": "ipython3",
   "version": "3.7.7"
  }
 },
 "nbformat": 4,
 "nbformat_minor": 4
}
