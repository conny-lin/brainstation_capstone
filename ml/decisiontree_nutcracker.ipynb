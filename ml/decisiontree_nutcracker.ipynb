{
 "cells": [
  {
   "cell_type": "code",
   "execution_count": null,
   "metadata": {},
   "outputs": [],
   "source": [
    "# Decision Tree\n",
    "# Conny Lin | June 13, 2020"
   ]
  },
  {
   "cell_type": "code",
   "execution_count": 1,
   "metadata": {},
   "outputs": [
    {
     "name": "stdout",
     "output_type": "stream",
     "text": [
      "getting host computer specific paths\n",
      "None\n",
      "None\n"
     ]
    }
   ],
   "source": [
    "# import local libraries using host specific paths\n",
    "import socket, sys\n",
    "hostname = socket.gethostname().split('.')[0]\n",
    "# set local path settings based on computer host\n",
    "if hostname == 'PFC':\n",
    "    pylibrary = '/Users/connylin/Dropbox/Code/proj'\n",
    "elif hostname == 'Angular-Gyrus':\n",
    "    pylibrary = '/Users/connylin/Code/proj'\n",
    "else:\n",
    "    assert False, 'host computer not regonized'\n",
    "# load local libraries\n",
    "if pylibrary not in sys.path:\n",
    "    sys.path.insert(1, pylibrary)\n",
    "# import brainstation_capstone\n",
    "# import other standard paths and local variables\n",
    "from brainstation_capstone.system import host_paths\n",
    "localpaths = host_paths.get(hostname)\n",
    "datapath = localpaths['datapath']\n",
    "\n",
    "# import standard libraries\n",
    "import time\n",
    "import numpy as np\n",
    "import pandas as pd\n",
    "import matplotlib.pyplot as plt\n",
    "\n",
    "# get standard machine learning input data\n",
    "from brainstation_capstone.etl.datatransform import Nutcracker\n",
    "X_train, X_test, y_train, y_test = Nutcracker(datapath).mldata(feature_reduction='None')"
   ]
  },
  {
   "cell_type": "markdown",
   "metadata": {},
   "source": [
    "https://scikit-learn.org/stable/modules/generated/sklearn.tree.DecisionTreeClassifier.html"
   ]
  },
  {
   "cell_type": "code",
   "execution_count": 6,
   "metadata": {},
   "outputs": [],
   "source": [
    "from sklearn.model_selection import cross_val_score\n",
    "from sklearn.tree import DecisionTreeClassifier\n",
    "# test set up\n",
    "n_max_depth = 10\n",
    "# Instantiate the model & fit it to our data\n",
    "MLmodel = DecisionTreeClassifier(max_depth=n_max_depth)\n",
    "MLmodel.fit(X_train, y_train)\n",
    "# Score the model on the test set\n",
    "train_score = MLmodel.score(X_train,y_train)\n",
    "test_score = MLmodel.score(X_test,y_test)"
   ]
  },
  {
   "cell_type": "code",
   "execution_count": 7,
   "metadata": {},
   "outputs": [
    {
     "name": "stdout",
     "output_type": "stream",
     "text": [
      "The TRAIN classification accuracy is:  0.87067\n",
      "The TEST classification accuracy is:  0.86579\n"
     ]
    }
   ],
   "source": [
    "print(f\"The TRAIN classification accuracy is:  {train_score:.5f}\")\n",
    "print(f\"The TEST classification accuracy is:  {test_score:.5f}\")"
   ]
  },
  {
   "cell_type": "code",
   "execution_count": 9,
   "metadata": {},
   "outputs": [
    {
     "data": {
      "image/png": "[encoded data removed]",
      "text/plain": [
       "<Figure size 432x288 with 1 Axes>"
      ]
     },
     "metadata": {
      "needs_background": "light"
     },
     "output_type": "display_data"
    }
   ],
   "source": [
    "random_state = 318\n",
    "# try some depths values\n",
    "from sklearn.tree import DecisionTreeClassifier\n",
    "from sklearn.model_selection import cross_val_score\n",
    "\n",
    "# Decision Tree -  data\n",
    "\n",
    "train_accs = []\n",
    "test_accs = []\n",
    "depth_values = list(range(2,15))\n",
    "\n",
    "# Loop over different max_depths\n",
    "for d in depth_values:\n",
    "    # Instantiate & fit\n",
    "    my_dt = DecisionTreeClassifier(max_depth=d, random_state=random_state)\n",
    "    my_dt.fit(X_train, y_train)\n",
    "    \n",
    "    # Evaluate on train & test data\n",
    "    train_accs.append( my_dt.score(X_train, y_train) )\n",
    "    test_accs.append( my_dt.score(X_test, y_test) )\n",
    "    \n",
    "    \n",
    "# Plot the results\n",
    "plt.figure()\n",
    "plt.plot(depth_values, train_accs, label='train')\n",
    "plt.plot(depth_values, test_accs, label='test')\n",
    "plt.legend()\n",
    "plt.xlabel('max depth')\n",
    "plt.ylabel('accuracy')\n",
    "plt.title('DecisionTree Accuracy')\n",
    "plt.show()"
   ]
  },
  {
   "cell_type": "markdown",
   "metadata": {},
   "source": [
    "max depth over 6-8 starts to overtrain."
   ]
  },
  {
   "cell_type": "code",
   "execution_count": 11,
   "metadata": {},
   "outputs": [
    {
     "data": {
      "text/plain": [
       "[0.8179225,\n",
       " 0.8258825,\n",
       " 0.8320525,\n",
       " 0.8382925,\n",
       " 0.8454025,\n",
       " 0.852405,\n",
       " 0.857355,\n",
       " 0.8622375,\n",
       " 0.8657875,\n",
       " 0.8689475,\n",
       " 0.8713025,\n",
       " 0.872285,\n",
       " 0.872615]"
      ]
     },
     "execution_count": 11,
     "metadata": {},
     "output_type": "execute_result"
    }
   ],
   "source": [
    "test_accs"
   ]
  },
  {
   "cell_type": "markdown",
   "metadata": {},
   "source": [
    "Use gridsearchcv to tune "
   ]
  },
  {
   "cell_type": "code",
   "execution_count": null,
   "metadata": {},
   "outputs": [
    {
     "name": "stdout",
     "output_type": "stream",
     "text": [
      "None\n",
      "None\n",
      "Fitting 5 folds for each of 31000 candidates, totalling 155000 fits\n"
     ]
    },
    {
     "name": "stderr",
     "output_type": "stream",
     "text": [
      "[Parallel(n_jobs=-1)]: Using backend LokyBackend with 4 concurrent workers.\n",
      "[Parallel(n_jobs=-1)]: Done  24 tasks      | elapsed:   13.6s\n",
      "[Parallel(n_jobs=-1)]: Done 120 tasks      | elapsed:   58.5s\n",
      "[Parallel(n_jobs=-1)]: Done 280 tasks      | elapsed:  2.4min\n",
      "[Parallel(n_jobs=-1)]: Done 504 tasks      | elapsed:  4.5min\n",
      "[Parallel(n_jobs=-1)]: Done 792 tasks      | elapsed:  8.4min\n",
      "[Parallel(n_jobs=-1)]: Done 1144 tasks      | elapsed: 12.8min\n",
      "[Parallel(n_jobs=-1)]: Done 1560 tasks      | elapsed: 18.9min\n",
      "[Parallel(n_jobs=-1)]: Done 2040 tasks      | elapsed: 31.7min\n",
      "[Parallel(n_jobs=-1)]: Done 2584 tasks      | elapsed: 99.4min\n",
      "[Parallel(n_jobs=-1)]: Done 3192 tasks      | elapsed: 148.7min\n",
      "[Parallel(n_jobs=-1)]: Done 3864 tasks      | elapsed: 174.8min\n",
      "[Parallel(n_jobs=-1)]: Done 4600 tasks      | elapsed: 209.2min\n",
      "[Parallel(n_jobs=-1)]: Done 5400 tasks      | elapsed: 235.5min\n",
      "[Parallel(n_jobs=-1)]: Done 6264 tasks      | elapsed: 251.2min\n"
     ]
    }
   ],
   "source": [
    "# example of grid searching key hyperparametres for ridge classifier\n",
    "from sklearn.model_selection import RepeatedStratifiedKFold\n",
    "from sklearn.model_selection import GridSearchCV\n",
    "from sklearn.tree import DecisionTreeClassifier\n",
    "\n",
    "# define models and parameters\n",
    "model = DecisionTreeClassifier()\n",
    "max_depth = np.arange(1,32)\n",
    "min_samples_split = np.linspace(0.1, 1.0, 10, endpoint=True)\n",
    "min_samples_leaf = np.linspace(0.1, 0.5, 5, endpoint=True)\n",
    "max_features = list(range(1,X_train.shape[1]))\n",
    "random_state = [318]\n",
    "\n",
    "grid = dict(max_depth=max_depth, min_samples_split=min_samples_split,\n",
    "            min_samples_leaf=min_samples_leaf,\n",
    "            max_features=max_features, random_state=random_state)\n",
    "\n",
    "# import data\n",
    "from brainstation_capstone.etl.datatransform import Nutcracker\n",
    "X_train, _, y_train, _ = Nutcracker(datapath).mldata(feature_reduction='None')\n",
    "\n",
    "# grid search setting\n",
    "cv = 5 #cv = RepeatedStratifiedKFold(n_splits=10, n_repeats=3, random_state=1)\n",
    "grid_search = GridSearchCV(estimator=model, param_grid=grid, n_jobs=-1, \n",
    "                           cv=cv, scoring='accuracy',error_score=0, verbose=3)\n",
    "# run gridsearch\n",
    "grid_result = grid_search.fit(X_train, y_train)\n",
    "\n",
    "# summarize results\n",
    "from brainstation_capstone.ml import GridSearchCVHelper\n",
    "mean, stdev, param = GridSearchCVHelper.print_summary(grid_result)\n",
    "print('done')"
   ]
  },
  {
   "cell_type": "code",
   "execution_count": null,
   "metadata": {},
   "outputs": [],
   "source": [
    "# visualize tree\n",
    "# summarize results\n",
    "from brainstation_capstone.ml import GridSearchCVHelper\n",
    "mean, stdev, param = GridSearchCVHelper.print_summary(grid_result)\n",
    "print('done')"
   ]
  },
  {
   "cell_type": "code",
   "execution_count": null,
   "metadata": {},
   "outputs": [],
   "source": []
  }
 ],
 "metadata": {
  "kernelspec": {
   "display_name": "Python 3",
   "language": "python",
   "name": "python3"
  },
  "language_info": {
   "codemirror_mode": {
    "name": "ipython",
    "version": 3
   },
   "file_extension": ".py",
   "mimetype": "text/x-python",
   "name": "python",
   "nbconvert_exporter": "python",
   "pygments_lexer": "ipython3",
   "version": "3.7.7"
  }
 },
 "nbformat": 4,
 "nbformat_minor": 4
}
