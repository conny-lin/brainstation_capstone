{
  "nbformat": 4,
  "nbformat_minor": 0,
  "metadata": {
    "kernelspec": {
      "display_name": "Python 3",
      "language": "python",
      "name": "python3"
    },
    "language_info": {
      "codemirror_mode": {
        "name": "ipython",
        "version": 3
      },
      "file_extension": ".py",
      "mimetype": "text/x-python",
      "name": "python",
      "nbconvert_exporter": "python",
      "pygments_lexer": "ipython3",
      "version": "3.7.7-final"
    },
    "toc-autonumbering": false,
    "colab": {
      "name": "LogisticRegression.ipynb",
      "provenance": []
    }
  },
  "cells": [
    {
      "cell_type": "markdown",
      "metadata": {
        "id": "ZtBFLAfZH-Dk",
        "colab_type": "text"
      },
      "source": [
        "# logistic regression\n",
        "Conny Lin | June 13, 2020 | updated June 16, 2020"
      ]
    },
    {
      "cell_type": "markdown",
      "metadata": {
        "id": "swNXzPhuH-Dm",
        "colab_type": "text"
      },
      "source": [
        "## set up"
      ]
    },
    {
      "cell_type": "markdown",
      "metadata": {
        "id": "6idZK2ClH-Dm",
        "colab_type": "text"
      },
      "source": [
        "### local computer\n"
      ]
    },
    {
      "cell_type": "code",
      "metadata": {
        "id": "rkEmQJJvH-Dn",
        "colab_type": "code",
        "colab": {},
        "outputId": "99424ecd-99cc-4eb6-aab6-2afe3f4068e8"
      },
      "source": [
        "# import local libraries using host specific paths\n",
        "import socket, sys\n",
        "hostname = socket.gethostname().split('.')[0]\n",
        "# set local path settings based on computer host\n",
        "if hostname == 'PFC':\n",
        "    pylibrary = '/Users/connylin/Dropbox/Code/proj'\n",
        "elif hostname == 'Angular-Gyrus':\n",
        "    pylibrary = '/Users/connylin/Code/proj'\n",
        "else:\n",
        "    assert False, 'host computer not regonized'\n",
        "# load local libraries\n",
        "if pylibrary not in sys.path:\n",
        "    sys.path.insert(1, pylibrary)\n",
        "# import other standard paths and local variables\n",
        "from brainstation_capstone.system import host_paths\n",
        "localpaths = host_paths.get(hostname)\n",
        "from brainstation_capstone.ml.toolbox.mlSOP import test_model\n",
        "from brainstation_capstone.ml.toolbox.mlSOP import ml_timer\n",
        "# import standard libraries\n",
        "import time, datetime\n",
        "import numpy as np\n",
        "import pandas as pd\n",
        "import matplotlib.pyplot as plt\n",
        "# report latest run\n",
        "print(f'last ran on: {datetime.datetime.now()} PT')\n",
        "# import data\n",
        "from brainstation_capstone.etl.loaddata import nutcracker\n",
        "data = nutcracker(localpaths, 'nutcracker', ['X_train','X_test','y_train','y_test'])"
      ],
      "execution_count": null,
      "outputs": [
        {
          "output_type": "stream",
          "text": [
            "getting host computer specific paths\n"
          ],
          "name": "stdout"
        }
      ]
    },
    {
      "cell_type": "markdown",
      "metadata": {
        "id": "51NUjT-TH-D7",
        "colab_type": "text"
      },
      "source": [
        "### google colab\n"
      ]
    },
    {
      "cell_type": "code",
      "metadata": {
        "id": "4llISKTSH-EB",
        "colab_type": "code",
        "colab": {
          "base_uri": "https://localhost:8080/",
          "height": 122
        },
        "outputId": "2046b6cb-b131-4532-dd84-e9c3a50cd55e"
      },
      "source": [
        "# connect to google drive\n",
        "from google.colab import drive\n",
        "drive.mount('/content/gdrive')# connect to google drive"
      ],
      "execution_count": 1,
      "outputs": [
        {
          "output_type": "stream",
          "text": [
            "Go to this URL in a browser: https://accounts.google.com/o/oauth2/auth?client_id=947318989803-6bn6qk8qdgf4n4g3pfee6491hc0brc4i.apps.googleusercontent.com&redirect_uri=urn%3aietf%3awg%3aoauth%3a2.0%3aoob&response_type=code&scope=email%20https%3a%2f%2fwww.googleapis.com%2fauth%2fdocs.test%20https%3a%2f%2fwww.googleapis.com%2fauth%2fdrive%20https%3a%2f%2fwww.googleapis.com%2fauth%2fdrive.photos.readonly%20https%3a%2f%2fwww.googleapis.com%2fauth%2fpeopleapi.readonly\n",
            "\n",
            "Enter your authorization code:\n",
            "··········\n",
            "Mounted at /content/gdrive\n"
          ],
          "name": "stdout"
        }
      ]
    },
    {
      "cell_type": "code",
      "metadata": {
        "id": "G2ck-uOPH-FN",
        "colab_type": "code",
        "colab": {}
      },
      "source": [
        "# import functions\n",
        "import pandas as pd\n",
        "import numpy as np\n",
        "import os, time, datetime\n",
        "import matplotlib.pyplot as plt\n",
        "\n",
        "class test_model:\n",
        "    def __init__(self):\n",
        "        # set test and train score\n",
        "        self.test_acc = []\n",
        "        self.train_acc = []\n",
        "    def score_data(self, model, datadict):\n",
        "        self.model = model\n",
        "        self.data = datadict\n",
        "        # fit model\n",
        "        self.model.fit(self.data['X_train'], self.data['y_train'])\n",
        "        # train score\n",
        "        train_score = self.model.score(self.data['X_train'], self.data['y_train'])\n",
        "        print(f\"\\tTrain Score: {train_score}\")\n",
        "        self.train_acc.append(train_score)\n",
        "        # test score\n",
        "        test_score = self.model.score(self.data['X_test'], self.data['y_test'])\n",
        "        print(f\"\\tTest Score: {test_score}\")\n",
        "        self.test_acc.append(test_score)\n",
        "\n",
        "class ml_timer:\n",
        "    def __init__(self):\n",
        "        # initate session start time\n",
        "        self.start = time.time()\n",
        "        # initiate holder for times\n",
        "        self.session_times = []\n",
        "        print('timer starts')\n",
        "\n",
        "    def param_start(self):\n",
        "        # update current session start time\n",
        "        self.current_session_start = time.time()\n",
        "\n",
        "    def param_end(self):\n",
        "        end_time = time.time()\n",
        "        elapsed_time = end_time - self.current_session_start\n",
        "        print(f'\\telapsed time {elapsed_time/60:.3f} min')\n",
        "        self.session_times.append(elapsed_time)\n",
        "    \n",
        "    def session_end(self):\n",
        "        self.end = time.time()\n",
        "    \n",
        "    def get_time(self):\n",
        "        print(f'total time: {(self.end - self.start)/60:.3f} min')\n",
        "        return self.session_times\n",
        "\n",
        "def hyperparameterplot(hyperparameter_list, train_score_list, test_score_list, \\\n",
        "                        hyperparameter_name='', titlename=''):\n",
        "    \n",
        "    # check if hyperparameter list is string or number\n",
        "    if isinstance(hyperparameter_list[0], str):\n",
        "        hyperparameter_label = hyperparameter_list.copy()\n",
        "        hyperparameter_list = range(len(hyperparameter_list))\n",
        "    # graph\n",
        "    plt.figure()\n",
        "    plt.plot(hyperparameter_list, train_score_list, color='blue', label='train')\n",
        "    plt.plot(hyperparameter_list, test_score_list, color='red', label='test')\n",
        "    plt.title(titlename)\n",
        "    plt.xlabel(hyperparameter_name)\n",
        "    if isinstance(hyperparameter_list[0], str):\n",
        "        plt.xticks(labels=hyperparameter_label)\n",
        "    plt.ylabel('accuracy score')\n",
        "    plt.legend()\n",
        "    plt.show()"
      ],
      "execution_count": 4,
      "outputs": []
    },
    {
      "cell_type": "code",
      "metadata": {
        "id": "z_neIW4IH-Fa",
        "colab_type": "code",
        "colab": {
          "base_uri": "https://localhost:8080/",
          "height": 85
        },
        "outputId": "52cb56f0-01c8-4d98-f7c9-6b6af867fe73"
      },
      "source": [
        "# define file directory\n",
        "file_dir = '/content/gdrive/My Drive/ED Brain Station/data'\n",
        "# get files from google drive\n",
        "print('loading data to data dictionary')\n",
        "datatype = ['X_train','X_test','y_train','y_test']\n",
        "dataname = 'nutcracker'\n",
        "data = dict()\n",
        "for i, dname in enumerate(datatype):\n",
        "    print(f'loading file: {i}', end='\\r')\n",
        "    filename = dataname + '_' + dname + '.csv'\n",
        "    filepath = os.path.join(file_dir, filename)\n",
        "    data[dname] = np.loadtxt(filepath, delimiter=',')\n",
        "print('loading completed')\n",
        "# print the array shape to confirm successful loading\n",
        "print(data['X_train'].shape)\n",
        "# report time run\n",
        "print(f'last ran on: {datetime.datetime.now()} PT')"
      ],
      "execution_count": 3,
      "outputs": [
        {
          "output_type": "stream",
          "text": [
            "loading data to data dictionary\n",
            "loading completed\n",
            "(1600000, 21)\n",
            "last ran on: 2020-06-21 04:27:28.767466 PT\n"
          ],
          "name": "stdout"
        }
      ]
    },
    {
      "cell_type": "markdown",
      "metadata": {
        "id": "usYv06OjH-Fd",
        "colab_type": "text"
      },
      "source": [
        "## rough tune with previous set up"
      ]
    },
    {
      "cell_type": "code",
      "metadata": {
        "id": "jR3GLh76H-Fe",
        "colab_type": "code",
        "colab": {}
      },
      "source": [
        "# get machine learning input data\n",
        "from brainstation_capstone.etl.datatransform import Nutcracker\n",
        "X_train, X_test, y_train, y_test = Nutcracker(localpaths['datapath']).mldata()"
      ],
      "execution_count": null,
      "outputs": []
    },
    {
      "cell_type": "code",
      "metadata": {
        "id": "bMIFtSF2H-Fn",
        "colab_type": "code",
        "colab": {}
      },
      "source": [
        "# machine learning specific \n",
        "outputfolder = os.path.join(pCapstone,'ml_ols')\n",
        "from sklearn.pipeline import Pipeline\n",
        "from sklearn.model_selection import GridSearchCV\n",
        "from sklearn.model_selection import cross_val_score\n",
        "from sklearn.linear_model import LogisticRegression\n",
        "from sklearn.decomposition import PCA"
      ],
      "execution_count": null,
      "outputs": []
    },
    {
      "cell_type": "code",
      "metadata": {
        "id": "6hfWjT5IH-Fs",
        "colab_type": "code",
        "colab": {},
        "outputId": "4bb6a9f7-15c6-4cbd-da6a-b20f42857e9f"
      },
      "source": [
        "# machine learning - rough try\n",
        "C=0.01\n",
        "random_state = 318\n",
        "max_iter=1000\n",
        "OLS = LogisticRegression(C=C, random_state=random_state, max_iter=max_iter)\n",
        "OLS.fit(X_train, y_train)\n",
        "y_predicted = OLS.predict(X_test)\n",
        "\n",
        "print(f'train score: {OLS.score(X_train,y_train)}')\n",
        "print(f'test score: {OLS.score(X_test,y_test)}')"
      ],
      "execution_count": null,
      "outputs": [
        {
          "output_type": "stream",
          "text": [
            "/Users/connylin/opt/anaconda3/lib/python3.7/site-packages/sklearn/linear_model/_logistic.py:940: ConvergenceWarning: lbfgs failed to converge (status=1):\n",
            "STOP: TOTAL NO. of ITERATIONS REACHED LIMIT.\n",
            "\n",
            "Increase the number of iterations (max_iter) or scale the data as shown in:\n",
            "    https://scikit-learn.org/stable/modules/preprocessing.html\n",
            "Please also refer to the documentation for alternative solver options:\n",
            "    https://scikit-learn.org/stable/modules/linear_model.html#logistic-regression\n",
            "  extra_warning_msg=_LOGISTIC_SOLVER_CONVERGENCE_MSG)\n"
          ],
          "name": "stderr"
        },
        {
          "output_type": "stream",
          "text": [
            "train score: 0.8644\n",
            "test score: 0.8638375\n"
          ],
          "name": "stdout"
        }
      ]
    },
    {
      "cell_type": "markdown",
      "metadata": {
        "id": "nvEJ08QbH-Fw",
        "colab_type": "text"
      },
      "source": [
        "* C=0.01\n",
        "* random_state = 318\n",
        "* max_iter=1000\n",
        "\n",
        "results are train/test both = 0.86"
      ]
    },
    {
      "cell_type": "code",
      "metadata": {
        "id": "igtOzWosH-F0",
        "colab_type": "code",
        "colab": {}
      },
      "source": [
        "X_columns = np.array(NC.names['X'])"
      ],
      "execution_count": null,
      "outputs": []
    },
    {
      "cell_type": "code",
      "metadata": {
        "id": "_vDOpbf6H-F6",
        "colab_type": "code",
        "colab": {}
      },
      "source": [
        "# take a look at predictive value of each parameter\n",
        "# set dataframe\n",
        "top_features = pd.DataFrame(X_columns, columns=['features'])\n",
        "# get coefficient\n",
        "X_logistic_coef = OLS.coef_\n",
        "# put int OLS_coef\n",
        "top_features['OLS_coef'] = X_logistic_coef[0]\n",
        "# put in absolute\n",
        "top_features['OLS_coef_abs'] = np.absolute(top_features['OLS_coef'].values)"
      ],
      "execution_count": null,
      "outputs": []
    },
    {
      "cell_type": "code",
      "metadata": {
        "id": "h7suPlCJH-F_",
        "colab_type": "code",
        "colab": {},
        "outputId": "12123a1a-eda8-43fb-e201-b480fbfec5f4"
      },
      "source": [
        "top_features.sort_values(ascending=False, inplace=True, by=['OLS_coef_abs'])\n",
        "top_features"
      ],
      "execution_count": null,
      "outputs": [
        {
          "output_type": "execute_result",
          "data": {
            "text/html": [
              "<div>\n",
              "<style scoped>\n",
              "    .dataframe tbody tr th:only-of-type {\n",
              "        vertical-align: middle;\n",
              "    }\n",
              "\n",
              "    .dataframe tbody tr th {\n",
              "        vertical-align: top;\n",
              "    }\n",
              "\n",
              "    .dataframe thead th {\n",
              "        text-align: right;\n",
              "    }\n",
              "</style>\n",
              "<table border=\"1\" class=\"dataframe\">\n",
              "  <thead>\n",
              "    <tr style=\"text-align: right;\">\n",
              "      <th></th>\n",
              "      <th>features</th>\n",
              "      <th>OLS_coef</th>\n",
              "      <th>OLS_coef_abs</th>\n",
              "    </tr>\n",
              "  </thead>\n",
              "  <tbody>\n",
              "    <tr>\n",
              "      <th>5</th>\n",
              "      <td>width</td>\n",
              "      <td>-10.813590</td>\n",
              "      <td>10.813590</td>\n",
              "    </tr>\n",
              "    <tr>\n",
              "      <th>9</th>\n",
              "      <td>aspect</td>\n",
              "      <td>-9.695887</td>\n",
              "      <td>9.695887</td>\n",
              "    </tr>\n",
              "    <tr>\n",
              "      <th>10</th>\n",
              "      <td>relaspect</td>\n",
              "      <td>3.588359</td>\n",
              "      <td>3.588359</td>\n",
              "    </tr>\n",
              "    <tr>\n",
              "      <th>7</th>\n",
              "      <td>length</td>\n",
              "      <td>2.830295</td>\n",
              "      <td>2.830295</td>\n",
              "    </tr>\n",
              "    <tr>\n",
              "      <th>6</th>\n",
              "      <td>relwidth</td>\n",
              "      <td>2.072623</td>\n",
              "      <td>2.072623</td>\n",
              "    </tr>\n",
              "    <tr>\n",
              "      <th>8</th>\n",
              "      <td>rellength</td>\n",
              "      <td>-1.924569</td>\n",
              "      <td>1.924569</td>\n",
              "    </tr>\n",
              "    <tr>\n",
              "      <th>2</th>\n",
              "      <td>area</td>\n",
              "      <td>-1.060606</td>\n",
              "      <td>1.060606</td>\n",
              "    </tr>\n",
              "    <tr>\n",
              "      <th>13</th>\n",
              "      <td>speed</td>\n",
              "      <td>0.994026</td>\n",
              "      <td>0.994026</td>\n",
              "    </tr>\n",
              "    <tr>\n",
              "      <th>3</th>\n",
              "      <td>midline</td>\n",
              "      <td>-0.943060</td>\n",
              "      <td>0.943060</td>\n",
              "    </tr>\n",
              "    <tr>\n",
              "      <th>4</th>\n",
              "      <td>morphwidth</td>\n",
              "      <td>0.691033</td>\n",
              "      <td>0.691033</td>\n",
              "    </tr>\n",
              "    <tr>\n",
              "      <th>20</th>\n",
              "      <td>crab</td>\n",
              "      <td>-0.464334</td>\n",
              "      <td>0.464334</td>\n",
              "    </tr>\n",
              "    <tr>\n",
              "      <th>15</th>\n",
              "      <td>bias</td>\n",
              "      <td>-0.401446</td>\n",
              "      <td>0.401446</td>\n",
              "    </tr>\n",
              "    <tr>\n",
              "      <th>16</th>\n",
              "      <td>dir</td>\n",
              "      <td>0.330553</td>\n",
              "      <td>0.330553</td>\n",
              "    </tr>\n",
              "    <tr>\n",
              "      <th>12</th>\n",
              "      <td>curve</td>\n",
              "      <td>-0.218703</td>\n",
              "      <td>0.218703</td>\n",
              "    </tr>\n",
              "    <tr>\n",
              "      <th>17</th>\n",
              "      <td>vel_x</td>\n",
              "      <td>-0.097355</td>\n",
              "      <td>0.097355</td>\n",
              "    </tr>\n",
              "    <tr>\n",
              "      <th>18</th>\n",
              "      <td>vel_y</td>\n",
              "      <td>-0.045256</td>\n",
              "      <td>0.045256</td>\n",
              "    </tr>\n",
              "    <tr>\n",
              "      <th>11</th>\n",
              "      <td>kink</td>\n",
              "      <td>0.029184</td>\n",
              "      <td>0.029184</td>\n",
              "    </tr>\n",
              "    <tr>\n",
              "      <th>14</th>\n",
              "      <td>angular</td>\n",
              "      <td>0.010256</td>\n",
              "      <td>0.010256</td>\n",
              "    </tr>\n",
              "    <tr>\n",
              "      <th>0</th>\n",
              "      <td>time</td>\n",
              "      <td>0.004195</td>\n",
              "      <td>0.004195</td>\n",
              "    </tr>\n",
              "    <tr>\n",
              "      <th>1</th>\n",
              "      <td>persistence</td>\n",
              "      <td>0.002752</td>\n",
              "      <td>0.002752</td>\n",
              "    </tr>\n",
              "    <tr>\n",
              "      <th>19</th>\n",
              "      <td>orient</td>\n",
              "      <td>-0.000308</td>\n",
              "      <td>0.000308</td>\n",
              "    </tr>\n",
              "  </tbody>\n",
              "</table>\n",
              "</div>"
            ],
            "text/plain": [
              "       features   OLS_coef  OLS_coef_abs\n",
              "5         width -10.813590     10.813590\n",
              "9        aspect  -9.695887      9.695887\n",
              "10    relaspect   3.588359      3.588359\n",
              "7        length   2.830295      2.830295\n",
              "6      relwidth   2.072623      2.072623\n",
              "8     rellength  -1.924569      1.924569\n",
              "2          area  -1.060606      1.060606\n",
              "13        speed   0.994026      0.994026\n",
              "3       midline  -0.943060      0.943060\n",
              "4    morphwidth   0.691033      0.691033\n",
              "20         crab  -0.464334      0.464334\n",
              "15         bias  -0.401446      0.401446\n",
              "16          dir   0.330553      0.330553\n",
              "12        curve  -0.218703      0.218703\n",
              "17        vel_x  -0.097355      0.097355\n",
              "18        vel_y  -0.045256      0.045256\n",
              "11         kink   0.029184      0.029184\n",
              "14      angular   0.010256      0.010256\n",
              "0          time   0.004195      0.004195\n",
              "1   persistence   0.002752      0.002752\n",
              "19       orient  -0.000308      0.000308"
            ]
          },
          "metadata": {
            "tags": []
          },
          "execution_count": 44
        }
      ]
    },
    {
      "cell_type": "markdown",
      "metadata": {
        "id": "Xrr7FadqH-GK",
        "colab_type": "text"
      },
      "source": [
        "* width, aspect are top predictors for etoh worms.\n",
        "* interesting that curve doesn't do much\n",
        "\n",
        "Should look at graphs differences between the two parameters"
      ]
    },
    {
      "cell_type": "code",
      "metadata": {
        "id": "oK2c4MjUH-GL",
        "colab_type": "code",
        "colab": {},
        "outputId": "c4657a4b-686c-4ffc-d0f7-dccd974f0f45"
      },
      "source": [
        "# rough tune\n",
        "# settingss\n",
        "c_power_array = np.arange(-6,3, dtype=float)\n",
        "c_value_list = [10**c for c in c_power_array]\n",
        "max_iter_setting = 1000\n",
        "cv = 5\n",
        "import warnings\n",
        "warnings.filterwarnings(\"ignore\")\n",
        "# solver_setting = 'lbfgs'\n",
        "\n",
        "# train\n",
        "train_score = []\n",
        "test_score = []\n",
        "cross_validation_scores = []\n",
        "cross_validation_stdev = []\n",
        "for cp in c_value_list:\n",
        "    print(f'running C = {cp}')\n",
        "    model = LogisticRegression(C=cp,\n",
        "                               penalty='l2',\n",
        "                               max_iter=max_iter_setting,\n",
        "                               random_state=random_state)\n",
        "    \n",
        "    cv_result = cross_val_score(model, X_train, y_train, cv=cv)    \n",
        "    # the cross validation score (mean of scores from all folds)\n",
        "    cv_score = np.mean(cv_result)\n",
        "    cv_stdev = np.std(cv_result)\n",
        "    # add to result\n",
        "    cross_validation_scores.append(cv_score)\n",
        "    cross_validation_stdev.append(cv_stdev)"
      ],
      "execution_count": null,
      "outputs": [
        {
          "output_type": "stream",
          "text": [
            "running C = 1e-06\n",
            "running C = 1e-05\n",
            "running C = 0.0001\n",
            "running C = 0.001\n",
            "running C = 0.01\n",
            "running C = 0.1\n",
            "running C = 1.0\n",
            "running C = 10.0\n",
            "running C = 100.0\n"
          ],
          "name": "stdout"
        },
        {
          "output_type": "error",
          "ename": "NameError",
          "evalue": "name 'plt' is not defined",
          "traceback": [
            "\u001b[0;31m---------------------------------------------------------------------------\u001b[0m",
            "\u001b[0;31mNameError\u001b[0m                                 Traceback (most recent call last)",
            "\u001b[0;32m<ipython-input-48-aa6a7b8360c5>\u001b[0m in \u001b[0;36m<module>\u001b[0;34m\u001b[0m\n\u001b[1;32m     30\u001b[0m \u001b[0;34m\u001b[0m\u001b[0m\n\u001b[1;32m     31\u001b[0m \u001b[0;31m# plot\u001b[0m\u001b[0;34m\u001b[0m\u001b[0;34m\u001b[0m\u001b[0;34m\u001b[0m\u001b[0m\n\u001b[0;32m---> 32\u001b[0;31m \u001b[0mplt\u001b[0m\u001b[0;34m.\u001b[0m\u001b[0mfigure\u001b[0m\u001b[0;34m(\u001b[0m\u001b[0;34m)\u001b[0m\u001b[0;34m\u001b[0m\u001b[0;34m\u001b[0m\u001b[0m\n\u001b[0m\u001b[1;32m     33\u001b[0m plt.errorbar(c_value_list, \n\u001b[1;32m     34\u001b[0m              \u001b[0mcross_validation_scores\u001b[0m\u001b[0;34m,\u001b[0m\u001b[0;34m\u001b[0m\u001b[0;34m\u001b[0m\u001b[0m\n",
            "\u001b[0;31mNameError\u001b[0m: name 'plt' is not defined"
          ]
        }
      ]
    },
    {
      "cell_type": "code",
      "metadata": {
        "id": "kttdPMnkH-GO",
        "colab_type": "code",
        "colab": {},
        "outputId": "5a4ba0e3-4230-4ee8-b9f3-f5838ed02c55"
      },
      "source": [
        "# plot\n",
        "plt.figure()\n",
        "plt.errorbar(c_value_list, \n",
        "             cross_validation_scores,\n",
        "             yerr=cross_validation_stdev,\n",
        "             label=\"Cross Validation Score\",marker='.')\n",
        "plt.xscale('Log')\n",
        "plt.xlabel('Regularization Parameter: C')\n",
        "plt.ylabel('Cross Validation Score')\n",
        "plt.grid()\n",
        "plt.show();\n",
        "print(c_value_list)"
      ],
      "execution_count": null,
      "outputs": [
        {
          "output_type": "display_data",
          "data": {
            "image/png": "[encoded data removed]",
            "text/plain": [
              "<Figure size 432x288 with 1 Axes>"
            ]
          },
          "metadata": {
            "tags": [],
            "needs_background": "light"
          }
        },
        {
          "output_type": "stream",
          "text": [
            "[1e-06, 1e-05, 0.0001, 0.001, 0.01, 0.1, 1.0, 10.0, 100.0]\n"
          ],
          "name": "stdout"
        }
      ]
    },
    {
      "cell_type": "code",
      "metadata": {
        "id": "J6hDeqhsH-GX",
        "colab_type": "code",
        "colab": {},
        "outputId": "ff36248f-8a51-43c5-db5e-660a486aa80c"
      },
      "source": [
        "# June 13, 2020 - test gridsearch code\n",
        "estimators = [('model', LogisticRegression())]\n",
        "pipe = Pipeline(estimators)\n",
        "\n",
        "params = [{\n",
        "'model': [LogisticRegression()], \n",
        "'model__random_state':[318],\n",
        "'model__C':[0.01, 0.05],\n",
        "'model__max_iter':[1000],\n",
        "'model__penalty':['l2'],\n",
        "'model__verbose':[1],\n",
        "}]\n",
        "\n",
        "grid = GridSearchCV(pipe, param_grid=params, cv=3, verbose=True)\n",
        "fittedgrid = grid.fit(X_train, y_train)\n",
        "\n",
        "\n",
        "# LogisticRegression(C=1.0, class_weight=None, dual=False,\n",
        "#fit_intercept=True, intercept_scaling=1,\n",
        "#l1_ratio=None, max_iter=100,\n",
        "#multi_class='auto', n_jobs=None,\n",
        "#penalty='l2', random_state=None,\n",
        "#solver='lbfgs', tol=0.0001, verbose=0,\n",
        "#warm_start=False))],\n",
        "#          verbose=False)."
      ],
      "execution_count": null,
      "outputs": [
        {
          "output_type": "stream",
          "text": [
            "Fitting 3 folds for each of 2 candidates, totalling 6 fits\n"
          ],
          "name": "stdout"
        },
        {
          "output_type": "stream",
          "text": [
            "[Parallel(n_jobs=1)]: Using backend SequentialBackend with 1 concurrent workers.\n",
            "[Parallel(n_jobs=1)]: Using backend SequentialBackend with 1 concurrent workers.\n",
            "/Users/connylin/opt/anaconda3/lib/python3.7/site-packages/sklearn/linear_model/_logistic.py:940: ConvergenceWarning: lbfgs failed to converge (status=1):\n",
            "STOP: TOTAL NO. of ITERATIONS REACHED LIMIT.\n",
            "\n",
            "Increase the number of iterations (max_iter) or scale the data as shown in:\n",
            "    https://scikit-learn.org/stable/modules/preprocessing.html\n",
            "Please also refer to the documentation for alternative solver options:\n",
            "    https://scikit-learn.org/stable/modules/linear_model.html#logistic-regression\n",
            "  extra_warning_msg=_LOGISTIC_SOLVER_CONVERGENCE_MSG)\n",
            "[Parallel(n_jobs=1)]: Done   1 out of   1 | elapsed:  1.8min finished\n",
            "[Parallel(n_jobs=1)]: Using backend SequentialBackend with 1 concurrent workers.\n",
            "/Users/connylin/opt/anaconda3/lib/python3.7/site-packages/sklearn/linear_model/_logistic.py:940: ConvergenceWarning: lbfgs failed to converge (status=1):\n",
            "STOP: TOTAL NO. of ITERATIONS REACHED LIMIT.\n",
            "\n",
            "Increase the number of iterations (max_iter) or scale the data as shown in:\n",
            "    https://scikit-learn.org/stable/modules/preprocessing.html\n",
            "Please also refer to the documentation for alternative solver options:\n",
            "    https://scikit-learn.org/stable/modules/linear_model.html#logistic-regression\n",
            "  extra_warning_msg=_LOGISTIC_SOLVER_CONVERGENCE_MSG)\n",
            "[Parallel(n_jobs=1)]: Done   1 out of   1 | elapsed:  1.8min finished\n",
            "[Parallel(n_jobs=1)]: Using backend SequentialBackend with 1 concurrent workers.\n",
            "/Users/connylin/opt/anaconda3/lib/python3.7/site-packages/sklearn/linear_model/_logistic.py:940: ConvergenceWarning: lbfgs failed to converge (status=1):\n",
            "STOP: TOTAL NO. of ITERATIONS REACHED LIMIT.\n",
            "\n",
            "Increase the number of iterations (max_iter) or scale the data as shown in:\n",
            "    https://scikit-learn.org/stable/modules/preprocessing.html\n",
            "Please also refer to the documentation for alternative solver options:\n",
            "    https://scikit-learn.org/stable/modules/linear_model.html#logistic-regression\n",
            "  extra_warning_msg=_LOGISTIC_SOLVER_CONVERGENCE_MSG)\n",
            "[Parallel(n_jobs=1)]: Done   1 out of   1 | elapsed:  1.8min finished\n",
            "[Parallel(n_jobs=1)]: Using backend SequentialBackend with 1 concurrent workers.\n",
            "/Users/connylin/opt/anaconda3/lib/python3.7/site-packages/sklearn/linear_model/_logistic.py:940: ConvergenceWarning: lbfgs failed to converge (status=1):\n",
            "STOP: TOTAL NO. of ITERATIONS REACHED LIMIT.\n",
            "\n",
            "Increase the number of iterations (max_iter) or scale the data as shown in:\n",
            "    https://scikit-learn.org/stable/modules/preprocessing.html\n",
            "Please also refer to the documentation for alternative solver options:\n",
            "    https://scikit-learn.org/stable/modules/linear_model.html#logistic-regression\n",
            "  extra_warning_msg=_LOGISTIC_SOLVER_CONVERGENCE_MSG)\n",
            "[Parallel(n_jobs=1)]: Done   1 out of   1 | elapsed:  1.9min finished\n",
            "[Parallel(n_jobs=1)]: Using backend SequentialBackend with 1 concurrent workers.\n",
            "/Users/connylin/opt/anaconda3/lib/python3.7/site-packages/sklearn/linear_model/_logistic.py:940: ConvergenceWarning: lbfgs failed to converge (status=1):\n",
            "STOP: TOTAL NO. of ITERATIONS REACHED LIMIT.\n",
            "\n",
            "Increase the number of iterations (max_iter) or scale the data as shown in:\n",
            "    https://scikit-learn.org/stable/modules/preprocessing.html\n",
            "Please also refer to the documentation for alternative solver options:\n",
            "    https://scikit-learn.org/stable/modules/linear_model.html#logistic-regression\n",
            "  extra_warning_msg=_LOGISTIC_SOLVER_CONVERGENCE_MSG)\n",
            "[Parallel(n_jobs=1)]: Done   1 out of   1 | elapsed:  1.8min finished\n",
            "[Parallel(n_jobs=1)]: Using backend SequentialBackend with 1 concurrent workers.\n",
            "/Users/connylin/opt/anaconda3/lib/python3.7/site-packages/sklearn/linear_model/_logistic.py:940: ConvergenceWarning: lbfgs failed to converge (status=1):\n",
            "STOP: TOTAL NO. of ITERATIONS REACHED LIMIT.\n",
            "\n",
            "Increase the number of iterations (max_iter) or scale the data as shown in:\n",
            "    https://scikit-learn.org/stable/modules/preprocessing.html\n",
            "Please also refer to the documentation for alternative solver options:\n",
            "    https://scikit-learn.org/stable/modules/linear_model.html#logistic-regression\n",
            "  extra_warning_msg=_LOGISTIC_SOLVER_CONVERGENCE_MSG)\n",
            "[Parallel(n_jobs=1)]: Done   1 out of   1 | elapsed:  1.9min finished\n",
            "[Parallel(n_jobs=1)]: Done   6 out of   6 | elapsed: 11.0min finished\n",
            "[Parallel(n_jobs=1)]: Using backend SequentialBackend with 1 concurrent workers.\n",
            "/Users/connylin/opt/anaconda3/lib/python3.7/site-packages/sklearn/linear_model/_logistic.py:940: ConvergenceWarning: lbfgs failed to converge (status=1):\n",
            "STOP: TOTAL NO. of ITERATIONS REACHED LIMIT.\n",
            "\n",
            "Increase the number of iterations (max_iter) or scale the data as shown in:\n",
            "    https://scikit-learn.org/stable/modules/preprocessing.html\n",
            "Please also refer to the documentation for alternative solver options:\n",
            "    https://scikit-learn.org/stable/modules/linear_model.html#logistic-regression\n",
            "  extra_warning_msg=_LOGISTIC_SOLVER_CONVERGENCE_MSG)\n",
            "[Parallel(n_jobs=1)]: Done   1 out of   1 | elapsed:  2.5min finished\n"
          ],
          "name": "stderr"
        },
        {
          "output_type": "execute_result",
          "data": {
            "text/plain": [
              "array([0.86392625, 0.86529625])"
            ]
          },
          "metadata": {
            "tags": []
          },
          "execution_count": 27
        }
      ]
    },
    {
      "cell_type": "code",
      "metadata": {
        "id": "80nP4iPZH-Gb",
        "colab_type": "code",
        "colab": {},
        "outputId": "fdf28e74-46db-4171-d3df-76cbfb4e285f"
      },
      "source": [
        "print(f'test score: {fittedgrid.score(X_test, y_test)}')\n",
        "print('best estimator')\n",
        "print(f'\\t{fittedgrid.best_estimator_}')\n",
        "print('best param')\n",
        "print(fittedgrid.best_params_)\n",
        "print('mean test score')\n",
        "print(fittedgrid.cv_results_['mean_test_score'])"
      ],
      "execution_count": null,
      "outputs": [
        {
          "output_type": "stream",
          "text": [
            "test score: 0.8652025\n",
            "best estimator\n",
            "\tPipeline(memory=None,\n",
            "         steps=[('model',\n",
            "                 LogisticRegression(C=0.05, class_weight=None, dual=False,\n",
            "                                    fit_intercept=True, intercept_scaling=1,\n",
            "                                    l1_ratio=None, max_iter=1000,\n",
            "                                    multi_class='auto', n_jobs=None,\n",
            "                                    penalty='l2', random_state=318,\n",
            "                                    solver='lbfgs', tol=0.0001, verbose=1,\n",
            "                                    warm_start=False))],\n",
            "         verbose=False)\n",
            "best param\n",
            "{'model': LogisticRegression(C=0.05, class_weight=None, dual=False, fit_intercept=True,\n",
            "                   intercept_scaling=1, l1_ratio=None, max_iter=1000,\n",
            "                   multi_class='auto', n_jobs=None, penalty='l2',\n",
            "                   random_state=318, solver='lbfgs', tol=0.0001, verbose=1,\n",
            "                   warm_start=False), 'model__C': 0.05, 'model__max_iter': 1000, 'model__penalty': 'l2', 'model__random_state': 318, 'model__verbose': 1}\n",
            "mean test score\n",
            "[0.86392625 0.86529625]\n"
          ],
          "name": "stdout"
        }
      ]
    },
    {
      "cell_type": "markdown",
      "metadata": {
        "id": "XZl79qdEH-Gf",
        "colab_type": "text"
      },
      "source": [
        "After feature reduction..."
      ]
    },
    {
      "cell_type": "markdown",
      "metadata": {
        "id": "BvfFGv4JH-Gg",
        "colab_type": "text"
      },
      "source": [
        "## June 14, 2020, 15:45\n",
        "\n",
        "reduce the default opening code and run comparison of feature reduction"
      ]
    },
    {
      "cell_type": "code",
      "metadata": {
        "id": "zf5ArqIZH-Gg",
        "colab_type": "code",
        "colab": {},
        "outputId": "14c3f3f2-6bab-40f8-975a-5edf7f19df23"
      },
      "source": [
        "from brainstation_capstone.etl.datatransform import Nutcracker\n",
        "NC_no_feature_reduction = Nutcracker(datapath)\n",
        "NC_no_feature_reduction.mldata(feature_reduction='None')\n",
        "from brainstation_capstone.ml import LogisticRegression\n",
        "LogisticRegression.quicktest(NC_no_feature_reduction)"
      ],
      "execution_count": null,
      "outputs": [
        {
          "output_type": "stream",
          "text": [
            "running logistic regression\n",
            "train score: 0.86937125\n",
            "test score: 0.869065\n"
          ],
          "name": "stdout"
        },
        {
          "output_type": "execute_result",
          "data": {
            "text/plain": [
              "(0.86937125, 0.869065, {})"
            ]
          },
          "metadata": {
            "tags": []
          },
          "execution_count": 2
        }
      ]
    },
    {
      "cell_type": "code",
      "metadata": {
        "id": "PYTj0nC2H-Gy",
        "colab_type": "code",
        "colab": {},
        "outputId": "a87f6282-5a89-4c2b-fad0-3f4182708a34"
      },
      "source": [
        "from brainstation_capstone.etl.datatransform import Nutcracker\n",
        "NC = Nutcracker(datapath)\n",
        "NC.mldata(feature_reduction='standard')\n",
        "from brainstation_capstone.ml import LogisticRegression\n",
        "LogisticRegression.quicktest(NC)"
      ],
      "execution_count": null,
      "outputs": [
        {
          "output_type": "stream",
          "text": [
            "running logistic regression\n",
            "train score: 0.866989375\n",
            "test score: 0.8665125\n"
          ],
          "name": "stdout"
        },
        {
          "output_type": "execute_result",
          "data": {
            "text/plain": [
              "(0.866989375, 0.8665125, {})"
            ]
          },
          "metadata": {
            "tags": []
          },
          "execution_count": 3
        }
      ]
    },
    {
      "cell_type": "markdown",
      "metadata": {
        "id": "Zm-d7zjtH-G7",
        "colab_type": "text"
      },
      "source": [
        "Including all features are better off. "
      ]
    },
    {
      "cell_type": "markdown",
      "metadata": {
        "id": "OIGWq86ZH-G8",
        "colab_type": "text"
      },
      "source": [
        "## June 16, 2020\n",
        "hyperparameter tuning. copied code from: https://machinelearningmastery.com/hyperparameters-for-classification-machine-learning-algorithms/\n"
      ]
    },
    {
      "cell_type": "code",
      "metadata": {
        "id": "56E20d6SH-G9",
        "colab_type": "code",
        "colab": {},
        "outputId": "51e473ef-b855-4919-8d49-6e936e0a1216"
      },
      "source": [
        "# example of grid searching key hyperparametres for logistic regression\n",
        "from sklearn.model_selection import RepeatedStratifiedKFold\n",
        "from sklearn.model_selection import GridSearchCV\n",
        "from sklearn.linear_model import LogisticRegression\n",
        "# define models and parameters\n",
        "model = LogisticRegression()\n",
        "solvers = ['newton-cg', 'lbfgs', 'liblinear']\n",
        "penalty = ['l2']\n",
        "c_values = [100, 10, 1.0, 0.1, 0.01]\n",
        "cv = RepeatedStratifiedKFold(n_splits=10, n_repeats=3, random_state=1)\n",
        "\n",
        "# define grid search\n",
        "grid = dict(solver=solvers,penalty=penalty,C=c_values)\n",
        "grid_search = GridSearchCV(estimator=model, param_grid=grid, n_jobs=-1, cv=cv, \n",
        "                           scoring='accuracy',error_score=0)\n",
        "grid_result = grid_search.fit(X_train, y_train)\n",
        "\n",
        "# summarize results\n",
        "from brainstation_capstone.ml import GridSearchCVHelper\n",
        "mean, stdev, param = GridSearchCVHelper.print_summary(grid_result)\n",
        "print('done')"
      ],
      "execution_count": null,
      "outputs": [
        {
          "output_type": "stream",
          "text": [
            "Best: 0.867009 using {'C': 0.01, 'penalty': 'l2', 'solver': 'liblinear'}\n",
            "0.866970 (0.000942) with: {'C': 100, 'penalty': 'l2', 'solver': 'newton-cg'}\n",
            "0.866971 (0.000941) with: {'C': 100, 'penalty': 'l2', 'solver': 'lbfgs'}\n",
            "0.866971 (0.000941) with: {'C': 100, 'penalty': 'l2', 'solver': 'liblinear'}\n",
            "0.866970 (0.000942) with: {'C': 10, 'penalty': 'l2', 'solver': 'newton-cg'}\n",
            "0.866972 (0.000940) with: {'C': 10, 'penalty': 'l2', 'solver': 'lbfgs'}\n",
            "0.866971 (0.000942) with: {'C': 10, 'penalty': 'l2', 'solver': 'liblinear'}\n",
            "0.866970 (0.000943) with: {'C': 1.0, 'penalty': 'l2', 'solver': 'newton-cg'}\n",
            "0.866971 (0.000944) with: {'C': 1.0, 'penalty': 'l2', 'solver': 'lbfgs'}\n",
            "0.866969 (0.000944) with: {'C': 1.0, 'penalty': 'l2', 'solver': 'liblinear'}\n",
            "0.866968 (0.000949) with: {'C': 0.1, 'penalty': 'l2', 'solver': 'newton-cg'}\n",
            "0.866967 (0.000948) with: {'C': 0.1, 'penalty': 'l2', 'solver': 'lbfgs'}\n",
            "0.866968 (0.000951) with: {'C': 0.1, 'penalty': 'l2', 'solver': 'liblinear'}\n",
            "0.867007 (0.000933) with: {'C': 0.01, 'penalty': 'l2', 'solver': 'newton-cg'}\n",
            "0.867006 (0.000931) with: {'C': 0.01, 'penalty': 'l2', 'solver': 'lbfgs'}\n",
            "0.867009 (0.000932) with: {'C': 0.01, 'penalty': 'l2', 'solver': 'liblinear'}\n"
          ],
          "name": "stdout"
        }
      ]
    },
    {
      "cell_type": "markdown",
      "metadata": {
        "id": "6w43GDeJH-HB",
        "colab_type": "text"
      },
      "source": [
        "Best: 0.867009 using {'C': 0.01, 'penalty': 'l2', 'solver': 'liblinear'}\n",
        "\n",
        "**solver**{‘newton-cg’, ‘lbfgs’, ‘liblinear’, ‘sag’, ‘saga’}, default=’lbfgs’\n",
        "Algorithm to use in the optimization problem.\n",
        "\n",
        "* For small datasets, ‘liblinear’ is a good choice, whereas ‘sag’ and ‘saga’ are faster for large ones.\n",
        "* For multiclass problems, only ‘newton-cg’, ‘sag’, ‘saga’ and ‘lbfgs’ handle multinomial loss; ‘liblinear’ is limited to one-versus-rest schemes.\n",
        "* ‘newton-cg’, ‘lbfgs’, ‘sag’ and ‘saga’ handle L2 or no penalty\n",
        "* ‘liblinear’ and ‘saga’ also handle L1 penalty\n",
        "* ‘saga’ also supports ‘elasticnet’ penalty\n",
        "* ‘liblinear’ does not support setting penalty='none'"
      ]
    },
    {
      "cell_type": "markdown",
      "metadata": {
        "id": "C4UGNWU-H-HB",
        "colab_type": "text"
      },
      "source": [
        "Seem to max out on C=0.01. Try lower C. set random_state to 318. Also change cv=5."
      ]
    },
    {
      "cell_type": "code",
      "metadata": {
        "id": "Kd4QLJilH-HC",
        "colab_type": "code",
        "colab": {},
        "outputId": "2fba30ac-c12d-4276-baf9-409047af38f2"
      },
      "source": [
        "# example of grid searching key hyperparametres for logistic regression\n",
        "from sklearn.model_selection import RepeatedStratifiedKFold\n",
        "from sklearn.model_selection import GridSearchCV\n",
        "from sklearn.linear_model import LogisticRegression\n",
        "# define models and parameters\n",
        "model = LogisticRegression()\n",
        "solvers = ['newton-cg', 'lbfgs', 'liblinear']\n",
        "penalty = ['l2']\n",
        "c_values = [0.01, 0.001, 0.0001, 0.00001]\n",
        "random_state=[318]\n",
        "cv=5 #cv = RepeatedStratifiedKFold(n_splits=10, n_repeats=3, random_state=1)\n",
        "grid = dict(solver=solvers, penalty=penalty, C=c_values, random_state=random_state)\n",
        "\n",
        "# define grid search\n",
        "grid_search = GridSearchCV(estimator=model, param_grid=grid, n_jobs=-1, cv=cv, \n",
        "                           scoring='accuracy',error_score=0)\n",
        "grid_result = grid_search.fit(X_train, y_train)\n",
        "\n",
        "# summarize results\n",
        "from brainstation_capstone.ml import GridSearchCVHelper\n",
        "mean, stdev, param = GridSearchCVHelper.print_summary(grid_result)\n",
        "print('done')"
      ],
      "execution_count": null,
      "outputs": [
        {
          "output_type": "stream",
          "text": [
            "Best: 0.867019 using {'C': 0.01, 'penalty': 'l2', 'random_state': 318, 'solver': 'liblinear'}\n",
            "0.867018 (0.000422) with: {'C': 0.01, 'penalty': 'l2', 'random_state': 318, 'solver': 'newton-cg'}\n",
            "0.867016 (0.000422) with: {'C': 0.01, 'penalty': 'l2', 'random_state': 318, 'solver': 'lbfgs'}\n",
            "0.867019 (0.000418) with: {'C': 0.01, 'penalty': 'l2', 'random_state': 318, 'solver': 'liblinear'}\n",
            "0.866756 (0.000504) with: {'C': 0.001, 'penalty': 'l2', 'random_state': 318, 'solver': 'newton-cg'}\n",
            "0.866752 (0.000503) with: {'C': 0.001, 'penalty': 'l2', 'random_state': 318, 'solver': 'lbfgs'}\n",
            "0.866744 (0.000507) with: {'C': 0.001, 'penalty': 'l2', 'random_state': 318, 'solver': 'liblinear'}\n",
            "0.864464 (0.000366) with: {'C': 0.0001, 'penalty': 'l2', 'random_state': 318, 'solver': 'newton-cg'}\n",
            "0.864466 (0.000367) with: {'C': 0.0001, 'penalty': 'l2', 'random_state': 318, 'solver': 'lbfgs'}\n",
            "0.864401 (0.000370) with: {'C': 0.0001, 'penalty': 'l2', 'random_state': 318, 'solver': 'liblinear'}\n",
            "0.854649 (0.000623) with: {'C': 1e-05, 'penalty': 'l2', 'random_state': 318, 'solver': 'newton-cg'}\n",
            "0.854650 (0.000624) with: {'C': 1e-05, 'penalty': 'l2', 'random_state': 318, 'solver': 'lbfgs'}\n",
            "0.854270 (0.000652) with: {'C': 1e-05, 'penalty': 'l2', 'random_state': 318, 'solver': 'liblinear'}\n",
            "done\n"
          ],
          "name": "stdout"
        }
      ]
    },
    {
      "cell_type": "markdown",
      "metadata": {
        "id": "4W9azbQQH-HL",
        "colab_type": "text"
      },
      "source": [
        "Maxed out at 86.7% accuracy. Best at {'C': 0.01, 'penalty': 'l2', 'random_state': 318, 'solver': 'liblinear'}"
      ]
    },
    {
      "cell_type": "markdown",
      "metadata": {
        "id": "HGPfuxfaH-HM",
        "colab_type": "text"
      },
      "source": [
        "## model evaluation\n",
        "\n",
        "previous tuning show that C=0.01 achieves pretty optimized score. Use this setting to evaluate the model.\n"
      ]
    },
    {
      "cell_type": "markdown",
      "metadata": {
        "id": "mfeJIcX5H-HQ",
        "colab_type": "text"
      },
      "source": [
        "### cross validation score"
      ]
    },
    {
      "cell_type": "code",
      "metadata": {
        "tags": [],
        "id": "4kot9hheH-HR",
        "colab_type": "code",
        "colab": {
          "base_uri": "https://localhost:8080/",
          "height": 34
        },
        "outputId": "765da78e-aeff-4583-d4f2-e2321f658128"
      },
      "source": [
        "from sklearn.model_selection import cross_val_score\n",
        "from sklearn.linear_model import LogisticRegression\n",
        "model = LogisticRegression(random_state=318, C=0.01)\n",
        "scores = cross_val_score(model, data['X_train'], data['y_train'], cv = 5)\n",
        "print(f'Cross validation scores: {scores}')\n"
      ],
      "execution_count": 6,
      "outputs": [
        {
          "output_type": "stream",
          "text": [
            "[0.86984063 0.86843437 0.87003438 0.86894688 0.8696375 ]\n"
          ],
          "name": "stdout"
        }
      ]
    },
    {
      "cell_type": "code",
      "metadata": {
        "tags": [],
        "id": "McOorjzfH-Hi",
        "colab_type": "code",
        "colab": {
          "base_uri": "https://localhost:8080/",
          "height": 34
        },
        "outputId": "27cf50bc-c7b0-4778-c90f-366cbc3c3b3e"
      },
      "source": [
        "print(f\"Average score:{np.mean(scores)}\")"
      ],
      "execution_count": 7,
      "outputs": [
        {
          "output_type": "stream",
          "text": [
            "Average Score:0.8693787499999999\n"
          ],
          "name": "stdout"
        }
      ]
    },
    {
      "cell_type": "code",
      "metadata": {
        "id": "YXWcTL7TH-H0",
        "colab_type": "code",
        "colab": {
          "base_uri": "https://localhost:8080/",
          "height": 102
        },
        "outputId": "d48475f4-64c0-4b28-bcc7-95f543770596"
      },
      "source": [
        "# fit the model and predict\n",
        "model.fit(data['X_train'], data['y_train'])"
      ],
      "execution_count": 8,
      "outputs": [
        {
          "output_type": "execute_result",
          "data": {
            "text/plain": [
              "LogisticRegression(C=0.01, class_weight=None, dual=False, fit_intercept=True,\n",
              "                   intercept_scaling=1, l1_ratio=None, max_iter=100,\n",
              "                   multi_class='auto', n_jobs=None, penalty='l2',\n",
              "                   random_state=318, solver='lbfgs', tol=0.0001, verbose=0,\n",
              "                   warm_start=False)"
            ]
          },
          "metadata": {
            "tags": []
          },
          "execution_count": 8
        }
      ]
    },
    {
      "cell_type": "code",
      "metadata": {
        "id": "S7WYaAHhJnet",
        "colab_type": "code",
        "colab": {
          "base_uri": "https://localhost:8080/",
          "height": 51
        },
        "outputId": "ffff7910-378d-44a4-f52f-466836779a51"
      },
      "source": [
        "# score the model\n",
        "train_score = model.score(data[\"X_train\"], data['y_train'])\n",
        "print(f'Score on train: {train_score}')\n",
        "test_score = model.score(data['X_test'], data['y_test'])\n",
        "print(f'Score on test: {test_score}')"
      ],
      "execution_count": 10,
      "outputs": [
        {
          "output_type": "stream",
          "text": [
            "Score on train: 0.86937125\n",
            "Score on test: 0.8690725\n"
          ],
          "name": "stdout"
        }
      ]
    },
    {
      "cell_type": "code",
      "metadata": {
        "id": "EXH_VuCwJzAG",
        "colab_type": "code",
        "colab": {
          "base_uri": "https://localhost:8080/",
          "height": 313
        },
        "outputId": "4368c1c8-fdd9-4c8c-cbfa-add4fda72e9f"
      },
      "source": [
        "from sklearn.metrics import confusion_matrix\n",
        "y_pred = model.predict(data['X_test'])\n",
        "conf_matrix_test = confusion_matrix(data['y_test'], y_pred, normalize='true')\n",
        "from sklearn.metrics import ConfusionMatrixDisplay\n",
        "print('confusion matrix for test')\n",
        "ConfusionMatrixDisplay(conf_matrix_test, display_labels=['normal', 'alcohol']).plot()"
      ],
      "execution_count": 37,
      "outputs": [
        {
          "output_type": "stream",
          "text": [
            "confusion matrix for test\n"
          ],
          "name": "stdout"
        },
        {
          "output_type": "execute_result",
          "data": {
            "text/plain": [
              "<sklearn.metrics._plot.confusion_matrix.ConfusionMatrixDisplay at 0x7f193b515d30>"
            ]
          },
          "metadata": {
            "tags": []
          },
          "execution_count": 37
        },
        {
          "output_type": "display_data",
          "data": {
            "image/png": "[encoded data removed]",
            "text/plain": [
              "<Figure size 432x288 with 2 Axes>"
            ]
          },
          "metadata": {
            "tags": [],
            "needs_background": "light"
          }
        }
      ]
    },
    {
      "cell_type": "code",
      "metadata": {
        "id": "gvIddLA5KQuc",
        "colab_type": "code",
        "colab": {
          "base_uri": "https://localhost:8080/",
          "height": 111
        },
        "outputId": "e5e57291-b223-4b47-c746-a68b5a3e3918"
      },
      "source": [
        "conf_matrix_test = pd.DataFrame(conf_matrix_test, columns=['Predicted normal', 'Predicted alcohol'])\n",
        "conf_matrix_test.index =['True normal', 'True alcohol']\n",
        "conf_matrix_test"
      ],
      "execution_count": 38,
      "outputs": [
        {
          "output_type": "execute_result",
          "data": {
            "text/html": [
              "<div>\n",
              "<style scoped>\n",
              "    .dataframe tbody tr th:only-of-type {\n",
              "        vertical-align: middle;\n",
              "    }\n",
              "\n",
              "    .dataframe tbody tr th {\n",
              "        vertical-align: top;\n",
              "    }\n",
              "\n",
              "    .dataframe thead th {\n",
              "        text-align: right;\n",
              "    }\n",
              "</style>\n",
              "<table border=\"1\" class=\"dataframe\">\n",
              "  <thead>\n",
              "    <tr style=\"text-align: right;\">\n",
              "      <th></th>\n",
              "      <th>Predicted normal</th>\n",
              "      <th>Predicted alcohol</th>\n",
              "    </tr>\n",
              "  </thead>\n",
              "  <tbody>\n",
              "    <tr>\n",
              "      <th>True normal</th>\n",
              "      <td>0.871596</td>\n",
              "      <td>0.128404</td>\n",
              "    </tr>\n",
              "    <tr>\n",
              "      <th>True alcohol</th>\n",
              "      <td>0.133454</td>\n",
              "      <td>0.866546</td>\n",
              "    </tr>\n",
              "  </tbody>\n",
              "</table>\n",
              "</div>"
            ],
            "text/plain": [
              "              Predicted normal  Predicted alcohol\n",
              "True normal           0.871596           0.128404\n",
              "True alcohol          0.133454           0.866546"
            ]
          },
          "metadata": {
            "tags": []
          },
          "execution_count": 38
        }
      ]
    },
    {
      "cell_type": "code",
      "metadata": {
        "id": "czT_XdxSMaN_",
        "colab_type": "code",
        "colab": {
          "base_uri": "https://localhost:8080/",
          "height": 170
        },
        "outputId": "2a47aba5-f973-44aa-a2fa-1ac919f7ac54"
      },
      "source": [
        "from sklearn.metrics import classification_report\n",
        "report_initial = classification_report(data['y_test'], y_pred)\n",
        "print(report_initial)"
      ],
      "execution_count": 31,
      "outputs": [
        {
          "output_type": "stream",
          "text": [
            "              precision    recall  f1-score   support\n",
            "\n",
            "         0.0       0.87      0.87      0.87    200119\n",
            "         1.0       0.87      0.87      0.87    199881\n",
            "\n",
            "    accuracy                           0.87    400000\n",
            "   macro avg       0.87      0.87      0.87    400000\n",
            "weighted avg       0.87      0.87      0.87    400000\n",
            "\n"
          ],
          "name": "stdout"
        }
      ]
    },
    {
      "cell_type": "code",
      "metadata": {
        "id": "EdSccj1OQEu1",
        "colab_type": "code",
        "colab": {
          "base_uri": "https://localhost:8080/",
          "height": 51
        },
        "outputId": "e30a1b2f-2bc1-406d-b885-5c9be74d9b12"
      },
      "source": [
        "# get real answer probability\n",
        "false_proba = np.count_nonzero(data['y_test']) / data['y_test'].shape[0]\n",
        "true_proba = 1.0 - false_proba\n",
        "print(f'test set normal case probability: {false_proba:.3f}')\n",
        "print(f'test set alcohol case probability: {true_proba:.3f}')"
      ],
      "execution_count": 56,
      "outputs": [
        {
          "output_type": "stream",
          "text": [
            "test set normal case probability: 0.500\n",
            "test set alcohol case probability: 0.500\n"
          ],
          "name": "stdout"
        }
      ]
    },
    {
      "cell_type": "code",
      "metadata": {
        "id": "M6eyE0v3PX8r",
        "colab_type": "code",
        "colab": {
          "base_uri": "https://localhost:8080/",
          "height": 51
        },
        "outputId": "8c40553c-221b-4f9e-b7e8-8442b2820040"
      },
      "source": [
        "# probablistic predictions\n",
        "y_proba = model.predict_proba(data['X_test'])[:,1]\n",
        "y_proba"
      ],
      "execution_count": 52,
      "outputs": [
        {
          "output_type": "execute_result",
          "data": {
            "text/plain": [
              "array([0.90390764, 0.49364601, 0.06424215, ..., 0.01920217, 0.05965128,\n",
              "       0.21067841])"
            ]
          },
          "metadata": {
            "tags": []
          },
          "execution_count": 52
        }
      ]
    },
    {
      "cell_type": "code",
      "metadata": {
        "id": "ENBIVdxPPlCM",
        "colab_type": "code",
        "colab": {
          "base_uri": "https://localhost:8080/",
          "height": 136
        },
        "outputId": "77eaf3e2-1f25-4fb2-eeb8-907b8e67a25a"
      },
      "source": [
        "# First calculate precision and recall using the default (0.5) cut-off\n",
        "y_threshold = np.where(y_proba > 0.5, 1, 0)\n",
        "print(\"Threshold of 0.5:\")\n",
        "print(f\"Precision score: {precision_score(data['y_test'], y_threshold)}\")\n",
        "print(f\"Recall score: {recall_score(data['y_test'], y_threshold)}\")\n",
        "print(\"\")\n",
        "\n",
        "# Calculate the same using a much lower cut-off (0.2)\n",
        "y_threshold = np.where(y_proba > 0.2, 1, 0)\n",
        "print(\"Threshold of 0.2:\")\n",
        "print(f\"Precision score: {precision_score(data['y_test'], y_threshold)}\")\n",
        "print(f\"Recall score: {recall_score(data['y_test'], y_threshold)}\")"
      ],
      "execution_count": 55,
      "outputs": [
        {
          "output_type": "stream",
          "text": [
            "Threshold of 0.5:\n",
            "Precision score: 0.8708107510231169\n",
            "Recall score: 0.8665455946288041\n",
            "\n",
            "Threshold of 0.2:\n",
            "Precision score: 0.7293526248734619\n",
            "Recall score: 0.9480040624171382\n"
          ],
          "name": "stdout"
        }
      ]
    },
    {
      "cell_type": "markdown",
      "metadata": {
        "id": "NqDOmwhMQJXx",
        "colab_type": "text"
      },
      "source": [
        "See how threshold changes prediction"
      ]
    },
    {
      "cell_type": "code",
      "metadata": {
        "id": "XAP6buDxN9dX",
        "colab_type": "code",
        "colab": {
          "base_uri": "https://localhost:8080/",
          "height": 279
        },
        "outputId": "c7c52495-a0ac-4e93-b983-f0bb51a14acd"
      },
      "source": [
        "from sklearn.metrics import accuracy_score\n",
        "\n",
        "# Vary thresholds by 0.05 from 0.05 to 0.95\n",
        "thresholds = np.arange(0.05, 1, 0.05)\n",
        "precisions = list()\n",
        "recalls = list()\n",
        "neg_recalls = list()\n",
        "for threshold in thresholds:\n",
        "    # Apply threshold\n",
        "    y_threshold = np.where(y_proba > threshold, 1, 0)\n",
        "    # Calculate precision and recall\n",
        "    precision = precision_score(data['y_test'], y_threshold)\n",
        "    recall = recall_score(data['y_test'], y_threshold)\n",
        "    neg_recall = recall_score(1-data['y_test'], 1-y_threshold)\n",
        "    # Append to list\n",
        "    precisions.append(precision)\n",
        "    recalls.append(recall)\n",
        "    neg_recalls.append(neg_recall)\n",
        "# Visualize the result\n",
        "plt.figure()\n",
        "plt.plot(thresholds, precisions, label='precision', marker='o')\n",
        "plt.plot(thresholds, recalls, label='recall', marker='o')\n",
        "plt.xlim(0, 1)\n",
        "plt.xlabel('threshold')\n",
        "plt.ylabel('score')\n",
        "plt.legend()\n",
        "plt.show()"
      ],
      "execution_count": 64,
      "outputs": [
        {
          "output_type": "display_data",
          "data": {
            "image/png": "[encoded data removed]",
            "text/plain": [
              "<Figure size 432x288 with 1 Axes>"
            ]
          },
          "metadata": {
            "tags": [],
            "needs_background": "light"
          }
        }
      ]
    },
    {
      "cell_type": "code",
      "metadata": {
        "id": "wVSCsZJVQkJp",
        "colab_type": "code",
        "colab": {
          "base_uri": "https://localhost:8080/",
          "height": 329
        },
        "outputId": "efb9674b-a17f-48c9-a90d-2003ae9eaf1b"
      },
      "source": [
        "from sklearn.metrics import roc_curve, roc_auc_score\n",
        "\n",
        "y_proba_train = model.predict_proba(data['X_train'])[:,1]\n",
        "fprs_train, tprs_train, thresholds_train = roc_curve(data['y_train'], y_proba_train)\n",
        "roc_auc_train = roc_auc_score(data['y_train'], y_proba_train)\n",
        "\n",
        "fprs_test, tprs_test, thresholds_test = roc_curve(data['y_test'], y_proba_test)\n",
        "roc_auc_test = roc_auc_score(data['y_test'], y_proba_test)\n",
        "y_proba_test = model.predict_proba(data['X_test'])[:,1]\n",
        "\n",
        "# Plot the ROC curve.\n",
        "plt.figure()\n",
        "plt.plot(fprs_train, tprs_train, color='blue', lw=2, label='train', linestyle=' ', marker='.')\n",
        "plt.plot(fprs_test, tprs_test, lw=2, color='red', label='test')\n",
        "plt.plot([0, 1], [0, 1], color='navy', lw=2, linestyle='--', label='expected')\n",
        "plt.xlabel('False Positive Rate')\n",
        "plt.ylabel('True Positive Rate')\n",
        "plt.title('ROC and AUC')\n",
        "plt.legend(loc=\"best\")\n",
        "plt.show()\n",
        "print(f\"Test AUC score: {roc_auc_test}\")\n",
        "print(f\"Train AUC score: {roc_auc_train}\")"
      ],
      "execution_count": 73,
      "outputs": [
        {
          "output_type": "display_data",
          "data": {
            "image/png": "[encoded data removed]",
            "text/plain": [
              "<Figure size 432x288 with 1 Axes>"
            ]
          },
          "metadata": {
            "tags": [],
            "needs_background": "light"
          }
        },
        {
          "output_type": "stream",
          "text": [
            "Test AUC score: 0.934435771738624\n",
            "Train AUC score: 0.9346862623899876\n"
          ],
          "name": "stdout"
        }
      ]
    },
    {
      "cell_type": "code",
      "metadata": {
        "id": "qy1VU6_kSAkr",
        "colab_type": "code",
        "colab": {}
      },
      "source": [
        ""
      ],
      "execution_count": null,
      "outputs": []
    }
  ]
}