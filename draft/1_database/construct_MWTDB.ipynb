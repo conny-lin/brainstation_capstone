{
 "cells": [
  {
   "cell_type": "markdown",
   "metadata": {},
   "source": [
    "# Construct MWT DB"
   ]
  },
  {
   "cell_type": "code",
   "execution_count": null,
   "metadata": {},
   "outputs": [],
   "source": [
    "import numpy as np\n",
    "import pandas as pd\n",
    "import os\n",
    "from pathlib import Path\n",
    "from pathlib import PurePath\n",
    "import pathlib\n",
    "import glob\n",
    "import pickle"
   ]
  },
  {
   "cell_type": "code",
   "execution_count": null,
   "metadata": {},
   "outputs": [],
   "source": [
    "dir_drive = '/Volumes/COBOLT'\n",
    "dir_save = '/Users/connylin/Dropbox/CA/ED _20200119 Brain Station Data Science Diploma/Capstone/data'"
   ]
  },
  {
   "cell_type": "markdown",
   "metadata": {},
   "source": [
    "get files under all MWT folders in dir_drive\n",
    "\n",
    "example path: /Volumes/COBOLT/MWT/20190418X_XX_100s30x10s10s_slo1/VG903_400mM/20190418_141335/VG903_OH_15x3_t96h20C_100s30x10s10s_A_0418_jv410014.png\n",
    "\n",
    "parse the file names into:\n",
    "* extension\n",
    "* filename prefix\n",
    "* filename suffix (e.g. shanespark)\n",
    "* mwt name\n",
    "* group name\n",
    "* expname\n",
    "    * exp date\n",
    "    * tracker\n",
    "    * experimenter\n",
    "    * exp condition\n",
    "        * pre-plate\n",
    "        * taps\n",
    "        * ISI\n",
    "        * post-tap\n",
    "    * exp name tag\n",
    "* MWT DB source (e.g. MWT, MWT bad)"
   ]
  },
  {
   "cell_type": "code",
   "execution_count": null,
   "metadata": {},
   "outputs": [],
   "source": [
    "# get files under all MWT folders in dir_drive\n",
    "p = Path(dir_drive)"
   ]
  },
  {
   "cell_type": "code",
   "execution_count": null,
   "metadata": {},
   "outputs": [],
   "source": [
    "[x for x in p.iterdir() if x.is_dir()]"
   ]
  },
  {
   "cell_type": "code",
   "execution_count": null,
   "metadata": {},
   "outputs": [],
   "source": [
    "# get all MWT folders\n",
    "mwt_folders = glob.glob('/Volumes/COBOLT/MWT*')"
   ]
  },
  {
   "cell_type": "markdown",
   "metadata": {},
   "source": [
    "**Note**: glob [documentation](https://docs.python.org/3/library/glob.html)"
   ]
  },
  {
   "cell_type": "code",
   "execution_count": null,
   "metadata": {},
   "outputs": [],
   "source": [
    "allfiles = glob.glob('/Volumes/COBOLT/MWT*/*/*/*/*')"
   ]
  },
  {
   "cell_type": "markdown",
   "metadata": {},
   "source": [
    "save this in pickle file: https://www.jessicayung.com/how-to-use-pickle-to-save-and-load-variables-in-python/\n",
    "\n",
    "to load:\n",
    "\n",
    "`with open(filename, ‘rb’) as f:`\n",
    "\n",
    "`var_you_want_to_load_into = pickle.load(f)`"
   ]
  },
  {
   "cell_type": "code",
   "execution_count": null,
   "metadata": {},
   "outputs": [],
   "source": [
    "path_save = os.path.join(dir_save, 'allfilepaths.pickle')\n",
    "with open(path_save,'wb') as f:\n",
    "    pickle.dump(allfiles,f)"
   ]
  },
  {
   "cell_type": "code",
   "execution_count": null,
   "metadata": {},
   "outputs": [],
   "source": [
    "# take a look at the results I've got\n",
    "len(allfiles)\n",
    "# 1,318,724 files"
   ]
  },
  {
   "cell_type": "markdown",
   "metadata": {},
   "source": [
    "## Create database (seems like a lot of memory - maybe just search it for later)\n",
    "\n",
    "* use `PurePath.parts` to access all parts see doc: https://docs.python.org/3/library/pathlib.html\n",
    "* apply to all paths using `map`. See doc: https://chrisalbon.com/python/basics/applying_functions_to_list_items/\n",
    "    * example:`regimentNamesCapitalized_m = list(map(capitalizer, regimentNames)); regimentNamesCapitalized_m`\n",
    "* glob: https://docs.python.org/3/library/glob.html"
   ]
  },
  {
   "cell_type": "code",
   "execution_count": null,
   "metadata": {},
   "outputs": [],
   "source": [
    "# get paths to .png\n",
    "# test apply all with map\n",
    "path_allfiles_array = np.array(allfiles)\n",
    "# create paths objects\n",
    "path_obj = list(map(PurePath,path_allfiles_array))\n",
    "# get extension \n",
    "file_ext = np.array(list(map(lambda x: x.suffix, path_obj)))\n",
    "# get extension = png\n",
    "path_png = path_allfiles_array[file_ext == '.png']"
   ]
  },
  {
   "cell_type": "code",
   "execution_count": null,
   "metadata": {},
   "outputs": [],
   "source": [
    "print(f'{len(path_png)} png files') # get how many png"
   ]
  },
  {
   "cell_type": "code",
   "execution_count": null,
   "metadata": {},
   "outputs": [],
   "source": [
    "# make sure there aren't any duplicates\n",
    "len(set(path_png))"
   ]
  },
  {
   "cell_type": "code",
   "execution_count": null,
   "metadata": {},
   "outputs": [],
   "source": [
    "# parse just the png files\n",
    "test_paths = path_png\n",
    "# create paths objects\n",
    "path_obj = list(map(PurePath,test_paths))"
   ]
  },
  {
   "cell_type": "code",
   "execution_count": null,
   "metadata": {},
   "outputs": [],
   "source": [
    "# get parts\n",
    "path_parts = list(map(lambda x: np.array(x.parts),path_obj))\n",
    "# get length of each parts\n",
    "part_numbers = list(map(lambda x: len(x),path_parts))\n",
    "# check which paths has 8 parts\n",
    "part_number_is_8 = np.array(part_numbers) == 8\n",
    "# convert path parts to numpy array\n",
    "file_parts_nparray = np.array(path_parts)\n",
    "# get only file parts with 8 parts into dataframe\n",
    "df = pd.DataFrame(file_parts_nparray[part_number_is_8], \n",
    "             columns=['remove','volume','drivename','dbname','expname','groupname','mwtname','filename'])\n",
    "# add absolute path\n",
    "test_paths_array = np.array(test_paths)\n",
    "df['path'] = test_paths_array[part_number_is_8]\n",
    "# add file name\n",
    "file_names = list(map(lambda x: x.stem, path_obj))\n",
    "df['fname'] = file_names\n",
    "# add extension name\n",
    "df['ext']  = list(map(lambda x: x.suffix, path_obj))\n",
    "# search for suffixes\n",
    "df['analysis_tag'] = list(map(lambda x: np.setdiff1d(x.suffixes, x.suffix), path_obj))\n",
    "# remove unnecesary\n",
    "df.drop(['remove','volume','drivename'],axis=1,inplace=True)\n"
   ]
  },
  {
   "cell_type": "code",
   "execution_count": null,
   "metadata": {},
   "outputs": [],
   "source": [
    "# save png file dataframe\n",
    "path_save = os.path.join(dir_save, 'path_png.pickle')\n",
    "with open(path_save,'wb') as f:\n",
    "    pickle.dump(df,f)"
   ]
  },
  {
   "cell_type": "code",
   "execution_count": null,
   "metadata": {},
   "outputs": [],
   "source": [
    "# experimenter\n",
    "# tracker\n",
    "# expdate\n",
    "# preplate\n",
    "# tap\n",
    "# ISI\n",
    "# posttap\n",
    "# exp_description"
   ]
  },
  {
   "cell_type": "code",
   "execution_count": null,
   "metadata": {},
   "outputs": [],
   "source": [
    "# get only file parts with 8 parts into dataframe\n"
   ]
  },
  {
   "cell_type": "code",
   "execution_count": null,
   "metadata": {},
   "outputs": [],
   "source": []
  }
 ],
 "metadata": {
  "kernelspec": {
   "display_name": "Python 3",
   "language": "python",
   "name": "python3"
  },
  "language_info": {
   "codemirror_mode": {
    "name": "ipython",
    "version": 3
   },
   "file_extension": ".py",
   "mimetype": "text/x-python",
   "name": "python",
   "nbconvert_exporter": "python",
   "pygments_lexer": "ipython3",
   "version": "3.7.7"
  }
 },
 "nbformat": 4,
 "nbformat_minor": 4
}
