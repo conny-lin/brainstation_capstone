{
  "nbformat": 4,
  "nbformat_minor": 0,
  "metadata": {
    "kernelspec": {
      "display_name": "Python 3",
      "language": "python",
      "name": "python3"
    },
    "language_info": {
      "codemirror_mode": {
        "name": "ipython",
        "version": 3
      },
      "file_extension": ".py",
      "mimetype": "text/x-python",
      "name": "python",
      "nbconvert_exporter": "python",
      "pygments_lexer": "ipython3",
      "version": "3.7.7-final"
    },
    "colab": {
      "name": "SVM_nutcracker.ipynb",
      "provenance": []
    }
  },
  "cells": [
    {
      "cell_type": "markdown",
      "metadata": {
        "id": "2SrHY2hfsO1D",
        "colab_type": "text"
      },
      "source": [
        "# SVM \n",
        "Conny Lin | started: June 11, 2020 | updated: June 20, 2020\n",
        "\n",
        "\n",
        "[C-Support Vector Classification](https://scikit-learn.org/stable/modules/generated/sklearn.svm.SVC.html)\n",
        "\n",
        "The implementation is based on libsvm. The fit time scales at least quadratically with the number of samples and may be impractical beyond tens of thousands of samples. For large datasets consider using sklearn.svm.LinearSVC or sklearn.linear_model.SGDClassifier instead, possibly after a sklearn.kernel_approximation.Nystroem transformer.\n",
        "\n",
        "[User Guide](https://scikit-learn.org/stable/modules/svm.html)\n",
        "\n",
        "The advantages of support vector machines are:\n",
        "\n",
        "* Effective in high dimensional spaces.\n",
        "* Still effective in cases where number of dimensions is greater than the number of samples.\n",
        "* Uses a subset of training points in the decision function (called support vectors), so it is also memory efficient.\n",
        "* Versatile: different Kernel functions can be specified for the decision function. Common kernels are provided, but it is also possible to specify custom kernels.\n",
        "\n",
        "The disadvantages of support vector machines include:\n",
        "* If the number of features is much greater than the number of samples, avoid over-fitting in choosing Kernel functions and regularization term is crucial.\n",
        "* SVMs do not directly provide probability estimates, these are calculated using an expensive five-fold cross-validation (see Scores and probabilities, below)."
      ]
    },
    {
      "cell_type": "markdown",
      "metadata": {
        "id": "qga0qinfshZW",
        "colab_type": "text"
      },
      "source": [
        "## set up\n"
      ]
    },
    {
      "cell_type": "markdown",
      "metadata": {
        "id": "Pz2cBvpEsjWp",
        "colab_type": "text"
      },
      "source": [
        "### local computer"
      ]
    },
    {
      "cell_type": "code",
      "metadata": {
        "tags": [],
        "id": "9Mr126c_sNFL",
        "colab_type": "code",
        "colab": {},
        "outputId": "1dead0f7-55a2-4521-cadc-f923659c3ce2"
      },
      "source": [
        "# import local libraries using host specific paths\n",
        "import socket, sys, time, datetime, os\n",
        "import numpy as np\n",
        "import pandas as pd\n",
        "import matplotlib.pyplot as plt\n",
        "\n",
        "# get paths for local computer\n",
        "hostname = socket.gethostname().split('.')[0]\n",
        "# set local path settings based on computer host\n",
        "if hostname == 'PFC':\n",
        "    pylibrary = '/Users/connylin/Dropbox/Code/proj'\n",
        "elif hostname == 'Angular-Gyrus':\n",
        "    pylibrary = '/Users/connylin/Code/proj'\n",
        "else:\n",
        "    assert False, 'host computer not regonized'\n",
        "\n",
        "# import local variables\n",
        "if pylibrary not in sys.path:\n",
        "    sys.path.insert(1, pylibrary)\n",
        "from brainstation_capstone.ml.toolbox.mlSOP import test_model\n",
        "from brainstation_capstone.ml.toolbox.mlSOP import ml_timer\n",
        "from brainstation_capstone.ml.toolbox.mlSOP import ModelEvaluation\n",
        "from brainstation_capstone.system import host_paths\n",
        "localpaths = host_paths.get(hostname)\n",
        "data_dir = os.path.join(localpaths['Capstone'], 'data')\n",
        "\n",
        "# report latest run\n",
        "print(f'last ran on: {datetime.datetime.now()} PT')"
      ],
      "execution_count": null,
      "outputs": [
        {
          "output_type": "stream",
          "text": [
            "getting host computer specific paths\n",
            "None\n",
            "None\n"
          ],
          "name": "stdout"
        }
      ]
    },
    {
      "cell_type": "markdown",
      "metadata": {
        "id": "mOTz2GmtsmoX",
        "colab_type": "text"
      },
      "source": [
        "### google colab"
      ]
    },
    {
      "cell_type": "code",
      "metadata": {
        "id": "TeNcE-IdsonS",
        "colab_type": "code",
        "colab": {
          "base_uri": "https://localhost:8080/",
          "height": 54
        },
        "outputId": "92913836-a768-4b3d-89de-e30795ff64c7"
      },
      "source": [
        "# connect to google drive\n",
        "from google.colab import drive\n",
        "drive.mount('/content/gdrive')"
      ],
      "execution_count": 2,
      "outputs": [
        {
          "output_type": "stream",
          "text": [
            "Drive already mounted at /content/gdrive; to attempt to forcibly remount, call drive.mount(\"/content/gdrive\", force_remount=True).\n"
          ],
          "name": "stdout"
        }
      ]
    },
    {
      "cell_type": "code",
      "metadata": {
        "id": "393j52fssqxo",
        "colab_type": "code",
        "colab": {
          "base_uri": "https://localhost:8080/",
          "height": 34
        },
        "outputId": "8bb0a6d9-641b-4ada-efea-4c9ccd5a04d5"
      },
      "source": [
        "# import functions and data\n",
        "print('import functions')\n",
        "import pandas as pd\n",
        "import numpy as np\n",
        "import os, time, datetime\n",
        "import matplotlib.pyplot as plt\n",
        "\n",
        "# define file directory\n",
        "data_dir = '/content/gdrive/My Drive/ED Brain Station/data'\n",
        "\n",
        "class test_model:\n",
        "    def __init__(self):\n",
        "        # set test and train score\n",
        "        self.test_acc = []\n",
        "        self.train_acc = []\n",
        "    def score_data(self, model, datadict):\n",
        "        self.model = model\n",
        "        self.data = datadict\n",
        "        # fit model\n",
        "        self.model.fit(self.data['X_train'], self.data['y_train'])\n",
        "        # train score\n",
        "        train_score = self.model.score(self.data['X_train'], self.data['y_train'])\n",
        "        print(f\"\\tTrain Score: {train_score}\")\n",
        "        self.train_acc.append(train_score)\n",
        "        # test score\n",
        "        test_score = self.model.score(self.data['X_test'], self.data['y_test'])\n",
        "        print(f\"\\tTest Score: {test_score}\")\n",
        "        self.test_acc.append(test_score)\n",
        "\n",
        "class ml_timer:\n",
        "    def __init__(self):\n",
        "        # initate session start time\n",
        "        self.start = time.time()\n",
        "        # initiate holder for times\n",
        "        self.session_times = []\n",
        "        print('timer starts')\n",
        "\n",
        "    def param_start(self):\n",
        "        # update current session start time\n",
        "        self.current_session_start = time.time()\n",
        "\n",
        "    def param_end(self):\n",
        "        end_time = time.time()\n",
        "        elapsed_time = end_time - self.current_session_start\n",
        "        print(f'\\telapsed time {elapsed_time/60:.3f} min')\n",
        "        self.session_times.append(elapsed_time)\n",
        "    \n",
        "    def session_end(self):\n",
        "        self.end = time.time()\n",
        "    \n",
        "    def get_time(self):\n",
        "        self.session_times = (self.end - self.start)/60\n",
        "        print(f'total time: {self.session_times:.3f} min')\n",
        "        return self.session_times\n",
        "\n",
        "def hyperparameterplot(hyperparameter_list, train_score_list, test_score_list, \\\n",
        "                        hyperparameter_name='', xscale='linear', titlename=''):\n",
        "    # check if hyperparameter list is string or number\n",
        "    if isinstance(hyperparameter_list[0], str):\n",
        "        hyperparameter_label = hyperparameter_list.copy()\n",
        "        hyperparameter_list = range(len(hyperparameter_list))\n",
        "    # graph\n",
        "    plt.figure()\n",
        "    plt.plot(hyperparameter_list, train_score_list, color='blue', label='train')\n",
        "    plt.plot(hyperparameter_list, test_score_list, color='red', label='test')\n",
        "    plt.title(titlename)\n",
        "    plt.xlabel(hyperparameter_name)\n",
        "    if isinstance(hyperparameter_list[0], str):\n",
        "        plt.xticks(labels=hyperparameter_label)\n",
        "    plt.ylabel('accuracy score')\n",
        "    plt.xscale(xscale)\n",
        "    plt.legend()\n",
        "    plt.show()\n",
        "\n",
        "def load_nutcracker_csv(dir_datafolder):\n",
        "    datatype = ['X_train','X_test','y_train','y_test']\n",
        "    print(f'loading {len(datatype)} files')\n",
        "    datadict = dict()\n",
        "    for i, dname in enumerate(datatype):\n",
        "        print(f'loading file: {i}', end='\\r')\n",
        "        filename = 'nutcracker' + '_' + dname + '.csv'\n",
        "        filepath = os.path.join(dir_datafolder, filename)\n",
        "        data = pd.read_csv(filepath, header=None, index_col=False)\n",
        "        datadict[dname] = data.to_numpy()\n",
        "    print('\\nloading completed')\n",
        "    return datadict\n",
        "\n",
        "\n",
        "\n",
        "class ModelEvaluation:\n",
        "    def __init__(self, model, data_dir):\n",
        "        self.model = model\n",
        "        self.data_dir = data_dir\n",
        "    \n",
        "    def load_data(self):\n",
        "        if not hasattr(self, 'data'):\n",
        "            self.data = load_nutcracker_csv(self.data_dir)\n",
        "\n",
        "    def cross_val_score(self, cv=5):\n",
        "        timer = ml_timer()\n",
        "        if not hasattr(self, 'data'):\n",
        "            self.load_data()\n",
        "        from sklearn.model_selection import cross_val_score\n",
        "        scores = cross_val_score(self.model, \n",
        "                    self.data['X_train'], \n",
        "                    self.data['y_train'], \n",
        "                    cv=cv)\n",
        "        timer.session_end()\n",
        "        self.runtime_crossval = timer.get_time()\n",
        "        print(f'cross validation scores: {scores}')\n",
        "        print(f'validation score (mean):{np.mean(scores)}')\n",
        "        print(f'validation score (std):{np.std(scores)}')\n",
        "        self.cross_val_score_ = scores\n",
        "        return self.cross_val_score_\n",
        "    \n",
        "    def fitmodel(self):\n",
        "        if not hasattr(self, 'data'):\n",
        "            self.load_data()\n",
        "        self.model.fit(self.data['X_train'], self.data['y_train'])\n",
        "        return self.model\n",
        "    \n",
        "    def predict(self):\n",
        "        if not hasattr(self, 'data'):\n",
        "            self.load_data()\n",
        "        timer = ml_timer()\n",
        "        self.y_pred_test = self.model.predict(self.data['X_test'])\n",
        "        timer.session_end()\n",
        "        self.runtime_predict = timer.get_time()\n",
        "        self.y_pred_train = self.model.predict(self.data['X_train'])\n",
        "\n",
        "    def accuracy_score(self):\n",
        "        if not hasattr(self, 'data'):\n",
        "            self.load_data()\n",
        "        self.score_train = self.model.score(self.data[\"X_train\"], self.data['y_train'])\n",
        "        print(f'accuracy score on train: {self.score_train}')\n",
        "        self.score_test = self.model.score(self.data['X_test'], self.data['y_test'])\n",
        "        print(f'accuracy score on test: {self.score_test}')\n",
        "        return self.score_train, self.score_test\n",
        "\n",
        "    def confusion_matrix(self):\n",
        "        if not hasattr(self, 'y_pred_test'):\n",
        "            self.predict()\n",
        "        # fitmodel and predict must proceed this.\n",
        "        # define dataframe labels\n",
        "        columns = ['Predicted normal', 'Predicted alcohol']\n",
        "        indexname = ['True normal', 'True alcohol']\n",
        "        from sklearn.metrics import confusion_matrix\n",
        "        # run confusion matrix - test\n",
        "        self.conf_matrix_test = confusion_matrix(self.data['y_test'], self.y_pred_test, \n",
        "                                            normalize='true')\n",
        "        conf_matrix_test_df = pd.DataFrame(self.conf_matrix_test, columns=columns)\n",
        "        conf_matrix_test_df.index = indexname\n",
        "        print('\\nconfusion matrix: test data')\n",
        "        print(conf_matrix_test_df)\n",
        "        # run confusion matrix - train\n",
        "        self.conf_matrix_train = confusion_matrix(self.data['y_train'], \n",
        "                                            self.y_pred_train, \n",
        "                                            normalize='true')\n",
        "        conf_matrix_train_df = pd.DataFrame(self.conf_matrix_train, columns=columns)\n",
        "        conf_matrix_train_df.index = indexname\n",
        "        print('\\nconfusion matrix: train data')\n",
        "        print(conf_matrix_train_df)\n",
        "        return self.conf_matrix_test, self.conf_matrix_train\n",
        "    \n",
        "    def display_confusion_matrix(self):\n",
        "        if not hasattr(self, 'conf_matrix_test'):\n",
        "            self.confusion_matrix()\n",
        "        # confusion_matrix must proceed this\n",
        "        display_labels = ['normal', 'alcohol']\n",
        "        from sklearn.metrics import ConfusionMatrixDisplay\n",
        "        print('\\nconfusion matrix for test')\n",
        "        plt.figure()\n",
        "        ConfusionMatrixDisplay(self.conf_matrix_test, display_labels=display_labels).plot()\n",
        "        plt.show()\n",
        "        print('\\nconfusion matrix for train')\n",
        "        plt.figure()\n",
        "        ConfusionMatrixDisplay(self.conf_matrix_train, display_labels=display_labels).plot()\n",
        "        plt.show()\n",
        "\n",
        "    def classification_report(self):\n",
        "        if not hasattr(self, 'y_pred_test'):\n",
        "            self.predict()\n",
        "        from sklearn.metrics import classification_report\n",
        "        self.eval_score_report = classification_report(self.data['y_test'], \n",
        "                                                        self.y_pred_test)\n",
        "        print(self.eval_score_report)\n",
        "    \n",
        "    def print_evaluation_scores(self):\n",
        "        if not hasattr(self, 'y_pred_test'):\n",
        "            self.predict()        \n",
        "        from sklearn.metrics import precision_score\n",
        "        from sklearn.metrics import recall_score\n",
        "        from sklearn.metrics import f1_score\n",
        "        self.precision_score = precision_score(self.data[\"y_test\"], self.y_pred_test)\n",
        "        self.recall_score = recall_score(self.data[\"y_test\"], self.y_pred_test)\n",
        "        self.f1_score = f1_score(self.data[\"y_test\"], self.y_pred_test)\n",
        "        print(f'precision_score = {self.precision_score}')\n",
        "        print(f'recall_score = {self.recall_score}')\n",
        "        print(f'f1_score = {self.f1_score}')\n",
        "    \n",
        "    def test_data_class_proba(self):\n",
        "        if not hasattr(self, 'data'):\n",
        "            self.load_data()        \n",
        "        false_proba = np.count_nonzero(self.data['y_test']) / self.data['y_test'].shape[0]\n",
        "        true_proba = 1.0 - false_proba\n",
        "        print(f'test set normal case probability: {false_proba}')\n",
        "        print(f'test set alcohol case probability: {true_proba}')\n",
        "        self.real_proba = dict()\n",
        "        self.real_proba['false_proba'] = false_proba\n",
        "        self.real_proba['true_proba'] = true_proba\n",
        "    \n",
        "    def predict_proba(self):\n",
        "        if not hasattr(self, 'data'):\n",
        "            self.load_data()\n",
        "        self.y_proba_test = self.model.predict_proba(self.data['X_test'])[:,1]\n",
        "        self.y_proba_train = self.model.predict_proba(self.data['X_train'])[:,1]\n",
        "        return self.y_proba_test, self.y_proba_train\n",
        "\n",
        "    def proba_thresholds(self):\n",
        "        if not hasattr(self, 'data'):\n",
        "            self.load_data()\n",
        "        from sklearn.metrics import accuracy_score\n",
        "        from sklearn.metrics import precision_score\n",
        "        from sklearn.metrics import recall_score\n",
        "        # Vary thresholds by 0.05 from 0.05 to 0.95\n",
        "        thresholds = np.arange(0.05, 1, 0.05)\n",
        "        precisions = list()\n",
        "        recalls = list()\n",
        "        neg_recalls = list()\n",
        "        for threshold in thresholds:\n",
        "            # Apply threshold\n",
        "            y_threshold = np.where(self.y_proba_test > threshold, 1, 0)\n",
        "            # Calculate precision and recall\n",
        "            precision = precision_score(self.data['y_test'], y_threshold)\n",
        "            recall = recall_score(self.data['y_test'], y_threshold)\n",
        "            neg_recall = recall_score(1-self.data['y_test'], 1-y_threshold)\n",
        "            # Append to list\n",
        "            precisions.append(precision)\n",
        "            recalls.append(recall)\n",
        "            neg_recalls.append(neg_recall)\n",
        "        # Visualize the result\n",
        "        plt.figure()\n",
        "        plt.plot(thresholds, precisions, label='precision', marker='o')\n",
        "        plt.plot(thresholds, recalls, label='recall', marker='o')\n",
        "        plt.xlim(0, 1)\n",
        "        plt.xlabel('threshold')\n",
        "        plt.ylabel('score')\n",
        "        plt.legend()\n",
        "        plt.show()\n",
        "        return precisions, recalls, neg_recalls\n",
        "        \n",
        "    def roc_auc(self):\n",
        "        if hasattr(self, 'y_proba_train'):\n",
        "            self.predict_proba()\n",
        "        from sklearn.metrics import roc_curve, roc_auc_score\n",
        "        # get roc auc train\n",
        "        fprs_train, tprs_train, thresholds_train = roc_curve(self.data['y_train'], self.y_proba_train)\n",
        "        roc_auc_train = roc_auc_score(self.data['y_train'], self.y_proba_train)\n",
        "        # get roc auc test\n",
        "        fprs_test, tprs_test, thresholds_test = roc_curve(self.data['y_test'], self.y_proba_test)\n",
        "        roc_auc_test = roc_auc_score(self.data['y_test'], self.y_proba_test)\n",
        "        # Plot the ROC curve.\n",
        "        plt.figure()\n",
        "        plt.plot(fprs_train, tprs_train, color='gray', lw=5, label='train', linestyle=' ', marker='.')\n",
        "        plt.plot(fprs_test, tprs_test, lw=1, color='red', label='test')\n",
        "        plt.plot([0, 1], [0, 1], color='navy', lw=2, linestyle='--', label='expected')\n",
        "        plt.xlabel('False Positive Rate')\n",
        "        plt.ylabel('True Positive Rate')\n",
        "        plt.title('ROC and AUC')\n",
        "        plt.legend(loc=\"best\")\n",
        "        plt.show()\n",
        "        print(f\"Test AUC score: {roc_auc_test}\")\n",
        "        print(f\"Train AUC score: {roc_auc_train}\")\n",
        "        self.roc_auc_test = roc_auc_test\n",
        "        self.roc_auc_train = roc_auc_train\n",
        "    \n",
        "    def save(self, savedir):\n",
        "        # remove data from object to save space\n",
        "        if hasattr(self, 'data'):\n",
        "            delattr(self, 'data')\n",
        "        if hasattr(self, 'y_pred_test'):\n",
        "            delattr(self, 'y_pred_test')\n",
        "        if hasattr(self, 'y_pred_train'):\n",
        "            delattr(self, 'y_pred_train')\n",
        "        if hasattr(self, 'y_proba_test'):\n",
        "            delattr(self, 'y_proba_test') \n",
        "        if hasattr(self, 'y_proba_train'):\n",
        "            delattr(self, 'y_proba_train') \n",
        "        # get model name\n",
        "        model_type = type(self.model)\n",
        "        model_type_str  = str(model_type)\n",
        "        model_name_components = model_type_str.split('.')\n",
        "        model_name = model_name_components[-1].replace(\"'>\",\"\")\n",
        "        # save\n",
        "        import pickle, os\n",
        "        savepath = os.path.join(savedir, model_name+'_eval.pickle')\n",
        "        pickle.dump(self, open(savepath, 'wb'))\n",
        "\n",
        "    def excel_input_array(self):\n",
        "        report = [np.mean(self.cross_val_score_),\n",
        "                    np.std(self.cross_val_score_),\n",
        "                    self.score_train,\n",
        "                    self.score_test,\n",
        "                    self.precision_score,\n",
        "                    self.recall_score,\n",
        "                    self.f1_score]\n",
        "        if hasattr(self, 'roc_auc_train'):\n",
        "            report.append(self.roc_auc_train)\n",
        "            report.append(self.roc_auc_test)\n",
        "        report.append(self.runtime_crossval)\n",
        "        report.append(self.runtime_predict)\n",
        "        print(report)\n",
        "        print(self.model)\n",
        "    \n",
        "    def standard(self, save_dir):\n",
        "        if not hasattr(self.model, 'predict_proba'):\n",
        "            print('confirm: model has no predict_proba')\n",
        "        print('\\nloading data from directory')\n",
        "        self.load_data()\n",
        "        print('\\nruning cross validation scores (this takes a while):')\n",
        "        self.cross_val_score(5)\n",
        "        print('\\nfit model...')\n",
        "        self.fitmodel()\n",
        "        print('predict model...')\n",
        "        self.predict()\n",
        "        print('\\naccuracy scores:')\n",
        "        self.accuracy_score()\n",
        "        print('\\nconfusion matrix:')\n",
        "        self.confusion_matrix()\n",
        "        self.display_confusion_matrix()\n",
        "        print('\\nclassification report:')\n",
        "        self.classification_report()\n",
        "        self.print_evaluation_scores()\n",
        "        if hasattr(self.model, 'predict_proba'):\n",
        "            print('\\nreal data class proba:')\n",
        "            self.test_data_class_proba()\n",
        "            print('\\n prediction proba:')\n",
        "            self.predict_proba()\n",
        "            print('\\nproba threshold analysis:')\n",
        "            self.proba_thresholds()\n",
        "            print('\\nROC AUC analysis:')\n",
        "            self.roc_auc()\n",
        "            print('\\nSaving model...')\n",
        "        else:\n",
        "            print('\\nthis model does not have predict_proba attr')\n",
        "        self.save(save_dir)\n",
        "        print('\\nexcel record:')\n",
        "        self.excel_input_array()"
      ],
      "execution_count": 6,
      "outputs": [
        {
          "output_type": "stream",
          "text": [
            "import functions\n"
          ],
          "name": "stdout"
        }
      ]
    },
    {
      "cell_type": "code",
      "metadata": {
        "id": "vGakazlWZJdY",
        "colab_type": "code",
        "colab": {}
      },
      "source": [
        "# get files from google drive\n",
        "print('loading data to data dictionary')\n",
        "datatype = ['X_train','X_test','y_train','y_test']\n",
        "dataname = 'nutcracker'\n",
        "data = dict()\n",
        "for i, dname in enumerate(datatype):\n",
        "    print(f'loading file: {i}', end='\\r')\n",
        "    filename = dataname + '_' + dname + '.csv'\n",
        "    filepath = os.path.join(data_dir, filename)\n",
        "    data[dname] = np.loadtxt(filepath, delimiter=',')\n",
        "print('loading completed')\n",
        "# print the array shape to confirm successful loading\n",
        "print(data['X_train'].shape)\n",
        "# report time run\n",
        "print(f'last ran on: {datetime.datetime.now()} PT')"
      ],
      "execution_count": null,
      "outputs": []
    },
    {
      "cell_type": "markdown",
      "metadata": {
        "id": "Qb9fjRtZssgw",
        "colab_type": "text"
      },
      "source": [
        "## tune C: 0.0001 - 1000000\n",
        "lower C seems to be better"
      ]
    },
    {
      "cell_type": "code",
      "metadata": {
        "id": "KX18VQ1tsNFR",
        "colab_type": "code",
        "colab": {}
      },
      "source": [
        "# ML specific \n",
        "outputfolder = os.path.join(pCapstone,'ml_svm')\n",
        "from sklearn.svm import LinearSVC\n",
        "from sklearn.svm import SVC"
      ],
      "execution_count": null,
      "outputs": []
    },
    {
      "cell_type": "code",
      "metadata": {
        "id": "swlFmc5dsNFY",
        "colab_type": "code",
        "colab": {}
      },
      "source": [
        "from brainstation_capstone.etl.datatransform import Nutcracker\n",
        "NC = Nutcracker(datapath)\n",
        "X_train, X_test, y_train, y_test = NC.mldata()"
      ],
      "execution_count": null,
      "outputs": []
    },
    {
      "cell_type": "code",
      "metadata": {
        "id": "sFaJe5hesNFg",
        "colab_type": "code",
        "colab": {},
        "outputId": "fe5d7fa5-a531-42f5-f9de-fd5d5430fbce"
      },
      "source": [
        "X_train.shape"
      ],
      "execution_count": null,
      "outputs": [
        {
          "output_type": "execute_result",
          "data": {
            "text/plain": [
              "(1600000, 21)"
            ]
          },
          "metadata": {
            "tags": []
          },
          "execution_count": 9
        }
      ]
    },
    {
      "cell_type": "code",
      "metadata": {
        "id": "aR73dD2XsNFj",
        "colab_type": "code",
        "colab": {},
        "outputId": "3e97d8aa-a63b-46e5-c924-b43d92ab9e3b"
      },
      "source": [
        "X_test.shape"
      ],
      "execution_count": null,
      "outputs": [
        {
          "output_type": "execute_result",
          "data": {
            "text/plain": [
              "(400000, 21)"
            ]
          },
          "metadata": {
            "tags": []
          },
          "execution_count": 12
        }
      ]
    },
    {
      "cell_type": "code",
      "metadata": {
        "id": "ZXBGtp0wsNFm",
        "colab_type": "code",
        "colab": {},
        "outputId": "9a8246a8-9fee-4478-b55b-d68104aebb04"
      },
      "source": [
        "train_scores = []\n",
        "test_scores = []\n",
        "kernel=['linear','rbf','poly']\n",
        "max_iter = 1000\n",
        "\n",
        "for i in range(-5,6):\n",
        "    c = 10**i\n",
        "    print(f'running c={c}')\n",
        "    my_svm = LinearSVC(C=c, max_iter=1000)\n",
        "    my_svm.fit(X_train, y_train)\n",
        "\n",
        "    train_scores.append(my_svm.score(X_train, y_train))\n",
        "    test_scores.append(my_svm.score(X_test, y_test))\n",
        "\n",
        "plt.figure()\n",
        "plt.plot(range(-5,6), train_scores, label=\"train scores\")\n",
        "plt.plot(range(-5,6), test_scores, label=\"test scores\")\n",
        "plt.legend()\n",
        "plt.ylim(0.5, 1.1)\n",
        "plt.xlabel(\"Exponent for C\")\n",
        "plt.show()\n",
        "\n",
        "print(np.max(test_scores))"
      ],
      "execution_count": null,
      "outputs": [
        {
          "output_type": "stream",
          "text": [
            "running c=1e-05\n",
            "running c=0.0001\n"
          ],
          "name": "stdout"
        },
        {
          "output_type": "stream",
          "text": [
            "/Users/connylin/opt/anaconda3/lib/python3.6/site-packages/sklearn/svm/_base.py:947: ConvergenceWarning: Liblinear failed to converge, increase the number of iterations.\n",
            "  \"the number of iterations.\", ConvergenceWarning)\n"
          ],
          "name": "stderr"
        },
        {
          "output_type": "stream",
          "text": [
            "running c=0.001\n"
          ],
          "name": "stdout"
        },
        {
          "output_type": "stream",
          "text": [
            "/Users/connylin/opt/anaconda3/lib/python3.6/site-packages/sklearn/svm/_base.py:947: ConvergenceWarning: Liblinear failed to converge, increase the number of iterations.\n",
            "  \"the number of iterations.\", ConvergenceWarning)\n"
          ],
          "name": "stderr"
        },
        {
          "output_type": "stream",
          "text": [
            "running c=0.01\n"
          ],
          "name": "stdout"
        },
        {
          "output_type": "stream",
          "text": [
            "/Users/connylin/opt/anaconda3/lib/python3.6/site-packages/sklearn/svm/_base.py:947: ConvergenceWarning: Liblinear failed to converge, increase the number of iterations.\n",
            "  \"the number of iterations.\", ConvergenceWarning)\n"
          ],
          "name": "stderr"
        },
        {
          "output_type": "stream",
          "text": [
            "running c=0.1\n"
          ],
          "name": "stdout"
        },
        {
          "output_type": "stream",
          "text": [
            "/Users/connylin/opt/anaconda3/lib/python3.6/site-packages/sklearn/svm/_base.py:947: ConvergenceWarning: Liblinear failed to converge, increase the number of iterations.\n",
            "  \"the number of iterations.\", ConvergenceWarning)\n"
          ],
          "name": "stderr"
        },
        {
          "output_type": "stream",
          "text": [
            "running c=1\n"
          ],
          "name": "stdout"
        },
        {
          "output_type": "stream",
          "text": [
            "/Users/connylin/opt/anaconda3/lib/python3.6/site-packages/sklearn/svm/_base.py:947: ConvergenceWarning: Liblinear failed to converge, increase the number of iterations.\n",
            "  \"the number of iterations.\", ConvergenceWarning)\n"
          ],
          "name": "stderr"
        },
        {
          "output_type": "stream",
          "text": [
            "running c=10\n"
          ],
          "name": "stdout"
        },
        {
          "output_type": "stream",
          "text": [
            "/Users/connylin/opt/anaconda3/lib/python3.6/site-packages/sklearn/svm/_base.py:947: ConvergenceWarning: Liblinear failed to converge, increase the number of iterations.\n",
            "  \"the number of iterations.\", ConvergenceWarning)\n"
          ],
          "name": "stderr"
        },
        {
          "output_type": "stream",
          "text": [
            "running c=100\n"
          ],
          "name": "stdout"
        },
        {
          "output_type": "stream",
          "text": [
            "/Users/connylin/opt/anaconda3/lib/python3.6/site-packages/sklearn/svm/_base.py:947: ConvergenceWarning: Liblinear failed to converge, increase the number of iterations.\n",
            "  \"the number of iterations.\", ConvergenceWarning)\n"
          ],
          "name": "stderr"
        },
        {
          "output_type": "stream",
          "text": [
            "running c=1000\n"
          ],
          "name": "stdout"
        },
        {
          "output_type": "stream",
          "text": [
            "/Users/connylin/opt/anaconda3/lib/python3.6/site-packages/sklearn/svm/_base.py:947: ConvergenceWarning: Liblinear failed to converge, increase the number of iterations.\n",
            "  \"the number of iterations.\", ConvergenceWarning)\n"
          ],
          "name": "stderr"
        },
        {
          "output_type": "stream",
          "text": [
            "running c=10000\n"
          ],
          "name": "stdout"
        },
        {
          "output_type": "stream",
          "text": [
            "/Users/connylin/opt/anaconda3/lib/python3.6/site-packages/sklearn/svm/_base.py:947: ConvergenceWarning: Liblinear failed to converge, increase the number of iterations.\n",
            "  \"the number of iterations.\", ConvergenceWarning)\n"
          ],
          "name": "stderr"
        },
        {
          "output_type": "stream",
          "text": [
            "running c=100000\n"
          ],
          "name": "stdout"
        },
        {
          "output_type": "stream",
          "text": [
            "/Users/connylin/opt/anaconda3/lib/python3.6/site-packages/sklearn/svm/_base.py:947: ConvergenceWarning: Liblinear failed to converge, increase the number of iterations.\n",
            "  \"the number of iterations.\", ConvergenceWarning)\n"
          ],
          "name": "stderr"
        },
        {
          "output_type": "display_data",
          "data": {
            "image/png": "[encoded data removed]",
            "text/plain": [
              "<Figure size 432x288 with 1 Axes>"
            ]
          },
          "metadata": {
            "tags": [],
            "needs_background": "light"
          }
        },
        {
          "output_type": "stream",
          "text": [
            "0.8670525\n"
          ],
          "name": "stdout"
        }
      ]
    },
    {
      "cell_type": "code",
      "metadata": {
        "id": "ufmrwaGCsNFt",
        "colab_type": "code",
        "colab": {},
        "outputId": "12d46eb2-9458-44ad-d3d9-d8d50d4bea6c"
      },
      "source": [
        "plt.figure()\n",
        "plt.plot(range(-5,6), train_scores, label=\"train scores\")\n",
        "# plt.plot(range(-5,6), test_scores, label=\"test scores\")\n",
        "plt.legend()\n",
        "plt.ylim(0.5, 1.1)\n",
        "plt.xlabel(\"Exponent for C\")\n",
        "plt.show()\n",
        "\n",
        "print(np.max(test_scores))\n"
      ],
      "execution_count": null,
      "outputs": [
        {
          "output_type": "display_data",
          "data": {
            "image/png": "[encoded data removed]",
            "text/plain": [
              "<Figure size 432x288 with 1 Axes>"
            ]
          },
          "metadata": {
            "tags": [],
            "needs_background": "light"
          }
        },
        {
          "output_type": "stream",
          "text": [
            "0.8670525\n"
          ],
          "name": "stdout"
        }
      ]
    },
    {
      "cell_type": "markdown",
      "metadata": {
        "id": "9KofWKMjvvyQ",
        "colab_type": "text"
      },
      "source": [
        "lower C seems to be better"
      ]
    },
    {
      "cell_type": "markdown",
      "metadata": {
        "id": "KuQxOvqzsNFw",
        "colab_type": "text"
      },
      "source": [
        "## gridCV tune C, kernel\n",
        "Best: 0.749276 using {'C': 0.001, 'gamma': 'scale', 'kernel': 'rbf', 'max_iter': 1000, 'random_state': 318}"
      ]
    },
    {
      "cell_type": "code",
      "metadata": {
        "tags": [],
        "id": "2i6aBlRHsNFx",
        "colab_type": "code",
        "colab": {},
        "outputId": "7059b78e-a13e-473e-83cc-23da2136272a"
      },
      "source": [
        "# example of grid searching key hyperparametres for SVC\n",
        "from sklearn.model_selection import GridSearchCV\n",
        "from sklearn.svm import SVC\n",
        "import timeit\n",
        "\n",
        "# define model and parameters\n",
        "model = SVC()\n",
        "kernel = ['poly', 'rbf', 'sigmoid']\n",
        "C = [50, 10, 1.0, 0.1, 0.01, 0.001, 0.0001]\n",
        "gamma = ['scale']\n",
        "max_iter = [1000]\n",
        "random_state = [318]\n",
        "# define grid search\n",
        "grid = dict(kernel=kernel, C=C, gamma=gamma, max_iter=max_iter, random_state=random_state)\n",
        "\n",
        "# import data\n",
        "from brainstation_capstone.etl.datatransform import Nutcracker\n",
        "X_train, _, y_train, _ = Nutcracker(datapath).mldata(feature_reduction='None')\n",
        "\n",
        "# grid search setting\n",
        "cv = 5 #cv = RepeatedStratifiedKFold(n_splits=10, n_repeats=3, random_state=1)\n",
        "grid_search = GridSearchCV(estimator=model, param_grid=grid, n_jobs=-1, \n",
        "                           cv=cv, scoring='accuracy',error_score=0, verbose=5)\n",
        "grid_result = grid_search.fit(X_train, y_train)\n",
        "\n",
        "# summarize results\n",
        "means = grid_result.cv_results_['mean_test_score']\n",
        "stds = grid_result.cv_results_['std_test_score']\n",
        "params = grid_result.cv_results_['params']\n",
        "print('printing individual results')\n",
        "for mean, stdev, param in zip(means, stds, params):\n",
        "    print(\"%f (%f) with: %r\" % (mean, stdev, param))\n",
        "print(\"Best: %f using %s\" % (grid_result.best_score_, grid_result.best_params_))"
      ],
      "execution_count": null,
      "outputs": [
        {
          "output_type": "stream",
          "text": [
            "None\n",
            "None\n",
            "Fitting 5 folds for each of 21 candidates, totalling 105 fits\n",
            "[Parallel(n_jobs=-1)]: Using backend LokyBackend with 4 concurrent workers.\n",
            "[Parallel(n_jobs=-1)]: Done  10 tasks      | elapsed: 19.2min\n",
            "[Parallel(n_jobs=-1)]: Done  64 tasks      | elapsed: 127.5min\n",
            "[Parallel(n_jobs=-1)]: Done 105 out of 105 | elapsed: 174.4min finished\n",
            "printing individual results\n",
            "0.500192 (0.000106) with: {'C': 50, 'gamma': 'scale', 'kernel': 'poly', 'max_iter': 1000, 'random_state': 318}\n",
            "0.591168 (0.070447) with: {'C': 50, 'gamma': 'scale', 'kernel': 'rbf', 'max_iter': 1000, 'random_state': 318}\n",
            "0.569534 (0.022842) with: {'C': 50, 'gamma': 'scale', 'kernel': 'sigmoid', 'max_iter': 1000, 'random_state': 318}\n",
            "0.500161 (0.000049) with: {'C': 10, 'gamma': 'scale', 'kernel': 'poly', 'max_iter': 1000, 'random_state': 318}\n",
            "0.582687 (0.028495) with: {'C': 10, 'gamma': 'scale', 'kernel': 'rbf', 'max_iter': 1000, 'random_state': 318}\n",
            "0.569534 (0.022842) with: {'C': 10, 'gamma': 'scale', 'kernel': 'sigmoid', 'max_iter': 1000, 'random_state': 318}\n",
            "0.501893 (0.002970) with: {'C': 1.0, 'gamma': 'scale', 'kernel': 'poly', 'max_iter': 1000, 'random_state': 318}\n",
            "0.679171 (0.018453) with: {'C': 1.0, 'gamma': 'scale', 'kernel': 'rbf', 'max_iter': 1000, 'random_state': 318}\n",
            "0.569542 (0.022845) with: {'C': 1.0, 'gamma': 'scale', 'kernel': 'sigmoid', 'max_iter': 1000, 'random_state': 318}\n",
            "0.500211 (0.000151) with: {'C': 0.1, 'gamma': 'scale', 'kernel': 'poly', 'max_iter': 1000, 'random_state': 318}\n",
            "0.734586 (0.006528) with: {'C': 0.1, 'gamma': 'scale', 'kernel': 'rbf', 'max_iter': 1000, 'random_state': 318}\n",
            "0.569579 (0.022903) with: {'C': 0.1, 'gamma': 'scale', 'kernel': 'sigmoid', 'max_iter': 1000, 'random_state': 318}\n",
            "0.500092 (0.000027) with: {'C': 0.01, 'gamma': 'scale', 'kernel': 'poly', 'max_iter': 1000, 'random_state': 318}\n",
            "0.746167 (0.009241) with: {'C': 0.01, 'gamma': 'scale', 'kernel': 'rbf', 'max_iter': 1000, 'random_state': 318}\n",
            "0.570028 (0.023023) with: {'C': 0.01, 'gamma': 'scale', 'kernel': 'sigmoid', 'max_iter': 1000, 'random_state': 318}\n",
            "0.500091 (0.000025) with: {'C': 0.001, 'gamma': 'scale', 'kernel': 'poly', 'max_iter': 1000, 'random_state': 318}\n",
            "0.749276 (0.008429) with: {'C': 0.001, 'gamma': 'scale', 'kernel': 'rbf', 'max_iter': 1000, 'random_state': 318}\n",
            "0.570091 (0.023142) with: {'C': 0.001, 'gamma': 'scale', 'kernel': 'sigmoid', 'max_iter': 1000, 'random_state': 318}\n",
            "0.500082 (0.000008) with: {'C': 0.0001, 'gamma': 'scale', 'kernel': 'poly', 'max_iter': 1000, 'random_state': 318}\n",
            "0.748947 (0.008440) with: {'C': 0.0001, 'gamma': 'scale', 'kernel': 'rbf', 'max_iter': 1000, 'random_state': 318}\n",
            "0.569774 (0.023008) with: {'C': 0.0001, 'gamma': 'scale', 'kernel': 'sigmoid', 'max_iter': 1000, 'random_state': 318}\n",
            "Best: 0.749276 using {'C': 0.001, 'gamma': 'scale', 'kernel': 'rbf', 'max_iter': 1000, 'random_state': 318}\n"
          ],
          "name": "stdout"
        }
      ]
    },
    {
      "cell_type": "code",
      "metadata": {
        "tags": [],
        "id": "GtcDxZH9sNF0",
        "colab_type": "code",
        "colab": {},
        "outputId": "1c1ac689-c559-4c7a-e3c8-0551762af1f2"
      },
      "source": [
        "means = grid_result.cv_results_['mean_test_score']\n",
        "stds = grid_result.cv_results_['std_test_score']\n",
        "params = grid_result.cv_results_['params']\n",
        "print('printing individual results')\n",
        "for mean, stdev, param in zip(means, stds, params):\n",
        "    print(\"%f (%f) with: %r\" % (mean, stdev, param))\n",
        "print(\"Best: %f using %s\" % (grid_result.best_score_, grid_result.best_params_))"
      ],
      "execution_count": null,
      "outputs": [
        {
          "output_type": "stream",
          "text": [
            "printing individual results\n",
            "0.500192 (0.000106) with: {'C': 50, 'gamma': 'scale', 'kernel': 'poly', 'max_iter': 1000, 'random_state': 318}\n",
            "0.591168 (0.070447) with: {'C': 50, 'gamma': 'scale', 'kernel': 'rbf', 'max_iter': 1000, 'random_state': 318}\n",
            "0.569534 (0.022842) with: {'C': 50, 'gamma': 'scale', 'kernel': 'sigmoid', 'max_iter': 1000, 'random_state': 318}\n",
            "0.500161 (0.000049) with: {'C': 10, 'gamma': 'scale', 'kernel': 'poly', 'max_iter': 1000, 'random_state': 318}\n",
            "0.582687 (0.028495) with: {'C': 10, 'gamma': 'scale', 'kernel': 'rbf', 'max_iter': 1000, 'random_state': 318}\n",
            "0.569534 (0.022842) with: {'C': 10, 'gamma': 'scale', 'kernel': 'sigmoid', 'max_iter': 1000, 'random_state': 318}\n",
            "0.501893 (0.002970) with: {'C': 1.0, 'gamma': 'scale', 'kernel': 'poly', 'max_iter': 1000, 'random_state': 318}\n",
            "0.679171 (0.018453) with: {'C': 1.0, 'gamma': 'scale', 'kernel': 'rbf', 'max_iter': 1000, 'random_state': 318}\n",
            "0.569542 (0.022845) with: {'C': 1.0, 'gamma': 'scale', 'kernel': 'sigmoid', 'max_iter': 1000, 'random_state': 318}\n",
            "0.500211 (0.000151) with: {'C': 0.1, 'gamma': 'scale', 'kernel': 'poly', 'max_iter': 1000, 'random_state': 318}\n",
            "0.734586 (0.006528) with: {'C': 0.1, 'gamma': 'scale', 'kernel': 'rbf', 'max_iter': 1000, 'random_state': 318}\n",
            "0.569579 (0.022903) with: {'C': 0.1, 'gamma': 'scale', 'kernel': 'sigmoid', 'max_iter': 1000, 'random_state': 318}\n",
            "0.500092 (0.000027) with: {'C': 0.01, 'gamma': 'scale', 'kernel': 'poly', 'max_iter': 1000, 'random_state': 318}\n",
            "0.746167 (0.009241) with: {'C': 0.01, 'gamma': 'scale', 'kernel': 'rbf', 'max_iter': 1000, 'random_state': 318}\n",
            "0.570028 (0.023023) with: {'C': 0.01, 'gamma': 'scale', 'kernel': 'sigmoid', 'max_iter': 1000, 'random_state': 318}\n",
            "0.500091 (0.000025) with: {'C': 0.001, 'gamma': 'scale', 'kernel': 'poly', 'max_iter': 1000, 'random_state': 318}\n",
            "0.749276 (0.008429) with: {'C': 0.001, 'gamma': 'scale', 'kernel': 'rbf', 'max_iter': 1000, 'random_state': 318}\n",
            "0.570091 (0.023142) with: {'C': 0.001, 'gamma': 'scale', 'kernel': 'sigmoid', 'max_iter': 1000, 'random_state': 318}\n",
            "0.500082 (0.000008) with: {'C': 0.0001, 'gamma': 'scale', 'kernel': 'poly', 'max_iter': 1000, 'random_state': 318}\n",
            "0.748947 (0.008440) with: {'C': 0.0001, 'gamma': 'scale', 'kernel': 'rbf', 'max_iter': 1000, 'random_state': 318}\n",
            "0.569774 (0.023008) with: {'C': 0.0001, 'gamma': 'scale', 'kernel': 'sigmoid', 'max_iter': 1000, 'random_state': 318}\n",
            "Best: 0.749276 using {'C': 0.001, 'gamma': 'scale', 'kernel': 'rbf', 'max_iter': 1000, 'random_state': 318}\n"
          ],
          "name": "stdout"
        }
      ]
    },
    {
      "cell_type": "markdown",
      "metadata": {
        "id": "rshx7648ybjp",
        "colab_type": "text"
      },
      "source": [
        "## run best hyperparamter so far evaluation"
      ]
    },
    {
      "cell_type": "code",
      "metadata": {
        "id": "99ytAY2lyfh_",
        "colab_type": "code",
        "colab": {
          "base_uri": "https://localhost:8080/",
          "height": 1000
        },
        "outputId": "7add09b8-82f7-4e0d-e8e9-50b521fa3b30"
      },
      "source": [
        "from sklearn.svm import SVC\n",
        "model = SVC(random_state=318, C=0.001, kernel='rbf', max_iter=1000, verbose=1)\n",
        "save_dir = os.path.join(data_dir, 'ml_eval_results')\n",
        "model_eval = ModelEvaluation(model, data_dir)\n",
        "model_eval.standard(save_dir)"
      ],
      "execution_count": 3,
      "outputs": [
        {
          "output_type": "stream",
          "text": [
            "confirm: model has no predict_proba\n",
            "\n",
            "loading data from directory\n",
            "loading 4 files\n",
            "loading file: 3\n",
            "loading completed\n",
            "\n",
            "runing cross validation scores (this takes a while):\n",
            "timer starts\n"
          ],
          "name": "stdout"
        },
        {
          "output_type": "stream",
          "text": [
            "/usr/local/lib/python3.6/dist-packages/sklearn/utils/validation.py:760: DataConversionWarning: A column-vector y was passed when a 1d array was expected. Please change the shape of y to (n_samples, ), for example using ravel().\n",
            "  y = column_or_1d(y, warn=True)\n"
          ],
          "name": "stderr"
        },
        {
          "output_type": "stream",
          "text": [
            "[LibSVM]"
          ],
          "name": "stdout"
        },
        {
          "output_type": "stream",
          "text": [
            "/usr/local/lib/python3.6/dist-packages/sklearn/svm/_base.py:231: ConvergenceWarning: Solver terminated early (max_iter=1000).  Consider pre-processing your data with StandardScaler or MinMaxScaler.\n",
            "  % self.max_iter, ConvergenceWarning)\n",
            "/usr/local/lib/python3.6/dist-packages/sklearn/utils/validation.py:760: DataConversionWarning: A column-vector y was passed when a 1d array was expected. Please change the shape of y to (n_samples, ), for example using ravel().\n",
            "  y = column_or_1d(y, warn=True)\n"
          ],
          "name": "stderr"
        },
        {
          "output_type": "stream",
          "text": [
            "[LibSVM]"
          ],
          "name": "stdout"
        },
        {
          "output_type": "stream",
          "text": [
            "/usr/local/lib/python3.6/dist-packages/sklearn/svm/_base.py:231: ConvergenceWarning: Solver terminated early (max_iter=1000).  Consider pre-processing your data with StandardScaler or MinMaxScaler.\n",
            "  % self.max_iter, ConvergenceWarning)\n",
            "/usr/local/lib/python3.6/dist-packages/sklearn/utils/validation.py:760: DataConversionWarning: A column-vector y was passed when a 1d array was expected. Please change the shape of y to (n_samples, ), for example using ravel().\n",
            "  y = column_or_1d(y, warn=True)\n"
          ],
          "name": "stderr"
        },
        {
          "output_type": "stream",
          "text": [
            "[LibSVM]"
          ],
          "name": "stdout"
        },
        {
          "output_type": "stream",
          "text": [
            "/usr/local/lib/python3.6/dist-packages/sklearn/svm/_base.py:231: ConvergenceWarning: Solver terminated early (max_iter=1000).  Consider pre-processing your data with StandardScaler or MinMaxScaler.\n",
            "  % self.max_iter, ConvergenceWarning)\n",
            "/usr/local/lib/python3.6/dist-packages/sklearn/utils/validation.py:760: DataConversionWarning: A column-vector y was passed when a 1d array was expected. Please change the shape of y to (n_samples, ), for example using ravel().\n",
            "  y = column_or_1d(y, warn=True)\n"
          ],
          "name": "stderr"
        },
        {
          "output_type": "stream",
          "text": [
            "[LibSVM]"
          ],
          "name": "stdout"
        },
        {
          "output_type": "stream",
          "text": [
            "/usr/local/lib/python3.6/dist-packages/sklearn/svm/_base.py:231: ConvergenceWarning: Solver terminated early (max_iter=1000).  Consider pre-processing your data with StandardScaler or MinMaxScaler.\n",
            "  % self.max_iter, ConvergenceWarning)\n",
            "/usr/local/lib/python3.6/dist-packages/sklearn/utils/validation.py:760: DataConversionWarning: A column-vector y was passed when a 1d array was expected. Please change the shape of y to (n_samples, ), for example using ravel().\n",
            "  y = column_or_1d(y, warn=True)\n"
          ],
          "name": "stderr"
        },
        {
          "output_type": "stream",
          "text": [
            "[LibSVM]"
          ],
          "name": "stdout"
        },
        {
          "output_type": "stream",
          "text": [
            "/usr/local/lib/python3.6/dist-packages/sklearn/svm/_base.py:231: ConvergenceWarning: Solver terminated early (max_iter=1000).  Consider pre-processing your data with StandardScaler or MinMaxScaler.\n",
            "  % self.max_iter, ConvergenceWarning)\n"
          ],
          "name": "stderr"
        },
        {
          "output_type": "stream",
          "text": [
            "total time: 18.911 min\n",
            "cross validation scores: [0.73669688 0.74585625 0.7626125  0.74920625 0.75200625]\n",
            "validation score (mean):0.7492756249999999\n",
            "validation score (std):0.008429121395495499\n",
            "\n",
            "fit model...\n"
          ],
          "name": "stdout"
        },
        {
          "output_type": "stream",
          "text": [
            "/usr/local/lib/python3.6/dist-packages/sklearn/utils/validation.py:760: DataConversionWarning: A column-vector y was passed when a 1d array was expected. Please change the shape of y to (n_samples, ), for example using ravel().\n",
            "  y = column_or_1d(y, warn=True)\n"
          ],
          "name": "stderr"
        },
        {
          "output_type": "stream",
          "text": [
            "[LibSVM]"
          ],
          "name": "stdout"
        },
        {
          "output_type": "stream",
          "text": [
            "/usr/local/lib/python3.6/dist-packages/sklearn/svm/_base.py:231: ConvergenceWarning: Solver terminated early (max_iter=1000).  Consider pre-processing your data with StandardScaler or MinMaxScaler.\n",
            "  % self.max_iter, ConvergenceWarning)\n"
          ],
          "name": "stderr"
        },
        {
          "output_type": "stream",
          "text": [
            "predict model...\n",
            "timer starts\n",
            "total time: 0.656 min\n",
            "\n",
            "accuracy scores:\n",
            "accuracy score on train: 0.75219125\n",
            "accuracy score on test: 0.7521525\n",
            "\n",
            "confusion matrix:\n",
            "\n",
            "confusion matrix: test data\n",
            "              Predicted normal  Predicted alcohol\n",
            "True normal           0.825254           0.174746\n",
            "True alcohol          0.321036           0.678964\n",
            "\n",
            "confusion matrix: train data\n",
            "              Predicted normal  Predicted alcohol\n",
            "True normal           0.824905           0.175095\n",
            "True alcohol          0.320501           0.679499\n",
            "\n",
            "confusion matrix for test\n"
          ],
          "name": "stdout"
        },
        {
          "output_type": "display_data",
          "data": {
            "text/plain": [
              "<Figure size 432x288 with 0 Axes>"
            ]
          },
          "metadata": {
            "tags": []
          }
        },
        {
          "output_type": "display_data",
          "data": {
            "image/png": "[encoded data removed]",
            "text/plain": [
              "<Figure size 432x288 with 2 Axes>"
            ]
          },
          "metadata": {
            "tags": [],
            "needs_background": "light"
          }
        },
        {
          "output_type": "stream",
          "text": [
            "\n",
            "confusion matrix for train\n"
          ],
          "name": "stdout"
        },
        {
          "output_type": "display_data",
          "data": {
            "text/plain": [
              "<Figure size 432x288 with 0 Axes>"
            ]
          },
          "metadata": {
            "tags": []
          }
        },
        {
          "output_type": "display_data",
          "data": {
            "image/png": "[encoded data removed]",
            "text/plain": [
              "<Figure size 432x288 with 2 Axes>"
            ]
          },
          "metadata": {
            "tags": [],
            "needs_background": "light"
          }
        },
        {
          "output_type": "stream",
          "text": [
            "\n",
            "classification report:\n",
            "              precision    recall  f1-score   support\n",
            "\n",
            "         0.0       0.72      0.83      0.77    200119\n",
            "         1.0       0.80      0.68      0.73    199881\n",
            "\n",
            "    accuracy                           0.75    400000\n",
            "   macro avg       0.76      0.75      0.75    400000\n",
            "weighted avg       0.76      0.75      0.75    400000\n",
            "\n",
            "precision_score = 0.7951160637911437\n",
            "recall_score = 0.6789639835702242\n",
            "f1_score = 0.7324638455539274\n",
            "\n",
            "this model does not have predict_proba attr\n",
            "\n",
            "excel record:\n"
          ],
          "name": "stdout"
        },
        {
          "output_type": "error",
          "ename": "AttributeError",
          "evalue": "ignored",
          "traceback": [
            "\u001b[0;31m---------------------------------------------------------------------------\u001b[0m",
            "\u001b[0;31mAttributeError\u001b[0m                            Traceback (most recent call last)",
            "\u001b[0;32m<ipython-input-3-82822fe092d1>\u001b[0m in \u001b[0;36m<module>\u001b[0;34m()\u001b[0m\n\u001b[1;32m      3\u001b[0m \u001b[0msave_dir\u001b[0m \u001b[0;34m=\u001b[0m \u001b[0mos\u001b[0m\u001b[0;34m.\u001b[0m\u001b[0mpath\u001b[0m\u001b[0;34m.\u001b[0m\u001b[0mjoin\u001b[0m\u001b[0;34m(\u001b[0m\u001b[0mdata_dir\u001b[0m\u001b[0;34m,\u001b[0m \u001b[0;34m'ml_eval_results'\u001b[0m\u001b[0;34m)\u001b[0m\u001b[0;34m\u001b[0m\u001b[0;34m\u001b[0m\u001b[0m\n\u001b[1;32m      4\u001b[0m \u001b[0mmodel_eval\u001b[0m \u001b[0;34m=\u001b[0m \u001b[0mModelEvaluation\u001b[0m\u001b[0;34m(\u001b[0m\u001b[0mmodel\u001b[0m\u001b[0;34m,\u001b[0m \u001b[0mdata_dir\u001b[0m\u001b[0;34m)\u001b[0m\u001b[0;34m\u001b[0m\u001b[0;34m\u001b[0m\u001b[0m\n\u001b[0;32m----> 5\u001b[0;31m \u001b[0mmodel_eval\u001b[0m\u001b[0;34m.\u001b[0m\u001b[0mstandard\u001b[0m\u001b[0;34m(\u001b[0m\u001b[0msave_dir\u001b[0m\u001b[0;34m)\u001b[0m\u001b[0;34m\u001b[0m\u001b[0;34m\u001b[0m\u001b[0m\n\u001b[0m",
            "\u001b[0;32m<ipython-input-1-bc1bd214831f>\u001b[0m in \u001b[0;36mstandard\u001b[0;34m(self, save_dir)\u001b[0m\n\u001b[1;32m    344\u001b[0m         \u001b[0mself\u001b[0m\u001b[0;34m.\u001b[0m\u001b[0msave\u001b[0m\u001b[0;34m(\u001b[0m\u001b[0msave_dir\u001b[0m\u001b[0;34m)\u001b[0m\u001b[0;34m\u001b[0m\u001b[0;34m\u001b[0m\u001b[0m\n\u001b[1;32m    345\u001b[0m         \u001b[0mprint\u001b[0m\u001b[0;34m(\u001b[0m\u001b[0;34m'\\nexcel record:'\u001b[0m\u001b[0;34m)\u001b[0m\u001b[0;34m\u001b[0m\u001b[0;34m\u001b[0m\u001b[0m\n\u001b[0;32m--> 346\u001b[0;31m         \u001b[0mself\u001b[0m\u001b[0;34m.\u001b[0m\u001b[0mexcel_input_array\u001b[0m\u001b[0;34m(\u001b[0m\u001b[0;34m)\u001b[0m\u001b[0;34m\u001b[0m\u001b[0;34m\u001b[0m\u001b[0m\n\u001b[0m",
            "\u001b[0;32m<ipython-input-1-bc1bd214831f>\u001b[0m in \u001b[0;36mexcel_input_array\u001b[0;34m(self)\u001b[0m\n\u001b[1;32m    304\u001b[0m                     \u001b[0mself\u001b[0m\u001b[0;34m.\u001b[0m\u001b[0mrecall_score\u001b[0m\u001b[0;34m,\u001b[0m\u001b[0;34m\u001b[0m\u001b[0;34m\u001b[0m\u001b[0m\n\u001b[1;32m    305\u001b[0m                     \u001b[0mself\u001b[0m\u001b[0;34m.\u001b[0m\u001b[0mf1_score\u001b[0m\u001b[0;34m,\u001b[0m\u001b[0;34m\u001b[0m\u001b[0;34m\u001b[0m\u001b[0m\n\u001b[0;32m--> 306\u001b[0;31m                     \u001b[0mself\u001b[0m\u001b[0;34m.\u001b[0m\u001b[0mroc_auc_train\u001b[0m\u001b[0;34m,\u001b[0m\u001b[0;34m\u001b[0m\u001b[0;34m\u001b[0m\u001b[0m\n\u001b[0m\u001b[1;32m    307\u001b[0m                     \u001b[0mself\u001b[0m\u001b[0;34m.\u001b[0m\u001b[0mroc_auc_test\u001b[0m\u001b[0;34m,\u001b[0m\u001b[0;34m\u001b[0m\u001b[0;34m\u001b[0m\u001b[0m\n\u001b[1;32m    308\u001b[0m                     \u001b[0mself\u001b[0m\u001b[0;34m.\u001b[0m\u001b[0mruntime_crossval\u001b[0m\u001b[0;34m,\u001b[0m\u001b[0;34m\u001b[0m\u001b[0;34m\u001b[0m\u001b[0m\n",
            "\u001b[0;31mAttributeError\u001b[0m: 'ModelEvaluation' object has no attribute 'roc_auc_train'"
          ]
        }
      ]
    },
    {
      "cell_type": "code",
      "metadata": {
        "id": "EzNuSinyJN3i",
        "colab_type": "code",
        "colab": {
          "base_uri": "https://localhost:8080/",
          "height": 54
        },
        "outputId": "de9b9254-b31c-4ada-e8af-2a5dbff07edc"
      },
      "source": [
        "# patch \n",
        "a = [np.mean(model_eval.cross_val_score_), np.std(model_eval.cross_val_score_), \n",
        "      model_eval.score_train, model_eval.score_test, model_eval.precision_score,\n",
        "      model_eval.recall_score,\n",
        "      model_eval.f1_score]\n",
        "for p in a:\n",
        "  print(p, end=', ')"
      ],
      "execution_count": 4,
      "outputs": [
        {
          "output_type": "stream",
          "text": [
            "0.7492756249999999, 0.008429121395495499, 0.75219125, 0.7521525, 0.7951160637911437, 0.6789639835702242, 0.7324638455539274, "
          ],
          "name": "stdout"
        }
      ]
    },
    {
      "cell_type": "code",
      "metadata": {
        "id": "j2XkYRdJJiSk",
        "colab_type": "code",
        "colab": {
          "base_uri": "https://localhost:8080/",
          "height": 85
        },
        "outputId": "519d4753-5cfe-4e1a-92b5-ee2e5828d578"
      },
      "source": [
        "model_eval.model"
      ],
      "execution_count": 5,
      "outputs": [
        {
          "output_type": "execute_result",
          "data": {
            "text/plain": [
              "SVC(C=0.001, break_ties=False, cache_size=200, class_weight=None, coef0=0.0,\n",
              "    decision_function_shape='ovr', degree=3, gamma='scale', kernel='rbf',\n",
              "    max_iter=1000, probability=False, random_state=318, shrinking=True,\n",
              "    tol=0.001, verbose=1)"
            ]
          },
          "metadata": {
            "tags": []
          },
          "execution_count": 5
        }
      ]
    },
    {
      "cell_type": "markdown",
      "metadata": {
        "id": "twYDuAlWyhBd",
        "colab_type": "text"
      },
      "source": [
        "## run evaluation (debugged)\n"
      ]
    },
    {
      "cell_type": "code",
      "metadata": {
        "id": "SzhDcPfqyj7R",
        "colab_type": "code",
        "colab": {
          "base_uri": "https://localhost:8080/",
          "height": 241
        },
        "outputId": "004dbcdb-1b9f-4fb5-88ec-d4a56e66ea1f"
      },
      "source": [
        "from sklearn.svm import SVC\n",
        "model = SVC(random_state=318, C=0.001, kernel='rbf', max_iter=1000, verbose=1)\n",
        "save_dir = os.path.join(data_dir, 'ml_eval_results')\n",
        "model_eval = ModelEvaluation(model, data_dir)\n",
        "model_eval.standard(save_dir)"
      ],
      "execution_count": null,
      "outputs": [
        {
          "output_type": "stream",
          "text": [
            "confirm: model has no predict_proba\n",
            "\n",
            "loading data from directory\n",
            "loading 4 files\n",
            "loading file: 3\n",
            "loading completed\n",
            "\n",
            "runing cross validation scores (this takes a while):\n",
            "timer starts\n"
          ],
          "name": "stdout"
        },
        {
          "output_type": "stream",
          "text": [
            "/usr/local/lib/python3.6/dist-packages/sklearn/utils/validation.py:760: DataConversionWarning: A column-vector y was passed when a 1d array was expected. Please change the shape of y to (n_samples, ), for example using ravel().\n",
            "  y = column_or_1d(y, warn=True)\n"
          ],
          "name": "stderr"
        },
        {
          "output_type": "stream",
          "text": [
            "[LibSVM]"
          ],
          "name": "stdout"
        }
      ]
    },
    {
      "cell_type": "markdown",
      "metadata": {
        "id": "L3k1cjkgwddI",
        "colab_type": "text"
      },
      "source": [
        "## Conclusion\n",
        "This model is impractical for the time it requires to tune dataset at the millions scale. Can consider trying LinearSVCor SGDClassifier."
      ]
    },
    {
      "cell_type": "markdown",
      "metadata": {
        "id": "5SY9v2j8xmu0",
        "colab_type": "text"
      },
      "source": [
        "## Try SGDClassifier\n",
        "https://scikit-learn.org/stable/modules/generated/sklearn.linear_model.SGDClassifier.html#sklearn.linear_model.SGDClassifier"
      ]
    },
    {
      "cell_type": "code",
      "metadata": {
        "id": "hlEdSfQOwuQv",
        "colab_type": "code",
        "colab": {}
      },
      "source": [
        ""
      ],
      "execution_count": null,
      "outputs": []
    }
  ]
}