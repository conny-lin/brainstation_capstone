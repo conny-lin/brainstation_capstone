{
 "cells": [
  {
   "cell_type": "code",
   "execution_count": 1,
   "metadata": {},
   "outputs": [],
   "source": [
    "# create output legend for drunkposture2\n",
    "# Conny Lin | 2020 May 16"
   ]
  },
  {
   "cell_type": "code",
   "execution_count": 2,
   "metadata": {},
   "outputs": [],
   "source": [
    "# define local variables\n",
    "dir_save = '/Users/connylin/Dropbox/CA/ED _20200119 Brain Station Data Science Diploma/Capstone/data'\n",
    "choreography_output_spec = 'tnNslwakb'\n",
    "legend_chor_fname = 'legend_choreography.pickle'\n",
    "chore_output_reference_fname = 'legend_drunkposture.pickle'"
   ]
  },
  {
   "cell_type": "code",
   "execution_count": 3,
   "metadata": {},
   "outputs": [],
   "source": [
    "import os\n",
    "import pathlib\n",
    "from pathlib import Path\n",
    "from pathlib import PurePath\n",
    "import glob\n",
    "import pickle\n",
    "import numpy as np\n",
    "import pandas as pd"
   ]
  },
  {
   "cell_type": "code",
   "execution_count": 4,
   "metadata": {},
   "outputs": [],
   "source": [
    "# load choreography legend\n",
    "filename = os.path.join(dir_save,legend_chor_fname)\n",
    "with open(filename,'rb') as f:\n",
    "    legend_chor = pickle.load(f)"
   ]
  },
  {
   "cell_type": "code",
   "execution_count": 5,
   "metadata": {},
   "outputs": [],
   "source": [
    "# create drunk moves .dat legend\n",
    "column_names = []\n",
    "for letters in choreography_output_spec:\n",
    "    column_names.append(letters)\n",
    "column_names = pd.DataFrame(column_names,columns=['call'])\n",
    "column_names = column_names.merge(legend_chor,how='left', on='call')"
   ]
  },
  {
   "cell_type": "code",
   "execution_count": 6,
   "metadata": {},
   "outputs": [],
   "source": [
    "# save the legend table\n",
    "filename = os.path.join(dir_save,chore_output_reference_fname)\n",
    "with open(filename,'wb') as f:\n",
    "    pickle.dump(column_names,f)"
   ]
  }
 ],
 "metadata": {
  "kernelspec": {
   "display_name": "Python 3",
   "language": "python",
   "name": "python3"
  },
  "language_info": {
   "codemirror_mode": {
    "name": "ipython",
    "version": 3
   },
   "file_extension": ".py",
   "mimetype": "text/x-python",
   "name": "python",
   "nbconvert_exporter": "python",
   "pygments_lexer": "ipython3",
   "version": "3.7.7"
  }
 },
 "nbformat": 4,
 "nbformat_minor": 4
}
