{
 "cells": [
  {
   "cell_type": "code",
   "execution_count": null,
   "metadata": {},
   "outputs": [],
   "source": [
    "# grab paths with drunk postures\n",
    "# Conny Lin | May 19, 2020"
   ]
  },
  {
   "cell_type": "code",
   "execution_count": 8,
   "metadata": {},
   "outputs": [],
   "source": [
    "# define local variables\n",
    "dir_save = '/Users/connylin/Dropbox/CA/ED _20200119 Brain Station Data Science Diploma/Capstone/data'"
   ]
  },
  {
   "cell_type": "code",
   "execution_count": 9,
   "metadata": {},
   "outputs": [],
   "source": [
    "import os\n",
    "import pickle\n",
    "from pathlib import Path\n",
    "from pathlib import PurePath\n",
    "import numpy as np\n",
    "import pandas as pd"
   ]
  },
  {
   "cell_type": "code",
   "execution_count": 14,
   "metadata": {},
   "outputs": [],
   "source": [
    "def get_drunkposture_files(test_filepaths, path_save):\n",
    "    # create path object\n",
    "    path_obj = np.array(list(map(PurePath,test_filepaths)))\n",
    "    # get paths with drunkposture2.dat ext\n",
    "    ind_drunkposture2 = np.fromiter(map(lambda x: x.match('*.drunkposture2.dat'), path_obj), dtype=np.bool)\n",
    "#     print('\\nmake sure results are drukposture2.dat')\n",
    "#     print(list(map(lambda x: x.name, path_obj[ind_drunkposture2])))\n",
    "\n",
    "    # get paths with drunkposture.dat ext\n",
    "    ind_drunkposture1 = np.fromiter(map(lambda x: x.match('*.drunkposture.dat'), path_obj), dtype=np.bool)\n",
    "#     print('\\nmake sure results are drukposture.dat')\n",
    "#     print(list(map(lambda x: x.name, path_obj[ind_drunkposture1])))\n",
    "\n",
    "    # --- code deactivated but saved for future consideration/to work on ---\n",
    "    # just get them all paths for now and then remove the no 2 data. its easier to manipulate dataframe objects than map objects\n",
    "    pass_code_block = True\n",
    "    if pass_code_block:\n",
    "        pass\n",
    "    else:\n",
    "        # if drunkposture2 exist for a mwt folder, take the 2 not the 1.\n",
    "        # get the mwt folder name only.\n",
    "        # set max len of output to 15 ('<U15') to contain 15 characters mwt folder name\n",
    "        # !QA! Note there are potentially exactly the same folder name (run starts at the exact second.)\n",
    "        # get folder names from drunkposture1\n",
    "        dp1 = np.fromiter(map(lambda x: str(x.parents[0].name), path_obj[ind_drunkposture1]), dtype='<U15')\n",
    "        # get folder names from drunkposture2\n",
    "        dp2 = np.fromiter(map(lambda x: str(x.parents[0].name), path_obj[ind_drunkposture2]), dtype='<U15')\n",
    "        # find plates that have only drunkposture but not drunkposture 2\n",
    "        dp1_only = np.setdiff1d(dp1, dp2)\n",
    "        print(f'{len(dp1)} drunkposture1 found, {len(dp1_only)} does not have drunkposture2 data')\n",
    "        # !this part not done! get drunkposture1 data that's not in 2 \n",
    "        if (dp1_only.size)!=0:\n",
    "            print(dp1_only)\n",
    "            # get plate names \n",
    "            dp1\n",
    "    # continue with grabbing means from below code and put together in a dataframe\n",
    "    # --- code deactivated but saved for future consideration/to work on ---\n",
    "\n",
    "    # concate all the paths\n",
    "    dp2 = np.fromiter(map(lambda x: str(x), path_obj[ind_drunkposture2]), dtype='<U500')\n",
    "    dp1 = np.fromiter(map(lambda x: str(x), path_obj[ind_drunkposture1]), dtype='<U500')\n",
    "    dp12 = np.concatenate((dp1,dp2))\n",
    "    # report out\n",
    "    print(f'total {len(dp12)} files found')\n",
    "    # save these paths\n",
    "    # save png file dataframe\n",
    "    with open(path_save,'wb') as f:\n",
    "        pickle.dump(dp12,f)"
   ]
  },
  {
   "cell_type": "code",
   "execution_count": 15,
   "metadata": {},
   "outputs": [],
   "source": [
    "# load all paths pickle\n",
    "filename = os.path.join(dir_save,'allfilepaths.pickle')\n",
    "with open(filename,'rb') as f:\n",
    "    filepaths = pickle.load(f)"
   ]
  },
  {
   "cell_type": "markdown",
   "metadata": {},
   "source": [
    "Note: ptyhon3 updated map to iterable. To convert map object to np, needs to use `np.fromiter`:\n",
    "https://stackoverflow.com/questions/28524378/convert-map-object-to-numpy-array-in-python-3"
   ]
  },
  {
   "cell_type": "code",
   "execution_count": 16,
   "metadata": {},
   "outputs": [
    {
     "name": "stdout",
     "output_type": "stream",
     "text": [
      "total 7 files found\n"
     ]
    }
   ],
   "source": [
    "# __test__\n",
    "test_filepaths = filepaths[:50]\n",
    "path_save = os.path.join(dir_save, 'path_drunkposture.pickle')\n",
    "get_drunkposture_files(test_filepaths, path_save)"
   ]
  },
  {
   "cell_type": "code",
   "execution_count": 17,
   "metadata": {},
   "outputs": [
    {
     "name": "stdout",
     "output_type": "stream",
     "text": [
      "total 7982 files found\n"
     ]
    }
   ],
   "source": [
    "# actual\n",
    "path_save = os.path.join(dir_save, 'path_drunkposture.pickle')\n",
    "get_drunkposture_files(filepaths, path_save)"
   ]
  }
 ],
 "metadata": {
  "kernelspec": {
   "display_name": "Python 3",
   "language": "python",
   "name": "python3"
  },
  "language_info": {
   "codemirror_mode": {
    "name": "ipython",
    "version": 3
   },
   "file_extension": ".py",
   "mimetype": "text/x-python",
   "name": "python",
   "nbconvert_exporter": "python",
   "pygments_lexer": "ipython3",
   "version": "3.7.7"
  }
 },
 "nbformat": 4,
 "nbformat_minor": 4
}
