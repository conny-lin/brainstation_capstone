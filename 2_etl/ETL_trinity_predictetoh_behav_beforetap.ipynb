{
 "cells": [
  {
   "cell_type": "code",
   "execution_count": null,
   "metadata": {},
   "outputs": [],
   "source": [
    "## ETL trinity for predicting ethanol behavior before first tap\n",
    "# Conny Lin | June 5, 2020"
   ]
  },
  {
   "cell_type": "markdown",
   "metadata": {},
   "source": [
    "* ETL_trinity_predictetoh_before_tap : get worm behavior data from trinity_clean.csv\n",
    "    * only from wildtype\n",
    "    * only from before first tap\n",
    "    * only from 400mM and 0mM groups"
   ]
  },
  {
   "cell_type": "code",
   "execution_count": 57,
   "metadata": {},
   "outputs": [],
   "source": [
    "import pandas as pd\n",
    "import numpy as np\n",
    "import os\n",
    "import sys\n",
    "import re\n",
    "# import functions\n",
    "dir_function_collection = [\n",
    "'/Users/connylin/Dropbox/Code/language/python_lib/localpackage/mwt',\n",
    "'/Users/connylin/Dropbox/CA/ED _20200119 Brain Station Data Science Diploma/Capstone/brainstation_capstone/0_lib'\n",
    "]\n",
    "for p in dir_function_collection:\n",
    "    sys.path.insert(1, p)\n",
    "import BrainStationLib as bs"
   ]
  },
  {
   "cell_type": "code",
   "execution_count": null,
   "metadata": {},
   "outputs": [],
   "source": [
    "# define local function \n",
    "def extract_MWT_feature_preplate(pmwt):\n",
    "    p_parsed = pmwt.split('/')\n",
    "    if os.path.isfile(pmwt):\n",
    "        expname = p_parsed[-4]\n",
    "    elif os.path.isfile(ptrinity):\n",
    "        expname = p_parsed[-3]\n",
    "    a = re.search(r'(?<=_)\\d{1,}', expname)\n",
    "    preplate_time = int(a.group(0))\n",
    "    return preplate_time"
   ]
  },
  {
   "cell_type": "code",
   "execution_count": 106,
   "metadata": {},
   "outputs": [],
   "source": [
    "# define local variable\n",
    "pMWTDB = '/Users/connylin/Dropbox/MWT/db/MWTDB.csv'\n",
    "pCapstone = '/Users/connylin/Dropbox/CA/ED _20200119 Brain Station Data Science Diploma/Capstone/data'"
   ]
  },
  {
   "cell_type": "code",
   "execution_count": 8,
   "metadata": {},
   "outputs": [
    {
     "name": "stdout",
     "output_type": "stream",
     "text": [
      "2008 plates found\n"
     ]
    }
   ],
   "source": [
    "# load MWTDB from dropbox\n",
    "MWTDB = pd.read_csv(pMWTDB)\n",
    "# get only N2 and N2_400mM plates\n",
    "i = MWTDB['groupname'].isin(['N2','N2_400mM'])\n",
    "print(f'{sum(i)} plates found')\n",
    "# keep only those plates\n",
    "MWTDB = MWTDB.loc[i,:].copy()"
   ]
  },
  {
   "cell_type": "code",
   "execution_count": 9,
   "metadata": {},
   "outputs": [
    {
     "data": {
      "text/plain": [
       "(2008, 5)"
      ]
     },
     "execution_count": 9,
     "metadata": {},
     "output_type": "execute_result"
    }
   ],
   "source": [
    "MWTDB.shape"
   ]
  },
  {
   "cell_type": "code",
   "execution_count": 88,
   "metadata": {},
   "outputs": [
    {
     "name": "stdout",
     "output_type": "stream",
     "text": [
      "261 trinity_cleaned.csv exist\n",
      "261\n"
     ]
    }
   ],
   "source": [
    "# get trinity paths for all and check how many exist\n",
    "ptrinity_list = list(map(lambda x: os.path.join(x,'trinity_cleaned.csv'), \n",
    "                         MWTDB['mwtpath']))\n",
    "ptrinity_exist = list(map(lambda x: os.path.isfile(x), ptrinity_list))\n",
    "print(f'{sum(ptrinity_exist)} trinity_cleaned.csv exist')\n",
    "ptrinity_list = np.array(ptrinity_list)\n",
    "ptrinity_list = ptrinity_list[ptrinity_exist].copy()\n",
    "nfiles = ptrinity_list.shape[0]\n",
    "print(nfiles)"
   ]
  },
  {
   "cell_type": "code",
   "execution_count": 89,
   "metadata": {},
   "outputs": [
    {
     "name": "stdout",
     "output_type": "stream",
     "text": [
      "estimated total 571.7 MB\n"
     ]
    }
   ],
   "source": [
    "# get only data before preplate (first tap)\n",
    "df = pd.read_csv(ptrinity_list[0])\n",
    "# get preplate time\n",
    "preplate_time = extract_MWT_feature_preplate(pmwt)\n",
    "# reduce data\n",
    "df = df.loc[df['time'] < preplate_time,:].copy()\n",
    "# get sizse\n",
    "bytesize = sys.getsizeof(df)\n",
    "# estimate total size and see if can concat\n",
    "print(f'estimated total {bytesize/(1000**2)*nfiles:.1f} MB')"
   ]
  },
  {
   "cell_type": "code",
   "execution_count": 104,
   "metadata": {},
   "outputs": [
    {
     "name": "stdout",
     "output_type": "stream",
     "text": [
      "processing 260 file\r"
     ]
    }
   ],
   "source": [
    "# look into each trinity_clean.csv\n",
    "df_collection = []\n",
    "for i, ptrinity in enumerate(ptrinity_list):\n",
    "    print(f'processing {i} file', end='\\r')\n",
    "    # get only data before preplate (first tap)\n",
    "    df = pd.read_csv(ptrinity)\n",
    "    # get preplate time\n",
    "    preplate_time = extract_MWT_feature_preplate(pmwt)\n",
    "    # get only sub set\n",
    "    df = df.loc[df['time'] < preplate_time,:].copy()\n",
    "    # append\n",
    "    df_collection.append(df)\n",
    "df_collection = pd.concat(df_collection, ignore_index=True)"
   ]
  },
  {
   "cell_type": "code",
   "execution_count": 105,
   "metadata": {},
   "outputs": [
    {
     "data": {
      "text/plain": [
       "(11413375, 17)"
      ]
     },
     "execution_count": 105,
     "metadata": {},
     "output_type": "execute_result"
    }
   ],
   "source": [
    "df_collection.shape"
   ]
  },
  {
   "cell_type": "code",
   "execution_count": 110,
   "metadata": {},
   "outputs": [
    {
     "name": "stdout",
     "output_type": "stream",
     "text": [
      "estimated total 1.6 GB\n"
     ]
    }
   ],
   "source": [
    "# get sizse\n",
    "bytesize = sys.getsizeof(df_collection)\n",
    "# estimate total size and see if can concat\n",
    "print(f'estimated total {bytesize/(1000**3):.1f} GB')"
   ]
  },
  {
   "cell_type": "code",
   "execution_count": 112,
   "metadata": {},
   "outputs": [],
   "source": [
    "# save\n",
    "df_collection.to_csv(os.path.join(pCapstone, 'trinity_cleaned_N2_etoh_b4tap.csv'))"
   ]
  },
  {
   "cell_type": "code",
   "execution_count": 113,
   "metadata": {},
   "outputs": [
    {
     "data": {
      "text/html": [
       "<div>\n",
       "<style scoped>\n",
       "    .dataframe tbody tr th:only-of-type {\n",
       "        vertical-align: middle;\n",
       "    }\n",
       "\n",
       "    .dataframe tbody tr th {\n",
       "        vertical-align: top;\n",
       "    }\n",
       "\n",
       "    .dataframe thead th {\n",
       "        text-align: right;\n",
       "    }\n",
       "</style>\n",
       "<table border=\"1\" class=\"dataframe\">\n",
       "  <thead>\n",
       "    <tr style=\"text-align: right;\">\n",
       "      <th></th>\n",
       "      <th>mwtid</th>\n",
       "      <th>etoh</th>\n",
       "      <th>time</th>\n",
       "      <th>speed</th>\n",
       "      <th>bias</th>\n",
       "      <th>tap</th>\n",
       "      <th>loc_x</th>\n",
       "      <th>loc_y</th>\n",
       "      <th>morphwidth</th>\n",
       "      <th>midline</th>\n",
       "      <th>area</th>\n",
       "      <th>angular</th>\n",
       "      <th>aspect</th>\n",
       "      <th>kink</th>\n",
       "      <th>curve</th>\n",
       "      <th>crab</th>\n",
       "      <th>wormid</th>\n",
       "    </tr>\n",
       "  </thead>\n",
       "  <tbody>\n",
       "    <tr>\n",
       "      <th>0</th>\n",
       "      <td>17</td>\n",
       "      <td>1</td>\n",
       "      <td>1.0</td>\n",
       "      <td>1.0</td>\n",
       "      <td>0.0</td>\n",
       "      <td>1.0</td>\n",
       "      <td>0.0</td>\n",
       "      <td>16.2008</td>\n",
       "      <td>21.3477</td>\n",
       "      <td>0.1037</td>\n",
       "      <td>1.2937</td>\n",
       "      <td>0.164025</td>\n",
       "      <td>4.6</td>\n",
       "      <td>0.122</td>\n",
       "      <td>11.3</td>\n",
       "      <td>11.3</td>\n",
       "      <td>NaN</td>\n",
       "    </tr>\n",
       "    <tr>\n",
       "      <th>1</th>\n",
       "      <td>17</td>\n",
       "      <td>1</td>\n",
       "      <td>1.0</td>\n",
       "      <td>1.0</td>\n",
       "      <td>0.0</td>\n",
       "      <td>1.0</td>\n",
       "      <td>0.0</td>\n",
       "      <td>16.2237</td>\n",
       "      <td>21.3484</td>\n",
       "      <td>0.1041</td>\n",
       "      <td>1.2947</td>\n",
       "      <td>0.167670</td>\n",
       "      <td>4.0</td>\n",
       "      <td>0.124</td>\n",
       "      <td>7.9</td>\n",
       "      <td>11.4</td>\n",
       "      <td>NaN</td>\n",
       "    </tr>\n",
       "    <tr>\n",
       "      <th>2</th>\n",
       "      <td>17</td>\n",
       "      <td>1</td>\n",
       "      <td>1.0</td>\n",
       "      <td>1.0</td>\n",
       "      <td>0.0</td>\n",
       "      <td>1.0</td>\n",
       "      <td>0.0</td>\n",
       "      <td>16.2465</td>\n",
       "      <td>21.3505</td>\n",
       "      <td>0.1034</td>\n",
       "      <td>1.3011</td>\n",
       "      <td>0.166941</td>\n",
       "      <td>2.4</td>\n",
       "      <td>0.106</td>\n",
       "      <td>4.4</td>\n",
       "      <td>12.2</td>\n",
       "      <td>NaN</td>\n",
       "    </tr>\n",
       "    <tr>\n",
       "      <th>3</th>\n",
       "      <td>17</td>\n",
       "      <td>1</td>\n",
       "      <td>1.0</td>\n",
       "      <td>1.0</td>\n",
       "      <td>0.0</td>\n",
       "      <td>1.0</td>\n",
       "      <td>0.0</td>\n",
       "      <td>16.2667</td>\n",
       "      <td>21.3508</td>\n",
       "      <td>0.1038</td>\n",
       "      <td>1.2984</td>\n",
       "      <td>0.165483</td>\n",
       "      <td>1.5</td>\n",
       "      <td>0.106</td>\n",
       "      <td>8.2</td>\n",
       "      <td>14.2</td>\n",
       "      <td>NaN</td>\n",
       "    </tr>\n",
       "    <tr>\n",
       "      <th>4</th>\n",
       "      <td>17</td>\n",
       "      <td>1</td>\n",
       "      <td>1.0</td>\n",
       "      <td>1.0</td>\n",
       "      <td>0.0</td>\n",
       "      <td>1.0</td>\n",
       "      <td>0.0</td>\n",
       "      <td>16.2869</td>\n",
       "      <td>21.3517</td>\n",
       "      <td>0.1029</td>\n",
       "      <td>1.3325</td>\n",
       "      <td>0.164754</td>\n",
       "      <td>1.1</td>\n",
       "      <td>0.106</td>\n",
       "      <td>12.5</td>\n",
       "      <td>14.2</td>\n",
       "      <td>NaN</td>\n",
       "    </tr>\n",
       "    <tr>\n",
       "      <th>...</th>\n",
       "      <td>...</td>\n",
       "      <td>...</td>\n",
       "      <td>...</td>\n",
       "      <td>...</td>\n",
       "      <td>...</td>\n",
       "      <td>...</td>\n",
       "      <td>...</td>\n",
       "      <td>...</td>\n",
       "      <td>...</td>\n",
       "      <td>...</td>\n",
       "      <td>...</td>\n",
       "      <td>...</td>\n",
       "      <td>...</td>\n",
       "      <td>...</td>\n",
       "      <td>...</td>\n",
       "      <td>...</td>\n",
       "      <td>...</td>\n",
       "    </tr>\n",
       "    <tr>\n",
       "      <th>11413370</th>\n",
       "      <td>975</td>\n",
       "      <td>0</td>\n",
       "      <td>98.0</td>\n",
       "      <td>1.0</td>\n",
       "      <td>0.0</td>\n",
       "      <td>1.0</td>\n",
       "      <td>0.0</td>\n",
       "      <td>29.4001</td>\n",
       "      <td>48.7551</td>\n",
       "      <td>0.0932</td>\n",
       "      <td>0.4305</td>\n",
       "      <td>0.054675</td>\n",
       "      <td>2.4</td>\n",
       "      <td>0.260</td>\n",
       "      <td>19.5</td>\n",
       "      <td>8.2</td>\n",
       "      <td>NaN</td>\n",
       "    </tr>\n",
       "    <tr>\n",
       "      <th>11413371</th>\n",
       "      <td>975</td>\n",
       "      <td>0</td>\n",
       "      <td>98.0</td>\n",
       "      <td>1.0</td>\n",
       "      <td>0.0</td>\n",
       "      <td>1.0</td>\n",
       "      <td>0.0</td>\n",
       "      <td>29.4002</td>\n",
       "      <td>48.7621</td>\n",
       "      <td>0.0917</td>\n",
       "      <td>0.4401</td>\n",
       "      <td>0.051759</td>\n",
       "      <td>1.2</td>\n",
       "      <td>0.135</td>\n",
       "      <td>4.7</td>\n",
       "      <td>3.8</td>\n",
       "      <td>NaN</td>\n",
       "    </tr>\n",
       "    <tr>\n",
       "      <th>11413372</th>\n",
       "      <td>975</td>\n",
       "      <td>0</td>\n",
       "      <td>98.0</td>\n",
       "      <td>1.0</td>\n",
       "      <td>0.0</td>\n",
       "      <td>1.0</td>\n",
       "      <td>0.0</td>\n",
       "      <td>29.3963</td>\n",
       "      <td>48.7737</td>\n",
       "      <td>0.0866</td>\n",
       "      <td>0.4179</td>\n",
       "      <td>0.046656</td>\n",
       "      <td>5.9</td>\n",
       "      <td>0.164</td>\n",
       "      <td>19.0</td>\n",
       "      <td>7.1</td>\n",
       "      <td>NaN</td>\n",
       "    </tr>\n",
       "    <tr>\n",
       "      <th>11413373</th>\n",
       "      <td>975</td>\n",
       "      <td>0</td>\n",
       "      <td>98.0</td>\n",
       "      <td>1.0</td>\n",
       "      <td>0.0</td>\n",
       "      <td>1.0</td>\n",
       "      <td>0.0</td>\n",
       "      <td>29.3928</td>\n",
       "      <td>48.7798</td>\n",
       "      <td>0.0890</td>\n",
       "      <td>0.3925</td>\n",
       "      <td>0.045927</td>\n",
       "      <td>8.7</td>\n",
       "      <td>0.206</td>\n",
       "      <td>7.4</td>\n",
       "      <td>2.8</td>\n",
       "      <td>NaN</td>\n",
       "    </tr>\n",
       "    <tr>\n",
       "      <th>11413374</th>\n",
       "      <td>975</td>\n",
       "      <td>0</td>\n",
       "      <td>98.0</td>\n",
       "      <td>1.0</td>\n",
       "      <td>0.0</td>\n",
       "      <td>0.0</td>\n",
       "      <td>0.0</td>\n",
       "      <td>29.3905</td>\n",
       "      <td>48.7848</td>\n",
       "      <td>0.0854</td>\n",
       "      <td>0.3909</td>\n",
       "      <td>0.044469</td>\n",
       "      <td>9.9</td>\n",
       "      <td>0.235</td>\n",
       "      <td>22.2</td>\n",
       "      <td>6.3</td>\n",
       "      <td>NaN</td>\n",
       "    </tr>\n",
       "  </tbody>\n",
       "</table>\n",
       "<p>11413375 rows × 17 columns</p>\n",
       "</div>"
      ],
      "text/plain": [
       "          mwtid  etoh  time  speed  bias  tap  loc_x    loc_y  morphwidth  \\\n",
       "0            17     1   1.0    1.0   0.0  1.0    0.0  16.2008     21.3477   \n",
       "1            17     1   1.0    1.0   0.0  1.0    0.0  16.2237     21.3484   \n",
       "2            17     1   1.0    1.0   0.0  1.0    0.0  16.2465     21.3505   \n",
       "3            17     1   1.0    1.0   0.0  1.0    0.0  16.2667     21.3508   \n",
       "4            17     1   1.0    1.0   0.0  1.0    0.0  16.2869     21.3517   \n",
       "...         ...   ...   ...    ...   ...  ...    ...      ...         ...   \n",
       "11413370    975     0  98.0    1.0   0.0  1.0    0.0  29.4001     48.7551   \n",
       "11413371    975     0  98.0    1.0   0.0  1.0    0.0  29.4002     48.7621   \n",
       "11413372    975     0  98.0    1.0   0.0  1.0    0.0  29.3963     48.7737   \n",
       "11413373    975     0  98.0    1.0   0.0  1.0    0.0  29.3928     48.7798   \n",
       "11413374    975     0  98.0    1.0   0.0  0.0    0.0  29.3905     48.7848   \n",
       "\n",
       "          midline    area   angular  aspect   kink  curve  crab  wormid  \n",
       "0          0.1037  1.2937  0.164025     4.6  0.122   11.3  11.3     NaN  \n",
       "1          0.1041  1.2947  0.167670     4.0  0.124    7.9  11.4     NaN  \n",
       "2          0.1034  1.3011  0.166941     2.4  0.106    4.4  12.2     NaN  \n",
       "3          0.1038  1.2984  0.165483     1.5  0.106    8.2  14.2     NaN  \n",
       "4          0.1029  1.3325  0.164754     1.1  0.106   12.5  14.2     NaN  \n",
       "...           ...     ...       ...     ...    ...    ...   ...     ...  \n",
       "11413370   0.0932  0.4305  0.054675     2.4  0.260   19.5   8.2     NaN  \n",
       "11413371   0.0917  0.4401  0.051759     1.2  0.135    4.7   3.8     NaN  \n",
       "11413372   0.0866  0.4179  0.046656     5.9  0.164   19.0   7.1     NaN  \n",
       "11413373   0.0890  0.3925  0.045927     8.7  0.206    7.4   2.8     NaN  \n",
       "11413374   0.0854  0.3909  0.044469     9.9  0.235   22.2   6.3     NaN  \n",
       "\n",
       "[11413375 rows x 17 columns]"
      ]
     },
     "execution_count": 113,
     "metadata": {},
     "output_type": "execute_result"
    }
   ],
   "source": [
    "df_collection"
   ]
  },
  {
   "cell_type": "code",
   "execution_count": null,
   "metadata": {},
   "outputs": [],
   "source": []
  }
 ],
 "metadata": {
  "kernelspec": {
   "display_name": "Python 3",
   "language": "python",
   "name": "python3"
  },
  "language_info": {
   "codemirror_mode": {
    "name": "ipython",
    "version": 3
   },
   "file_extension": ".py",
   "mimetype": "text/x-python",
   "name": "python",
   "nbconvert_exporter": "python",
   "pygments_lexer": "ipython3",
   "version": "3.7.7"
  }
 },
 "nbformat": 4,
 "nbformat_minor": 4
}
