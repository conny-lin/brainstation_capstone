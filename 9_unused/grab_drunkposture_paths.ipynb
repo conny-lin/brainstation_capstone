{
 "cells": [
  {
   "cell_type": "code",
   "execution_count": 8,
   "metadata": {},
   "outputs": [],
   "source": [
    "# grab paths with drunk postures\n",
    "# Conny Lin | May 19, 2020\n",
    "# search all paths files of MWT database and output file paths of drunkposture2.dat\n",
    "# note: drunkposture 1 file does not have curve data, get only 2"
   ]
  },
  {
   "cell_type": "code",
   "execution_count": 9,
   "metadata": {},
   "outputs": [],
   "source": [
    "# define local variables\n",
    "dir_save = '/Users/connylin/Dropbox/CA/ED _20200119 Brain Station Data Science Diploma/Capstone/data'"
   ]
  },
  {
   "cell_type": "code",
   "execution_count": 10,
   "metadata": {},
   "outputs": [],
   "source": [
    "import os\n",
    "import pickle\n",
    "from pathlib import Path\n",
    "from pathlib import PurePath\n",
    "import numpy as np\n",
    "import pandas as pd"
   ]
  },
  {
   "cell_type": "code",
   "execution_count": 11,
   "metadata": {},
   "outputs": [],
   "source": [
    "def get_drunkposture_files(test_filepaths, path_save):\n",
    "    # create path object\n",
    "    path_obj = np.array(list(map(PurePath,test_filepaths)))\n",
    "    # get paths with drunkposture2.dat ext\n",
    "    ind_drunkposture2 = np.fromiter(map(lambda x: x.match('*.drunkposture2.dat'), path_obj), dtype=np.bool)\n",
    "    # concate all the paths\n",
    "    dp2 = np.fromiter(map(lambda x: str(x), path_obj[ind_drunkposture2]), dtype='<U500')\n",
    "    # report out\n",
    "    print(f'total {len(dp2)} files found')\n",
    "    # save these paths\n",
    "    # save png file dataframe\n",
    "    with open(path_save,'wb') as f:\n",
    "        pickle.dump(dp2,f)"
   ]
  },
  {
   "cell_type": "code",
   "execution_count": 12,
   "metadata": {},
   "outputs": [],
   "source": [
    "# load all paths pickle\n",
    "filename = os.path.join(dir_save,'allfilepaths.pickle')\n",
    "with open(filename,'rb') as f:\n",
    "    filepaths = pickle.load(f)"
   ]
  },
  {
   "cell_type": "markdown",
   "metadata": {},
   "source": [
    "Note: ptyhon3 updated map to iterable. To convert map object to np, needs to use `np.fromiter`:\n",
    "https://stackoverflow.com/questions/28524378/convert-map-object-to-numpy-array-in-python-3"
   ]
  },
  {
   "cell_type": "code",
   "execution_count": 13,
   "metadata": {},
   "outputs": [
    {
     "name": "stdout",
     "output_type": "stream",
     "text": [
      "total 5 files found\n"
     ]
    }
   ],
   "source": [
    "# __test__\n",
    "test_filepaths = filepaths[:50]\n",
    "path_save = os.path.join(dir_save, 'path_drunkposture.pickle')\n",
    "get_drunkposture_files(test_filepaths, path_save)"
   ]
  },
  {
   "cell_type": "code",
   "execution_count": 14,
   "metadata": {},
   "outputs": [
    {
     "name": "stdout",
     "output_type": "stream",
     "text": [
      "total 4895 files found\n"
     ]
    }
   ],
   "source": [
    "# actual\n",
    "path_save = os.path.join(dir_save, 'path_drunkposture.pickle')\n",
    "get_drunkposture_files(filepaths, path_save)"
   ]
  }
 ],
 "metadata": {
  "kernelspec": {
   "display_name": "Python 3",
   "language": "python",
   "name": "python3"
  },
  "language_info": {
   "codemirror_mode": {
    "name": "ipython",
    "version": 3
   },
   "file_extension": ".py",
   "mimetype": "text/x-python",
   "name": "python",
   "nbconvert_exporter": "python",
   "pygments_lexer": "ipython3",
   "version": "3.7.7"
  }
 },
 "nbformat": 4,
 "nbformat_minor": 4
}
