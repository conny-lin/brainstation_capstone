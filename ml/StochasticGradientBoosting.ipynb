{
  "nbformat": 4,
  "nbformat_minor": 0,
  "metadata": {
    "colab": {
      "name": "StochasticGradientBoosting_20200619-1153.ipynb",
      "provenance": [],
      "collapsed_sections": []
    },
    "kernelspec": {
      "name": "python3",
      "display_name": "Python 3"
    }
  },
  "cells": [
    {
      "cell_type": "markdown",
      "metadata": {
        "id": "P4U5o4AEtpra",
        "colab_type": "text"
      },
      "source": [
        "# Stochastic Gradient Boosting - nutcracker\n",
        "Conny Lin | June 17, 2020"
      ]
    },
    {
      "cell_type": "markdown",
      "metadata": {
        "id": "KAazNrndtprc",
        "colab_type": "text"
      },
      "source": [
        "## run on google colab"
      ]
    },
    {
      "cell_type": "code",
      "metadata": {
        "id": "Kg5ouKA43WbV",
        "colab_type": "code",
        "colab": {
          "base_uri": "https://localhost:8080/",
          "height": 122
        },
        "outputId": "ee0191e7-1d9b-46f8-c1ea-223065528141"
      },
      "source": [
        "# connect to google drive\n",
        "from google.colab import drive\n",
        "drive.mount('/content/gdrive')"
      ],
      "execution_count": null,
      "outputs": [
        {
          "output_type": "stream",
          "text": [
            "Go to this URL in a browser: https://accounts.google.com/o/oauth2/auth?client_id=947318989803-6bn6qk8qdgf4n4g3pfee6491hc0brc4i.apps.googleusercontent.com&redirect_uri=urn%3aietf%3awg%3aoauth%3a2.0%3aoob&response_type=code&scope=email%20https%3a%2f%2fwww.googleapis.com%2fauth%2fdocs.test%20https%3a%2f%2fwww.googleapis.com%2fauth%2fdrive%20https%3a%2f%2fwww.googleapis.com%2fauth%2fdrive.photos.readonly%20https%3a%2f%2fwww.googleapis.com%2fauth%2fpeopleapi.readonly\n",
            "\n",
            "Enter your authorization code:\n",
            "··········\n",
            "Mounted at /content/gdrive\n"
          ],
          "name": "stdout"
        }
      ]
    },
    {
      "cell_type": "code",
      "metadata": {
        "id": "ExfYkqrs3bR3",
        "colab_type": "code",
        "colab": {
          "base_uri": "https://localhost:8080/",
          "height": 34
        },
        "outputId": "f3ca61a0-9bbb-4915-a908-4255de8eabe3"
      },
      "source": [
        "file_dir = '/content/gdrive/My Drive/ED Brain Station/data'\n",
        "import pandas as pd\n",
        "import numpy as np\n",
        "import os\n",
        "\n",
        "# load array\n",
        "X = np.loadtxt(os.path.join(file_dir, 'nutcracker_X_train.csv'), delimiter=',')\n",
        "y = np.loadtxt(os.path.join(file_dir, 'nutcracker_y_train.csv'), delimiter=',')\n",
        "X_test = np.loadtxt(os.path.join(file_dir, 'nutcracker_X_test.csv'), delimiter=',')\n",
        "y_test = np.loadtxt(os.path.join(file_dir, 'nutcracker_y_test.csv'), delimiter=',')\n",
        "\n",
        "# print the array\n",
        "print(X.shape)"
      ],
      "execution_count": null,
      "outputs": [
        {
          "output_type": "stream",
          "text": [
            "(1600000, 21)\n"
          ],
          "name": "stdout"
        }
      ]
    },
    {
      "cell_type": "markdown",
      "metadata": {
        "id": "Ycio3CSfWdlN",
        "colab_type": "text"
      },
      "source": [
        "\n",
        "run one untune model"
      ]
    },
    {
      "cell_type": "code",
      "metadata": {
        "id": "Wblopq4MWZw3",
        "colab_type": "code",
        "colab": {
          "base_uri": "https://localhost:8080/",
          "height": 1000
        },
        "outputId": "46df4bbd-6cd0-4552-add7-db7454f34316"
      },
      "source": [
        "# untune model\n",
        "from sklearn.ensemble import GradientBoostingClassifier\n",
        "import time\n",
        "start_time = time.time()\n",
        "model = GradientBoostingClassifier(random_state=318, verbose=3)\n",
        "model.fit(X,y)\n",
        "train_score = model.score(X, y)\n",
        "print(f'train score: {train_score}')\n",
        "test_score = model.score(X_test, y_test)\n",
        "print(f'test score: {test_score}')\n",
        "print(f'took {(time.time()-start_time)/60:.2f}min')"
      ],
      "execution_count": null,
      "outputs": [
        {
          "output_type": "stream",
          "text": [
            "      Iter       Train Loss   Remaining Time \n",
            "         1           1.2935           19.02m\n",
            "         2           1.2176           18.67m\n",
            "         3           1.1545           18.33m\n",
            "         4           1.1012           18.07m\n",
            "         5           1.0563           17.80m\n",
            "         6           1.0179           17.54m\n",
            "         7           0.9854           17.32m\n",
            "         8           0.9566           17.10m\n",
            "         9           0.9310           16.82m\n",
            "        10           0.9090           16.53m\n",
            "        11           0.8897           16.25m\n",
            "        12           0.8719           15.98m\n",
            "        13           0.8577           15.73m\n",
            "        14           0.8435           15.50m\n",
            "        15           0.8306           15.27m\n",
            "        16           0.8201           15.06m\n",
            "        17           0.8095           14.84m\n",
            "        18           0.8005           14.62m\n",
            "        19           0.7915           14.42m\n",
            "        20           0.7837           14.21m\n",
            "        21           0.7762           14.01m\n",
            "        22           0.7701           13.81m\n",
            "        23           0.7630           13.62m\n",
            "        24           0.7564           13.42m\n",
            "        25           0.7518           13.23m\n",
            "        26           0.7452           13.04m\n",
            "        27           0.7405           12.86m\n",
            "        28           0.7350           12.67m\n",
            "        29           0.7290           12.49m\n",
            "        30           0.7248           12.31m\n",
            "        31           0.7205           12.12m\n",
            "        32           0.7172           11.94m\n",
            "        33           0.7141           11.76m\n",
            "        34           0.7107           11.58m\n",
            "        35           0.7073           11.40m\n",
            "        36           0.7049           11.21m\n",
            "        37           0.7022           11.04m\n",
            "        38           0.6989           10.86m\n",
            "        39           0.6952           10.68m\n",
            "        40           0.6923           10.49m\n",
            "        41           0.6897           10.32m\n",
            "        42           0.6862           10.14m\n",
            "        43           0.6843            9.96m\n",
            "        44           0.6813            9.78m\n",
            "        45           0.6794            9.61m\n",
            "        46           0.6771            9.43m\n",
            "        47           0.6753            9.25m\n",
            "        48           0.6731            9.07m\n",
            "        49           0.6716            8.90m\n",
            "        50           0.6693            8.72m\n",
            "        51           0.6673            8.54m\n",
            "        52           0.6658            8.39m\n",
            "        53           0.6637            8.22m\n",
            "        54           0.6615            8.04m\n",
            "        55           0.6591            7.86m\n",
            "        56           0.6576            7.69m\n",
            "        57           0.6553            7.51m\n",
            "        58           0.6536            7.33m\n",
            "        59           0.6516            7.15m\n",
            "        60           0.6498            6.98m\n",
            "        61           0.6484            6.80m\n",
            "        62           0.6474            6.63m\n",
            "        63           0.6459            6.45m\n",
            "        64           0.6439            6.28m\n",
            "        65           0.6428            6.10m\n",
            "        66           0.6411            5.93m\n",
            "        67           0.6400            5.75m\n",
            "        68           0.6385            5.57m\n",
            "        69           0.6369            5.40m\n",
            "        70           0.6353            5.22m\n",
            "        71           0.6338            5.05m\n",
            "        72           0.6328            4.87m\n",
            "        73           0.6317            4.70m\n",
            "        74           0.6303            4.52m\n",
            "        75           0.6291            4.35m\n",
            "        76           0.6279            4.17m\n",
            "        77           0.6269            4.00m\n",
            "        78           0.6255            3.83m\n",
            "        79           0.6244            3.65m\n",
            "        80           0.6233            3.48m\n",
            "        81           0.6225            3.30m\n",
            "        82           0.6215            3.13m\n",
            "        83           0.6206            2.95m\n",
            "        84           0.6195            2.78m\n",
            "        85           0.6185            2.61m\n",
            "        86           0.6177            2.43m\n",
            "        87           0.6166            2.26m\n",
            "        88           0.6156            2.08m\n",
            "        89           0.6143            1.91m\n",
            "        90           0.6133            1.74m\n",
            "        91           0.6124            1.56m\n",
            "        92           0.6116            1.39m\n",
            "        93           0.6107            1.21m\n",
            "        94           0.6096            1.04m\n",
            "        95           0.6088           52.04s\n",
            "        96           0.6081           41.62s\n",
            "        97           0.6072           31.21s\n",
            "        98           0.6061           20.81s\n",
            "        99           0.6052           10.40s\n",
            "       100           0.6044            0.00s\n",
            "train score: 0.87604375\n",
            "test score: 0.875275\n",
            "took 17.43min\n"
          ],
          "name": "stdout"
        }
      ]
    },
    {
      "cell_type": "markdown",
      "metadata": {
        "id": "_qTi1DA3WrxV",
        "colab_type": "text"
      },
      "source": [
        "Tune:\n",
        "n_estimators = [5, 10, 20, 50, 100]\n",
        "\n",
        "learning_rate = [0.001, 0.01, 0.1]\n",
        "\n",
        "subsample = [0.5, 0.7, 1.0]\n",
        "\n",
        "max_depth = [3, 7, 9]\n",
        "\n"
      ]
    },
    {
      "cell_type": "code",
      "metadata": {
        "id": "PTjxmMmNWSJH",
        "colab_type": "code",
        "colab": {
          "base_uri": "https://localhost:8080/",
          "height": 1000
        },
        "outputId": "1ad4502f-05ff-4f7b-c6a3-6ba238221b5e"
      },
      "source": [
        "from sklearn.ensemble import GradientBoostingClassifier\n",
        "import time\n",
        "import matplotlib.pyplot as plt\n",
        "\n",
        "n_estimators = [4, 10, 20]\n",
        "train_score_list = []\n",
        "test_score_list = []\n",
        "for n in n_estimators:\n",
        "  start_time = time.time()\n",
        "  model = GradientBoostingClassifier(random_state=318, n_estimators=n, verbose=3)\n",
        "  print(f'fitting {n} estimators')\n",
        "  model.fit(X,y)\n",
        "  train_score = model.score(X, y)\n",
        "  train_score_list.append(train_score)\n",
        "  print(f'train score: {train_score}')\n",
        "  test_score = model.score(X_test, y_test)\n",
        "  test_score_list.append(test_score)\n",
        "  print(f'test score: {test_score}')\n",
        "  print(f'took {(time.time()-start_time)/60:.2f}min')\n",
        "\n",
        "plt.figure()\n",
        "plt.plot(n_estimators, train_score_list, color='blue', label='train')\n",
        "plt.plot(n_estimators, test_score_list, color='red', label='test')\n",
        "plt.legend()\n",
        "plt.show()"
      ],
      "execution_count": null,
      "outputs": [
        {
          "output_type": "stream",
          "text": [
            "fitting 4 estimators\n",
            "      Iter       Train Loss   Remaining Time \n",
            "         1           1.2935           35.55s\n",
            "         2           1.2176           23.70s\n",
            "         3           1.1545           11.84s\n",
            "         4           1.1012            0.00s\n",
            "train score: 0.833270625\n",
            "test score: 0.8328575\n",
            "took 0.81min\n",
            "fitting 10 estimators\n",
            "      Iter       Train Loss   Remaining Time \n",
            "         1           1.2935            1.78m\n",
            "         2           1.2176            1.58m\n",
            "         3           1.1545            1.40m\n",
            "         4           1.1012            1.20m\n",
            "         5           1.0563           59.63s\n",
            "         6           1.0179           47.67s\n",
            "         7           0.9854           35.74s\n",
            "         8           0.9566           23.83s\n",
            "         9           0.9310           11.87s\n",
            "        10           0.9090            0.00s\n",
            "train score: 0.834148125\n",
            "test score: 0.833515\n",
            "took 1.99min\n",
            "fitting 20 estimators\n",
            "      Iter       Train Loss   Remaining Time \n",
            "         1           1.2935            3.60m\n",
            "         2           1.2176            3.39m\n",
            "         3           1.1545            3.19m\n",
            "         4           1.1012            3.00m\n",
            "         5           1.0563            2.80m\n",
            "         6           1.0179            2.61m\n",
            "         7           0.9854            2.41m\n",
            "         8           0.9566            2.21m\n",
            "         9           0.9310            2.04m\n",
            "        10           0.9090            1.84m\n",
            "        11           0.8897            1.65m\n",
            "        12           0.8719            1.46m\n",
            "        13           0.8577            1.27m\n",
            "        14           0.8435            1.09m\n",
            "        15           0.8306           54.09s\n",
            "        16           0.8201           43.15s\n",
            "        17           0.8095           32.28s\n",
            "        18           0.8005           21.47s\n",
            "        19           0.7915           10.71s\n",
            "        20           0.7837            0.00s\n",
            "train score: 0.843280625\n",
            "test score: 0.8426825\n",
            "took 3.60min\n"
          ],
          "name": "stdout"
        },
        {
          "output_type": "display_data",
          "data": {
            "image/png": "[encoded data removed]",
            "text/plain": [
              "<Figure size 432x288 with 1 Axes>"
            ]
          },
          "metadata": {
            "tags": [],
            "needs_background": "light"
          }
        }
      ]
    },
    {
      "cell_type": "code",
      "metadata": {
        "id": "MDFX9qBj3f0s",
        "colab_type": "code",
        "colab": {
          "base_uri": "https://localhost:8080/",
          "height": 85
        },
        "outputId": "8d473826-58c4-417e-da8f-6f912c5d00a1"
      },
      "source": [
        "# example of grid searching key hyperparameters for GradientBoostingClassifier\n",
        "from sklearn.model_selection import GridSearchCV\n",
        "from sklearn.ensemble import GradientBoostingClassifier\n",
        "\n",
        "# load data\n",
        "X = np.loadtxt(os.path.join(file_dir, 'nutcracker_X_train.csv'), delimiter=',')\n",
        "y = np.loadtxt(os.path.join(file_dir, 'nutcracker_y_train.csv'), delimiter=',')\n",
        "\n",
        "# define models and parameters\n",
        "model = GradientBoostingClassifier()\n",
        "n_estimators = [5, 10, 20, 50, 100]\n",
        "learning_rate = [0.001, 0.01, 0.1]\n",
        "subsample = [0.5, 0.7, 1.0]\n",
        "max_depth = [3, 7, 9]\n",
        "\n",
        "# define grid search\n",
        "grid = dict(learning_rate=learning_rate, n_estimators=n_estimators, subsample=subsample, max_depth=max_depth)\n",
        "cv=5 #cv = RepeatedStratifiedKFold(n_splits=10, n_repeats=3, random_state=1)\n",
        "grid_search = GridSearchCV(estimator=model, param_grid=grid, n_jobs=-1, cv=cv, \n",
        "                           scoring='accuracy',error_score=0, verbose=5)\n",
        "grid_result = grid_search.fit(X, y)\n",
        "\n",
        "# summarize results\n",
        "means = grid_result.cv_results_['mean_test_score']\n",
        "stds = grid_result.cv_results_['std_test_score']\n",
        "params = grid_result.cv_results_['params']\n",
        "for mean, stdev, param in zip(means, stds, params):\n",
        "    print(\"%f (%f) with: %r\" % (mean, stdev, param))\n",
        "print(\"Best: %f using %s\" % (grid_result.best_score_, grid_result.best_params_))\n"
      ],
      "execution_count": null,
      "outputs": [
        {
          "output_type": "stream",
          "text": [
            "Fitting 5 folds for each of 135 candidates, totalling 675 fits\n"
          ],
          "name": "stdout"
        },
        {
          "output_type": "stream",
          "text": [
            "[Parallel(n_jobs=-1)]: Using backend LokyBackend with 2 concurrent workers.\n",
            "[Parallel(n_jobs=-1)]: Done  14 tasks      | elapsed:  5.7min\n",
            "[Parallel(n_jobs=-1)]: Done  68 tasks      | elapsed: 157.3min\n"
          ],
          "name": "stderr"
        }
      ]
    },
    {
      "cell_type": "code",
      "metadata": {
        "colab_type": "code",
        "id": "Op9C2ZZqTzMo",
        "colab": {}
      },
      "source": [
        "grid search did not finish"
      ],
      "execution_count": null,
      "outputs": []
    },
    {
      "cell_type": "markdown",
      "metadata": {
        "id": "0Kt3DsOFtpsC",
        "colab_type": "text"
      },
      "source": [
        "## run smaller batches to tune\n",
        "\n"
      ]
    },
    {
      "cell_type": "markdown",
      "metadata": {
        "id": "OHEwfjxUtwQB",
        "colab_type": "text"
      },
      "source": [
        "### max_depth on google colab"
      ]
    },
    {
      "cell_type": "code",
      "metadata": {
        "id": "gIDa_5f1tpsD",
        "colab_type": "code",
        "colab": {
          "base_uri": "https://localhost:8080/",
          "height": 326
        },
        "outputId": "0496f068-1ae7-4495-c639-30dde5cbd266"
      },
      "source": [
        "import timeit, os\n",
        "from sklearn.ensemble import GradientBoostingClassifier\n",
        "import pandas as pd\n",
        "import numpy as np\n",
        "\n",
        "# import data\n",
        "# connect to google drive\n",
        "from google.colab import drive\n",
        "drive.mount('/content/gdrive')\n",
        "file_dir = '/content/gdrive/My Drive/ED Brain Station/data'\n",
        "\n",
        "# load array\n",
        "X = np.loadtxt(os.path.join(file_dir, 'nutcracker_X_train.csv'), delimiter=',')\n",
        "y = np.loadtxt(os.path.join(file_dir, 'nutcracker_y_train.csv'), delimiter=',')\n",
        "X_test = np.loadtxt(os.path.join(file_dir, 'nutcracker_X_test.csv'), delimiter=',')\n",
        "y_test = np.loadtxt(os.path.join(file_dir, 'nutcracker_y_test.csv'), delimiter=',')\n",
        "# print the array\n",
        "print(X.shape)\n",
        "\n",
        "# set up time\n",
        "start_time_all = timeit.timeit()\n",
        "print('timer start')\n",
        "print(f'test timer {(timeit.timeit() - start_time_all)/60:.2f} min')\n",
        "# hyperparameters\n",
        "n_estimators = 20\n",
        "max_depth_list = [3, 7, 9]\n",
        "# declare output var\n",
        "test_scores = []\n",
        "train_scores = []\n",
        "# test hyperparameter\n",
        "for max_depth in max_depth_list:\n",
        "    print(f'running {max_depth}')\n",
        "    # set up time\n",
        "    start_time = timeit.timeit()\n",
        "    # start model\n",
        "    NN_model = GradientBoostingClassifier(max_depth=max_depth)\n",
        "    NN_model.fit(X, y)\n",
        "    # get scores\n",
        "    train_score = NN_model.score(X, y)\n",
        "    test_score = NN_model.score(X_test, y_test)\n",
        "    # print results\n",
        "    print(f\"\\tTrain Score: {train_score}\")\n",
        "    print(f\"\\tTest Score: {test_score}\")\n",
        "    # print time elapsed\n",
        "    print(f'\\ttook {(timeit.timeit() - start_time)/60:.2f} min')\n",
        "\n",
        "# set up time\n",
        "start_time_all = timeit.timeit()\n",
        "print(f'total time: {(timeit.timeit() - start_time_all)/60:.2f} min')\n"
      ],
      "execution_count": null,
      "outputs": [
        {
          "output_type": "stream",
          "text": [
            "Drive already mounted at /content/gdrive; to attempt to forcibly remount, call drive.mount(\"/content/gdrive\", force_remount=True).\n",
            "(1600000, 21)\n",
            "timer start\n",
            "test timer -0.00 min\n",
            "running 3\n",
            "\tTrain Score: 0.87604375\n",
            "\tTest Score: 0.875275\n",
            "\ttook 0.00 min\n",
            "running 7\n",
            "\tTrain Score: 0.89990375\n",
            "\tTest Score: 0.896415\n",
            "\ttook 0.00 min\n",
            "running 9\n",
            "\tTrain Score: 0.913314375\n",
            "\tTest Score: 0.90374\n",
            "\ttook 0.00 min\n",
            "total time: -0.00 min\n"
          ],
          "name": "stdout"
        }
      ]
    },
    {
      "cell_type": "markdown",
      "metadata": {
        "id": "8H7wMWCZ_Jtv",
        "colab_type": "text"
      },
      "source": [
        "seems max_depth=9 is the best. See if higher can be better.\n"
      ]
    },
    {
      "cell_type": "markdown",
      "metadata": {
        "id": "4QAt9rKn_b0J",
        "colab_type": "text"
      },
      "source": [
        "## max_depth 9 and more"
      ]
    },
    {
      "cell_type": "code",
      "metadata": {
        "id": "ojYIjaRb_fVo",
        "colab_type": "code",
        "colab": {
          "base_uri": "https://localhost:8080/",
          "height": 360
        },
        "outputId": "eb71f5fa-9d45-40af-db07-3913df633d78"
      },
      "source": [
        "import time, os\n",
        "from sklearn.ensemble import GradientBoostingClassifier\n",
        "import pandas as pd\n",
        "import numpy as np\n",
        "import matplotlib.pyplot as plt\n",
        "\n",
        "# set up time\n",
        "session_start = time.time()\n",
        "print('timer start')\n",
        "print(f'test timer {(time.time() - session_start)/60:.2f} min')\n",
        "# hyperparameters - testing\n",
        "max_depth_list = np.arange(9,20,dtype=int)\n",
        "hyperparameter_list = max_depth_list\n",
        "hyperparameter_name = 'max_depth_list'\n",
        "# hyperparameters - determined\n",
        "n_estimators = 20\n",
        "# declare output var\n",
        "train_score_list = []\n",
        "test_score_list = []\n",
        "# test hyperparameter\n",
        "for max_depth in max_depth_list:\n",
        "    print(f'running {max_depth}')\n",
        "    # set up time\n",
        "    start_time = time.time()\n",
        "    # start model\n",
        "    NN_model = GradientBoostingClassifier(max_depth=max_depth)\n",
        "    NN_model.fit(X, y)\n",
        "    # get scores\n",
        "    train_score = NN_model.score(X, y)\n",
        "    print(f\"\\tTrain Score: {train_score}\")\n",
        "    train_score_list.append(train_score)\n",
        "    test_score = NN_model.score(X_test, y_test)\n",
        "    print(f\"\\tTest Score: {test_score}\")\n",
        "    test_score_list.append(test_score)\n",
        "    # print time elapsed\n",
        "    print(f'\\ttook {(time.time() - start_time)/60:.2f} min')\n",
        "\n",
        "# report total time\n",
        "print(f'total time: {(time.time() - session_start)/60:.2f} min')\n",
        "\n",
        "# plot \n",
        "plt.figure()\n",
        "plt.plot(hyperparameter_list, train_score_list, color='blue', label='train')\n",
        "plt.plot(hyperparameter_list, test_score_list, color='red', label='test')\n",
        "plt.xlabel(hyperparameter_name)\n",
        "plt.ylabel('accuracy score')\n",
        "plt.legend()\n",
        "plt.show()"
      ],
      "execution_count": null,
      "outputs": [
        {
          "output_type": "stream",
          "text": [
            "timer start\n",
            "test timer 26543516.13 min\n",
            "running 9\n",
            "\tTrain Score: 0.913315\n",
            "\tTest Score: 0.9037325\n",
            "\ttook 51.91 min\n",
            "running 10\n",
            "\tTrain Score: 0.923209375\n",
            "\tTest Score: 0.907465\n",
            "\ttook 59.90 min\n",
            "running 11\n",
            "\tTrain Score: 0.9347825\n",
            "\tTest Score: 0.9103975\n",
            "\ttook 69.34 min\n",
            "running 12\n",
            "\tTrain Score: 0.949330625\n",
            "\tTest Score: 0.911925\n",
            "\ttook 73.38 min\n",
            "running 13\n"
          ],
          "name": "stdout"
        }
      ]
    },
    {
      "cell_type": "code",
      "metadata": {
        "id": "NSgdlSOOAs-s",
        "colab_type": "code",
        "colab": {}
      },
      "source": [
        ""
      ],
      "execution_count": null,
      "outputs": []
    }
  ]
}