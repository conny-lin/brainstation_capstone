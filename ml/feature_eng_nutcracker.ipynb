{
 "cells": [
  {
   "cell_type": "code",
   "execution_count": null,
   "metadata": {},
   "outputs": [],
   "source": [
    "# feature engineering\n",
    "# Conny Lin | June 14, 2020"
   ]
  },
  {
   "cell_type": "code",
   "execution_count": null,
   "metadata": {},
   "outputs": [],
   "source": [
    "# updated June 14, 2020\n",
    "# computer dependent local variable settings \n",
    "import socket, os\n",
    "# check which computer this code is running on\n",
    "hostname = socket.gethostname().split('.')[0]\n",
    "# set local path settings based on computer host\n",
    "if hostname == 'PFC':\n",
    "    pylibrary = ['/Users/connylin/Dropbox/Code/proj/']\n",
    "    pCapstone = '/Users/connylin/Dropbox/CA/ED _20200119 Brain Station Data Science Diploma/Capstone'\n",
    "    datapath = os.path.join(pCapstone,'data','nutcracker_sample_1Meach.csv')\n",
    "elif hostname == 'Angular Gyrus':\n",
    "    pylibrary = ['/Users/connylin/Code/proj/']\n",
    "    pCapstone = '/Users/connylin/Dropbox/CA/ED _20200119 Brain Station Data Science Diploma/Capstone'\n",
    "    datapath = os.path.join(pCapstone,'data','nutcracker_sample_1Meach.csv')\n",
    "else:\n",
    "    assert False, 'host computer not regonized'\n",
    "    \n",
    "# import standard libraries\n",
    "import sys, pickle, socket\n",
    "import numpy as np\n",
    "import pandas as pd\n",
    "import matplotlib.pyplot as plt\n",
    "# load local libraries\n",
    "for path in pylibrary:\n",
    "    if path not in sys.path:\n",
    "        sys.path.insert(1, path)\n",
    "import brainstation_capstone\n",
    "from brainstation_capstone.etl.datatransform import Nutcracker\n",
    "\n",
    "# get machine learning input data\n",
    "NC = Nutcracker(datapath)\n",
    "X_train, X_test, y_train, y_test = NC.mldata()"
   ]
  },
  {
   "cell_type": "code",
   "execution_count": null,
   "metadata": {},
   "outputs": [],
   "source": [
    "# ML specific \n",
    "outputfolder = os.path.join(pCapstone,'ml_feature_eng')\n",
    "from sklearn.feature_selection import VarianceThreshold\n",
    "from sklearn.linear_model import LogisticRegression"
   ]
  },
  {
   "cell_type": "markdown",
   "metadata": {},
   "source": [
    "Many of the features in nutcracker are calculated to represent similar things"
   ]
  },
  {
   "cell_type": "code",
   "execution_count": null,
   "metadata": {},
   "outputs": [],
   "source": [
    "from brainstation_capstone.db import chor_legend\n"
   ]
  },
  {
   "cell_type": "markdown",
   "metadata": {},
   "source": [
    "time measures:\n",
    "* time\n",
    "* persistence\n",
    "\n",
    "size measures:\n",
    "* area\n",
    "\n",
    "width measures:\n",
    "* midline\n",
    "* morphwidth\n",
    "* width\n",
    "* relwidth\n",
    "\n",
    "length measures:\n",
    "* length\n",
    "* rellength\n",
    "\n",
    "angle measures:\n",
    "* aspect\n",
    "* relaspect\n",
    "* kink\n",
    "* curve\n",
    "* orient\n",
    "\n",
    "movement speed measures:\n",
    "* speed\n",
    "* crab\n",
    "* angular\n",
    "\n",
    "movement dir measures: \n",
    "* bias\n",
    "* dir\n",
    "* vel_x\n",
    "* vel_y\n",
    "\n"
   ]
  },
  {
   "cell_type": "code",
   "execution_count": 19,
   "metadata": {},
   "outputs": [
    {
     "data": {
      "text/plain": [
       "<module 'brainstation_capstone.db.chor_legend' from '/Users/connylin/Dropbox/Code/proj/brainstation_capstone/db/chor_legend.py'>"
      ]
     },
     "execution_count": 19,
     "metadata": {},
     "output_type": "execute_result"
    }
   ],
   "source": [
    "# create reference table\n",
    "le = chor_legend\n",
    "le"
   ]
  },
  {
   "cell_type": "markdown",
   "metadata": {},
   "source": [
    "use OLS "
   ]
  },
  {
   "cell_type": "code",
   "execution_count": 13,
   "metadata": {},
   "outputs": [],
   "source": [
    "# list features\n",
    "X_columns = np.array(NC.names['X']).transpose()"
   ]
  },
  {
   "cell_type": "code",
   "execution_count": 14,
   "metadata": {},
   "outputs": [
    {
     "name": "stderr",
     "output_type": "stream",
     "text": [
      "/Users/connylin/opt/anaconda3/lib/python3.7/site-packages/sklearn/linear_model/_logistic.py:940: ConvergenceWarning: lbfgs failed to converge (status=1):\n",
      "STOP: TOTAL NO. of ITERATIONS REACHED LIMIT.\n",
      "\n",
      "Increase the number of iterations (max_iter) or scale the data as shown in:\n",
      "    https://scikit-learn.org/stable/modules/preprocessing.html\n",
      "Please also refer to the documentation for alternative solver options:\n",
      "    https://scikit-learn.org/stable/modules/linear_model.html#logistic-regression\n",
      "  extra_warning_msg=_LOGISTIC_SOLVER_CONVERGENCE_MSG)\n"
     ]
    },
    {
     "data": {
      "text/html": [
       "<div>\n",
       "<style scoped>\n",
       "    .dataframe tbody tr th:only-of-type {\n",
       "        vertical-align: middle;\n",
       "    }\n",
       "\n",
       "    .dataframe tbody tr th {\n",
       "        vertical-align: top;\n",
       "    }\n",
       "\n",
       "    .dataframe thead th {\n",
       "        text-align: right;\n",
       "    }\n",
       "</style>\n",
       "<table border=\"1\" class=\"dataframe\">\n",
       "  <thead>\n",
       "    <tr style=\"text-align: right;\">\n",
       "      <th></th>\n",
       "      <th>features</th>\n",
       "      <th>OLS_coef</th>\n",
       "      <th>OLS_coef_abs</th>\n",
       "    </tr>\n",
       "  </thead>\n",
       "  <tbody>\n",
       "    <tr>\n",
       "      <th>5</th>\n",
       "      <td>width</td>\n",
       "      <td>-13.761015</td>\n",
       "      <td>13.761015</td>\n",
       "    </tr>\n",
       "    <tr>\n",
       "      <th>9</th>\n",
       "      <td>aspect</td>\n",
       "      <td>-10.941442</td>\n",
       "      <td>10.941442</td>\n",
       "    </tr>\n",
       "    <tr>\n",
       "      <th>6</th>\n",
       "      <td>relwidth</td>\n",
       "      <td>3.617541</td>\n",
       "      <td>3.617541</td>\n",
       "    </tr>\n",
       "    <tr>\n",
       "      <th>10</th>\n",
       "      <td>relaspect</td>\n",
       "      <td>2.827076</td>\n",
       "      <td>2.827076</td>\n",
       "    </tr>\n",
       "    <tr>\n",
       "      <th>8</th>\n",
       "      <td>rellength</td>\n",
       "      <td>-2.393815</td>\n",
       "      <td>2.393815</td>\n",
       "    </tr>\n",
       "    <tr>\n",
       "      <th>4</th>\n",
       "      <td>morphwidth</td>\n",
       "      <td>2.076456</td>\n",
       "      <td>2.076456</td>\n",
       "    </tr>\n",
       "    <tr>\n",
       "      <th>7</th>\n",
       "      <td>length</td>\n",
       "      <td>2.056058</td>\n",
       "      <td>2.056058</td>\n",
       "    </tr>\n",
       "    <tr>\n",
       "      <th>2</th>\n",
       "      <td>area</td>\n",
       "      <td>-0.712834</td>\n",
       "      <td>0.712834</td>\n",
       "    </tr>\n",
       "    <tr>\n",
       "      <th>13</th>\n",
       "      <td>speed</td>\n",
       "      <td>0.684202</td>\n",
       "      <td>0.684202</td>\n",
       "    </tr>\n",
       "    <tr>\n",
       "      <th>20</th>\n",
       "      <td>crab</td>\n",
       "      <td>-0.585187</td>\n",
       "      <td>0.585187</td>\n",
       "    </tr>\n",
       "    <tr>\n",
       "      <th>3</th>\n",
       "      <td>midline</td>\n",
       "      <td>-0.410617</td>\n",
       "      <td>0.410617</td>\n",
       "    </tr>\n",
       "    <tr>\n",
       "      <th>16</th>\n",
       "      <td>dir</td>\n",
       "      <td>0.401372</td>\n",
       "      <td>0.401372</td>\n",
       "    </tr>\n",
       "    <tr>\n",
       "      <th>15</th>\n",
       "      <td>bias</td>\n",
       "      <td>-0.382911</td>\n",
       "      <td>0.382911</td>\n",
       "    </tr>\n",
       "    <tr>\n",
       "      <th>17</th>\n",
       "      <td>vel_x</td>\n",
       "      <td>-0.205959</td>\n",
       "      <td>0.205959</td>\n",
       "    </tr>\n",
       "    <tr>\n",
       "      <th>12</th>\n",
       "      <td>curve</td>\n",
       "      <td>-0.200358</td>\n",
       "      <td>0.200358</td>\n",
       "    </tr>\n",
       "    <tr>\n",
       "      <th>18</th>\n",
       "      <td>vel_y</td>\n",
       "      <td>0.096130</td>\n",
       "      <td>0.096130</td>\n",
       "    </tr>\n",
       "    <tr>\n",
       "      <th>11</th>\n",
       "      <td>kink</td>\n",
       "      <td>0.030345</td>\n",
       "      <td>0.030345</td>\n",
       "    </tr>\n",
       "    <tr>\n",
       "      <th>14</th>\n",
       "      <td>angular</td>\n",
       "      <td>0.014709</td>\n",
       "      <td>0.014709</td>\n",
       "    </tr>\n",
       "    <tr>\n",
       "      <th>0</th>\n",
       "      <td>time</td>\n",
       "      <td>0.006520</td>\n",
       "      <td>0.006520</td>\n",
       "    </tr>\n",
       "    <tr>\n",
       "      <th>1</th>\n",
       "      <td>persistence</td>\n",
       "      <td>0.003011</td>\n",
       "      <td>0.003011</td>\n",
       "    </tr>\n",
       "    <tr>\n",
       "      <th>19</th>\n",
       "      <td>orient</td>\n",
       "      <td>-0.000123</td>\n",
       "      <td>0.000123</td>\n",
       "    </tr>\n",
       "  </tbody>\n",
       "</table>\n",
       "</div>"
      ],
      "text/plain": [
       "       features   OLS_coef  OLS_coef_abs\n",
       "5         width -13.761015     13.761015\n",
       "9        aspect -10.941442     10.941442\n",
       "6      relwidth   3.617541      3.617541\n",
       "10    relaspect   2.827076      2.827076\n",
       "8     rellength  -2.393815      2.393815\n",
       "4    morphwidth   2.076456      2.076456\n",
       "7        length   2.056058      2.056058\n",
       "2          area  -0.712834      0.712834\n",
       "13        speed   0.684202      0.684202\n",
       "20         crab  -0.585187      0.585187\n",
       "3       midline  -0.410617      0.410617\n",
       "16          dir   0.401372      0.401372\n",
       "15         bias  -0.382911      0.382911\n",
       "17        vel_x  -0.205959      0.205959\n",
       "12        curve  -0.200358      0.200358\n",
       "18        vel_y   0.096130      0.096130\n",
       "11         kink   0.030345      0.030345\n",
       "14      angular   0.014709      0.014709\n",
       "0          time   0.006520      0.006520\n",
       "1   persistence   0.003011      0.003011\n",
       "19       orient  -0.000123      0.000123"
      ]
     },
     "execution_count": 14,
     "metadata": {},
     "output_type": "execute_result"
    }
   ],
   "source": [
    "# OLS to view the best features\n",
    "C=0.05\n",
    "random_state = 318\n",
    "max_iter=1000\n",
    "OLS = LogisticRegression(C=C, random_state=random_state, max_iter=max_iter)\n",
    "OLS.fit(X_train, y_train)\n",
    "# take a look at predictive value of each parameter\n",
    "# set dataframe\n",
    "top_features = pd.DataFrame(X_columns, columns=['features'])\n",
    "# get coefficient\n",
    "X_logistic_coef = OLS.coef_\n",
    "# put int OLS_coef\n",
    "top_features['OLS_coef'] = X_logistic_coef[0]\n",
    "# put in absolute\n",
    "top_features['OLS_coef_abs'] = np.absolute(top_features['OLS_coef'].values)\n",
    "top_features.sort_values(ascending=False, inplace=True, by=['OLS_coef_abs'])\n",
    "top_features"
   ]
  },
  {
   "cell_type": "markdown",
   "metadata": {},
   "source": [
    "Use variance inflation factor to see"
   ]
  },
  {
   "cell_type": "code",
   "execution_count": null,
   "metadata": {},
   "outputs": [],
   "source": [
    "from statsmodels.stats.outliers_influence import variance_inflation_factor\n",
    "# get data frame \n",
    "df = NC.data()\n",
    "variance_inflation_factor(X.values, 0)"
   ]
  },
  {
   "cell_type": "code",
   "execution_count": null,
   "metadata": {},
   "outputs": [],
   "source": [
    "pd.Series([variance_inflation_factor(X.values, i) \n",
    "               for i in range(X.shape[1])], \n",
    "              index=X.columns)"
   ]
  },
  {
   "cell_type": "code",
   "execution_count": null,
   "metadata": {},
   "outputs": [],
   "source": []
  },
  {
   "cell_type": "markdown",
   "metadata": {},
   "source": [
    "use variance threshold"
   ]
  },
  {
   "cell_type": "code",
   "execution_count": 14,
   "metadata": {},
   "outputs": [],
   "source": [
    "# get dataframe\n",
    "df = pd.DataFrame(X_train, columns=NC.names['X'])\n",
    "# get some idea about variance\n",
    "df.var()\n",
    "# Instantiate the VarianceThresholder \n",
    "my_vt = VarianceThreshold(threshold=var_threshold)\n",
    "\n"
   ]
  },
  {
   "cell_type": "code",
   "execution_count": 16,
   "metadata": {},
   "outputs": [
    {
     "data": {
      "text/plain": [
       "time            683.353613\n",
       "persistence    7873.363444\n",
       "area              0.001777\n",
       "midline           0.037433\n",
       "morphwidth        0.000944\n",
       "width             0.008478\n",
       "relwidth          0.097917\n",
       "length            0.041411\n",
       "rellength         0.013175\n",
       "aspect            0.015791\n",
       "relaspect         0.160896\n",
       "kink            595.379829\n",
       "curve           100.540799\n",
       "speed             0.013098\n",
       "angular         194.503831\n",
       "bias              0.295370\n",
       "dir               0.003717\n",
       "vel_x             0.022247\n",
       "vel_y             0.022225\n",
       "orient         9826.781548\n",
       "crab              0.000356\n",
       "dtype: float64"
      ]
     },
     "execution_count": 16,
     "metadata": {},
     "output_type": "execute_result"
    }
   ],
   "source": [
    "# Fit to the data and calculate the variances per column\n",
    "my_vt.fit(df)\n",
    "\n",
    "# Extract the variances per column\n",
    "column_variances = my_vt.variances_.round(2)\n",
    "\n",
    "# Plot with the threshold\n",
    "plt.figure()\n",
    "plt.barh(np.flip(df.columns), np.flip(column_variances))\n",
    "plt.xlabel('Variance ($)')\n",
    "plt.ylabel('Feature')\n",
    "plt.axvline(10000, color='black', linestyle='--')\n",
    "plt.show()"
   ]
  },
  {
   "cell_type": "code",
   "execution_count": 14,
   "metadata": {},
   "outputs": [
    {
     "ename": "ValueError",
     "evalue": "No feature in X meets the variance threshold 10000.00000",
     "output_type": "error",
     "traceback": [
      "\u001b[0;31m---------------------------------------------------------------------------\u001b[0m",
      "\u001b[0;31mValueError\u001b[0m                                Traceback (most recent call last)",
      "\u001b[0;32m<ipython-input-14-bc2e96d65e81>\u001b[0m in \u001b[0;36m<module>\u001b[0;34m\u001b[0m\n\u001b[1;32m      6\u001b[0m \u001b[0;34m\u001b[0m\u001b[0m\n\u001b[1;32m      7\u001b[0m \u001b[0;31m# Fit to the data and calculate the variances per column\u001b[0m\u001b[0;34m\u001b[0m\u001b[0;34m\u001b[0m\u001b[0;34m\u001b[0m\u001b[0m\n\u001b[0;32m----> 8\u001b[0;31m \u001b[0mmy_vt\u001b[0m\u001b[0;34m.\u001b[0m\u001b[0mfit\u001b[0m\u001b[0;34m(\u001b[0m\u001b[0mdf\u001b[0m\u001b[0;34m)\u001b[0m\u001b[0;34m\u001b[0m\u001b[0;34m\u001b[0m\u001b[0m\n\u001b[0m\u001b[1;32m      9\u001b[0m \u001b[0;34m\u001b[0m\u001b[0m\n\u001b[1;32m     10\u001b[0m \u001b[0;31m# Extract the variances per column\u001b[0m\u001b[0;34m\u001b[0m\u001b[0;34m\u001b[0m\u001b[0;34m\u001b[0m\u001b[0m\n",
      "\u001b[0;32m~/opt/anaconda3/lib/python3.7/site-packages/sklearn/feature_selection/_variance_threshold.py\u001b[0m in \u001b[0;36mfit\u001b[0;34m(self, X, y)\u001b[0m\n\u001b[1;32m     90\u001b[0m             \u001b[0;32mif\u001b[0m \u001b[0mX\u001b[0m\u001b[0;34m.\u001b[0m\u001b[0mshape\u001b[0m\u001b[0;34m[\u001b[0m\u001b[0;36m0\u001b[0m\u001b[0;34m]\u001b[0m \u001b[0;34m==\u001b[0m \u001b[0;36m1\u001b[0m\u001b[0;34m:\u001b[0m\u001b[0;34m\u001b[0m\u001b[0;34m\u001b[0m\u001b[0m\n\u001b[1;32m     91\u001b[0m                 \u001b[0mmsg\u001b[0m \u001b[0;34m+=\u001b[0m \u001b[0;34m\" (X contains only one sample)\"\u001b[0m\u001b[0;34m\u001b[0m\u001b[0;34m\u001b[0m\u001b[0m\n\u001b[0;32m---> 92\u001b[0;31m             \u001b[0;32mraise\u001b[0m \u001b[0mValueError\u001b[0m\u001b[0;34m(\u001b[0m\u001b[0mmsg\u001b[0m\u001b[0;34m.\u001b[0m\u001b[0mformat\u001b[0m\u001b[0;34m(\u001b[0m\u001b[0mself\u001b[0m\u001b[0;34m.\u001b[0m\u001b[0mthreshold\u001b[0m\u001b[0;34m)\u001b[0m\u001b[0;34m)\u001b[0m\u001b[0;34m\u001b[0m\u001b[0;34m\u001b[0m\u001b[0m\n\u001b[0m\u001b[1;32m     93\u001b[0m \u001b[0;34m\u001b[0m\u001b[0m\n\u001b[1;32m     94\u001b[0m         \u001b[0;32mreturn\u001b[0m \u001b[0mself\u001b[0m\u001b[0;34m\u001b[0m\u001b[0;34m\u001b[0m\u001b[0m\n",
      "\u001b[0;31mValueError\u001b[0m: No feature in X meets the variance threshold 10000.00000"
     ]
    }
   ],
   "source": []
  },
  {
   "cell_type": "code",
   "execution_count": null,
   "metadata": {},
   "outputs": [],
   "source": []
  }
 ],
 "metadata": {
  "kernelspec": {
   "display_name": "Python 3",
   "language": "python",
   "name": "python3"
  },
  "language_info": {
   "codemirror_mode": {
    "name": "ipython",
    "version": 3
   },
   "file_extension": ".py",
   "mimetype": "text/x-python",
   "name": "python",
   "nbconvert_exporter": "python",
   "pygments_lexer": "ipython3",
   "version": "3.7.7"
  }
 },
 "nbformat": 4,
 "nbformat_minor": 4
}
