{
 "cells": [
  {
   "cell_type": "code",
   "execution_count": 1,
   "metadata": {},
   "outputs": [],
   "source": [
    "# choreography legend\n",
    "# Conny Lin | 2020 May"
   ]
  },
  {
   "cell_type": "code",
   "execution_count": 2,
   "metadata": {},
   "outputs": [],
   "source": [
    "# Code from chormaster5 (June 1, 2020)\n",
    "\n",
    "# %% JAVA ARGUMENTS----------------------------------------------------------\n",
    "# % path to java programs\n",
    "# javapath = fileparts(mfilename('fullpath')); % get path of this function\n",
    "# b = blanks(1); % blank\n",
    "# % call java \n",
    "# javacall = 'java -jar'; \n",
    "# % RAM limit\n",
    "# javaRAM = '-Xmx8G'; \n",
    "# javaRAM7G = '-Xmx7G';\n",
    "# % .jar paths\n",
    "# beethoven = ['''',javapath,'/Beethoven_v2.jar','''']; % call beethoven \n",
    "# chor = ['''',javapath,'/Chore_1.3.0.r1035.jar','''']; % call chor \n",
    "# % chor calls \n",
    "# map = '--map';\n",
    "# % settings \n",
    "# pixelsize = '-p 0.027'; \n",
    "# speed = '-s 0.1'; \n",
    "# mintime = '-t 20'; \n",
    "# nall = '-N all';\n",
    "# minmove = '-M 2'; \n",
    "# shape = '--shadowless -S';\n",
    "# % plugins \n",
    "# preoutline = '--plugin Reoutline::exp';  \n",
    "# prespine = '--plugin Respine';\n",
    "\n",
    "# % plugins (reversals) \n",
    "# revbeethoven_trv = '--plugin MeasureReversal::tap::dt=1::collect=0.5::postfix=trv';\n",
    "# revignortap_sprevs = '--plugin MeasureReversal::postfix=sprevs';\n",
    "# rev_ssr = '--plugin MeasureReversal::tap::collect=0.5::postfix=ssr';\n",
    "\n",
    "# % dat output collection\n",
    "# odrunkposture = '-O drunkposture -o nNslwakb';\n",
    "# odrunkposture2 = '-O drunkposture2 -o nNslwakbcemM';\n",
    "# oconny = '-O conny -o 1nee#e*ss#s*SS#S*ll#l*LL#L*ww#w*aa#a*mm#m*MM#M*kk#k*bb#b*pp#p*dd#d'; % Conny's \n",
    "# obeethoven = '-o nNss*b12M'; % standard for Beethoven\n",
    "# oshanespark = '-O shanespark -o nNss*b12M'; % standard for Beethoven\n",
    "# oevan = '-O evan -o nNss*b12'; % Evan's dat output\n",
    "# oevanall = '-O evanall -N all -o nNss*b12';\n",
    "# oswanlakeall = '-O swanlakeall -N all -o tnNemMawlkcspbd1';\n",
    "# oswanlake = '-O swanlake -o tnNemMawlkcspbd1e#m#M#a#w#l#k#c#s#p#b#d#e-m-M-a-w-l-k-c-s-p-b-d-e*m*M*a*w*l*kvc*s*p*b*d*';\n",
    "# onutcracker = '-O nutcracker -N all -o DfpemMwWlLaAkcsSbpdxyuvor1234';\n",
    "# % Trinity app analysis for rastor plot and spontaneous locomotion\n",
    "# otrinity = '-O trinity -N all -o nNss*b12xyMmeSakcr'; \n",
    "# ostarfish = '-O starfish -N all -o nNss*b12xyMmeSakcr';\n",
    "# ogangnam = '-O gangnam -N all -o DpmcobdPsSruvxy1';"
   ]
  },
  {
   "cell_type": "code",
   "execution_count": 3,
   "metadata": {},
   "outputs": [],
   "source": [
    "import numpy as np\n",
    "import pandas as pd\n",
    "import os\n",
    "import pickle"
   ]
  },
  {
   "cell_type": "code",
   "execution_count": 4,
   "metadata": {},
   "outputs": [],
   "source": [
    "dir_save = '/Users/connylin/Dropbox/CA/ED _20200119 Brain Station Data Science Diploma/Capstone/data'"
   ]
  },
  {
   "cell_type": "code",
   "execution_count": 5,
   "metadata": {},
   "outputs": [],
   "source": [
    "a = [\n",
    "'t time -- time of the frame',\n",
    "'f frame -- the frame number ',\n",
    "'p persistence -- length of time object is tracked ',\n",
    "'D id -- the object ID ',\n",
    "'n number -- the number of objects tracked ',\n",
    "'N goodnumber -- the number of objects passing the criteria given ',\n",
    "'e area -- body area',\n",
    "'m midline -- length measured along the curve of object ',\n",
    "'M morphwidth -- mean width of body about midline ',\n",
    "'w width -- width of the rectangle framing the body',\n",
    "'W relwidth -- instantaneous width/average width ',\n",
    "'l length -- measured along major axis, not curve of object ',\n",
    "'L rellength -- instantaneous length/average length',\n",
    "'a aspect -- length/width ',\n",
    "'A relaspect -- instantaneous aspect/average aspect',\n",
    "'k kink -- head/tail angle difference from body (in degrees) ',\n",
    "'c curve -- average angle (in degrees) between body split into 5 segments ',\n",
    "'s speed -- speed of movement',\n",
    "'S angular -- angular speed',\n",
    "'b bias -- fractional excess of time spent moving one way',\n",
    "'P pathlen -- distance traveled forwards (backwards=negative) ',\n",
    "'d dir -- consistency of direction of motion ',\n",
    "'x loc_x -- x coordinate of object (mm) ',\n",
    "'y loc_y -- y coordinate of object (mm) ',\n",
    "'u vel_x -- x velocity (mm/sec) ',\n",
    "'v vel_y -- y velocity (mm/sec) ',\n",
    "'o orient -- orientation of body (degrees, only guaranteed modulo pi) ',\n",
    "'r crab -- speed perpendicular to body orientation ',\n",
    "'1 tap -- whether a tap (stimulus 1) has occurred ',\n",
    "'2 puff -- whether a puff (stimulus 2) has occurred',\n",
    "'3 stim3 -- whether the first custom stimulus has occurred ',\n",
    "'4 stim4 -- whether the second custom stimulus has occurred. ',\n",
    "'^ :max -- maximum value ',\n",
    "'_ :min -- minimum value ',\n",
    "'# :number -- number of items considered in this statistic ',\n",
    "'- :median -- median value ',\n",
    "'* :std -- standard deviation ',\n",
    "':sem :sem -- standard error ',\n",
    "':var :var -- variance ',\n",
    "':? :exists -- 1 if the value exists, 0 otherwise ',\n",
    "':p25 :p25 -- 25th percentile ',\n",
    "':p75 :p75 -- 75th percentile ',\n",
    "':jitter :jitter -- estimate of measurement precision ']"
   ]
  },
  {
   "cell_type": "code",
   "execution_count": 6,
   "metadata": {},
   "outputs": [],
   "source": [
    "df = pd.DataFrame(a, columns=['ref'])\n",
    "df = df['ref'].str.split(r'\\s',expand=True)\n",
    "df = df.iloc[:,:2]\n",
    "df.columns=['call','name']"
   ]
  },
  {
   "cell_type": "code",
   "execution_count": 7,
   "metadata": {},
   "outputs": [],
   "source": [
    "# save\n",
    "path_save = os.path.join(dir_save, 'legend_choreography.pickle')\n",
    "with open(path_save,'wb') as f:\n",
    "    pickle.dump(df,f)"
   ]
  },
  {
   "cell_type": "code",
   "execution_count": 8,
   "metadata": {},
   "outputs": [],
   "source": [
    "# save as csv\n",
    "path_save = os.path.join(dir_save, 'legend_choreography.csv')\n",
    "df.to_csv(path_save, index=False)"
   ]
  }
 ],
 "metadata": {
  "kernelspec": {
   "display_name": "Python 3",
   "language": "python",
   "name": "python3"
  },
  "language_info": {
   "codemirror_mode": {
    "name": "ipython",
    "version": 3
   },
   "file_extension": ".py",
   "mimetype": "text/x-python",
   "name": "python",
   "nbconvert_exporter": "python",
   "pygments_lexer": "ipython3",
   "version": "3.7.7"
  }
 },
 "nbformat": 4,
 "nbformat_minor": 4
}
