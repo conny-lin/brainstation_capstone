{
 "cells": [
  {
   "cell_type": "markdown",
   "metadata": {},
   "source": [
    "# Capstone Report | BrainStation\n",
    "Conny Lin | June 2020"
   ]
  },
  {
   "cell_type": "markdown",
   "metadata": {},
   "source": [
    "## set up"
   ]
  },
  {
   "cell_type": "markdown",
   "metadata": {},
   "source": [
    "### functions"
   ]
  },
  {
   "cell_type": "code",
   "execution_count": 4,
   "metadata": {},
   "outputs": [],
   "source": [
    "# set local path settings based on computer host\n",
    "import socket\n",
    "hostname = socket.gethostname().split('.')[0]\n",
    "if hostname == 'Angular-Gyrus':\n",
    "    path_py_library = '/Users/connylin/Code/proj/brainstation_capstone'\n",
    "    if path_py_library not in sys.path:\n",
    "        sys.path.insert(1, path_py_library)\n",
    "    \n",
    "# import libraries\n",
    "import sys, time, datetime, os, pickle\n",
    "import numpy as np\n",
    "import pandas as pd\n",
    "import matplotlib.pyplot as plt\n",
    "import seaborn as sns"
   ]
  },
  {
   "cell_type": "code",
   "execution_count": 9,
   "metadata": {},
   "outputs": [
    {
     "name": "stdout",
     "output_type": "stream",
     "text": [
      "getting host computer specific paths\n",
      "last ran on: 2020-06-26 16:59:45.805917 PT\n"
     ]
    }
   ],
   "source": [
    "# import local libraries\n",
    "from ml.mlSOP import test_model\n",
    "from ml.mlSOP import ml_timer\n",
    "from ml.mlSOP import ModelEvaluation\n",
    "\n",
    "# set local variables\n",
    "from system import host_paths\n",
    "LOCAL_PATHS = host_paths.get(hostname)\n",
    "DATA_DIR = os.path.join(LOCAL_PATHS['Capstone'], 'data')\n",
    "\n",
    "# report latest run\n",
    "print(f'last ran on: {datetime.datetime.now()} PT')"
   ]
  },
  {
   "cell_type": "markdown",
   "metadata": {},
   "source": [
    "## Data Acquisition"
   ]
  },
  {
   "cell_type": "code",
   "execution_count": null,
   "metadata": {},
   "outputs": [],
   "source": [
    "jj0408\n"
   ]
  },
  {
   "cell_type": "markdown",
   "metadata": {},
   "source": [
    "## EDA\n",
    "## Rough Tune\n",
    "## Fine Tune\n",
    "## Evaluation"
   ]
  },
  {
   "cell_type": "code",
   "execution_count": null,
   "metadata": {},
   "outputs": [],
   "source": []
  }
 ],
 "metadata": {
  "kernelspec": {
   "display_name": "Python 3",
   "language": "python",
   "name": "python3"
  },
  "language_info": {
   "codemirror_mode": {
    "name": "ipython",
    "version": 3
   },
   "file_extension": ".py",
   "mimetype": "text/x-python",
   "name": "python",
   "nbconvert_exporter": "python",
   "pygments_lexer": "ipython3",
   "version": "3.7.7"
  }
 },
 "nbformat": 4,
 "nbformat_minor": 4
}
