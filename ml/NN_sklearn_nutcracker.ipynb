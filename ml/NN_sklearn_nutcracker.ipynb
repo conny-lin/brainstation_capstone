{
 "cells": [
  {
   "cell_type": "markdown",
   "metadata": {},
   "source": [
    "# Neural Network from sklearn\n",
    "Conny Lin | June 15, 2020 | updated June 18, 2020\n",
    "\n",
    "[sklearn.neural_network.MLPClassifier](https://scikit-learn.org/stable/modules/generated/sklearn.neural_network.MLPClassifier.html)\n"
   ]
  },
  {
   "cell_type": "code",
   "execution_count": 1,
   "metadata": {
    "tags": []
   },
   "outputs": [
    {
     "output_type": "stream",
     "name": "stdout",
     "text": "getting host computer specific paths\n"
    }
   ],
   "source": [
    "# import local libraries using host specific paths\n",
    "import socket, sys\n",
    "hostname = socket.gethostname().split('.')[0]\n",
    "# set local path settings based on computer host\n",
    "if hostname == 'PFC':\n",
    "    pylibrary = '/Users/connylin/Dropbox/Code/proj'\n",
    "elif hostname == 'Angular-Gyrus':\n",
    "    pylibrary = '/Users/connylin/Code/proj'\n",
    "else:\n",
    "    assert False, 'host computer not regonized'\n",
    "# load local libraries\n",
    "if pylibrary not in sys.path:\n",
    "    sys.path.insert(1, pylibrary)\n",
    "# import brainstation_capstone\n",
    "# import other standard paths and local variables\n",
    "from brainstation_capstone.system import host_paths\n",
    "localpaths = host_paths.get(hostname)\n",
    "datapath = localpaths['datapath']\n",
    "\n",
    "# import standard libraries\n",
    "import time\n",
    "import numpy as np\n",
    "import pandas as pd\n",
    "import matplotlib.pyplot as plt# import local libraries using host specific paths"
   ]
  },
  {
   "cell_type": "markdown",
   "metadata": {},
   "source": [
    "Try a simple NN from sklearn. But usually won't use this package. Normally use packages like *Keras*, *TensorFlow*, *PyTorch*, etc., which are all specifically designed for neural networks."
   ]
  },
  {
   "cell_type": "code",
   "execution_count": 8,
   "metadata": {},
   "outputs": [],
   "source": [
    "def PlotBoundaries(model, X, Y) :\n",
    "    '''\n",
    "    Helper function that plots the decision boundaries of a model and data (X,Y)\n",
    "    code modified from: https://scikit-learn.org/stable/auto_examples/neighbors/plot_classification.html\n",
    "    '''\n",
    "    \n",
    "    x_min, x_max = X[:, 0].min() - 1, X[:, 0].max() + 1\n",
    "    y_min, y_max = X[:, 1].min() - 1,X[:, 1].max() + 1\n",
    "    xx, yy = np.meshgrid(np.arange(x_min, x_max, 0.01), np.arange(y_min, y_max, 0.01))\n",
    "\n",
    "    Z = model.predict(np.c_[xx.ravel(), yy.ravel()])\n",
    "    Z = Z.reshape(xx.shape)\n",
    "\n",
    "    plt.contourf(xx, yy, Z, alpha=0.4)\n",
    "\n",
    "    #Plot\n",
    "    plt.scatter(X[:, 0], X[:, 1], c=Y,s=20, edgecolor='k')\n",
    "    plt.show()"
   ]
  },
  {
   "cell_type": "markdown",
   "metadata": {},
   "source": [
    "## Try simple NN from sklearn"
   ]
  },
  {
   "cell_type": "code",
   "execution_count": 7,
   "metadata": {
    "tags": []
   },
   "outputs": [
    {
     "output_type": "stream",
     "name": "stdout",
     "text": "None\nNone\n"
    }
   ],
   "source": [
    "# try simple NN\n",
    "from sklearn.neural_network import MLPClassifier\n",
    "# import data\n",
    "from brainstation_capstone.etl.datatransform import Nutcracker\n",
    "X, X_test, y, y_test = Nutcracker(datapath).mldata(feature_reduction='None')"
   ]
  },
  {
   "cell_type": "code",
   "execution_count": 13,
   "metadata": {},
   "outputs": [],
   "source": [
    "NN_model = MLPClassifier(hidden_layer_sizes=(1),solver='lbfgs')\n",
    "NN_model.fit(X_train, y_train);"
   ]
  },
  {
   "cell_type": "code",
   "execution_count": 15,
   "metadata": {},
   "outputs": [
    {
     "name": "stdout",
     "output_type": "stream",
     "text": [
      "Train Score:  0.869\n",
      "Test Score:  0.869\n"
     ]
    }
   ],
   "source": [
    "print(f\"Train Score: {NN_model.score(X_train,y_train): 0.3f}\")\n",
    "print(f\"Test Score: {NN_model.score(X_test,y_test): 0.3f}\")"
   ]
  },
  {
   "cell_type": "markdown",
   "metadata": {},
   "source": [
    "solver lbfgs and layer size =1 gives similar results as other ML models."
   ]
  },
  {
   "cell_type": "code",
   "execution_count": 13,
   "metadata": {
    "tags": []
   },
   "outputs": [
    {
     "output_type": "stream",
     "name": "stdout",
     "text": "counter start\ntest timer 0.00 min\nTrain Score:  0.913\nTest Score:  0.913\ntook -0.00 min\n"
    }
   ],
   "source": [
    "import timeit\n",
    "from sklearn.neural_network import MLPClassifier\n",
    "# import data\n",
    "from brainstation_capstone.etl.datatransform import Nutcracker\n",
    "X, X_test, y, y_test = Nutcracker(datapath).mldata(feature_reduction='None')\n",
    "# set up time\n",
    "start_time = timeit.timeit()\n",
    "print('timer start')\n",
    "print(f'test timer {(timeit.timeit() - start_time)/60:.2f} min')\n",
    "# start model\n",
    "NN_model = MLPClassifier()\n",
    "NN_model.fit(X, y)\n",
    "# print results\n",
    "print(f\"Train Score: {NN_model.score(X, y): 0.3f}\")\n",
    "print(f\"Test Score: {NN_model.score(X_test, y_test): 0.3f}\")\n",
    "# print time elapsed\n",
    "print(f'took {(timeit.timeit() - start_time)/60:.2f} min')"
   ]
  },
  {
   "cell_type": "markdown",
   "metadata": {},
   "source": [
    "untuned model gives 91% results. highest of all ML models"
   ]
  },
  {
   "cell_type": "markdown",
   "metadata": {},
   "source": [
    "find out what hyperparamters the untuned model used.\n",
    "\n",
    "https://scikit-learn.org/stable/modules/generated/sklearn.neural_network.MLPClassifier.html\n",
    "\n",
    "* hidden_layer_sizes: 100\n",
    "* activation: relu\n",
    "    * {‘identity’, ‘logistic’, ‘tanh’, ‘relu’}, default=’relu’\n",
    "    * try different activation\n",
    "* solver: ’adam’\n",
    "* alpha: 0.0001\n",
    "    * higher more regularlized. (less over fit)\n",
    "    * test and train score are similar. doesn't seem like too much overfit.\n",
    "* batch_size: ’auto’\n",
    "* learning_rate: constant\n",
    "* learning_rate_init: 0.001\n",
    "* power_t: 0.5\n",
    "* max_iter: 200\n",
    "* shuffle: True\n",
    "* random_state: None\n",
    "* tol: 1e-4\n",
    "* verbose: False\n",
    "* warm_start: False\n",
    "* momentum: 0.9\n",
    "* nesterov_momentum: True\n",
    "* early_stopping: False\n",
    "* validation_fraction: 0.1\n",
    "* beta_1: 0.9\n",
    "* beta_2: 0.999\n",
    "* epsilon: 1e-8\n",
    "* n_iter_no_change: 10\n",
    "* max_fun: 15000"
   ]
  },
  {
   "cell_type": "markdown",
   "metadata": {},
   "source": [
    "## Try different activation method"
   ]
  },
  {
   "cell_type": "code",
   "execution_count": null,
   "metadata": {},
   "outputs": [],
   "source": [
    "import timeit\n",
    "from sklearn.neural_network import MLPClassifier\n",
    "# import data\n",
    "from brainstation_capstone.etl.datatransform import Nutcracker\n",
    "X, X_test, y, y_test = Nutcracker(datapath).mldata(feature_reduction='None')\n",
    "# set up time\n",
    "start_time = timeit.timeit()\n",
    "print('timer start')\n",
    "print(f'test timer {(timeit.timeit() - start_time)/60:.2f} min')\n",
    "# hyperparameters\n",
    "activation_choice = ['identity', 'logistic', 'tanh', 'relu']\n",
    "# declare output var\n",
    "test_scores = []\n",
    "train_scores = []\n",
    "# test hyperparameter\n",
    "for activation in activation_choice:\n",
    "    # start model\n",
    "    NN_model = MLPClassifier()\n",
    "    NN_model.fit(X, y)\n",
    "    # get scores\n",
    "    train_score = NN_model.score(X, y)\n",
    "    test_score = NN_model.score(X_test, y_test)\n",
    "    # print results\n",
    "    print(f\"\\tTrain Score: {train_score}\")\n",
    "    print(f\"\\tTest Score: {test_score}\")\n",
    "    # print time elapsed\n",
    "    print(f'\\ttook {(timeit.timeit() - start_time)/60:.2f} min')\n",
    "\n",
    "from brainstation_capstone.vs.plots import hyperparameterplothyperparameterplot\n",
    "hyperparameterplot(hyperparameter_list, train_score_list, test_score_list, \\\n",
    "                        hyperparamter_name='', titlename='')hyperparameterplot"
   ]
  },
  {
   "cell_type": "markdown",
   "metadata": {},
   "source": [
    "Try TensorFlow. This must be run in the deeplearning env."
   ]
  },
  {
   "cell_type": "code",
   "execution_count": null,
   "metadata": {},
   "outputs": [],
   "source": []
  }
 ],
 "metadata": {
  "kernelspec": {
   "display_name": "Python 3.7.7 64-bit ('r-BrainStation': conda)",
   "language": "python",
   "name": "python37764bitrbrainstationconda35a1e676d2154e97a61b9b87344c38aa"
  },
  "language_info": {
   "codemirror_mode": {
    "name": "ipython",
    "version": 3
   },
   "file_extension": ".py",
   "mimetype": "text/x-python",
   "name": "python",
   "nbconvert_exporter": "python",
   "pygments_lexer": "ipython3",
   "version": "3.7.7-final"
  }
 },
 "nbformat": 4,
 "nbformat_minor": 4
}